{
 "cells": [
  {
   "cell_type": "markdown",
   "id": "eaf29338",
   "metadata": {
    "papermill": {
     "duration": 0.024401,
     "end_time": "2024-09-24T13:24:44.988979",
     "exception": false,
     "start_time": "2024-09-24T13:24:44.964578",
     "status": "completed"
    },
    "tags": []
   },
   "source": [
    "# Tutorial notebook 5: Cell Generation\n",
    "\n",
    "In this tutorial, we will demonstrate how to use a pretrained Cell2Sentence (C2S) model to generate new cells conditioned on a specific cell type. Cell generation is a powerful tool for simulating new data, studying cell diversity, and exploring the characteristics of different cell types. By leveraging the generative capabilities of C2S models, we can create realistic cell data that follows the patterns learned from existing datasets.\n",
    "\n",
    "In this tutorial, you will:\n",
    "1. Load an immune tissue single-cell dataset from Domínguez Conde et al. (preprocessed in tutorial notebook 0, two sample donors)\n",
    "    - Citation: Domínguez Conde, C., et al. \"Cross-tissue immune cell analysis reveals tissue-specific features in humans.\" Science 376.6594 (2022): eabl5197.\n",
    "2. Load a pretrained C2S model that is capable of generating cells based on cell type.\n",
    "3. Generate new cells conditioned on a specified cell type using the C2S model.\n",
    "\n",
    "Let's get started!"
   ]
  },
  {
   "cell_type": "markdown",
   "id": "9788cc9e",
   "metadata": {
    "papermill": {
     "duration": 0.011867,
     "end_time": "2024-09-24T13:24:45.012944",
     "exception": false,
     "start_time": "2024-09-24T13:24:45.001077",
     "status": "completed"
    },
    "tags": []
   },
   "source": [
    "We will begin by importing the necessary libraries. These include Python's built-in libraries, third-party libraries for handling numerical computations, progress tracking, and specific libraries for single-cell RNA sequencing data and C2S operations."
   ]
  },
  {
   "cell_type": "code",
   "execution_count": 1,
   "id": "fcbb0c16",
   "metadata": {
    "execution": {
     "iopub.execute_input": "2024-09-24T13:24:45.038419Z",
     "iopub.status.busy": "2024-09-24T13:24:45.038148Z",
     "iopub.status.idle": "2024-09-24T13:24:56.243359Z",
     "shell.execute_reply": "2024-09-24T13:24:56.242772Z"
    },
    "papermill": {
     "duration": 11.220352,
     "end_time": "2024-09-24T13:24:56.245113",
     "exception": false,
     "start_time": "2024-09-24T13:24:45.024761",
     "status": "completed"
    },
    "tags": []
   },
   "outputs": [
    {
     "name": "stderr",
     "output_type": "stream",
     "text": [
      "/home/dor3/.conda/envs/cell2sentence/lib/python3.8/site-packages/tqdm/auto.py:21: TqdmWarning: IProgress not found. Please update jupyter and ipywidgets. See https://ipywidgets.readthedocs.io/en/stable/user_install.html\n",
      "  from .autonotebook import tqdm as notebook_tqdm\n"
     ]
    }
   ],
   "source": [
    "# Python built-in libraries\n",
    "import os\n",
    "import pickle\n",
    "import random\n",
    "from collections import Counter\n",
    "\n",
    "# Third-party libraries\n",
    "import numpy as np\n",
    "import pandas as pd\n",
    "import matplotlib.pyplot as plt\n",
    "from tqdm import tqdm\n",
    "\n",
    "# Single-cell libraries\n",
    "import anndata\n",
    "import scanpy as sc\n",
    "\n",
    "# Cell2Sentence imports\n",
    "import cell2sentence as cs\n",
    "from cell2sentence.tasks import generate_cells_conditioned_on_cell_type\n",
    "from cell2sentence.utils import (\n",
    "    post_process_generated_cell_sentences,\n",
    "    reconstruct_expression_from_cell_sentence\n",
    ")"
   ]
  },
  {
   "cell_type": "code",
   "execution_count": 2,
   "id": "3a957685",
   "metadata": {
    "execution": {
     "iopub.execute_input": "2024-09-24T13:24:56.272168Z",
     "iopub.status.busy": "2024-09-24T13:24:56.271721Z",
     "iopub.status.idle": "2024-09-24T13:24:56.275142Z",
     "shell.execute_reply": "2024-09-24T13:24:56.274587Z"
    },
    "papermill": {
     "duration": 0.017954,
     "end_time": "2024-09-24T13:24:56.276122",
     "exception": false,
     "start_time": "2024-09-24T13:24:56.258168",
     "status": "completed"
    },
    "tags": []
   },
   "outputs": [],
   "source": [
    "SEED = 1234\n",
    "random.seed(SEED)\n",
    "np.random.seed(SEED)"
   ]
  },
  {
   "cell_type": "markdown",
   "id": "0dc79710",
   "metadata": {
    "papermill": {
     "duration": 0.011622,
     "end_time": "2024-09-24T13:24:56.299848",
     "exception": false,
     "start_time": "2024-09-24T13:24:56.288226",
     "status": "completed"
    },
    "tags": []
   },
   "source": [
    "# Load Data\n",
    "\n",
    "Next, we will load the preprocessed dataset from the tutorial 0. This dataset has already been filtered and normalized, so it it ready for transformation into cell sentences.\n",
    "\n",
    "<font color='red'>Please make sure you have completed the preprocessing steps in Tutorial 0 before running the following code, if you are using your own dataset.</font>. Ensure that the file path is correctly set in <font color='gold'>DATA_PATH</font> to where your preprocessed data was saved from tutorial 0."
   ]
  },
  {
   "cell_type": "code",
   "execution_count": 3,
   "id": "748e8a64",
   "metadata": {
    "execution": {
     "iopub.execute_input": "2024-09-24T13:24:56.324499Z",
     "iopub.status.busy": "2024-09-24T13:24:56.324260Z",
     "iopub.status.idle": "2024-09-24T13:24:56.327070Z",
     "shell.execute_reply": "2024-09-24T13:24:56.326610Z"
    },
    "papermill": {
     "duration": 0.016344,
     "end_time": "2024-09-24T13:24:56.328026",
     "exception": false,
     "start_time": "2024-09-24T13:24:56.311682",
     "status": "completed"
    },
    "tags": []
   },
   "outputs": [],
   "source": [
    "DATA_PATH = \"/home/sr2464/palmer_scratch/C2S_Files_Syed/Cell2Sentence_Datasets/dominguez_conde_immune_tissue_two_donors_preprocessed_tutorial_0.h5ad\""
   ]
  },
  {
   "cell_type": "code",
   "execution_count": 4,
   "id": "e5fc82ec",
   "metadata": {
    "execution": {
     "iopub.execute_input": "2024-09-24T13:24:56.353237Z",
     "iopub.status.busy": "2024-09-24T13:24:56.353023Z",
     "iopub.status.idle": "2024-09-24T13:24:56.938103Z",
     "shell.execute_reply": "2024-09-24T13:24:56.937600Z"
    },
    "papermill": {
     "duration": 0.599302,
     "end_time": "2024-09-24T13:24:56.939253",
     "exception": false,
     "start_time": "2024-09-24T13:24:56.339951",
     "status": "completed"
    },
    "tags": []
   },
   "outputs": [
    {
     "data": {
      "text/plain": [
       "AnnData object with n_obs × n_vars = 29773 × 23944\n",
       "    obs: 'cell_type', 'tissue', 'batch_condition', 'organism', 'assay', 'sex', 'n_genes', 'n_genes_by_counts', 'total_counts', 'total_counts_mt', 'pct_counts_mt'\n",
       "    var: 'gene_name', 'ensembl_id', 'n_cells', 'mt', 'n_cells_by_counts', 'mean_counts', 'pct_dropout_by_counts', 'total_counts'\n",
       "    uns: 'batch_condition_colors', 'cell_type_colors', 'log1p', 'neighbors', 'pca', 'tissue_colors', 'umap'\n",
       "    obsm: 'X_pca', 'X_umap'\n",
       "    varm: 'PCs'\n",
       "    obsp: 'connectivities', 'distances'"
      ]
     },
     "execution_count": 4,
     "metadata": {},
     "output_type": "execute_result"
    }
   ],
   "source": [
    "adata = anndata.read_h5ad(DATA_PATH)\n",
    "adata"
   ]
  },
  {
   "cell_type": "code",
   "execution_count": 5,
   "id": "2ccaefcd",
   "metadata": {
    "execution": {
     "iopub.execute_input": "2024-09-24T13:24:56.965967Z",
     "iopub.status.busy": "2024-09-24T13:24:56.965690Z",
     "iopub.status.idle": "2024-09-24T13:24:56.970973Z",
     "shell.execute_reply": "2024-09-24T13:24:56.970388Z"
    },
    "papermill": {
     "duration": 0.019816,
     "end_time": "2024-09-24T13:24:56.972001",
     "exception": false,
     "start_time": "2024-09-24T13:24:56.952185",
     "status": "completed"
    },
    "tags": []
   },
   "outputs": [],
   "source": [
    "adata.obs = adata.obs[[\"cell_type\", \"tissue\", \"batch_condition\", \"organism\", \"sex\"]]"
   ]
  },
  {
   "cell_type": "code",
   "execution_count": 6,
   "id": "35b32b98",
   "metadata": {
    "execution": {
     "iopub.execute_input": "2024-09-24T13:24:56.997068Z",
     "iopub.status.busy": "2024-09-24T13:24:56.996837Z",
     "iopub.status.idle": "2024-09-24T13:24:57.008766Z",
     "shell.execute_reply": "2024-09-24T13:24:57.008308Z"
    },
    "papermill": {
     "duration": 0.025666,
     "end_time": "2024-09-24T13:24:57.009751",
     "exception": false,
     "start_time": "2024-09-24T13:24:56.984085",
     "status": "completed"
    },
    "tags": []
   },
   "outputs": [
    {
     "data": {
      "text/html": [
       "<div>\n",
       "<style scoped>\n",
       "    .dataframe tbody tr th:only-of-type {\n",
       "        vertical-align: middle;\n",
       "    }\n",
       "\n",
       "    .dataframe tbody tr th {\n",
       "        vertical-align: top;\n",
       "    }\n",
       "\n",
       "    .dataframe thead th {\n",
       "        text-align: right;\n",
       "    }\n",
       "</style>\n",
       "<table border=\"1\" class=\"dataframe\">\n",
       "  <thead>\n",
       "    <tr style=\"text-align: right;\">\n",
       "      <th></th>\n",
       "      <th>cell_type</th>\n",
       "      <th>tissue</th>\n",
       "      <th>batch_condition</th>\n",
       "      <th>organism</th>\n",
       "      <th>sex</th>\n",
       "    </tr>\n",
       "  </thead>\n",
       "  <tbody>\n",
       "    <tr>\n",
       "      <th>Pan_T7935490_AAACCTGCAAATTGCC</th>\n",
       "      <td>CD4-positive helper T cell</td>\n",
       "      <td>ileum</td>\n",
       "      <td>A29</td>\n",
       "      <td>Homo sapiens</td>\n",
       "      <td>female</td>\n",
       "    </tr>\n",
       "    <tr>\n",
       "      <th>Pan_T7935490_AAACGGGCATCTGGTA</th>\n",
       "      <td>CD8-positive, alpha-beta memory T cell</td>\n",
       "      <td>ileum</td>\n",
       "      <td>A29</td>\n",
       "      <td>Homo sapiens</td>\n",
       "      <td>female</td>\n",
       "    </tr>\n",
       "    <tr>\n",
       "      <th>Pan_T7935490_AAACGGGTCTTGCATT</th>\n",
       "      <td>CD8-positive, alpha-beta memory T cell</td>\n",
       "      <td>ileum</td>\n",
       "      <td>A29</td>\n",
       "      <td>Homo sapiens</td>\n",
       "      <td>female</td>\n",
       "    </tr>\n",
       "    <tr>\n",
       "      <th>Pan_T7935490_AAAGCAATCATCGCTC</th>\n",
       "      <td>CD8-positive, alpha-beta memory T cell</td>\n",
       "      <td>ileum</td>\n",
       "      <td>A29</td>\n",
       "      <td>Homo sapiens</td>\n",
       "      <td>female</td>\n",
       "    </tr>\n",
       "    <tr>\n",
       "      <th>Pan_T7935490_AAAGTAGCAGTCACTA</th>\n",
       "      <td>gamma-delta T cell</td>\n",
       "      <td>ileum</td>\n",
       "      <td>A29</td>\n",
       "      <td>Homo sapiens</td>\n",
       "      <td>female</td>\n",
       "    </tr>\n",
       "  </tbody>\n",
       "</table>\n",
       "</div>"
      ],
      "text/plain": [
       "                                                            cell_type tissue  \\\n",
       "Pan_T7935490_AAACCTGCAAATTGCC              CD4-positive helper T cell  ileum   \n",
       "Pan_T7935490_AAACGGGCATCTGGTA  CD8-positive, alpha-beta memory T cell  ileum   \n",
       "Pan_T7935490_AAACGGGTCTTGCATT  CD8-positive, alpha-beta memory T cell  ileum   \n",
       "Pan_T7935490_AAAGCAATCATCGCTC  CD8-positive, alpha-beta memory T cell  ileum   \n",
       "Pan_T7935490_AAAGTAGCAGTCACTA                      gamma-delta T cell  ileum   \n",
       "\n",
       "                              batch_condition      organism     sex  \n",
       "Pan_T7935490_AAACCTGCAAATTGCC             A29  Homo sapiens  female  \n",
       "Pan_T7935490_AAACGGGCATCTGGTA             A29  Homo sapiens  female  \n",
       "Pan_T7935490_AAACGGGTCTTGCATT             A29  Homo sapiens  female  \n",
       "Pan_T7935490_AAAGCAATCATCGCTC             A29  Homo sapiens  female  \n",
       "Pan_T7935490_AAAGTAGCAGTCACTA             A29  Homo sapiens  female  "
      ]
     },
     "execution_count": 6,
     "metadata": {},
     "output_type": "execute_result"
    }
   ],
   "source": [
    "adata.obs.head()"
   ]
  },
  {
   "cell_type": "code",
   "execution_count": 7,
   "id": "9260c79a",
   "metadata": {
    "execution": {
     "iopub.execute_input": "2024-09-24T13:24:57.084004Z",
     "iopub.status.busy": "2024-09-24T13:24:57.083715Z",
     "iopub.status.idle": "2024-09-24T13:24:57.094256Z",
     "shell.execute_reply": "2024-09-24T13:24:57.093742Z"
    },
    "papermill": {
     "duration": 0.073127,
     "end_time": "2024-09-24T13:24:57.095299",
     "exception": false,
     "start_time": "2024-09-24T13:24:57.022172",
     "status": "completed"
    },
    "tags": []
   },
   "outputs": [
    {
     "data": {
      "text/html": [
       "<div>\n",
       "<style scoped>\n",
       "    .dataframe tbody tr th:only-of-type {\n",
       "        vertical-align: middle;\n",
       "    }\n",
       "\n",
       "    .dataframe tbody tr th {\n",
       "        vertical-align: top;\n",
       "    }\n",
       "\n",
       "    .dataframe thead th {\n",
       "        text-align: right;\n",
       "    }\n",
       "</style>\n",
       "<table border=\"1\" class=\"dataframe\">\n",
       "  <thead>\n",
       "    <tr style=\"text-align: right;\">\n",
       "      <th></th>\n",
       "      <th>gene_name</th>\n",
       "      <th>ensembl_id</th>\n",
       "      <th>n_cells</th>\n",
       "      <th>mt</th>\n",
       "      <th>n_cells_by_counts</th>\n",
       "      <th>mean_counts</th>\n",
       "      <th>pct_dropout_by_counts</th>\n",
       "      <th>total_counts</th>\n",
       "    </tr>\n",
       "  </thead>\n",
       "  <tbody>\n",
       "    <tr>\n",
       "      <th>RP11-34P13</th>\n",
       "      <td>RP11-34P13</td>\n",
       "      <td>ENSG00000238009</td>\n",
       "      <td>38</td>\n",
       "      <td>False</td>\n",
       "      <td>38</td>\n",
       "      <td>0.001310</td>\n",
       "      <td>99.872368</td>\n",
       "      <td>39.0</td>\n",
       "    </tr>\n",
       "    <tr>\n",
       "      <th>RP11-34P13-3</th>\n",
       "      <td>RP11-34P13</td>\n",
       "      <td>ENSG00000241860</td>\n",
       "      <td>106</td>\n",
       "      <td>False</td>\n",
       "      <td>106</td>\n",
       "      <td>0.003627</td>\n",
       "      <td>99.643973</td>\n",
       "      <td>108.0</td>\n",
       "    </tr>\n",
       "    <tr>\n",
       "      <th>AP006222</th>\n",
       "      <td>AP006222</td>\n",
       "      <td>ENSG00000286448</td>\n",
       "      <td>7</td>\n",
       "      <td>False</td>\n",
       "      <td>7</td>\n",
       "      <td>0.000235</td>\n",
       "      <td>99.976489</td>\n",
       "      <td>7.0</td>\n",
       "    </tr>\n",
       "    <tr>\n",
       "      <th>LINC01409</th>\n",
       "      <td>LINC01409</td>\n",
       "      <td>ENSG00000237491</td>\n",
       "      <td>1292</td>\n",
       "      <td>False</td>\n",
       "      <td>1292</td>\n",
       "      <td>0.045981</td>\n",
       "      <td>95.660498</td>\n",
       "      <td>1369.0</td>\n",
       "    </tr>\n",
       "    <tr>\n",
       "      <th>FAM87B</th>\n",
       "      <td>FAM87B</td>\n",
       "      <td>ENSG00000177757</td>\n",
       "      <td>3</td>\n",
       "      <td>False</td>\n",
       "      <td>3</td>\n",
       "      <td>0.000101</td>\n",
       "      <td>99.989924</td>\n",
       "      <td>3.0</td>\n",
       "    </tr>\n",
       "  </tbody>\n",
       "</table>\n",
       "</div>"
      ],
      "text/plain": [
       "               gene_name       ensembl_id  n_cells     mt  n_cells_by_counts  \\\n",
       "RP11-34P13    RP11-34P13  ENSG00000238009       38  False                 38   \n",
       "RP11-34P13-3  RP11-34P13  ENSG00000241860      106  False                106   \n",
       "AP006222        AP006222  ENSG00000286448        7  False                  7   \n",
       "LINC01409      LINC01409  ENSG00000237491     1292  False               1292   \n",
       "FAM87B            FAM87B  ENSG00000177757        3  False                  3   \n",
       "\n",
       "              mean_counts  pct_dropout_by_counts  total_counts  \n",
       "RP11-34P13       0.001310              99.872368          39.0  \n",
       "RP11-34P13-3     0.003627              99.643973         108.0  \n",
       "AP006222         0.000235              99.976489           7.0  \n",
       "LINC01409        0.045981              95.660498        1369.0  \n",
       "FAM87B           0.000101              99.989924           3.0  "
      ]
     },
     "execution_count": 7,
     "metadata": {},
     "output_type": "execute_result"
    }
   ],
   "source": [
    "adata.var.head()"
   ]
  },
  {
   "cell_type": "code",
   "execution_count": 8,
   "id": "51d883df",
   "metadata": {
    "execution": {
     "iopub.execute_input": "2024-09-24T13:24:57.122428Z",
     "iopub.status.busy": "2024-09-24T13:24:57.122208Z",
     "iopub.status.idle": "2024-09-24T13:24:58.255768Z",
     "shell.execute_reply": "2024-09-24T13:24:58.255277Z"
    },
    "papermill": {
     "duration": 1.149094,
     "end_time": "2024-09-24T13:24:58.257087",
     "exception": false,
     "start_time": "2024-09-24T13:24:57.107993",
     "status": "completed"
    },
    "tags": []
   },
   "outputs": [
    {
     "name": "stderr",
     "output_type": "stream",
     "text": [
      "/home/dor3/.conda/envs/cell2sentence/lib/python3.8/site-packages/scanpy/plotting/_tools/scatterplots.py:394: UserWarning: No data for colormapping provided via 'c'. Parameters 'cmap' will be ignored\n"
     ]
    },
    {
     "data": {
      "image/png": "[encoded data removed]",
      "text/plain": [
       "<Figure size 640x480 with 1 Axes>"
      ]
     },
     "metadata": {},
     "output_type": "display_data"
    }
   ],
   "source": [
    "sc.pl.umap(\n",
    "    adata,\n",
    "    color=\"cell_type\",\n",
    "    size=8,\n",
    "    title=\"Human Immune Tissue UMAP\",\n",
    ")"
   ]
  },
  {
   "cell_type": "code",
   "execution_count": 9,
   "id": "710e1fcf",
   "metadata": {
    "execution": {
     "iopub.execute_input": "2024-09-24T13:24:58.293455Z",
     "iopub.status.busy": "2024-09-24T13:24:58.293214Z",
     "iopub.status.idle": "2024-09-24T13:24:58.371185Z",
     "shell.execute_reply": "2024-09-24T13:24:58.370713Z"
    },
    "papermill": {
     "duration": 0.097203,
     "end_time": "2024-09-24T13:24:58.372250",
     "exception": false,
     "start_time": "2024-09-24T13:24:58.275047",
     "status": "completed"
    },
    "tags": []
   },
   "outputs": [
    {
     "data": {
      "text/plain": [
       "3.408124"
      ]
     },
     "execution_count": 9,
     "metadata": {},
     "output_type": "execute_result"
    }
   ],
   "source": [
    "adata.X.max()"
   ]
  },
  {
   "cell_type": "markdown",
   "id": "b9098540",
   "metadata": {
    "papermill": {
     "duration": 0.017359,
     "end_time": "2024-09-24T13:24:58.407076",
     "exception": false,
     "start_time": "2024-09-24T13:24:58.389717",
     "status": "completed"
    },
    "tags": []
   },
   "source": [
    "We are expecting log10 base 10 transformed data, with a maximum value somewhere around 3 or 4. Make sure to start with processed and normalized data when doing the cell sentence conversion!"
   ]
  },
  {
   "cell_type": "markdown",
   "id": "02111c81",
   "metadata": {
    "papermill": {
     "duration": 0.016505,
     "end_time": "2024-09-24T13:24:58.440280",
     "exception": false,
     "start_time": "2024-09-24T13:24:58.423775",
     "status": "completed"
    },
    "tags": []
   },
   "source": [
    "# Cell2Sentence Conversion\n",
    "\n",
    "In this section, we will transform our AnnData object containing our single-cell dataset into a Cell2Sentence (C2S) dataset by calling the functions of the CSData class in the C2S code base. Full documentation for the functions of the CSData class can be found in the documentation page of C2S."
   ]
  },
  {
   "cell_type": "code",
   "execution_count": 10,
   "id": "30445eb2",
   "metadata": {
    "execution": {
     "iopub.execute_input": "2024-09-24T13:24:58.478983Z",
     "iopub.status.busy": "2024-09-24T13:24:58.478702Z",
     "iopub.status.idle": "2024-09-24T13:24:58.484280Z",
     "shell.execute_reply": "2024-09-24T13:24:58.483549Z"
    },
    "papermill": {
     "duration": 0.02855,
     "end_time": "2024-09-24T13:24:58.485435",
     "exception": false,
     "start_time": "2024-09-24T13:24:58.456885",
     "status": "completed"
    },
    "tags": []
   },
   "outputs": [],
   "source": [
    "adata_obs_cols_to_keep = [\"cell_type\", \"tissue\", \"batch_condition\", \"organism\", \"sex\"]"
   ]
  },
  {
   "cell_type": "code",
   "execution_count": 11,
   "id": "740398b9",
   "metadata": {
    "execution": {
     "iopub.execute_input": "2024-09-24T13:24:58.521835Z",
     "iopub.status.busy": "2024-09-24T13:24:58.521588Z",
     "iopub.status.idle": "2024-09-24T13:25:15.694547Z",
     "shell.execute_reply": "2024-09-24T13:25:15.693844Z"
    },
    "papermill": {
     "duration": 17.192933,
     "end_time": "2024-09-24T13:25:15.696408",
     "exception": false,
     "start_time": "2024-09-24T13:24:58.503475",
     "status": "completed"
    },
    "tags": []
   },
   "outputs": [
    {
     "name": "stderr",
     "output_type": "stream",
     "text": [
      "\r",
      "  0%|                                                                                                                  | 0/29773 [00:00<?, ?it/s]"
     ]
    },
    {
     "name": "stderr",
     "output_type": "stream",
     "text": [
      "\r",
      "  1%|▋                                                                                                     | 211/29773 [00:00<00:14, 2098.55it/s]"
     ]
    },
    {
     "name": "stderr",
     "output_type": "stream",
     "text": [
      "\r",
      "  1%|█▍                                                                                                    | 433/29773 [00:00<00:13, 2166.67it/s]"
     ]
    },
    {
     "name": "stderr",
     "output_type": "stream",
     "text": [
      "\r",
      "  2%|██▏                                                                                                   | 651/29773 [00:00<00:13, 2169.23it/s]"
     ]
    },
    {
     "name": "stderr",
     "output_type": "stream",
     "text": [
      "\r",
      "  3%|███                                                                                                   | 884/29773 [00:00<00:12, 2232.49it/s]"
     ]
    },
    {
     "name": "stderr",
     "output_type": "stream",
     "text": [
      "\r",
      "  4%|███▊                                                                                                 | 1108/29773 [00:00<00:12, 2210.10it/s]"
     ]
    },
    {
     "name": "stderr",
     "output_type": "stream",
     "text": [
      "\r",
      "  4%|████▌                                                                                                | 1330/29773 [00:00<00:12, 2188.99it/s]"
     ]
    },
    {
     "name": "stderr",
     "output_type": "stream",
     "text": [
      "\r",
      "  5%|█████▎                                                                                               | 1561/29773 [00:00<00:12, 2226.56it/s]"
     ]
    },
    {
     "name": "stderr",
     "output_type": "stream",
     "text": [
      "\r",
      "  6%|██████                                                                                               | 1784/29773 [00:00<00:12, 2220.75it/s]"
     ]
    },
    {
     "name": "stderr",
     "output_type": "stream",
     "text": [
      "\r",
      "  7%|██████▊                                                                                              | 2007/29773 [00:00<00:12, 2198.85it/s]"
     ]
    },
    {
     "name": "stderr",
     "output_type": "stream",
     "text": [
      "\r",
      "  8%|███████▌                                                                                             | 2233/29773 [00:01<00:12, 2215.84it/s]"
     ]
    },
    {
     "name": "stderr",
     "output_type": "stream",
     "text": [
      "\r",
      "  8%|████████▎                                                                                            | 2463/29773 [00:01<00:12, 2241.12it/s]"
     ]
    },
    {
     "name": "stderr",
     "output_type": "stream",
     "text": [
      "\r",
      "  9%|█████████▏                                                                                           | 2698/29773 [00:01<00:11, 2272.47it/s]"
     ]
    },
    {
     "name": "stderr",
     "output_type": "stream",
     "text": [
      "\r",
      " 10%|█████████▉                                                                                           | 2943/29773 [00:01<00:11, 2322.61it/s]"
     ]
    },
    {
     "name": "stderr",
     "output_type": "stream",
     "text": [
      "\r",
      " 11%|██████████▊                                                                                          | 3176/29773 [00:01<00:11, 2232.19it/s]"
     ]
    },
    {
     "name": "stderr",
     "output_type": "stream",
     "text": [
      "\r",
      " 11%|███████████▌                                                                                         | 3400/29773 [00:01<00:12, 2197.58it/s]"
     ]
    },
    {
     "name": "stderr",
     "output_type": "stream",
     "text": [
      "\r",
      " 12%|████████████▎                                                                                        | 3621/29773 [00:01<00:11, 2183.01it/s]"
     ]
    },
    {
     "name": "stderr",
     "output_type": "stream",
     "text": [
      "\r",
      " 13%|█████████████▏                                                                                       | 3872/29773 [00:01<00:11, 2277.63it/s]"
     ]
    },
    {
     "name": "stderr",
     "output_type": "stream",
     "text": [
      "\r",
      " 14%|█████████████▉                                                                                       | 4113/29773 [00:01<00:11, 2314.19it/s]"
     ]
    },
    {
     "name": "stderr",
     "output_type": "stream",
     "text": [
      "\r",
      " 15%|██████████████▊                                                                                      | 4353/29773 [00:01<00:10, 2338.13it/s]"
     ]
    },
    {
     "name": "stderr",
     "output_type": "stream",
     "text": [
      "\r",
      " 15%|███████████████▌                                                                                     | 4591/29773 [00:02<00:10, 2348.01it/s]"
     ]
    },
    {
     "name": "stderr",
     "output_type": "stream",
     "text": [
      "\r",
      " 16%|████████████████▎                                                                                    | 4827/29773 [00:02<00:10, 2284.10it/s]"
     ]
    },
    {
     "name": "stderr",
     "output_type": "stream",
     "text": [
      "\r",
      " 17%|█████████████████▏                                                                                   | 5060/29773 [00:02<00:10, 2296.05it/s]"
     ]
    },
    {
     "name": "stderr",
     "output_type": "stream",
     "text": [
      "\r",
      " 18%|█████████████████▉                                                                                   | 5302/29773 [00:02<00:10, 2329.77it/s]"
     ]
    },
    {
     "name": "stderr",
     "output_type": "stream",
     "text": [
      "\r",
      " 19%|██████████████████▊                                                                                  | 5545/29773 [00:02<00:10, 2357.82it/s]"
     ]
    },
    {
     "name": "stderr",
     "output_type": "stream",
     "text": [
      "\r",
      " 19%|███████████████████▌                                                                                 | 5782/29773 [00:02<00:10, 2359.87it/s]"
     ]
    },
    {
     "name": "stderr",
     "output_type": "stream",
     "text": [
      "\r",
      " 20%|████████████████████▍                                                                                | 6019/29773 [00:02<00:10, 2361.54it/s]"
     ]
    },
    {
     "name": "stderr",
     "output_type": "stream",
     "text": [
      "\r",
      " 21%|█████████████████████▏                                                                               | 6256/29773 [00:02<00:09, 2356.90it/s]"
     ]
    },
    {
     "name": "stderr",
     "output_type": "stream",
     "text": [
      "\r",
      " 22%|██████████████████████                                                                               | 6492/29773 [00:02<00:09, 2354.15it/s]"
     ]
    },
    {
     "name": "stderr",
     "output_type": "stream",
     "text": [
      "\r",
      " 23%|██████████████████████▊                                                                              | 6732/29773 [00:02<00:09, 2366.77it/s]"
     ]
    },
    {
     "name": "stderr",
     "output_type": "stream",
     "text": [
      "\r",
      " 23%|███████████████████████▋                                                                             | 6969/29773 [00:03<00:09, 2359.84it/s]"
     ]
    },
    {
     "name": "stderr",
     "output_type": "stream",
     "text": [
      "\r",
      " 24%|████████████████████████▍                                                                            | 7208/29773 [00:03<00:09, 2367.26it/s]"
     ]
    },
    {
     "name": "stderr",
     "output_type": "stream",
     "text": [
      "\r",
      " 25%|█████████████████████████▎                                                                           | 7451/29773 [00:03<00:09, 2384.44it/s]"
     ]
    },
    {
     "name": "stderr",
     "output_type": "stream",
     "text": [
      "\r",
      " 26%|██████████████████████████                                                                           | 7690/29773 [00:03<00:09, 2356.92it/s]"
     ]
    },
    {
     "name": "stderr",
     "output_type": "stream",
     "text": [
      "\r",
      " 27%|██████████████████████████▉                                                                          | 7926/29773 [00:03<00:10, 2016.66it/s]"
     ]
    },
    {
     "name": "stderr",
     "output_type": "stream",
     "text": [
      "\r",
      " 27%|███████████████████████████▋                                                                         | 8145/29773 [00:03<00:10, 2062.74it/s]"
     ]
    },
    {
     "name": "stderr",
     "output_type": "stream",
     "text": [
      "\r",
      " 28%|████████████████████████████▋                                                                        | 8441/29773 [00:03<00:09, 2309.49it/s]"
     ]
    },
    {
     "name": "stderr",
     "output_type": "stream",
     "text": [
      "\r",
      " 29%|█████████████████████████████▋                                                                       | 8734/29773 [00:03<00:08, 2482.46it/s]"
     ]
    },
    {
     "name": "stderr",
     "output_type": "stream",
     "text": [
      "\r",
      " 30%|██████████████████████████████▌                                                                      | 9024/29773 [00:03<00:07, 2600.18it/s]"
     ]
    },
    {
     "name": "stderr",
     "output_type": "stream",
     "text": [
      "\r",
      " 31%|███████████████████████████████▌                                                                     | 9315/29773 [00:04<00:07, 2688.97it/s]"
     ]
    },
    {
     "name": "stderr",
     "output_type": "stream",
     "text": [
      "\r",
      " 32%|████████████████████████████████▌                                                                    | 9606/29773 [00:04<00:07, 2751.66it/s]"
     ]
    },
    {
     "name": "stderr",
     "output_type": "stream",
     "text": [
      "\r",
      " 33%|█████████████████████████████████▌                                                                   | 9884/29773 [00:04<00:07, 2699.56it/s]"
     ]
    },
    {
     "name": "stderr",
     "output_type": "stream",
     "text": [
      "\r",
      " 34%|██████████████████████████████████                                                                  | 10156/29773 [00:04<00:07, 2648.56it/s]"
     ]
    },
    {
     "name": "stderr",
     "output_type": "stream",
     "text": [
      "\r",
      " 35%|███████████████████████████████████                                                                 | 10425/29773 [00:04<00:07, 2660.02it/s]"
     ]
    },
    {
     "name": "stderr",
     "output_type": "stream",
     "text": [
      "\r",
      " 36%|████████████████████████████████████                                                                | 10727/29773 [00:04<00:06, 2764.76it/s]"
     ]
    },
    {
     "name": "stderr",
     "output_type": "stream",
     "text": [
      "\r",
      " 37%|████████████████████████████████████▉                                                               | 11005/29773 [00:04<00:07, 2450.29it/s]"
     ]
    },
    {
     "name": "stderr",
     "output_type": "stream",
     "text": [
      "\r",
      " 38%|█████████████████████████████████████▊                                                              | 11258/29773 [00:04<00:07, 2314.80it/s]"
     ]
    },
    {
     "name": "stderr",
     "output_type": "stream",
     "text": [
      "\r",
      " 39%|██████████████████████████████████████▌                                                             | 11496/29773 [00:04<00:08, 2252.30it/s]"
     ]
    },
    {
     "name": "stderr",
     "output_type": "stream",
     "text": [
      "\r",
      " 39%|███████████████████████████████████████▍                                                            | 11745/29773 [00:05<00:07, 2315.11it/s]"
     ]
    },
    {
     "name": "stderr",
     "output_type": "stream",
     "text": [
      "\r",
      " 40%|████████████████████████████████████████▏                                                           | 11980/29773 [00:05<00:08, 2214.86it/s]"
     ]
    },
    {
     "name": "stderr",
     "output_type": "stream",
     "text": [
      "\r",
      " 41%|████████████████████████████████████████▉                                                           | 12205/29773 [00:05<00:08, 2165.54it/s]"
     ]
    },
    {
     "name": "stderr",
     "output_type": "stream",
     "text": [
      "\r",
      " 42%|█████████████████████████████████████████▊                                                          | 12439/29773 [00:05<00:07, 2212.85it/s]"
     ]
    },
    {
     "name": "stderr",
     "output_type": "stream",
     "text": [
      "\r",
      " 43%|██████████████████████████████████████████▋                                                         | 12695/29773 [00:05<00:07, 2309.12it/s]"
     ]
    },
    {
     "name": "stderr",
     "output_type": "stream",
     "text": [
      "\r",
      " 44%|███████████████████████████████████████████▌                                                        | 12952/29773 [00:05<00:07, 2381.31it/s]"
     ]
    },
    {
     "name": "stderr",
     "output_type": "stream",
     "text": [
      "\r",
      " 44%|████████████████████████████████████████████▎                                                       | 13192/29773 [00:05<00:07, 2326.73it/s]"
     ]
    },
    {
     "name": "stderr",
     "output_type": "stream",
     "text": [
      "\r",
      " 45%|█████████████████████████████████████████████                                                       | 13426/29773 [00:05<00:07, 2194.48it/s]"
     ]
    },
    {
     "name": "stderr",
     "output_type": "stream",
     "text": [
      "\r",
      " 46%|█████████████████████████████████████████████▊                                                      | 13648/29773 [00:05<00:07, 2145.61it/s]"
     ]
    },
    {
     "name": "stderr",
     "output_type": "stream",
     "text": [
      "\r",
      " 47%|██████████████████████████████████████████████▌                                                     | 13864/29773 [00:05<00:07, 2092.25it/s]"
     ]
    },
    {
     "name": "stderr",
     "output_type": "stream",
     "text": [
      "\r",
      " 47%|███████████████████████████████████████████████▎                                                    | 14075/29773 [00:06<00:07, 2041.90it/s]"
     ]
    },
    {
     "name": "stderr",
     "output_type": "stream",
     "text": [
      "\r",
      " 48%|███████████████████████████████████████████████▉                                                    | 14282/29773 [00:06<00:07, 2046.59it/s]"
     ]
    },
    {
     "name": "stderr",
     "output_type": "stream",
     "text": [
      "\r",
      " 49%|████████████████████████████████████████████████▋                                                   | 14488/29773 [00:06<00:07, 2040.60it/s]"
     ]
    },
    {
     "name": "stderr",
     "output_type": "stream",
     "text": [
      "\r",
      " 49%|█████████████████████████████████████████████████▎                                                  | 14693/29773 [00:06<00:07, 2014.33it/s]"
     ]
    },
    {
     "name": "stderr",
     "output_type": "stream",
     "text": [
      "\r",
      " 50%|██████████████████████████████████████████████████                                                  | 14895/29773 [00:06<00:07, 1995.74it/s]"
     ]
    },
    {
     "name": "stderr",
     "output_type": "stream",
     "text": [
      "\r",
      " 51%|██████████████████████████████████████████████████▋                                                 | 15095/29773 [00:06<00:07, 1985.15it/s]"
     ]
    },
    {
     "name": "stderr",
     "output_type": "stream",
     "text": [
      "\r",
      " 51%|███████████████████████████████████████████████████▎                                                | 15294/29773 [00:06<00:07, 1979.17it/s]"
     ]
    },
    {
     "name": "stderr",
     "output_type": "stream",
     "text": [
      "\r",
      " 52%|████████████████████████████████████████████████████                                                | 15494/29773 [00:06<00:07, 1981.66it/s]"
     ]
    },
    {
     "name": "stderr",
     "output_type": "stream",
     "text": [
      "\r",
      " 53%|████████████████████████████████████████████████████▋                                               | 15693/29773 [00:06<00:07, 1947.04it/s]"
     ]
    },
    {
     "name": "stderr",
     "output_type": "stream",
     "text": [
      "\r",
      " 53%|█████████████████████████████████████████████████████▍                                              | 15894/29773 [00:07<00:07, 1965.13it/s]"
     ]
    },
    {
     "name": "stderr",
     "output_type": "stream",
     "text": [
      "\r",
      " 54%|██████████████████████████████████████████████████████                                              | 16091/29773 [00:07<00:06, 1964.85it/s]"
     ]
    },
    {
     "name": "stderr",
     "output_type": "stream",
     "text": [
      "\r",
      " 55%|██████████████████████████████████████████████████████▋                                             | 16292/29773 [00:07<00:06, 1975.67it/s]"
     ]
    },
    {
     "name": "stderr",
     "output_type": "stream",
     "text": [
      "\r",
      " 55%|███████████████████████████████████████████████████████▍                                            | 16490/29773 [00:07<00:06, 1969.72it/s]"
     ]
    },
    {
     "name": "stderr",
     "output_type": "stream",
     "text": [
      "\r",
      " 56%|████████████████████████████████████████████████████████                                            | 16688/29773 [00:07<00:06, 1971.80it/s]"
     ]
    },
    {
     "name": "stderr",
     "output_type": "stream",
     "text": [
      "\r",
      " 57%|████████████████████████████████████████████████████████▊                                           | 16922/29773 [00:07<00:06, 2079.68it/s]"
     ]
    },
    {
     "name": "stderr",
     "output_type": "stream",
     "text": [
      "\r",
      " 58%|█████████████████████████████████████████████████████████▋                                          | 17157/29773 [00:07<00:05, 2157.86it/s]"
     ]
    },
    {
     "name": "stderr",
     "output_type": "stream",
     "text": [
      "\r",
      " 58%|██████████████████████████████████████████████████████████▍                                         | 17383/29773 [00:07<00:05, 2185.53it/s]"
     ]
    },
    {
     "name": "stderr",
     "output_type": "stream",
     "text": [
      "\r",
      " 59%|███████████████████████████████████████████████████████████▏                                        | 17615/29773 [00:07<00:05, 2224.79it/s]"
     ]
    },
    {
     "name": "stderr",
     "output_type": "stream",
     "text": [
      "\r",
      " 60%|███████████████████████████████████████████████████████████▉                                        | 17843/29773 [00:07<00:05, 2240.47it/s]"
     ]
    },
    {
     "name": "stderr",
     "output_type": "stream",
     "text": [
      "\r",
      " 61%|████████████████████████████████████████████████████████████▋                                       | 18073/29773 [00:08<00:05, 2256.99it/s]"
     ]
    },
    {
     "name": "stderr",
     "output_type": "stream",
     "text": [
      "\r",
      " 61%|█████████████████████████████████████████████████████████████▍                                      | 18300/29773 [00:08<00:05, 2260.23it/s]"
     ]
    },
    {
     "name": "stderr",
     "output_type": "stream",
     "text": [
      "\r",
      " 62%|██████████████████████████████████████████████████████████████▏                                     | 18527/29773 [00:08<00:05, 2227.59it/s]"
     ]
    },
    {
     "name": "stderr",
     "output_type": "stream",
     "text": [
      "\r",
      " 63%|██████████████████████████████████████████████████████████████▉                                     | 18750/29773 [00:08<00:05, 2185.39it/s]"
     ]
    },
    {
     "name": "stderr",
     "output_type": "stream",
     "text": [
      "\r",
      " 64%|███████████████████████████████████████████████████████████████▋                                    | 18969/29773 [00:08<00:05, 2091.24it/s]"
     ]
    },
    {
     "name": "stderr",
     "output_type": "stream",
     "text": [
      "\r",
      " 64%|████████████████████████████████████████████████████████████████▍                                   | 19179/29773 [00:08<00:05, 2030.81it/s]"
     ]
    },
    {
     "name": "stderr",
     "output_type": "stream",
     "text": [
      "\r",
      " 65%|█████████████████████████████████████████████████████████████████                                   | 19383/29773 [00:08<00:05, 2011.99it/s]"
     ]
    },
    {
     "name": "stderr",
     "output_type": "stream",
     "text": [
      "\r",
      " 66%|█████████████████████████████████████████████████████████████████▊                                  | 19585/29773 [00:08<00:05, 1995.02it/s]"
     ]
    },
    {
     "name": "stderr",
     "output_type": "stream",
     "text": [
      "\r",
      " 66%|██████████████████████████████████████████████████████████████████▍                                 | 19785/29773 [00:08<00:05, 1978.35it/s]"
     ]
    },
    {
     "name": "stderr",
     "output_type": "stream",
     "text": [
      "\r",
      " 67%|███████████████████████████████████████████████████████████████████                                 | 19984/29773 [00:08<00:04, 1980.57it/s]"
     ]
    },
    {
     "name": "stderr",
     "output_type": "stream",
     "text": [
      "\r",
      " 68%|███████████████████████████████████████████████████████████████████▊                                | 20189/29773 [00:09<00:04, 1998.77it/s]"
     ]
    },
    {
     "name": "stderr",
     "output_type": "stream",
     "text": [
      "\r",
      " 69%|████████████████████████████████████████████████████████████████████▋                               | 20440/29773 [00:09<00:04, 2146.53it/s]"
     ]
    },
    {
     "name": "stderr",
     "output_type": "stream",
     "text": [
      "\r",
      " 69%|█████████████████████████████████████████████████████████████████████▍                              | 20688/29773 [00:09<00:04, 2244.33it/s]"
     ]
    },
    {
     "name": "stderr",
     "output_type": "stream",
     "text": [
      "\r",
      " 70%|██████████████████████████████████████████████████████████████████████▎                             | 20942/29773 [00:09<00:03, 2330.19it/s]"
     ]
    },
    {
     "name": "stderr",
     "output_type": "stream",
     "text": [
      "\r",
      " 71%|███████████████████████████████████████████████████████████████████████▏                            | 21197/29773 [00:09<00:03, 2392.17it/s]"
     ]
    },
    {
     "name": "stderr",
     "output_type": "stream",
     "text": [
      "\r",
      " 72%|████████████████████████████████████████████████████████████████████████                            | 21445/29773 [00:09<00:03, 2417.39it/s]"
     ]
    },
    {
     "name": "stderr",
     "output_type": "stream",
     "text": [
      "\r",
      " 73%|████████████████████████████████████████████████████████████████████████▊                           | 21694/29773 [00:09<00:03, 2436.97it/s]"
     ]
    },
    {
     "name": "stderr",
     "output_type": "stream",
     "text": [
      "\r",
      " 74%|█████████████████████████████████████████████████████████████████████████▋                          | 21943/29773 [00:09<00:03, 2450.90it/s]"
     ]
    },
    {
     "name": "stderr",
     "output_type": "stream",
     "text": [
      "\r",
      " 75%|██████████████████████████████████████████████████████████████████████████▌                         | 22195/29773 [00:09<00:03, 2470.82it/s]"
     ]
    },
    {
     "name": "stderr",
     "output_type": "stream",
     "text": [
      "\r",
      " 76%|███████████████████████████████████████████████████████████████████████████▌                        | 22485/29773 [00:09<00:02, 2598.80it/s]"
     ]
    },
    {
     "name": "stderr",
     "output_type": "stream",
     "text": [
      "\r",
      " 76%|████████████████████████████████████████████████████████████████████████████▍                       | 22776/29773 [00:10<00:02, 2690.70it/s]"
     ]
    },
    {
     "name": "stderr",
     "output_type": "stream",
     "text": [
      "\r",
      " 77%|█████████████████████████████████████████████████████████████████████████████▍                      | 23062/29773 [00:10<00:02, 2740.70it/s]"
     ]
    },
    {
     "name": "stderr",
     "output_type": "stream",
     "text": [
      "\r",
      " 78%|██████████████████████████████████████████████████████████████████████████████▍                     | 23351/29773 [00:10<00:02, 2729.36it/s]"
     ]
    },
    {
     "name": "stderr",
     "output_type": "stream",
     "text": [
      "\r",
      " 79%|███████████████████████████████████████████████████████████████████████████████▎                    | 23625/29773 [00:10<00:02, 2654.88it/s]"
     ]
    },
    {
     "name": "stderr",
     "output_type": "stream",
     "text": [
      "\r",
      " 80%|████████████████████████████████████████████████████████████████████████████████▎                   | 23898/29773 [00:10<00:02, 2676.48it/s]"
     ]
    },
    {
     "name": "stderr",
     "output_type": "stream",
     "text": [
      "\r",
      " 81%|█████████████████████████████████████████████████████████████████████████████████▎                  | 24198/29773 [00:10<00:02, 2770.14it/s]"
     ]
    },
    {
     "name": "stderr",
     "output_type": "stream",
     "text": [
      "\r",
      " 82%|██████████████████████████████████████████████████████████████████████████████████▏                 | 24476/29773 [00:10<00:02, 2504.16it/s]"
     ]
    },
    {
     "name": "stderr",
     "output_type": "stream",
     "text": [
      "\r",
      " 83%|███████████████████████████████████████████████████████████████████████████████████                 | 24732/29773 [00:10<00:02, 1715.21it/s]"
     ]
    },
    {
     "name": "stderr",
     "output_type": "stream",
     "text": [
      "\r",
      " 84%|███████████████████████████████████████████████████████████████████████████████████▊                | 24940/29773 [00:11<00:03, 1589.41it/s]"
     ]
    },
    {
     "name": "stderr",
     "output_type": "stream",
     "text": [
      "\r",
      " 85%|████████████████████████████████████████████████████████████████████████████████████▌               | 25187/29773 [00:11<00:02, 1775.36it/s]"
     ]
    },
    {
     "name": "stderr",
     "output_type": "stream",
     "text": [
      "\r",
      " 85%|█████████████████████████████████████████████████████████████████████████████████████▎              | 25390/29773 [00:11<00:02, 1761.36it/s]"
     ]
    },
    {
     "name": "stderr",
     "output_type": "stream",
     "text": [
      "\r",
      " 86%|█████████████████████████████████████████████████████████████████████████████████████▉              | 25584/29773 [00:11<00:03, 1326.98it/s]"
     ]
    },
    {
     "name": "stderr",
     "output_type": "stream",
     "text": [
      "\r",
      " 86%|██████████████████████████████████████████████████████████████████████████████████████▍             | 25743/29773 [00:11<00:03, 1038.21it/s]"
     ]
    },
    {
     "name": "stderr",
     "output_type": "stream",
     "text": [
      "\r",
      " 87%|███████████████████████████████████████████████████████████████████████████████████████▏            | 25957/29773 [00:11<00:03, 1234.69it/s]"
     ]
    },
    {
     "name": "stderr",
     "output_type": "stream",
     "text": [
      "\r",
      " 88%|███████████████████████████████████████████████████████████████████████████████████████▉            | 26164/29773 [00:12<00:02, 1261.99it/s]"
     ]
    },
    {
     "name": "stderr",
     "output_type": "stream",
     "text": [
      "\r",
      " 88%|████████████████████████████████████████████████████████████████████████████████████████▍           | 26313/29773 [00:12<00:02, 1241.96it/s]"
     ]
    },
    {
     "name": "stderr",
     "output_type": "stream",
     "text": [
      "\r",
      " 89%|████████████████████████████████████████████████████████████████████████████████████████▊           | 26453/29773 [00:12<00:02, 1119.99it/s]"
     ]
    },
    {
     "name": "stderr",
     "output_type": "stream",
     "text": [
      "\r",
      " 89%|██████████████████████████████████████████████████████████████████████████████████████████▏          | 26577/29773 [00:12<00:03, 926.99it/s]"
     ]
    },
    {
     "name": "stderr",
     "output_type": "stream",
     "text": [
      "\r",
      " 90%|██████████████████████████████████████████████████████████████████████████████████████████▌          | 26681/29773 [00:12<00:03, 942.11it/s]"
     ]
    },
    {
     "name": "stderr",
     "output_type": "stream",
     "text": [
      "\r",
      " 90%|██████████████████████████████████████████████████████████████████████████████████████████▊          | 26784/29773 [00:12<00:03, 901.31it/s]"
     ]
    },
    {
     "name": "stderr",
     "output_type": "stream",
     "text": [
      "\r",
      " 90%|███████████████████████████████████████████████████████████████████████████████████████████▏         | 26880/29773 [00:12<00:03, 893.28it/s]"
     ]
    },
    {
     "name": "stderr",
     "output_type": "stream",
     "text": [
      "\r",
      " 91%|███████████████████████████████████████████████████████████████████████████████████████████▌         | 27005/29773 [00:13<00:02, 952.63it/s]"
     ]
    },
    {
     "name": "stderr",
     "output_type": "stream",
     "text": [
      "\r",
      " 91%|███████████████████████████████████████████████████████████████████████████████████████████▉         | 27108/29773 [00:13<00:02, 971.55it/s]"
     ]
    },
    {
     "name": "stderr",
     "output_type": "stream",
     "text": [
      "\r",
      " 91%|████████████████████████████████████████████████████████████████████████████████████████████▎        | 27208/29773 [00:13<00:03, 742.29it/s]"
     ]
    },
    {
     "name": "stderr",
     "output_type": "stream",
     "text": [
      "\r",
      " 92%|████████████████████████████████████████████████████████████████████████████████████████████▋        | 27325/29773 [00:13<00:02, 837.27it/s]"
     ]
    },
    {
     "name": "stderr",
     "output_type": "stream",
     "text": [
      "\r",
      " 93%|████████████████████████████████████████████████████████████████████████████████████████████▌       | 27552/29773 [00:13<00:01, 1181.31it/s]"
     ]
    },
    {
     "name": "stderr",
     "output_type": "stream",
     "text": [
      "\r",
      " 93%|█████████████████████████████████████████████████████████████████████████████████████████████▎      | 27772/29773 [00:13<00:01, 1441.81it/s]"
     ]
    },
    {
     "name": "stderr",
     "output_type": "stream",
     "text": [
      "\r",
      " 94%|██████████████████████████████████████████████████████████████████████████████████████████████      | 27987/29773 [00:13<00:01, 1631.28it/s]"
     ]
    },
    {
     "name": "stderr",
     "output_type": "stream",
     "text": [
      "\r",
      " 95%|██████████████████████████████████████████████████████████████████████████████████████████████▌     | 28163/29773 [00:14<00:01, 1329.11it/s]"
     ]
    },
    {
     "name": "stderr",
     "output_type": "stream",
     "text": [
      "\r",
      " 95%|███████████████████████████████████████████████████████████████████████████████████████████████     | 28314/29773 [00:14<00:01, 1172.69it/s]"
     ]
    },
    {
     "name": "stderr",
     "output_type": "stream",
     "text": [
      "\r",
      " 96%|███████████████████████████████████████████████████████████████████████████████████████████████▌    | 28446/29773 [00:14<00:01, 1054.69it/s]"
     ]
    },
    {
     "name": "stderr",
     "output_type": "stream",
     "text": [
      "\r",
      " 96%|████████████████████████████████████████████████████████████████████████████████████████████████    | 28610/29773 [00:14<00:00, 1183.63it/s]"
     ]
    },
    {
     "name": "stderr",
     "output_type": "stream",
     "text": [
      "\r",
      " 97%|████████████████████████████████████████████████████████████████████████████████████████████████▉   | 28852/29773 [00:14<00:00, 1479.52it/s]"
     ]
    },
    {
     "name": "stderr",
     "output_type": "stream",
     "text": [
      "\r",
      " 98%|█████████████████████████████████████████████████████████████████████████████████████████████████▊  | 29112/29773 [00:14<00:00, 1761.79it/s]"
     ]
    },
    {
     "name": "stderr",
     "output_type": "stream",
     "text": [
      "\r",
      " 98%|██████████████████████████████████████████████████████████████████████████████████████████████████▍ | 29305/29773 [00:14<00:00, 1576.61it/s]"
     ]
    },
    {
     "name": "stderr",
     "output_type": "stream",
     "text": [
      "\r",
      " 99%|███████████████████████████████████████████████████████████████████████████████████████████████████ | 29478/29773 [00:14<00:00, 1542.57it/s]"
     ]
    },
    {
     "name": "stderr",
     "output_type": "stream",
     "text": [
      "\r",
      "100%|███████████████████████████████████████████████████████████████████████████████████████████████████▌| 29657/29773 [00:15<00:00, 1604.41it/s]"
     ]
    },
    {
     "name": "stderr",
     "output_type": "stream",
     "text": [
      "\r",
      "100%|████████████████████████████████████████████████████████████████████████████████████████████████████| 29773/29773 [00:15<00:00, 1974.41it/s]"
     ]
    },
    {
     "name": "stderr",
     "output_type": "stream",
     "text": [
      "\n"
     ]
    }
   ],
   "source": [
    "# Create CSData object\n",
    "arrow_ds, vocabulary = cs.CSData.adata_to_arrow(\n",
    "    adata=adata, \n",
    "    random_state=SEED, \n",
    "    sentence_delimiter=' ',\n",
    "    label_col_names=adata_obs_cols_to_keep\n",
    ")"
   ]
  },
  {
   "cell_type": "code",
   "execution_count": 12,
   "id": "d45bd576",
   "metadata": {
    "execution": {
     "iopub.execute_input": "2024-09-24T13:25:15.748966Z",
     "iopub.status.busy": "2024-09-24T13:25:15.748656Z",
     "iopub.status.idle": "2024-09-24T13:25:15.754214Z",
     "shell.execute_reply": "2024-09-24T13:25:15.753664Z"
    },
    "papermill": {
     "duration": 0.032935,
     "end_time": "2024-09-24T13:25:15.755360",
     "exception": false,
     "start_time": "2024-09-24T13:25:15.722425",
     "status": "completed"
    },
    "tags": []
   },
   "outputs": [
    {
     "data": {
      "text/plain": [
       "Dataset({\n",
       "    features: ['cell_name', 'cell_sentence', 'cell_type', 'tissue', 'batch_condition', 'organism', 'sex'],\n",
       "    num_rows: 29773\n",
       "})"
      ]
     },
     "execution_count": 12,
     "metadata": {},
     "output_type": "execute_result"
    }
   ],
   "source": [
    "arrow_ds"
   ]
  },
  {
   "cell_type": "code",
   "execution_count": 13,
   "id": "5cbf8471",
   "metadata": {
    "execution": {
     "iopub.execute_input": "2024-09-24T13:25:15.805914Z",
     "iopub.status.busy": "2024-09-24T13:25:15.805628Z",
     "iopub.status.idle": "2024-09-24T13:25:15.811814Z",
     "shell.execute_reply": "2024-09-24T13:25:15.811285Z"
    },
    "papermill": {
     "duration": 0.031976,
     "end_time": "2024-09-24T13:25:15.812912",
     "exception": false,
     "start_time": "2024-09-24T13:25:15.780936",
     "status": "completed"
    },
    "tags": []
   },
   "outputs": [
    {
     "data": {
      "text/plain": [
       "{'cell_name': 'Pan_T7935490_AAACCTGCAAATTGCC',\n",
       " 'cell_sentence': 'RPLP1 ACTB EEF1A1 HSP90AA1 TMSB4X B2M FTH1 KLF6 HSPA1B MALAT1 RPS12 HSPA8 RPL13 MT-CO1 ATF3 MT-CO2 RPL41 TPT1 MT-CO3 RPS19 HLA-B RPL10 RPS4X RPL28 MT-CYB DUSP1 RPL30 MT-ND4L RPS15 FOS RPL34 RPS2 RPLP2 MT-ND3 RPS18 RPS8 TRBV7-2 RPL32 RPS3 ANXA1 RPL11 HLA-C RPS27 ACTG1 UBC RPL3 RPL37 RPLP0 MT-ATP6 JUNB RPS28 RPL18 UBB MT-ATP8 RPS14 RPL39 PFN1 GAPDH HSPA1A RPL18A SRGN RPS27A RPL26 RPL19 RPS15A HLA-A DNAJB1 RPS3A CREM RPS13 MT-ND1 RPL21 RPS25 BTG2 RPL35A FAU RPL8 RPL7A RPS24 RPS6 RPS16 RACK1 NFKBIA RGS1 RPL29 CALM1 RPL9 RPL37A MT-ND5 TNFAIP3 RPS23 IL7R RPL36A PTMA NFKBIZ UBA52 EIF1 CRIP1 CORO1A RPL14 HSP90AB1 RPL10A CXCR4 RPL4 EEF1B2 RPL36 RPS9 RPL27 NACA VIM H3-3B RPS7 HSPH1 ATP5F1E HLA-E RPL17 RPSA MYL12A RPL12 CD69 TAGAP RPL35 RPS29 RPL6 SARAF ZFP36L2 MT-ND4 ARHGDIB BTG1 RPS21 EEF1D PNRC1 EEF1G HSPA5 FYB1 CD3E IFITM1 RNASEK EEF2 MT-ND2 FTL S100A4 JUN IFITM2 CYTIP OST4 LAPTM5 RPL36AL PLAAT4 PFDN5 SAMSN1 DNAJA1 EIF4A1 FXYD5 HSPE1 CTLA4 IL32 RPL24 CFL1 SAT1 RPL13A NPM1 NDUFV2 SRSF7 ITM2B POLR1D CCNI CALR ZFP36 COX7C PTPRC GADD45A CD3G RAC2 MYL6 UBE2D3 CCL20 RPS5 RPL22 TOMM7 RPL15 C12ORF57 LSP1 SON H4C3 RPL23A RPL31 DDX5 EVL AHR SERF2 STK17A CD6 PTGER4 OSTF1 OAZ1 TMA7 PHLDA1 COMMD6 PPIA TMSB10 RHOH TUBA1B KTN1 PDIA3 DUSP5 BTF3 SSR4 ATP5MC2 S100A6 CEBPD TRAV13-2 STAT1 HSPB1 PSMB9 RPL38 HNRNPA2B1 FLT3LG CSTB CDK2AP2 CSK MIF MCL1 PSME1 TXNIP RHOA HNRNPA1 UBL5 PTGES3 PDCD4 SLC2A3 ERCC1 SNHG29 NFKBID SRP14 ARPC1B NR4A2 CMTM6 CD44 ITGA4 GNB2 TRAV19 BHLHE40 HMGB1 ARPC3 TRIR PRKCH NME2 KLRB1 CLIC1 ANAPC16 NCOR1 COX5B MYL12B SAP18 RHOB TCF25 SOD1 SRSF9 FOSB PCBP1 CD96 TBC1D10C CD164 CD3D ACTR2 COX4I1 SH3BGRL3 KMT2E HSPD1 PABPC1 SPCS2 SERP1 TNFRSF1B TAGLN2 PCBP2 RPL5 LDLR YWHAB CSRNP1 COX8A MYADM TRMT112 ATP5MG GABARAP ELF1 PRR13 RPL22L1 WAKMAR2 SIT1 GADD45B RPS17 S100A10 RBBP4 HNRNPDL CD2 UQCRQ COX6B1 RGS2 CHCHD2 TAF1B RPL27A TAP1 MTDH CD99 ARF1 TBCA TMEM14B HNRNPA0 RPS11 SEC61A1 RSRP1 TUBB ACIN1 HNRNPUL1 OXNAD1 LMO4 CTSH RBM8A RGL4 NFU1 AP1G2 TSC22D3 CASS4 CCNH RPS26 PIK3R1 SH3KBP1 SSBP4 TPR GADD45G ZFAS1 COTL1 BCL7C MZT2A LAT FUS SDF2L1 KRTCAP2 MRPL41 CENPX SETD5 TMC8 COX17 DNAJB4 CDKN1B ODC1 ACAP1 ANXA6 CYBA SUMO3 TMBIM6 TMEM259 CD37 PRDX2 UBE2D2 BTG3 PARK7 CD247 TMEM258 HNRNPAB SPOCK2 SEPTIN1 LAMTOR5 RNF11 SNX5 SASH3 PPM1G ARF6 EIF5A IL4I1 RBM3 RSF1 SLA CALM3 SNRPB SHISA5 ARID5B KXD1 PTPRCAP GBP1 STN1 NSA2 ATP1A1 LCK PSMB8 PSMB3 HNRNPC RNF167 RESF1 ACTR3 CKLF CD52 RPS27L GSTK1 GIMAP7 DCXR RGS14 VASP PBXIP1 GOLGA4 RPL23 YWHAQ SNHG16 TAOK3 IGBP1 DOCK10 SRRM1 PSMC3 IKZF3 AHI1 RPL7 TMEM87A EIF5 MED1 ANKRD12 IWS1 SLC25A6 TUBA1C LRRC41 SEC11C DLST VMA21 MKNK2 RALB THUMPD1 DBF4 RHEB WASHC3 VRK2 SUPT4H1 FADD CHD1 CAPN1 TMEM179B CKS2 RGS10 EIF4E BPTF RNMT DDX39A GADD45GIP1 DYNLL1 SF3B2 CDKN2AIP RAP1B ACTN4 ABRACL MOB4 METTL23 ITSN2 MTF2 VSIR PER1 COX7A2 COX14 IPCEF1 YWHAH CYRIB MOB3A SP2 BCL11B STUB1 RNF213 PRKRA EDF1 PRPF38B RHOG BAG1 ATOX1 CACYBP MAP4K1 PPP1R2 PAXX ADA NDUFA12 WAC ELK3 PRRC2C MUS81 CCT4 ARL5B RALBP1 FBXW11 LCP1 LEPROTL1 PDCD10 HNRNPR NR3C1 PPP4C BATF ABLIM1 PSMA2 TRAT1 RUNX3 CIB1 ARPC2 ABI3 UGP2 NDUFAB1 HCLS1 DERL1 RAB5A INSIG1 CNBP CHROMR DSTYK DPP4 TOMM6 PDE4D LUC7L2 JUND ARHGDIA CEMIP2 POLE4 ANXA11 PLEKHB2 SDCBP MANF FAM83D IMP3 TMCO1 SUCLG1 MBD2 NDUFA10 PDIA6 S100A11 DNPH1 TARDBP PTDSS1 RP11-25K19 LPXN FYTTD1 RORA NASP ATP6V1F RIPK2 IDI1 RASSF7 MT-ND6 RWDD1 CYB5R3 MAZ PIM1 PSMA3 GPX4 PACS1 TNIP1 PLEKHF1 STXBP2 MSMO1 UQCR11 EPB41L4A-AS1 TMIGD2 PATL1 COX6A1 CCND3 TUBB4B OCIAD2 UBE2V2 ASMTL MAP3K8 FERMT3 SH2B1 ACP5 RPS6KB2 GABPB1-AS1 MTRNR2L12 ZFAND2A EIF3D ATP5PB NEDD8 NDUFA1 C19ORF25 CYB561D2_ENSG00000114395 PPP1R18 SYF2 PIGT SLC25A3 KHDRBS1 GIMAP4 NAXE HMGN1 RGS19 SUMO1 YWHAZ ERN1 LRRFIP1 NCF1 GALNT11 PSMG2 SNRPA1 IFNGR1 ENSA LAMTOR4 TBRG1 LINC-PINT PSMA7 SH2D2A HCST GUSB SEC61B TAX1BP1 RNF149 GNG5 PIP5K1A SIGIRR ATP6V1H RXYLT1 TRAPPC2B STK4 GPR174 CLEC2B CDC5L MLEC SQSTM1 GNAS DAXX ADAR NRIP1 TPI1 ITM2C NOSIP HADHA GTF2B ATP5IF1 ATP6V0B VEZF1 MYBL1 TOMM5 UQCRFS1 PDE4B ELL MRPL18 TRAC PIGBOS1 PPIB MDH2 PMVK PGAM1 PEX2 RPA2 FBXW5 MICOS13 CYBC1 ELOB PSMB4 COX6C GTF2I CHMP4A ALOX5AP SSR3 SELENOF AIP UXT TBCB SKAP1 RBM4 NDUFA9 DNAJB11 ATP5MK REX1BD GATA3 MVP GIMAP5 DNAJC2 SHKBP1 CAP1 SSBP1 SUZ12 SNHG6 LTB HECA WDR83OS DUT ANXA2 RRAGA PPP1R12A TAPBP DOK2 DYNLT3 RBPJ ATP6V1G1 CD40LG OCIAD1 TCEA1 ATM SLC44A2 OGA HNRNPK PPP2R5E NDUFA4 PLAUR NT5C3A RBL2 PHTF2 ZFAND5 CCR6 BCL3 GYPC SPTY2D1 MBP AKAP9 CD83 HNRNPF RAC1 SSR2 SMARCC2 MRPS21 SRSF3 DDX21 NDUFC1 BST2 FSD1 TRIB2 SF3B6 GDI2 HLTF APBB1IP LY6E NDUFB4 NAA38 FKBP1A PSMB10 FDPS MBNL1 UQCRB TMED2 H1-10 RO60 CEP57 CDKL3 CAPNS1 GIMAP1 EZR HOXB4 JAGN1 EIF2S2 DNAJB9 KCTD20 ARGLU1 EWSR1 SH3GL1 EIF3F RABGGTA MEA1 MLLT3 SARNP UBAC2 TRA2A ARL6IP1 GPI GUK1 DPH3 TGFBR2 ASB2 SRP9 GNAI2 RAB5IF PPIH EIF4A2 UBQLN1 GPR65 RASAL3 NDUFB6 RPN1 HNRNPA3 GBF1 OGG1 LCP2 DESI2 DUSP2 MGST3 CCDC18-AS1 CD53 POLM RTRAF ME2 PHAX ATP6AP1 RDH11 TCERG1 ACTR8 SLC1A5 DSE SLC25A39 FDFT1 CIAO2A LATS1 WDR33 CCDC107 MARCHF7 FAM174C LRPAP1 COG6 IL10RA MNAT1 CLIC3 TUSC2 NAT9 FAM13B EPG5 FKBP11 CREB3 ARHGAP45 MRPL9 MGA MIDEAS PHF20 CHD9 RCE1 VDAC2 EEF1E1 SSB GBP5 NMRK1 CCT8 SCAP ACER3 VAMP8 TALDO1 PHGR1 TC2N GRID2IP EIF2AK1 TOLLIP TBC1D10A C17ORF100 NFRKB CCDC137 E4F1 XRCC5 FCMR PGPEP1 DGCR6L CHURC1 OFD1 MAP4 PLEKHA2 AMD1 MORF4L1 IER5 DCTN2 CTDSP1 DDX6 AHCYL1 PNKD ELOVL1 FXR1 SAPCD1 SELENOT UBE2L6 PMM2 RNF113A PGRMC2 CPSF6 ZNF267 MRPL50 IL16 CREBL2 ASXL2 NUDCD3 ZNF445 C3AR1 CCR5 DGKE RUNX1 AKAP11 RP11-562I5 ARIH1 PPP1CB NDUFAF3 MRPS5 ACTR1B TPD52 SF3A2 CLTC TMEM33 NDUFA5 HMGXB4 PPP1R21 RC3H2 ZNF580 PRKCSH GZMM SEC13 CTNNA1 VPS18 SYNGAP1-AS1 MAPRE1 ZC3H8 DSTN MAN2B2 MGAT4A PAK2 CRY1 LSM7 ZC3H6 TMEM230 CPQ PSMD3 TIMM17A TYMP ST6GALNAC6 PHB2 KDELR2 LAMP2 NUMB RALY ADAM8 R3HDM4 DNAAF2 ADPRM CCSER2 THRAP3 KIDINS220 RBM15B DEF6 ADNP POLR1E IQGAP1 POFUT2 EIF3K NOL7 NMUR1 NOM1 GNPDA1 PKM CWC25 IGF2R ATP2B4 GPS1 LRP10 CA10 ERI3 SMAD3 ANP32B COX7A2L EHBP1 CHUK H2AZ1 LPIN2 ASAH1 MRPL33 BCL2 DNAJC1 USO1 SUMF2 CHCHD3 NAA20 TMEM60 IER3IP1 FLII YBX1 LAIR1 MESD TSC22D1 SF1 TMEM273 PLCG1 NMD3 TMEM18 ABHD14A SLFN5 ENTR1 CHMP6 IRF2BP2 CHCHD5 HTATSF1 RPS10 LSM14A SUPT7L PEX26 YJU2 HDDC3 CFDP1 SELPLG ENO1 KDM5A MTLN ZNF706 ERVK3-1 DCP1A DBNDD2 TAX1BP3 SPINK4 RNF31 NEPRO SHFL PSMD8 IL17RA CHST14 MPC1 GLOD4 BICRAL SMIM26 KIF5C PRKAR1A TENT5C NPRL2 TTC9C RPUSD3 SSH1 ARHGAP35 RSBN1 ECHDC2 G3BP2 PRR5 SMG9 SUPT3H ATP2A3 SIN3B LSM12 PTEN ZNF93 NONO SRRM2 ITFG1 C21ORF91 HINT1 GOT1 C1QTNF1 AZIN1 MZT1 LAP3 NDUFB8 NDUFA13 FRMD4B LYRM2 IL21R PARP12 SCMH1 PBRM1 HAUS4 RAB4B FLJ40194 HIKESHI NR1D1 MFSD8 SRSF1 SMIM30 XRN2 SAMD4B SEM1 CAPZB PIAS4 IKZF1 EIF3I AGTPBP1 MZT2B C1ORF122 MUTYH WDR61 DDX39B CCNDBP1 ZNF816 PFDN2 POLR2F ANO6 NDUFS6 CTNS ATP11B SIVA1 EIF4E3 CTSC SMC4 CDC42SE2 FAM131C PLPP6 TRPC4AP MTMR14 GABARAPL1 FAM133B RFNG EIF2B1 LSM1 ISY1 EIF3G ORAI2 FAM53B SEPTIN2 HTRA2 SEPTIN6 KAT7 MBD4 CAPZA2 WDR20 NDUFB7 TWF2 COMMD5 GPR68 SPPL3 TMEM59 NCL PJA2 SDHA SLMAP CBX3 TMEM161B-AS1 PPOX ACBD3 GOLGA7 GTF2H1 MAP3K2 COA6 PHF5A COPS7A NAA10 SNX14 CUL1 ALG13 TNIK STARD3 LINC00892 SNAI3 RABAC1 USP42 NDUFA3 DDX58 PSMC6 RBCK1 HNRNPH3 ZFAND6 SDHD CHCHD10 PUM1 LDLRAD4 TCHP CNOT11 KIF1C SEC61G TACC1 PSMD6 NIPBL DAPP1 RAB2A TRIM5 LMNB2 SUPT6H AP3S1 CLK1 NSUN2 NUP88 PPA1 UMAD1 SETD9 DCAF15 ANXA2R TMEM9B EGLN2 MRPS18B PSD4 GTDC1 SUCO BUD31 IER2 UPF3A PINX1_ENSG00000254093 NUDC TAF7 UTP15 PTPMT1 PSME2 MALT1 PSTPIP1 TSPYL1 CTSD HIGD2A SBF1 LINC00667 FEM1A RAB5C TAF2 SHOC2 RASL11A AMZ2 TRIM65 ATP6V0E1 HEBP1 PSMD1 NDUFAF8 CORO1B MRPL34 UBN1 RAE1 SPINT2 SOCS1 TRIM52-AS1 TFDP1 TES YIPF2 STX5 BZW1 PDCL3 NOLC1 TPM3 INTS11 RAB35 COQ10B ZNF480 C1D THAP4 EBAG9 FOXP1 SLC30A6 NUS1 MRPS24 PPP2CA USP4 C9ORF16 MSH2 UQCRC1 SLC38A1 ACO2 WASHC5 TXLNG PHF20L1 RAB6A SERINC1 YTHDC1 MIF4GD C1GALT1 KRR1 NDFIP1 GMFG DCAF8 SNX6 PAIP2 PLAA SRP19 RAD21 TECR OTUB1 CLK3 BNIP2 NEK9 COPE RAB9A RMC1 JOSD2 MAP3K1 RNF144B ADGRE5 UBA5 NLRC3 LYPLAL1 SURF6 PDE9A ZNF720 C17ORF107 SPPL2A OPTN LACTB DNAJA2 CAMK4 PLP2 ARMC6 IDH2 FUNDC2 SNHG3 CAPG TMEM106C DR1 PGGHG TUT7 CYB561D1 EIF3E FURIN VPS26B APBB1 NTAN1 ATP5MF MAX MRPL14 ATP5ME ORAI1 SEC62 TNFRSF1A HTT EIF2AK4 SCAPER POLB FAM204A RRP12 ABHD5 IMPDH1 TAF1D TDG IMP4 SMC6 TRIM28 FAS ILK PPP1R16B TSR3 NOP56 EIF5B CUTA GLO1 PPP3CB CENPK MTRR ITGAE GOLGA3 GFER EPSTI1 THEMIS TRIAP1 HSD17B7 TSTD3 ANKRD39 PIP4K2A MTFP1 FAM222B SRFBP1 HOXB2 TRAPPC5 SRSF8 HECTD1 CCAR1 XKR8 RBM26 ISCA1 TRBC2 UBE2B TIMM8B RPUSD1 SAT2 FAM102A ST6GAL1 METTL9 C2ORF68 PERP SNU13 ANKZF1 CBX5 GPN1 COMMD8 EGLN1 HERPUD1 SENP6 SLC38A2 AARS1 GNL2 G3BP1 GPR108 PSMA4 SP100 MFSD10 TMEM70 QRSL1 DAD1 RPS19BP1 SNHG1 CSDE1 TAF4B ASF1A N4BP2L2 RNF138 FBXL5 JAK1 NCLN RAB11B PPP1CA ITGB2 KDELR1 PSMB1 MTX2 SLC35E2A NDUFS8 HAGH PIGW IVNS1ABP SDHC POLDIP2 EIF4G1 ANKRD36 SEPTIN7 CSNK1D PSMF1 TM9SF4 GAB3 MYL6B HNRNPL WIPF1 GATAD1 RFFL PRKCQ-AS1 GTPBP10 INO80D IFITM3 GAS5 WASHC1 CTNNAL1 PTGER2 USP33 ARRB2 ARMCX6 GMIP UMPS TRIM22 DDX41 SFPQ RBM25 MRPL38 CNP FAM193B MAP3K11 WDR74 PIGC CDC37 PPIP5K2 TRMO AGTRAP JMJD8 ARID5A ALKBH7 CYTH1 SET PAF1 SNHG5 FAM174B ADI1 SUDS3 CDCA7 GTSF1 MTCH1 TGIF2 MLX PYGO2 EIF2S1 DNPEP IL23R RPA1 CDC37L1 GYG1 ANP32A SRSF2 RNASEH2B WDR44 ZPR1 GIPC1 RRM2B ILVBL ARL2BP BRK1 YIF1A CEP164 DPY30 NUDT7 PPP2R1A R3HDM1 MSN PSIP1 HMGN4 CCDC152 STOML2 EEF1AKMT2 H2AZ2 CHST12 CHFR FKBP15 SPNS1 APH1A NR4A3 CNOT9 GPSM3 TESK1 CDK5RAP1 TNFAIP1 FAM118B ZBTB7A PCED1B-AS1 MRPS18A BUB3 ICMT DDIT3 DNM1L DCTN4 PPIG CCDC91 LZIC CHD2 BIRC2 AHSA1 ARAP2 COMMD10 NUCKS1 ASAP1 DCTPP1 ETFDH NAA80 STAU2 CCNL1 CASP3 CCDC174 PRNP APOA1-AS PPP1R11 SRP68 C1ORF43 RASSF1 MYD88 AKAP13 SLC25A5 ERH UBE2I ATP5PD ORC3 NUP37 TTC31 WBP2 PDE7A KPNB1 ETFA STK25 PJVK COX19 ATP5MC3 PPP2R2A MDH1 PSMB6 GTF2E2 B3GNT2 TSC22D4 GPD2 MBIP ZFR JTB GPRIN3 LPIN1 SLC35A1 NXT1 KLHL22 DYNC1I2 AP1S1 PPP1R15B SMIM15 TMEM65 HAUS3 KLHL28 MRPL20 MVK ATR MIB2 YPEL3 SCOC WASHC2C SPRY1 LCLAT1 CCDC25 SLC43A3 CIAO3 WBP11 TRIM4 C17ORF49 DTX1 VAMP5 ZSCAN16-AS1 TNFSF13B ARHGAP15 CISH DCP2 GRPEL2 PHB AASDHPPT PUM2 ISG20 PFKM SLC2A1 NBL1 TMED4 COPS3 SRSF11 ZNF710 POMP TTC14 ZNF414 PISD TMEM219 MIR23AHG COQ4 OXA1L DNAJA3 KMT2A MAGOH LYPLA2 WSB1 POLR2B AKIRIN2 PSMB2 UIMC1 DDX18 TCOF1 TNFRSF14 STARD3NL CELF2 NABP1 PTP4A2 LRRC59 TMEM167B CAMK2G SLC4A1AP EIPR1 NUCB2 MED6 VEZT SP4 ARL3 USP12 ARHGAP9 VMAC FIP1L1 RP11-316M20 ADH5 TMC6 IRF1-AS1 LIG4 SNX1 MACF1 GNL1 TPM4 RMND5A LPAR6 DNAJB2 NOP53 CDK2AP1 FIS1 PITPNM1 SF3B4 SNAP47 S100PBP C4ORF33 CHST11 RGS18 C7ORF31 PSMD4 EFCAB7 TTC39C ANXA5 KRI1 FAM214B DUSP12 NR2C1 CBLB UNG LSM8 MYO9B GLMN RALA GTF3C6 ISCA2 DNTTIP2 SELENOK MRPS36 KPNA3 THRA PTS DUSP6 VTA1 PPARG SEPTIN9 UBE2N FRY BCAS2 CAMKMT SAMHD1 GBP2 TMEM50A STAT5A IL17A PCYT2 ISG15 MAPK3 PDCD4-AS1 TIAL1 RTF1 CSNK2B RBM17 LPCAT4 ST13 CNBD2 TMEM184B RNPC3 ARCN1 SMAP2 BLOC1S1 NAMPT ZNF597 EMG1 SLC66A3 HDLBP C11ORF58 SH3BP1 SMARCB1 RP11-726G1 ZNF564 IFI27L2 ATG3 C6ORF226 REL GIMAP6 OLFM2 OGFR BAZ1A RAB7A EIF3L TBC1D20 SDHAF2 PARP10 GAK FYN TBXAS1 PRDM1 FAM241A TMEM263 SRPK1 CD2BP2 SERGEF SURF4 MTERF4 PPP1R10 IRF9 USP14 ZFAND2B AK3 CYTH3 PEBP1 PLIN2 NARF ICAM2 ZRSR2 HELZ C14ORF119 DCAF5 RBM42 ITFG2-AS1_ENSG00000258325 ZNF524 CRNKL1 FASTK UBXN1 MYO1G QTRT1 FLOT1 DNASE2 STK40 USP47 RFLNB ZFYVE28 FHL1 TATDN2 SLC25A25 ATP6V1B2 GSAP MRPL10 PSMD11 ZNF821 RANBP9 TIPRL TMED10 EIF3M HMGN2 UHMK1 TRBV30 EMP3 HPS6 TTC17 OSBPL8 COMT ERP29 GRPEL1 ZNF595 ROGDI RAD23A LYSMD2 ANKRD44 FRMD8 SRSF10 BCL2A1 TBC1D31 ALDH9A1 CHMP1A GABARAPL2 RPS20 MRPS2 CAST TMEM200A H4C2 ATRAID CRYBG1 CRY2 OSBPL7 TRAPPC1 POLR2K TESMIN UBE2D1 GNAI3 SLC39A6 HMGCS1 TMEM138 TMEM223 CHP1 ATP5MJ MSRA SQLE ATRX ZNF207 PPP1R15A DNAJC3 SNX3 FBXO9 FAM162A BTF3L4 NKIRAS1 PRDX6 EHMT1 SYS1 USP36 STX4 TMED7 NR4A1 GNA13 LINC00299 ST3GAL5 IDH3A NAA16 SLC38A10 CRYBB2 B4GALT1 METTL26 MRPL54 TRAF3IP2 DTX3L NDUFA6 NDUFAF4 SUCLA2 CALHM2 GTF2IRD2B RP11-706O15 IK MAGI3 TCTA PBDC1 BRD7 IRF1 P2RY10 CTBS CUX1 PRKD2 PGK1 BCLAF1 IRAG2 CIAPIN1 TNFRSF25 SNRNP200 IL2RG PSMA6 UQCRC2 RTF2 SLC35C2 GNG2 ZBTB22 MEF2A NOP10 LY9 MAP2K2 COMMD1 TMEM203 VPS29 SOD2 CITED2 FLI1 FMNL1 MRTO4 RETREG2 FGFR1OP2 RNF41 UTP4 TKT DHX36 ID2 TMEM245 ERP44 ESF1 BAG3 NDEL1 DAP3 HM13 PTGR2 ZFAND3 UCP2 BIN2 MCF2L2 PHKB SUB1 PDE3B CEP250-AS1 RNH1 WDR1 FAM117A CAMTA2 UGCG LINC00294 PHF14 PTPN22 KATNBL1 NT5DC1 TRIM38 ZNF780A C19ORF53 SNRPG TDP2 EIF4H TMEM140 ZCCHC17 ANKLE2 CDS2 EPHB6 CCDC90B ATAD3C COL18A1 FBP1 AHCY AFTPH ZNF432 HSPA9 CMSS1 FGD3 ANXA7 SLC25A13 RNF5 KRT10 KDM2B-DT ATP5F1D SCAMP3 KIF2A SHMT1 MRPL57 CD5 MLH1 ACOX3 ZNF593 TTI2 TRAPPC10 SRP72 CXCR6 COPS5 TET2 HEBP2 OGT ANKRD13D CEBPZ MRPL23 UBE2V1 AP2M1 SLC39A4 LLGL1 DLD ACAA2 SCAMP4 PARP8 CXXC1 MAD2L2 GIT2 OSGIN2 FAM219A ERLEC1 PTPN7 TMEM41B SERTAD3 TCF7 ARPC5 NCBP2AS2 ZNF211 SNRPB2 B9D2 ANKRD27 TIPARP RAB1B SRM PARP16 EIF4EBP2 GDI1 ARPC5L CEACAM21 IVD EXOSC4 KDM6A STARD7 JAK3 CBR1 ARL6IP5 STK26 UFM1 ARHGAP18 ESD ISOC2 HCFC1 RING1 PRELID1 MGME1 NDUFC2 CELF1 PNP IFT27 KBTBD2 TUFM TSTD1 CISD3 C17ORF67 BUD23 SCRN2 CHCHD7 FARSA RP11-29H23-1 LINC02481 TPP1 THYN1 ARHGEF1 GCLM PRPF39 TRAPPC6B SLF1 SMIM3 EVI2A AZIN2 ASH1L API5 COG2 SLC25A22 CHD4 WRAP73 CDC26 UBE2L3 EPC1 ATP2B1 CCAR2 RRN3 UBA1 CSNK1A1 CASP8 PELI1 CNOT2 SRP54 VAPA MRPS33 NDUFB11 NAF1 UBE2G2 DVL3 TLE5 CALCOCO2 UQCR10 SIRPG COX7B NDRG1 EIF2S3 H3C4 SMCHD1 RAN MAPKAPK5-AS1 TSG101 HAX1 ANKDD1A DCTN3 CD55 PSKH1 PET100 IMMT SRGAP2C H3-3A PIGH RBM48 FAM177A1 TEFM FBXL4 MID1IP1 PRR5L SLC25A11 NGDN NCAPD3 SLC9A3R1 CDIP1 GRK6 SDF4 DENND2D CASP7 EFR3A NFAT5 PRELID3B TEX30 CIRBP CSNK1G1 MCRS1 CHMP2B TMOD3 PRKX POLR2C NSFL1C POLR1H TAP2 PIANP ARL6IP6 RIPK1 TDP1 SCAF11 SNRPN ZNF335 USP3 UBQLN2 ARMCX3 HSDL1 RSU1 TXNL1 TMEM101 BAD KIF5B AP1AR FAM104A GBP4 AC058791 NDUFB1 DPP7 NDUFB2 RANGAP1 SETX MAF1 NME4 TRGV10 TACC3 AP5Z1 PITPNB EDEM1 CTD-2095E4 ANKRD28 MINDY2 YPEL4 IGHV4-34 TRIM44 ARL6IP4 GART RAD18 SF3B5 BZW2 ECD ZYX HECW2-AS1 CNTRL RECQL PARP9 UPP1 PYCR2 ARHGAP30 TBC1D22B RASGRP1 STIM1 ZNF263 ZNF230 LDLRAP1 PDCD2 FOXO1 UNC119B RNF114 YPEL5 IFNGR2 PRRC1 EIF4B PDXK RAB8B RICTOR ARL8A ESCO1 RBM38 PPIF GMPS HDDC2 FBXO42 PTP4A3 SERPINH1 TRIM69 WTAP PEMT VPS72 WAS PPP4R3A CDV3 CETN2 VAC14 TRIM21 DAZAP2 ARF5',\n",
       " 'cell_type': 'CD4-positive helper T cell',\n",
       " 'tissue': 'ileum',\n",
       " 'batch_condition': 'A29',\n",
       " 'organism': 'Homo sapiens',\n",
       " 'sex': 'female'}"
      ]
     },
     "execution_count": 13,
     "metadata": {},
     "output_type": "execute_result"
    }
   ],
   "source": [
    "sample_idx = 0\n",
    "arrow_ds[sample_idx]"
   ]
  },
  {
   "cell_type": "markdown",
   "id": "f766e103",
   "metadata": {
    "papermill": {
     "duration": 0.02472,
     "end_time": "2024-09-24T13:25:15.861941",
     "exception": false,
     "start_time": "2024-09-24T13:25:15.837221",
     "status": "completed"
    },
    "tags": []
   },
   "source": [
    "This time, we will leave off creating our CSData object until after we load our C2S model. This is because along with the model checkpoint, we saved the indices of train, val, and test set cells, which will allow us to select out test set cells for inference."
   ]
  },
  {
   "cell_type": "markdown",
   "id": "d42e64c8",
   "metadata": {
    "papermill": {
     "duration": 0.0239,
     "end_time": "2024-09-24T13:25:15.909807",
     "exception": false,
     "start_time": "2024-09-24T13:25:15.885907",
     "status": "completed"
    },
    "tags": []
   },
   "source": [
    "# Load C2S Model\n",
    "\n",
    "Now, we will load a C2S model which we will perform cell type-conditioned single cell generation with. We highly recommend loading either a model which you have finetuned to do cell generation with (see tutorial notebook 3 for how to perform finetuning) or the C2S-Pythia-410M conditional cell generation foundation model which was pretrained to do cell type-conditioned generation on a diverse array of datasets (details in the repo ReadME, Model Zoo section).\n",
    "\n",
    "For this tutorial, we will load the best checkpoint of a model which we finetuned to do cell type-conditioned cell generation with using tutorial notebook 3. This model was intitialized from the C2S-Pythia-410M conditional cell generation foundation model, and finetuned for cell generation on the training set of our immune tissue dataset. We load it here as follows:"
   ]
  },
  {
   "cell_type": "code",
   "execution_count": 14,
   "id": "9c58c4c8",
   "metadata": {
    "execution": {
     "iopub.execute_input": "2024-09-24T13:25:15.958869Z",
     "iopub.status.busy": "2024-09-24T13:25:15.958579Z",
     "iopub.status.idle": "2024-09-24T13:25:24.690583Z",
     "shell.execute_reply": "2024-09-24T13:25:24.689742Z"
    },
    "papermill": {
     "duration": 8.759117,
     "end_time": "2024-09-24T13:25:24.692713",
     "exception": false,
     "start_time": "2024-09-24T13:25:15.933596",
     "status": "completed"
    },
    "tags": []
   },
   "outputs": [
    {
     "name": "stdout",
     "output_type": "stream",
     "text": [
      "Using device: cpu\n"
     ]
    }
   ],
   "source": [
    "# Define CSModel object\n",
    "cell_type_prediction_model_path = \"/home/sr2464/palmer_scratch/C2S_Files_Syed/c2s_api_testing/csmodel_tutorial_3/2024-08-30-10_59_21_finetune_cell_type_generation/checkpoint-3700\"\n",
    "save_dir = \"/home/sr2464/palmer_scratch/C2S_Files_Syed/c2s_api_testing/csmodel_tutorial_5\"\n",
    "save_name = \"cell_type_generation_pythia_410M_inference\"\n",
    "csmodel = cs.CSModel(\n",
    "    model_name_or_path=cell_type_prediction_model_path,\n",
    "    save_dir=save_dir,\n",
    "    save_name=save_name\n",
    ")"
   ]
  },
  {
   "cell_type": "markdown",
   "id": "4e7d86a3",
   "metadata": {
    "papermill": {
     "duration": 0.024817,
     "end_time": "2024-09-24T13:25:24.743529",
     "exception": false,
     "start_time": "2024-09-24T13:25:24.718712",
     "status": "completed"
    },
    "tags": []
   },
   "source": [
    "We will also load the data split indices saved alongside the C2S model checkpoint, so that we know which cells were part of the training and validation set. We will do inference on unseen test set cells, which are 10% of the original data."
   ]
  },
  {
   "cell_type": "code",
   "execution_count": 15,
   "id": "d4a7d2c6",
   "metadata": {
    "execution": {
     "iopub.execute_input": "2024-09-24T13:25:24.793253Z",
     "iopub.status.busy": "2024-09-24T13:25:24.792947Z",
     "iopub.status.idle": "2024-09-24T13:25:24.798185Z",
     "shell.execute_reply": "2024-09-24T13:25:24.797655Z"
    },
    "papermill": {
     "duration": 0.031636,
     "end_time": "2024-09-24T13:25:24.799327",
     "exception": false,
     "start_time": "2024-09-24T13:25:24.767691",
     "status": "completed"
    },
    "tags": []
   },
   "outputs": [
    {
     "name": "stdout",
     "output_type": "stream",
     "text": [
      "/home/sr2464/palmer_scratch/C2S_Files_Syed/c2s_api_testing/csmodel_tutorial_3/2024-08-30-10_59_21_finetune_cell_type_generation/checkpoint-3700\n",
      "/home/sr2464/palmer_scratch/C2S_Files_Syed/c2s_api_testing/csmodel_tutorial_3/2024-08-30-10_59_21_finetune_cell_type_generation\n"
     ]
    }
   ],
   "source": [
    "base_path = \"/\".join(cell_type_prediction_model_path.split(\"/\")[:-1])\n",
    "print(cell_type_prediction_model_path)\n",
    "print(base_path)"
   ]
  },
  {
   "cell_type": "code",
   "execution_count": 16,
   "id": "3ee2e604",
   "metadata": {
    "execution": {
     "iopub.execute_input": "2024-09-24T13:25:24.850551Z",
     "iopub.status.busy": "2024-09-24T13:25:24.850265Z",
     "iopub.status.idle": "2024-09-24T13:25:24.860239Z",
     "shell.execute_reply": "2024-09-24T13:25:24.859663Z"
    },
    "papermill": {
     "duration": 0.037997,
     "end_time": "2024-09-24T13:25:24.861387",
     "exception": false,
     "start_time": "2024-09-24T13:25:24.823390",
     "status": "completed"
    },
    "tags": []
   },
   "outputs": [
    {
     "data": {
      "text/plain": [
       "dict_keys(['train', 'val', 'test'])"
      ]
     },
     "execution_count": 16,
     "metadata": {},
     "output_type": "execute_result"
    }
   ],
   "source": [
    "with open(os.path.join(base_path, 'data_split_indices_dict.pkl'), 'rb') as f:\n",
    "    data_split_indices_dict = pickle.load(f)\n",
    "data_split_indices_dict.keys()"
   ]
  },
  {
   "cell_type": "code",
   "execution_count": 17,
   "id": "c2fc91f5",
   "metadata": {
    "execution": {
     "iopub.execute_input": "2024-09-24T13:25:24.911953Z",
     "iopub.status.busy": "2024-09-24T13:25:24.911668Z",
     "iopub.status.idle": "2024-09-24T13:25:24.916207Z",
     "shell.execute_reply": "2024-09-24T13:25:24.915658Z"
    },
    "papermill": {
     "duration": 0.030987,
     "end_time": "2024-09-24T13:25:24.917306",
     "exception": false,
     "start_time": "2024-09-24T13:25:24.886319",
     "status": "completed"
    },
    "tags": []
   },
   "outputs": [
    {
     "name": "stdout",
     "output_type": "stream",
     "text": [
      "23847\n",
      "2948\n",
      "2978\n"
     ]
    }
   ],
   "source": [
    "print(len(data_split_indices_dict[\"train\"]))\n",
    "print(len(data_split_indices_dict[\"val\"]))\n",
    "print(len(data_split_indices_dict[\"test\"]))"
   ]
  },
  {
   "cell_type": "markdown",
   "id": "3ce96132",
   "metadata": {
    "papermill": {
     "duration": 0.025302,
     "end_time": "2024-09-24T13:25:24.967163",
     "exception": false,
     "start_time": "2024-09-24T13:25:24.941861",
     "status": "completed"
    },
    "tags": []
   },
   "source": [
    "Select out test set cells from full arrow dataset"
   ]
  },
  {
   "cell_type": "code",
   "execution_count": 18,
   "id": "596f0c03",
   "metadata": {
    "execution": {
     "iopub.execute_input": "2024-09-24T13:25:25.017201Z",
     "iopub.status.busy": "2024-09-24T13:25:25.016920Z",
     "iopub.status.idle": "2024-09-24T13:25:25.022110Z",
     "shell.execute_reply": "2024-09-24T13:25:25.021572Z"
    },
    "papermill": {
     "duration": 0.031882,
     "end_time": "2024-09-24T13:25:25.023211",
     "exception": false,
     "start_time": "2024-09-24T13:25:24.991329",
     "status": "completed"
    },
    "tags": []
   },
   "outputs": [
    {
     "data": {
      "text/plain": [
       "Dataset({\n",
       "    features: ['cell_name', 'cell_sentence', 'cell_type', 'tissue', 'batch_condition', 'organism', 'sex'],\n",
       "    num_rows: 29773\n",
       "})"
      ]
     },
     "execution_count": 18,
     "metadata": {},
     "output_type": "execute_result"
    }
   ],
   "source": [
    "arrow_ds"
   ]
  },
  {
   "cell_type": "code",
   "execution_count": 19,
   "id": "a4d2ff9f",
   "metadata": {
    "execution": {
     "iopub.execute_input": "2024-09-24T13:25:25.075096Z",
     "iopub.status.busy": "2024-09-24T13:25:25.074797Z",
     "iopub.status.idle": "2024-09-24T13:25:25.088886Z",
     "shell.execute_reply": "2024-09-24T13:25:25.088318Z"
    },
    "papermill": {
     "duration": 0.041987,
     "end_time": "2024-09-24T13:25:25.090048",
     "exception": false,
     "start_time": "2024-09-24T13:25:25.048061",
     "status": "completed"
    },
    "tags": []
   },
   "outputs": [
    {
     "data": {
      "text/plain": [
       "Dataset({\n",
       "    features: ['cell_name', 'cell_sentence', 'cell_type', 'tissue', 'batch_condition', 'organism', 'sex'],\n",
       "    num_rows: 2978\n",
       "})"
      ]
     },
     "execution_count": 19,
     "metadata": {},
     "output_type": "execute_result"
    }
   ],
   "source": [
    "test_ds = arrow_ds.select(data_split_indices_dict[\"test\"])\n",
    "test_ds"
   ]
  },
  {
   "cell_type": "markdown",
   "id": "92ed5b18",
   "metadata": {
    "papermill": {
     "duration": 0.024379,
     "end_time": "2024-09-24T13:25:25.138955",
     "exception": false,
     "start_time": "2024-09-24T13:25:25.114576",
     "status": "completed"
    },
    "tags": []
   },
   "source": [
    "Here, we do not need to create a CSData object. We can simply supply cell types from our test dataset to the cell generation function from tasks.py"
   ]
  },
  {
   "cell_type": "markdown",
   "id": "1842f396",
   "metadata": {
    "papermill": {
     "duration": 0.025578,
     "end_time": "2024-09-24T13:25:25.189365",
     "exception": false,
     "start_time": "2024-09-24T13:25:25.163787",
     "status": "completed"
    },
    "tags": []
   },
   "source": [
    "# Generate cells conditioned on cell type\n",
    "\n",
    "Now that we have loaded our finetuned cell generation model and have our test set cells, we will generate cells using the generate_cells_conditioned_on_cell_type() function from tasks.py, which takes as input a C2S model object as well as a list of cell type to prompt C2S to generate. The function will return 1 generated cell sentences for each cell type supplied, and will handle prompt formatting for us."
   ]
  },
  {
   "cell_type": "code",
   "execution_count": 20,
   "id": "f2685f0b",
   "metadata": {
    "execution": {
     "iopub.execute_input": "2024-09-24T13:25:25.240078Z",
     "iopub.status.busy": "2024-09-24T13:25:25.239786Z",
     "iopub.status.idle": "2024-09-24T13:25:25.273088Z",
     "shell.execute_reply": "2024-09-24T13:25:25.272526Z"
    },
    "papermill": {
     "duration": 0.06068,
     "end_time": "2024-09-24T13:25:25.274716",
     "exception": false,
     "start_time": "2024-09-24T13:25:25.214036",
     "status": "completed"
    },
    "tags": []
   },
   "outputs": [],
   "source": [
    "cell_types_to_generate = test_ds[\"cell_type\"]"
   ]
  },
  {
   "cell_type": "code",
   "execution_count": 21,
   "id": "a1678339",
   "metadata": {
    "execution": {
     "iopub.execute_input": "2024-09-24T13:25:25.326675Z",
     "iopub.status.busy": "2024-09-24T13:25:25.326386Z",
     "iopub.status.idle": "2024-09-24T13:25:25.332238Z",
     "shell.execute_reply": "2024-09-24T13:25:25.331716Z"
    },
    "papermill": {
     "duration": 0.033623,
     "end_time": "2024-09-24T13:25:25.333340",
     "exception": false,
     "start_time": "2024-09-24T13:25:25.299717",
     "status": "completed"
    },
    "tags": []
   },
   "outputs": [
    {
     "name": "stdout",
     "output_type": "stream",
     "text": [
      "2978\n"
     ]
    },
    {
     "data": {
      "text/plain": [
       "['CD8-positive, alpha-beta memory T cell',\n",
       " 'CD8-positive, alpha-beta memory T cell',\n",
       " 'CD8-positive, alpha-beta memory T cell']"
      ]
     },
     "execution_count": 21,
     "metadata": {},
     "output_type": "execute_result"
    }
   ],
   "source": [
    "print(len(cell_types_to_generate))\n",
    "cell_types_to_generate[:3]"
   ]
  },
  {
   "cell_type": "code",
   "execution_count": 22,
   "id": "ffc9aa61",
   "metadata": {
    "execution": {
     "iopub.execute_input": "2024-09-24T13:25:25.384632Z",
     "iopub.status.busy": "2024-09-24T13:25:25.384345Z",
     "iopub.status.idle": "2024-09-24T13:25:25.387564Z",
     "shell.execute_reply": "2024-09-24T13:25:25.387044Z"
    },
    "papermill": {
     "duration": 0.030428,
     "end_time": "2024-09-24T13:25:25.388667",
     "exception": false,
     "start_time": "2024-09-24T13:25:25.358239",
     "status": "completed"
    },
    "tags": []
   },
   "outputs": [],
   "source": [
    "inference_batch_size = 16"
   ]
  },
  {
   "cell_type": "code",
   "execution_count": 23,
   "id": "0e5dac99",
   "metadata": {
    "execution": {
     "iopub.execute_input": "2024-09-24T13:25:25.440025Z",
     "iopub.status.busy": "2024-09-24T13:25:25.439737Z",
     "iopub.status.idle": "2024-09-24T13:25:34.341329Z",
     "shell.execute_reply": "2024-09-24T13:25:34.339245Z"
    },
    "papermill": {
     "duration": 7.497883,
     "end_time": "2024-09-24T13:25:32.911227",
     "exception": false,
     "start_time": "2024-09-24T13:25:25.413344",
     "status": "completed"
    },
    "tags": []
   },
   "outputs": [
    {
     "name": "stdout",
     "output_type": "stream",
     "text": [
      "Reloading model from path on disk: /home/sr2464/palmer_scratch/C2S_Files_Syed/c2s_api_testing/csmodel_tutorial_5/cell_type_generation_pythia_410M_inference\n"
     ]
    },
    {
     "name": "stdout",
     "output_type": "stream",
     "text": [
      "Generating 2978 cells using CSModel...\n"
     ]
    },
    {
     "name": "stderr",
     "output_type": "stream",
     "text": [
      "\r",
      "  0%|                                                                                                                   | 0/2978 [00:00<?, ?it/s]"
     ]
    },
    {
     "name": "stderr",
     "output_type": "stream",
     "text": [
      "\r",
      "  1%|▌                                                                                                         | 15/2978 [00:04<14:43,  3.35it/s]"
     ]
    },
    {
     "name": "stderr",
     "output_type": "stream",
     "text": [
      "\n"
     ]
    },
    {
     "ename": "KeyboardInterrupt",
     "evalue": "",
     "output_type": "error",
     "traceback": [
      "\u001b[0;31m---------------------------------------------------------------------------\u001b[0m",
      "\u001b[0;31mKeyboardInterrupt\u001b[0m                         Traceback (most recent call last)",
      "Cell \u001b[0;32mIn[23], line 1\u001b[0m\n\u001b[0;32m----> 1\u001b[0m generated_cells \u001b[38;5;241m=\u001b[39m \u001b[43mgenerate_cells_conditioned_on_cell_type\u001b[49m\u001b[43m(\u001b[49m\n\u001b[1;32m      2\u001b[0m \u001b[43m    \u001b[49m\u001b[43mcsmodel\u001b[49m\u001b[38;5;241;43m=\u001b[39;49m\u001b[43mcsmodel\u001b[49m\u001b[43m,\u001b[49m\u001b[43m \u001b[49m\n\u001b[1;32m      3\u001b[0m \u001b[43m    \u001b[49m\u001b[43mcell_types_list\u001b[49m\u001b[38;5;241;43m=\u001b[39;49m\u001b[43mcell_types_to_generate\u001b[49m\u001b[43m,\u001b[49m\u001b[43m \u001b[49m\n\u001b[1;32m      4\u001b[0m \u001b[43m    \u001b[49m\u001b[43mn_genes\u001b[49m\u001b[38;5;241;43m=\u001b[39;49m\u001b[38;5;241;43m200\u001b[39;49m\u001b[43m,\u001b[49m\u001b[43m \u001b[49m\n\u001b[1;32m      5\u001b[0m \u001b[43m    \u001b[49m\u001b[43morganism\u001b[49m\u001b[38;5;241;43m=\u001b[39;49m\u001b[38;5;124;43m\"\u001b[39;49m\u001b[38;5;124;43mHomo sapiens\u001b[39;49m\u001b[38;5;124;43m\"\u001b[39;49m\u001b[43m,\u001b[49m\n\u001b[1;32m      6\u001b[0m \u001b[43m    \u001b[49m\u001b[43minference_batch_size\u001b[49m\u001b[38;5;241;43m=\u001b[39;49m\u001b[43minference_batch_size\u001b[49m\u001b[43m,\u001b[49m\n\u001b[1;32m      7\u001b[0m \u001b[43m    \u001b[49m\u001b[43mmax_num_tokens\u001b[49m\u001b[38;5;241;43m=\u001b[39;49m\u001b[38;5;241;43m1024\u001b[39;49m\u001b[43m,\u001b[49m\n\u001b[1;32m      8\u001b[0m \u001b[43m    \u001b[49m\u001b[43muse_flash_attn\u001b[49m\u001b[38;5;241;43m=\u001b[39;49m\u001b[38;5;28;43;01mFalse\u001b[39;49;00m\u001b[43m,\u001b[49m\u001b[43m  \u001b[49m\u001b[38;5;66;43;03m# at smaller sequence lengths (< 1024), flash attention doesn't significantly benefit text generation.\u001b[39;49;00m\n\u001b[1;32m      9\u001b[0m \u001b[43m    \u001b[49m\u001b[43mdo_sample\u001b[49m\u001b[38;5;241;43m=\u001b[39;49m\u001b[38;5;28;43;01mTrue\u001b[39;49;00m\u001b[43m,\u001b[49m\n\u001b[1;32m     10\u001b[0m \u001b[43m    \u001b[49m\u001b[43mtop_k\u001b[49m\u001b[38;5;241;43m=\u001b[39;49m\u001b[38;5;241;43m50\u001b[39;49m\u001b[43m,\u001b[49m\n\u001b[1;32m     11\u001b[0m \u001b[43m    \u001b[49m\u001b[43mtop_p\u001b[49m\u001b[38;5;241;43m=\u001b[39;49m\u001b[38;5;241;43m0.95\u001b[39;49m\u001b[43m,\u001b[49m\n\u001b[1;32m     12\u001b[0m \u001b[43m)\u001b[49m\n",
      "File \u001b[0;32m/vast/palmer/home.mccleary/dor3/cell2sentence/src/cell2sentence/tasks.py:90\u001b[0m, in \u001b[0;36mgenerate_cells_conditioned_on_cell_type\u001b[0;34m(csmodel, cell_types_list, n_genes, organism, inference_batch_size, max_num_tokens, use_flash_attn, **kwargs)\u001b[0m\n\u001b[1;32m     88\u001b[0m \u001b[38;5;66;03m# Inference on a batch of inputs\u001b[39;00m\n\u001b[1;32m     89\u001b[0m \u001b[38;5;28;01mif\u001b[39;00m (\u001b[38;5;28mlen\u001b[39m(batch_inputs) \u001b[38;5;241m==\u001b[39m inference_batch_size) \u001b[38;5;129;01mor\u001b[39;00m (idx \u001b[38;5;241m==\u001b[39m \u001b[38;5;28mlen\u001b[39m(cell_types_list)):\n\u001b[0;32m---> 90\u001b[0m     pred_list \u001b[38;5;241m=\u001b[39m \u001b[43mcsmodel\u001b[49m\u001b[38;5;241;43m.\u001b[39;49m\u001b[43mgenerate_from_prompt_batched\u001b[49m\u001b[43m(\u001b[49m\n\u001b[1;32m     91\u001b[0m \u001b[43m        \u001b[49m\u001b[43mmodel\u001b[49m\u001b[43m,\u001b[49m\u001b[43m \u001b[49m\n\u001b[1;32m     92\u001b[0m \u001b[43m        \u001b[49m\u001b[43mprompt_list\u001b[49m\u001b[38;5;241;43m=\u001b[39;49m\u001b[43mbatch_inputs\u001b[49m\u001b[43m,\u001b[49m\u001b[43m \u001b[49m\n\u001b[1;32m     93\u001b[0m \u001b[43m        \u001b[49m\u001b[43mmax_num_tokens\u001b[49m\u001b[38;5;241;43m=\u001b[39;49m\u001b[43mmax_num_tokens\u001b[49m\u001b[43m,\u001b[49m\n\u001b[1;32m     94\u001b[0m \u001b[43m        \u001b[49m\u001b[38;5;241;43m*\u001b[39;49m\u001b[38;5;241;43m*\u001b[39;49m\u001b[43mkwargs\u001b[49m\n\u001b[1;32m     95\u001b[0m \u001b[43m    \u001b[49m\u001b[43m)\u001b[49m\n\u001b[1;32m     96\u001b[0m     generated_cells \u001b[38;5;241m+\u001b[39m\u001b[38;5;241m=\u001b[39m pred_list\n\u001b[1;32m     97\u001b[0m     batch_inputs \u001b[38;5;241m=\u001b[39m []\n",
      "File \u001b[0;32m/vast/palmer/home.mccleary/dor3/cell2sentence/src/cell2sentence/csmodel.py:229\u001b[0m, in \u001b[0;36mCSModel.generate_from_prompt_batched\u001b[0;34m(self, model, prompt_list, max_num_tokens, **kwargs)\u001b[0m\n\u001b[1;32m    226\u001b[0m input_ids \u001b[38;5;241m=\u001b[39m tokens[\u001b[38;5;124m'\u001b[39m\u001b[38;5;124minput_ids\u001b[39m\u001b[38;5;124m'\u001b[39m]\u001b[38;5;241m.\u001b[39mto(\u001b[38;5;28mself\u001b[39m\u001b[38;5;241m.\u001b[39mdevice)\n\u001b[1;32m    227\u001b[0m attention_mask \u001b[38;5;241m=\u001b[39m tokens[\u001b[38;5;124m'\u001b[39m\u001b[38;5;124mattention_mask\u001b[39m\u001b[38;5;124m'\u001b[39m]\u001b[38;5;241m.\u001b[39mto(\u001b[38;5;28mself\u001b[39m\u001b[38;5;241m.\u001b[39mdevice)\n\u001b[0;32m--> 229\u001b[0m outputs \u001b[38;5;241m=\u001b[39m \u001b[43mmodel\u001b[49m\u001b[38;5;241;43m.\u001b[39;49m\u001b[43mgenerate\u001b[49m\u001b[43m(\u001b[49m\n\u001b[1;32m    230\u001b[0m \u001b[43m    \u001b[49m\u001b[43minput_ids\u001b[49m\u001b[38;5;241;43m=\u001b[39;49m\u001b[43minput_ids\u001b[49m\u001b[43m,\u001b[49m\n\u001b[1;32m    231\u001b[0m \u001b[43m    \u001b[49m\u001b[43mattention_mask\u001b[49m\u001b[38;5;241;43m=\u001b[39;49m\u001b[43mattention_mask\u001b[49m\u001b[43m,\u001b[49m\n\u001b[1;32m    232\u001b[0m \u001b[43m    \u001b[49m\u001b[43mmax_new_tokens\u001b[49m\u001b[38;5;241;43m=\u001b[39;49m\u001b[43mmax_num_tokens\u001b[49m\u001b[43m,\u001b[49m\n\u001b[1;32m    233\u001b[0m \u001b[43m    \u001b[49m\u001b[43mpad_token_id\u001b[49m\u001b[38;5;241;43m=\u001b[39;49m\u001b[38;5;28;43mself\u001b[39;49m\u001b[38;5;241;43m.\u001b[39;49m\u001b[43mtokenizer\u001b[49m\u001b[38;5;241;43m.\u001b[39;49m\u001b[43mpad_token_id\u001b[49m\u001b[43m,\u001b[49m\n\u001b[1;32m    234\u001b[0m \u001b[43m    \u001b[49m\u001b[38;5;241;43m*\u001b[39;49m\u001b[38;5;241;43m*\u001b[39;49m\u001b[43mkwargs\u001b[49m\n\u001b[1;32m    235\u001b[0m \u001b[43m\u001b[49m\u001b[43m)\u001b[49m\n\u001b[1;32m    236\u001b[0m pred_list \u001b[38;5;241m=\u001b[39m \u001b[38;5;28mself\u001b[39m\u001b[38;5;241m.\u001b[39mtokenizer\u001b[38;5;241m.\u001b[39mbatch_decode(outputs, skip_special_tokens\u001b[38;5;241m=\u001b[39m\u001b[38;5;28;01mTrue\u001b[39;00m)\n\u001b[1;32m    237\u001b[0m predictions_without_input_prompt \u001b[38;5;241m=\u001b[39m []\n",
      "File \u001b[0;32m~/.conda/envs/cell2sentence/lib/python3.8/site-packages/torch/utils/_contextlib.py:116\u001b[0m, in \u001b[0;36mcontext_decorator.<locals>.decorate_context\u001b[0;34m(*args, **kwargs)\u001b[0m\n\u001b[1;32m    113\u001b[0m \u001b[38;5;129m@functools\u001b[39m\u001b[38;5;241m.\u001b[39mwraps(func)\n\u001b[1;32m    114\u001b[0m \u001b[38;5;28;01mdef\u001b[39;00m \u001b[38;5;21mdecorate_context\u001b[39m(\u001b[38;5;241m*\u001b[39margs, \u001b[38;5;241m*\u001b[39m\u001b[38;5;241m*\u001b[39mkwargs):\n\u001b[1;32m    115\u001b[0m     \u001b[38;5;28;01mwith\u001b[39;00m ctx_factory():\n\u001b[0;32m--> 116\u001b[0m         \u001b[38;5;28;01mreturn\u001b[39;00m \u001b[43mfunc\u001b[49m\u001b[43m(\u001b[49m\u001b[38;5;241;43m*\u001b[39;49m\u001b[43margs\u001b[49m\u001b[43m,\u001b[49m\u001b[43m \u001b[49m\u001b[38;5;241;43m*\u001b[39;49m\u001b[38;5;241;43m*\u001b[39;49m\u001b[43mkwargs\u001b[49m\u001b[43m)\u001b[49m\n",
      "File \u001b[0;32m~/.conda/envs/cell2sentence/lib/python3.8/site-packages/transformers/generation/utils.py:2024\u001b[0m, in \u001b[0;36mGenerationMixin.generate\u001b[0;34m(self, inputs, generation_config, logits_processor, stopping_criteria, prefix_allowed_tokens_fn, synced_gpus, assistant_model, streamer, negative_prompt_ids, negative_prompt_attention_mask, **kwargs)\u001b[0m\n\u001b[1;32m   2016\u001b[0m     input_ids, model_kwargs \u001b[38;5;241m=\u001b[39m \u001b[38;5;28mself\u001b[39m\u001b[38;5;241m.\u001b[39m_expand_inputs_for_generation(\n\u001b[1;32m   2017\u001b[0m         input_ids\u001b[38;5;241m=\u001b[39minput_ids,\n\u001b[1;32m   2018\u001b[0m         expand_size\u001b[38;5;241m=\u001b[39mgeneration_config\u001b[38;5;241m.\u001b[39mnum_return_sequences,\n\u001b[1;32m   2019\u001b[0m         is_encoder_decoder\u001b[38;5;241m=\u001b[39m\u001b[38;5;28mself\u001b[39m\u001b[38;5;241m.\u001b[39mconfig\u001b[38;5;241m.\u001b[39mis_encoder_decoder,\n\u001b[1;32m   2020\u001b[0m         \u001b[38;5;241m*\u001b[39m\u001b[38;5;241m*\u001b[39mmodel_kwargs,\n\u001b[1;32m   2021\u001b[0m     )\n\u001b[1;32m   2023\u001b[0m     \u001b[38;5;66;03m# 13. run sample (it degenerates to greedy search when `generation_config.do_sample=False`)\u001b[39;00m\n\u001b[0;32m-> 2024\u001b[0m     result \u001b[38;5;241m=\u001b[39m \u001b[38;5;28;43mself\u001b[39;49m\u001b[38;5;241;43m.\u001b[39;49m\u001b[43m_sample\u001b[49m\u001b[43m(\u001b[49m\n\u001b[1;32m   2025\u001b[0m \u001b[43m        \u001b[49m\u001b[43minput_ids\u001b[49m\u001b[43m,\u001b[49m\n\u001b[1;32m   2026\u001b[0m \u001b[43m        \u001b[49m\u001b[43mlogits_processor\u001b[49m\u001b[38;5;241;43m=\u001b[39;49m\u001b[43mprepared_logits_processor\u001b[49m\u001b[43m,\u001b[49m\n\u001b[1;32m   2027\u001b[0m \u001b[43m        \u001b[49m\u001b[43mlogits_warper\u001b[49m\u001b[38;5;241;43m=\u001b[39;49m\u001b[43mprepared_logits_warper\u001b[49m\u001b[43m,\u001b[49m\n\u001b[1;32m   2028\u001b[0m \u001b[43m        \u001b[49m\u001b[43mstopping_criteria\u001b[49m\u001b[38;5;241;43m=\u001b[39;49m\u001b[43mprepared_stopping_criteria\u001b[49m\u001b[43m,\u001b[49m\n\u001b[1;32m   2029\u001b[0m \u001b[43m        \u001b[49m\u001b[43mgeneration_config\u001b[49m\u001b[38;5;241;43m=\u001b[39;49m\u001b[43mgeneration_config\u001b[49m\u001b[43m,\u001b[49m\n\u001b[1;32m   2030\u001b[0m \u001b[43m        \u001b[49m\u001b[43msynced_gpus\u001b[49m\u001b[38;5;241;43m=\u001b[39;49m\u001b[43msynced_gpus\u001b[49m\u001b[43m,\u001b[49m\n\u001b[1;32m   2031\u001b[0m \u001b[43m        \u001b[49m\u001b[43mstreamer\u001b[49m\u001b[38;5;241;43m=\u001b[39;49m\u001b[43mstreamer\u001b[49m\u001b[43m,\u001b[49m\n\u001b[1;32m   2032\u001b[0m \u001b[43m        \u001b[49m\u001b[38;5;241;43m*\u001b[39;49m\u001b[38;5;241;43m*\u001b[39;49m\u001b[43mmodel_kwargs\u001b[49m\u001b[43m,\u001b[49m\n\u001b[1;32m   2033\u001b[0m \u001b[43m    \u001b[49m\u001b[43m)\u001b[49m\n\u001b[1;32m   2035\u001b[0m \u001b[38;5;28;01melif\u001b[39;00m generation_mode \u001b[38;5;129;01min\u001b[39;00m (GenerationMode\u001b[38;5;241m.\u001b[39mBEAM_SAMPLE, GenerationMode\u001b[38;5;241m.\u001b[39mBEAM_SEARCH):\n\u001b[1;32m   2036\u001b[0m     \u001b[38;5;66;03m# 11. prepare logits warper\u001b[39;00m\n\u001b[1;32m   2037\u001b[0m     prepared_logits_warper \u001b[38;5;241m=\u001b[39m (\n\u001b[1;32m   2038\u001b[0m         \u001b[38;5;28mself\u001b[39m\u001b[38;5;241m.\u001b[39m_get_logits_warper(generation_config, device\u001b[38;5;241m=\u001b[39minput_ids\u001b[38;5;241m.\u001b[39mdevice)\n\u001b[1;32m   2039\u001b[0m         \u001b[38;5;28;01mif\u001b[39;00m generation_config\u001b[38;5;241m.\u001b[39mdo_sample\n\u001b[1;32m   2040\u001b[0m         \u001b[38;5;28;01melse\u001b[39;00m \u001b[38;5;28;01mNone\u001b[39;00m\n\u001b[1;32m   2041\u001b[0m     )\n",
      "File \u001b[0;32m~/.conda/envs/cell2sentence/lib/python3.8/site-packages/transformers/generation/utils.py:2982\u001b[0m, in \u001b[0;36mGenerationMixin._sample\u001b[0;34m(self, input_ids, logits_processor, stopping_criteria, generation_config, synced_gpus, streamer, logits_warper, **model_kwargs)\u001b[0m\n\u001b[1;32m   2979\u001b[0m model_inputs\u001b[38;5;241m.\u001b[39mupdate({\u001b[38;5;124m\"\u001b[39m\u001b[38;5;124moutput_hidden_states\u001b[39m\u001b[38;5;124m\"\u001b[39m: output_hidden_states} \u001b[38;5;28;01mif\u001b[39;00m output_hidden_states \u001b[38;5;28;01melse\u001b[39;00m {})\n\u001b[1;32m   2981\u001b[0m \u001b[38;5;66;03m# forward pass to get next token\u001b[39;00m\n\u001b[0;32m-> 2982\u001b[0m outputs \u001b[38;5;241m=\u001b[39m \u001b[38;5;28;43mself\u001b[39;49m\u001b[43m(\u001b[49m\u001b[38;5;241;43m*\u001b[39;49m\u001b[38;5;241;43m*\u001b[39;49m\u001b[43mmodel_inputs\u001b[49m\u001b[43m,\u001b[49m\u001b[43m \u001b[49m\u001b[43mreturn_dict\u001b[49m\u001b[38;5;241;43m=\u001b[39;49m\u001b[38;5;28;43;01mTrue\u001b[39;49;00m\u001b[43m)\u001b[49m\n\u001b[1;32m   2984\u001b[0m \u001b[38;5;28;01mif\u001b[39;00m synced_gpus \u001b[38;5;129;01mand\u001b[39;00m this_peer_finished:\n\u001b[1;32m   2985\u001b[0m     \u001b[38;5;28;01mcontinue\u001b[39;00m  \u001b[38;5;66;03m# don't waste resources running the code we don't need\u001b[39;00m\n",
      "File \u001b[0;32m~/.conda/envs/cell2sentence/lib/python3.8/site-packages/torch/nn/modules/module.py:1553\u001b[0m, in \u001b[0;36mModule._wrapped_call_impl\u001b[0;34m(self, *args, **kwargs)\u001b[0m\n\u001b[1;32m   1551\u001b[0m     \u001b[38;5;28;01mreturn\u001b[39;00m \u001b[38;5;28mself\u001b[39m\u001b[38;5;241m.\u001b[39m_compiled_call_impl(\u001b[38;5;241m*\u001b[39margs, \u001b[38;5;241m*\u001b[39m\u001b[38;5;241m*\u001b[39mkwargs)  \u001b[38;5;66;03m# type: ignore[misc]\u001b[39;00m\n\u001b[1;32m   1552\u001b[0m \u001b[38;5;28;01melse\u001b[39;00m:\n\u001b[0;32m-> 1553\u001b[0m     \u001b[38;5;28;01mreturn\u001b[39;00m \u001b[38;5;28;43mself\u001b[39;49m\u001b[38;5;241;43m.\u001b[39;49m\u001b[43m_call_impl\u001b[49m\u001b[43m(\u001b[49m\u001b[38;5;241;43m*\u001b[39;49m\u001b[43margs\u001b[49m\u001b[43m,\u001b[49m\u001b[43m \u001b[49m\u001b[38;5;241;43m*\u001b[39;49m\u001b[38;5;241;43m*\u001b[39;49m\u001b[43mkwargs\u001b[49m\u001b[43m)\u001b[49m\n",
      "File \u001b[0;32m~/.conda/envs/cell2sentence/lib/python3.8/site-packages/torch/nn/modules/module.py:1562\u001b[0m, in \u001b[0;36mModule._call_impl\u001b[0;34m(self, *args, **kwargs)\u001b[0m\n\u001b[1;32m   1557\u001b[0m \u001b[38;5;66;03m# If we don't have any hooks, we want to skip the rest of the logic in\u001b[39;00m\n\u001b[1;32m   1558\u001b[0m \u001b[38;5;66;03m# this function, and just call forward.\u001b[39;00m\n\u001b[1;32m   1559\u001b[0m \u001b[38;5;28;01mif\u001b[39;00m \u001b[38;5;129;01mnot\u001b[39;00m (\u001b[38;5;28mself\u001b[39m\u001b[38;5;241m.\u001b[39m_backward_hooks \u001b[38;5;129;01mor\u001b[39;00m \u001b[38;5;28mself\u001b[39m\u001b[38;5;241m.\u001b[39m_backward_pre_hooks \u001b[38;5;129;01mor\u001b[39;00m \u001b[38;5;28mself\u001b[39m\u001b[38;5;241m.\u001b[39m_forward_hooks \u001b[38;5;129;01mor\u001b[39;00m \u001b[38;5;28mself\u001b[39m\u001b[38;5;241m.\u001b[39m_forward_pre_hooks\n\u001b[1;32m   1560\u001b[0m         \u001b[38;5;129;01mor\u001b[39;00m _global_backward_pre_hooks \u001b[38;5;129;01mor\u001b[39;00m _global_backward_hooks\n\u001b[1;32m   1561\u001b[0m         \u001b[38;5;129;01mor\u001b[39;00m _global_forward_hooks \u001b[38;5;129;01mor\u001b[39;00m _global_forward_pre_hooks):\n\u001b[0;32m-> 1562\u001b[0m     \u001b[38;5;28;01mreturn\u001b[39;00m \u001b[43mforward_call\u001b[49m\u001b[43m(\u001b[49m\u001b[38;5;241;43m*\u001b[39;49m\u001b[43margs\u001b[49m\u001b[43m,\u001b[49m\u001b[43m \u001b[49m\u001b[38;5;241;43m*\u001b[39;49m\u001b[38;5;241;43m*\u001b[39;49m\u001b[43mkwargs\u001b[49m\u001b[43m)\u001b[49m\n\u001b[1;32m   1564\u001b[0m \u001b[38;5;28;01mtry\u001b[39;00m:\n\u001b[1;32m   1565\u001b[0m     result \u001b[38;5;241m=\u001b[39m \u001b[38;5;28;01mNone\u001b[39;00m\n",
      "File \u001b[0;32m~/.conda/envs/cell2sentence/lib/python3.8/site-packages/transformers/models/gpt_neox/modeling_gpt_neox.py:989\u001b[0m, in \u001b[0;36mGPTNeoXForCausalLM.forward\u001b[0;34m(self, input_ids, attention_mask, position_ids, inputs_embeds, head_mask, past_key_values, labels, use_cache, output_attentions, output_hidden_states, return_dict)\u001b[0m\n\u001b[1;32m    948\u001b[0m \u001b[38;5;250m\u001b[39m\u001b[38;5;124mr\u001b[39m\u001b[38;5;124;03m\"\"\"\u001b[39;00m\n\u001b[1;32m    949\u001b[0m \u001b[38;5;124;03mpast_key_values (`tuple(tuple(torch.FloatTensor))`, *optional*, returned when `use_cache=True` is passed or when `config.use_cache=True`):\u001b[39;00m\n\u001b[1;32m    950\u001b[0m \u001b[38;5;124;03m    Tuple of `tuple(torch.FloatTensor)` of length `config.n_layers`, with each tuple having 2 tensors of shape\u001b[39;00m\n\u001b[0;32m   (...)\u001b[0m\n\u001b[1;32m    985\u001b[0m \u001b[38;5;124;03m>>> prediction_logits = outputs.logits\u001b[39;00m\n\u001b[1;32m    986\u001b[0m \u001b[38;5;124;03m```\"\"\"\u001b[39;00m\n\u001b[1;32m    987\u001b[0m return_dict \u001b[38;5;241m=\u001b[39m return_dict \u001b[38;5;28;01mif\u001b[39;00m return_dict \u001b[38;5;129;01mis\u001b[39;00m \u001b[38;5;129;01mnot\u001b[39;00m \u001b[38;5;28;01mNone\u001b[39;00m \u001b[38;5;28;01melse\u001b[39;00m \u001b[38;5;28mself\u001b[39m\u001b[38;5;241m.\u001b[39mconfig\u001b[38;5;241m.\u001b[39muse_return_dict\n\u001b[0;32m--> 989\u001b[0m outputs \u001b[38;5;241m=\u001b[39m \u001b[38;5;28;43mself\u001b[39;49m\u001b[38;5;241;43m.\u001b[39;49m\u001b[43mgpt_neox\u001b[49m\u001b[43m(\u001b[49m\n\u001b[1;32m    990\u001b[0m \u001b[43m    \u001b[49m\u001b[43minput_ids\u001b[49m\u001b[43m,\u001b[49m\n\u001b[1;32m    991\u001b[0m \u001b[43m    \u001b[49m\u001b[43mattention_mask\u001b[49m\u001b[38;5;241;43m=\u001b[39;49m\u001b[43mattention_mask\u001b[49m\u001b[43m,\u001b[49m\n\u001b[1;32m    992\u001b[0m \u001b[43m    \u001b[49m\u001b[43mposition_ids\u001b[49m\u001b[38;5;241;43m=\u001b[39;49m\u001b[43mposition_ids\u001b[49m\u001b[43m,\u001b[49m\n\u001b[1;32m    993\u001b[0m \u001b[43m    \u001b[49m\u001b[43mhead_mask\u001b[49m\u001b[38;5;241;43m=\u001b[39;49m\u001b[43mhead_mask\u001b[49m\u001b[43m,\u001b[49m\n\u001b[1;32m    994\u001b[0m \u001b[43m    \u001b[49m\u001b[43minputs_embeds\u001b[49m\u001b[38;5;241;43m=\u001b[39;49m\u001b[43minputs_embeds\u001b[49m\u001b[43m,\u001b[49m\n\u001b[1;32m    995\u001b[0m \u001b[43m    \u001b[49m\u001b[43mpast_key_values\u001b[49m\u001b[38;5;241;43m=\u001b[39;49m\u001b[43mpast_key_values\u001b[49m\u001b[43m,\u001b[49m\n\u001b[1;32m    996\u001b[0m \u001b[43m    \u001b[49m\u001b[43muse_cache\u001b[49m\u001b[38;5;241;43m=\u001b[39;49m\u001b[43muse_cache\u001b[49m\u001b[43m,\u001b[49m\n\u001b[1;32m    997\u001b[0m \u001b[43m    \u001b[49m\u001b[43moutput_attentions\u001b[49m\u001b[38;5;241;43m=\u001b[39;49m\u001b[43moutput_attentions\u001b[49m\u001b[43m,\u001b[49m\n\u001b[1;32m    998\u001b[0m \u001b[43m    \u001b[49m\u001b[43moutput_hidden_states\u001b[49m\u001b[38;5;241;43m=\u001b[39;49m\u001b[43moutput_hidden_states\u001b[49m\u001b[43m,\u001b[49m\n\u001b[1;32m    999\u001b[0m \u001b[43m    \u001b[49m\u001b[43mreturn_dict\u001b[49m\u001b[38;5;241;43m=\u001b[39;49m\u001b[43mreturn_dict\u001b[49m\u001b[43m,\u001b[49m\n\u001b[1;32m   1000\u001b[0m \u001b[43m\u001b[49m\u001b[43m)\u001b[49m\n\u001b[1;32m   1002\u001b[0m hidden_states \u001b[38;5;241m=\u001b[39m outputs[\u001b[38;5;241m0\u001b[39m]\n\u001b[1;32m   1003\u001b[0m lm_logits \u001b[38;5;241m=\u001b[39m \u001b[38;5;28mself\u001b[39m\u001b[38;5;241m.\u001b[39membed_out(hidden_states)\n",
      "File \u001b[0;32m~/.conda/envs/cell2sentence/lib/python3.8/site-packages/torch/nn/modules/module.py:1553\u001b[0m, in \u001b[0;36mModule._wrapped_call_impl\u001b[0;34m(self, *args, **kwargs)\u001b[0m\n\u001b[1;32m   1551\u001b[0m     \u001b[38;5;28;01mreturn\u001b[39;00m \u001b[38;5;28mself\u001b[39m\u001b[38;5;241m.\u001b[39m_compiled_call_impl(\u001b[38;5;241m*\u001b[39margs, \u001b[38;5;241m*\u001b[39m\u001b[38;5;241m*\u001b[39mkwargs)  \u001b[38;5;66;03m# type: ignore[misc]\u001b[39;00m\n\u001b[1;32m   1552\u001b[0m \u001b[38;5;28;01melse\u001b[39;00m:\n\u001b[0;32m-> 1553\u001b[0m     \u001b[38;5;28;01mreturn\u001b[39;00m \u001b[38;5;28;43mself\u001b[39;49m\u001b[38;5;241;43m.\u001b[39;49m\u001b[43m_call_impl\u001b[49m\u001b[43m(\u001b[49m\u001b[38;5;241;43m*\u001b[39;49m\u001b[43margs\u001b[49m\u001b[43m,\u001b[49m\u001b[43m \u001b[49m\u001b[38;5;241;43m*\u001b[39;49m\u001b[38;5;241;43m*\u001b[39;49m\u001b[43mkwargs\u001b[49m\u001b[43m)\u001b[49m\n",
      "File \u001b[0;32m~/.conda/envs/cell2sentence/lib/python3.8/site-packages/torch/nn/modules/module.py:1562\u001b[0m, in \u001b[0;36mModule._call_impl\u001b[0;34m(self, *args, **kwargs)\u001b[0m\n\u001b[1;32m   1557\u001b[0m \u001b[38;5;66;03m# If we don't have any hooks, we want to skip the rest of the logic in\u001b[39;00m\n\u001b[1;32m   1558\u001b[0m \u001b[38;5;66;03m# this function, and just call forward.\u001b[39;00m\n\u001b[1;32m   1559\u001b[0m \u001b[38;5;28;01mif\u001b[39;00m \u001b[38;5;129;01mnot\u001b[39;00m (\u001b[38;5;28mself\u001b[39m\u001b[38;5;241m.\u001b[39m_backward_hooks \u001b[38;5;129;01mor\u001b[39;00m \u001b[38;5;28mself\u001b[39m\u001b[38;5;241m.\u001b[39m_backward_pre_hooks \u001b[38;5;129;01mor\u001b[39;00m \u001b[38;5;28mself\u001b[39m\u001b[38;5;241m.\u001b[39m_forward_hooks \u001b[38;5;129;01mor\u001b[39;00m \u001b[38;5;28mself\u001b[39m\u001b[38;5;241m.\u001b[39m_forward_pre_hooks\n\u001b[1;32m   1560\u001b[0m         \u001b[38;5;129;01mor\u001b[39;00m _global_backward_pre_hooks \u001b[38;5;129;01mor\u001b[39;00m _global_backward_hooks\n\u001b[1;32m   1561\u001b[0m         \u001b[38;5;129;01mor\u001b[39;00m _global_forward_hooks \u001b[38;5;129;01mor\u001b[39;00m _global_forward_pre_hooks):\n\u001b[0;32m-> 1562\u001b[0m     \u001b[38;5;28;01mreturn\u001b[39;00m \u001b[43mforward_call\u001b[49m\u001b[43m(\u001b[49m\u001b[38;5;241;43m*\u001b[39;49m\u001b[43margs\u001b[49m\u001b[43m,\u001b[49m\u001b[43m \u001b[49m\u001b[38;5;241;43m*\u001b[39;49m\u001b[38;5;241;43m*\u001b[39;49m\u001b[43mkwargs\u001b[49m\u001b[43m)\u001b[49m\n\u001b[1;32m   1564\u001b[0m \u001b[38;5;28;01mtry\u001b[39;00m:\n\u001b[1;32m   1565\u001b[0m     result \u001b[38;5;241m=\u001b[39m \u001b[38;5;28;01mNone\u001b[39;00m\n",
      "File \u001b[0;32m~/.conda/envs/cell2sentence/lib/python3.8/site-packages/transformers/models/gpt_neox/modeling_gpt_neox.py:880\u001b[0m, in \u001b[0;36mGPTNeoXModel.forward\u001b[0;34m(self, input_ids, attention_mask, position_ids, head_mask, inputs_embeds, past_key_values, use_cache, output_attentions, output_hidden_states, return_dict)\u001b[0m\n\u001b[1;32m    869\u001b[0m     outputs \u001b[38;5;241m=\u001b[39m \u001b[38;5;28mself\u001b[39m\u001b[38;5;241m.\u001b[39m_gradient_checkpointing_func(\n\u001b[1;32m    870\u001b[0m         layer\u001b[38;5;241m.\u001b[39m\u001b[38;5;21m__call__\u001b[39m,\n\u001b[1;32m    871\u001b[0m         hidden_states,\n\u001b[0;32m   (...)\u001b[0m\n\u001b[1;32m    877\u001b[0m         output_attentions,\n\u001b[1;32m    878\u001b[0m     )\n\u001b[1;32m    879\u001b[0m \u001b[38;5;28;01melse\u001b[39;00m:\n\u001b[0;32m--> 880\u001b[0m     outputs \u001b[38;5;241m=\u001b[39m \u001b[43mlayer\u001b[49m\u001b[43m(\u001b[49m\n\u001b[1;32m    881\u001b[0m \u001b[43m        \u001b[49m\u001b[43mhidden_states\u001b[49m\u001b[43m,\u001b[49m\n\u001b[1;32m    882\u001b[0m \u001b[43m        \u001b[49m\u001b[43mattention_mask\u001b[49m\u001b[38;5;241;43m=\u001b[39;49m\u001b[43mattention_mask\u001b[49m\u001b[43m,\u001b[49m\n\u001b[1;32m    883\u001b[0m \u001b[43m        \u001b[49m\u001b[43mposition_ids\u001b[49m\u001b[38;5;241;43m=\u001b[39;49m\u001b[43mposition_ids\u001b[49m\u001b[43m,\u001b[49m\n\u001b[1;32m    884\u001b[0m \u001b[43m        \u001b[49m\u001b[43mhead_mask\u001b[49m\u001b[38;5;241;43m=\u001b[39;49m\u001b[43mhead_mask\u001b[49m\u001b[43m[\u001b[49m\u001b[43mi\u001b[49m\u001b[43m]\u001b[49m\u001b[43m,\u001b[49m\n\u001b[1;32m    885\u001b[0m \u001b[43m        \u001b[49m\u001b[43mlayer_past\u001b[49m\u001b[38;5;241;43m=\u001b[39;49m\u001b[43mlayer_past\u001b[49m\u001b[43m,\u001b[49m\n\u001b[1;32m    886\u001b[0m \u001b[43m        \u001b[49m\u001b[43muse_cache\u001b[49m\u001b[38;5;241;43m=\u001b[39;49m\u001b[43muse_cache\u001b[49m\u001b[43m,\u001b[49m\n\u001b[1;32m    887\u001b[0m \u001b[43m        \u001b[49m\u001b[43moutput_attentions\u001b[49m\u001b[38;5;241;43m=\u001b[39;49m\u001b[43moutput_attentions\u001b[49m\u001b[43m,\u001b[49m\n\u001b[1;32m    888\u001b[0m \u001b[43m    \u001b[49m\u001b[43m)\u001b[49m\n\u001b[1;32m    889\u001b[0m hidden_states \u001b[38;5;241m=\u001b[39m outputs[\u001b[38;5;241m0\u001b[39m]\n\u001b[1;32m    890\u001b[0m \u001b[38;5;28;01mif\u001b[39;00m use_cache \u001b[38;5;129;01mis\u001b[39;00m \u001b[38;5;28;01mTrue\u001b[39;00m:\n",
      "File \u001b[0;32m~/.conda/envs/cell2sentence/lib/python3.8/site-packages/torch/nn/modules/module.py:1553\u001b[0m, in \u001b[0;36mModule._wrapped_call_impl\u001b[0;34m(self, *args, **kwargs)\u001b[0m\n\u001b[1;32m   1551\u001b[0m     \u001b[38;5;28;01mreturn\u001b[39;00m \u001b[38;5;28mself\u001b[39m\u001b[38;5;241m.\u001b[39m_compiled_call_impl(\u001b[38;5;241m*\u001b[39margs, \u001b[38;5;241m*\u001b[39m\u001b[38;5;241m*\u001b[39mkwargs)  \u001b[38;5;66;03m# type: ignore[misc]\u001b[39;00m\n\u001b[1;32m   1552\u001b[0m \u001b[38;5;28;01melse\u001b[39;00m:\n\u001b[0;32m-> 1553\u001b[0m     \u001b[38;5;28;01mreturn\u001b[39;00m \u001b[38;5;28;43mself\u001b[39;49m\u001b[38;5;241;43m.\u001b[39;49m\u001b[43m_call_impl\u001b[49m\u001b[43m(\u001b[49m\u001b[38;5;241;43m*\u001b[39;49m\u001b[43margs\u001b[49m\u001b[43m,\u001b[49m\u001b[43m \u001b[49m\u001b[38;5;241;43m*\u001b[39;49m\u001b[38;5;241;43m*\u001b[39;49m\u001b[43mkwargs\u001b[49m\u001b[43m)\u001b[49m\n",
      "File \u001b[0;32m~/.conda/envs/cell2sentence/lib/python3.8/site-packages/torch/nn/modules/module.py:1562\u001b[0m, in \u001b[0;36mModule._call_impl\u001b[0;34m(self, *args, **kwargs)\u001b[0m\n\u001b[1;32m   1557\u001b[0m \u001b[38;5;66;03m# If we don't have any hooks, we want to skip the rest of the logic in\u001b[39;00m\n\u001b[1;32m   1558\u001b[0m \u001b[38;5;66;03m# this function, and just call forward.\u001b[39;00m\n\u001b[1;32m   1559\u001b[0m \u001b[38;5;28;01mif\u001b[39;00m \u001b[38;5;129;01mnot\u001b[39;00m (\u001b[38;5;28mself\u001b[39m\u001b[38;5;241m.\u001b[39m_backward_hooks \u001b[38;5;129;01mor\u001b[39;00m \u001b[38;5;28mself\u001b[39m\u001b[38;5;241m.\u001b[39m_backward_pre_hooks \u001b[38;5;129;01mor\u001b[39;00m \u001b[38;5;28mself\u001b[39m\u001b[38;5;241m.\u001b[39m_forward_hooks \u001b[38;5;129;01mor\u001b[39;00m \u001b[38;5;28mself\u001b[39m\u001b[38;5;241m.\u001b[39m_forward_pre_hooks\n\u001b[1;32m   1560\u001b[0m         \u001b[38;5;129;01mor\u001b[39;00m _global_backward_pre_hooks \u001b[38;5;129;01mor\u001b[39;00m _global_backward_hooks\n\u001b[1;32m   1561\u001b[0m         \u001b[38;5;129;01mor\u001b[39;00m _global_forward_hooks \u001b[38;5;129;01mor\u001b[39;00m _global_forward_pre_hooks):\n\u001b[0;32m-> 1562\u001b[0m     \u001b[38;5;28;01mreturn\u001b[39;00m \u001b[43mforward_call\u001b[49m\u001b[43m(\u001b[49m\u001b[38;5;241;43m*\u001b[39;49m\u001b[43margs\u001b[49m\u001b[43m,\u001b[49m\u001b[43m \u001b[49m\u001b[38;5;241;43m*\u001b[39;49m\u001b[38;5;241;43m*\u001b[39;49m\u001b[43mkwargs\u001b[49m\u001b[43m)\u001b[49m\n\u001b[1;32m   1564\u001b[0m \u001b[38;5;28;01mtry\u001b[39;00m:\n\u001b[1;32m   1565\u001b[0m     result \u001b[38;5;241m=\u001b[39m \u001b[38;5;28;01mNone\u001b[39;00m\n",
      "File \u001b[0;32m~/.conda/envs/cell2sentence/lib/python3.8/site-packages/transformers/models/gpt_neox/modeling_gpt_neox.py:663\u001b[0m, in \u001b[0;36mGPTNeoXLayer.forward\u001b[0;34m(self, hidden_states, attention_mask, position_ids, head_mask, use_cache, layer_past, output_attentions)\u001b[0m\n\u001b[1;32m    658\u001b[0m outputs \u001b[38;5;241m=\u001b[39m attention_layer_outputs[\u001b[38;5;241m1\u001b[39m:]\n\u001b[1;32m    660\u001b[0m \u001b[38;5;28;01mif\u001b[39;00m \u001b[38;5;28mself\u001b[39m\u001b[38;5;241m.\u001b[39muse_parallel_residual:\n\u001b[1;32m    661\u001b[0m     \u001b[38;5;66;03m# pseudocode:\u001b[39;00m\n\u001b[1;32m    662\u001b[0m     \u001b[38;5;66;03m# x = x + attn(ln1(x)) + mlp(ln2(x))\u001b[39;00m\n\u001b[0;32m--> 663\u001b[0m     mlp_output \u001b[38;5;241m=\u001b[39m \u001b[38;5;28;43mself\u001b[39;49m\u001b[38;5;241;43m.\u001b[39;49m\u001b[43mmlp\u001b[49m\u001b[43m(\u001b[49m\u001b[38;5;28;43mself\u001b[39;49m\u001b[38;5;241;43m.\u001b[39;49m\u001b[43mpost_attention_layernorm\u001b[49m\u001b[43m(\u001b[49m\u001b[43mhidden_states\u001b[49m\u001b[43m)\u001b[49m\u001b[43m)\u001b[49m\n\u001b[1;32m    664\u001b[0m     mlp_output \u001b[38;5;241m=\u001b[39m \u001b[38;5;28mself\u001b[39m\u001b[38;5;241m.\u001b[39mpost_mlp_dropout(mlp_output)\n\u001b[1;32m    665\u001b[0m     hidden_states \u001b[38;5;241m=\u001b[39m mlp_output \u001b[38;5;241m+\u001b[39m attn_output \u001b[38;5;241m+\u001b[39m hidden_states\n",
      "File \u001b[0;32m~/.conda/envs/cell2sentence/lib/python3.8/site-packages/torch/nn/modules/module.py:1553\u001b[0m, in \u001b[0;36mModule._wrapped_call_impl\u001b[0;34m(self, *args, **kwargs)\u001b[0m\n\u001b[1;32m   1551\u001b[0m     \u001b[38;5;28;01mreturn\u001b[39;00m \u001b[38;5;28mself\u001b[39m\u001b[38;5;241m.\u001b[39m_compiled_call_impl(\u001b[38;5;241m*\u001b[39margs, \u001b[38;5;241m*\u001b[39m\u001b[38;5;241m*\u001b[39mkwargs)  \u001b[38;5;66;03m# type: ignore[misc]\u001b[39;00m\n\u001b[1;32m   1552\u001b[0m \u001b[38;5;28;01melse\u001b[39;00m:\n\u001b[0;32m-> 1553\u001b[0m     \u001b[38;5;28;01mreturn\u001b[39;00m \u001b[38;5;28;43mself\u001b[39;49m\u001b[38;5;241;43m.\u001b[39;49m\u001b[43m_call_impl\u001b[49m\u001b[43m(\u001b[49m\u001b[38;5;241;43m*\u001b[39;49m\u001b[43margs\u001b[49m\u001b[43m,\u001b[49m\u001b[43m \u001b[49m\u001b[38;5;241;43m*\u001b[39;49m\u001b[38;5;241;43m*\u001b[39;49m\u001b[43mkwargs\u001b[49m\u001b[43m)\u001b[49m\n",
      "File \u001b[0;32m~/.conda/envs/cell2sentence/lib/python3.8/site-packages/torch/nn/modules/module.py:1562\u001b[0m, in \u001b[0;36mModule._call_impl\u001b[0;34m(self, *args, **kwargs)\u001b[0m\n\u001b[1;32m   1557\u001b[0m \u001b[38;5;66;03m# If we don't have any hooks, we want to skip the rest of the logic in\u001b[39;00m\n\u001b[1;32m   1558\u001b[0m \u001b[38;5;66;03m# this function, and just call forward.\u001b[39;00m\n\u001b[1;32m   1559\u001b[0m \u001b[38;5;28;01mif\u001b[39;00m \u001b[38;5;129;01mnot\u001b[39;00m (\u001b[38;5;28mself\u001b[39m\u001b[38;5;241m.\u001b[39m_backward_hooks \u001b[38;5;129;01mor\u001b[39;00m \u001b[38;5;28mself\u001b[39m\u001b[38;5;241m.\u001b[39m_backward_pre_hooks \u001b[38;5;129;01mor\u001b[39;00m \u001b[38;5;28mself\u001b[39m\u001b[38;5;241m.\u001b[39m_forward_hooks \u001b[38;5;129;01mor\u001b[39;00m \u001b[38;5;28mself\u001b[39m\u001b[38;5;241m.\u001b[39m_forward_pre_hooks\n\u001b[1;32m   1560\u001b[0m         \u001b[38;5;129;01mor\u001b[39;00m _global_backward_pre_hooks \u001b[38;5;129;01mor\u001b[39;00m _global_backward_hooks\n\u001b[1;32m   1561\u001b[0m         \u001b[38;5;129;01mor\u001b[39;00m _global_forward_hooks \u001b[38;5;129;01mor\u001b[39;00m _global_forward_pre_hooks):\n\u001b[0;32m-> 1562\u001b[0m     \u001b[38;5;28;01mreturn\u001b[39;00m \u001b[43mforward_call\u001b[49m\u001b[43m(\u001b[49m\u001b[38;5;241;43m*\u001b[39;49m\u001b[43margs\u001b[49m\u001b[43m,\u001b[49m\u001b[43m \u001b[49m\u001b[38;5;241;43m*\u001b[39;49m\u001b[38;5;241;43m*\u001b[39;49m\u001b[43mkwargs\u001b[49m\u001b[43m)\u001b[49m\n\u001b[1;32m   1564\u001b[0m \u001b[38;5;28;01mtry\u001b[39;00m:\n\u001b[1;32m   1565\u001b[0m     result \u001b[38;5;241m=\u001b[39m \u001b[38;5;28;01mNone\u001b[39;00m\n",
      "File \u001b[0;32m~/.conda/envs/cell2sentence/lib/python3.8/site-packages/transformers/models/gpt_neox/modeling_gpt_neox.py:615\u001b[0m, in \u001b[0;36mGPTNeoXMLP.forward\u001b[0;34m(self, hidden_states)\u001b[0m\n\u001b[1;32m    613\u001b[0m hidden_states \u001b[38;5;241m=\u001b[39m \u001b[38;5;28mself\u001b[39m\u001b[38;5;241m.\u001b[39mdense_h_to_4h(hidden_states)\n\u001b[1;32m    614\u001b[0m hidden_states \u001b[38;5;241m=\u001b[39m \u001b[38;5;28mself\u001b[39m\u001b[38;5;241m.\u001b[39mact(hidden_states)\n\u001b[0;32m--> 615\u001b[0m hidden_states \u001b[38;5;241m=\u001b[39m \u001b[38;5;28;43mself\u001b[39;49m\u001b[38;5;241;43m.\u001b[39;49m\u001b[43mdense_4h_to_h\u001b[49m\u001b[43m(\u001b[49m\u001b[43mhidden_states\u001b[49m\u001b[43m)\u001b[49m\n\u001b[1;32m    616\u001b[0m \u001b[38;5;28;01mreturn\u001b[39;00m hidden_states\n",
      "File \u001b[0;32m~/.conda/envs/cell2sentence/lib/python3.8/site-packages/torch/nn/modules/module.py:1553\u001b[0m, in \u001b[0;36mModule._wrapped_call_impl\u001b[0;34m(self, *args, **kwargs)\u001b[0m\n\u001b[1;32m   1551\u001b[0m     \u001b[38;5;28;01mreturn\u001b[39;00m \u001b[38;5;28mself\u001b[39m\u001b[38;5;241m.\u001b[39m_compiled_call_impl(\u001b[38;5;241m*\u001b[39margs, \u001b[38;5;241m*\u001b[39m\u001b[38;5;241m*\u001b[39mkwargs)  \u001b[38;5;66;03m# type: ignore[misc]\u001b[39;00m\n\u001b[1;32m   1552\u001b[0m \u001b[38;5;28;01melse\u001b[39;00m:\n\u001b[0;32m-> 1553\u001b[0m     \u001b[38;5;28;01mreturn\u001b[39;00m \u001b[38;5;28;43mself\u001b[39;49m\u001b[38;5;241;43m.\u001b[39;49m\u001b[43m_call_impl\u001b[49m\u001b[43m(\u001b[49m\u001b[38;5;241;43m*\u001b[39;49m\u001b[43margs\u001b[49m\u001b[43m,\u001b[49m\u001b[43m \u001b[49m\u001b[38;5;241;43m*\u001b[39;49m\u001b[38;5;241;43m*\u001b[39;49m\u001b[43mkwargs\u001b[49m\u001b[43m)\u001b[49m\n",
      "File \u001b[0;32m~/.conda/envs/cell2sentence/lib/python3.8/site-packages/torch/nn/modules/module.py:1562\u001b[0m, in \u001b[0;36mModule._call_impl\u001b[0;34m(self, *args, **kwargs)\u001b[0m\n\u001b[1;32m   1557\u001b[0m \u001b[38;5;66;03m# If we don't have any hooks, we want to skip the rest of the logic in\u001b[39;00m\n\u001b[1;32m   1558\u001b[0m \u001b[38;5;66;03m# this function, and just call forward.\u001b[39;00m\n\u001b[1;32m   1559\u001b[0m \u001b[38;5;28;01mif\u001b[39;00m \u001b[38;5;129;01mnot\u001b[39;00m (\u001b[38;5;28mself\u001b[39m\u001b[38;5;241m.\u001b[39m_backward_hooks \u001b[38;5;129;01mor\u001b[39;00m \u001b[38;5;28mself\u001b[39m\u001b[38;5;241m.\u001b[39m_backward_pre_hooks \u001b[38;5;129;01mor\u001b[39;00m \u001b[38;5;28mself\u001b[39m\u001b[38;5;241m.\u001b[39m_forward_hooks \u001b[38;5;129;01mor\u001b[39;00m \u001b[38;5;28mself\u001b[39m\u001b[38;5;241m.\u001b[39m_forward_pre_hooks\n\u001b[1;32m   1560\u001b[0m         \u001b[38;5;129;01mor\u001b[39;00m _global_backward_pre_hooks \u001b[38;5;129;01mor\u001b[39;00m _global_backward_hooks\n\u001b[1;32m   1561\u001b[0m         \u001b[38;5;129;01mor\u001b[39;00m _global_forward_hooks \u001b[38;5;129;01mor\u001b[39;00m _global_forward_pre_hooks):\n\u001b[0;32m-> 1562\u001b[0m     \u001b[38;5;28;01mreturn\u001b[39;00m \u001b[43mforward_call\u001b[49m\u001b[43m(\u001b[49m\u001b[38;5;241;43m*\u001b[39;49m\u001b[43margs\u001b[49m\u001b[43m,\u001b[49m\u001b[43m \u001b[49m\u001b[38;5;241;43m*\u001b[39;49m\u001b[38;5;241;43m*\u001b[39;49m\u001b[43mkwargs\u001b[49m\u001b[43m)\u001b[49m\n\u001b[1;32m   1564\u001b[0m \u001b[38;5;28;01mtry\u001b[39;00m:\n\u001b[1;32m   1565\u001b[0m     result \u001b[38;5;241m=\u001b[39m \u001b[38;5;28;01mNone\u001b[39;00m\n",
      "File \u001b[0;32m~/.conda/envs/cell2sentence/lib/python3.8/site-packages/torch/nn/modules/linear.py:117\u001b[0m, in \u001b[0;36mLinear.forward\u001b[0;34m(self, input)\u001b[0m\n\u001b[1;32m    116\u001b[0m \u001b[38;5;28;01mdef\u001b[39;00m \u001b[38;5;21mforward\u001b[39m(\u001b[38;5;28mself\u001b[39m, \u001b[38;5;28minput\u001b[39m: Tensor) \u001b[38;5;241m-\u001b[39m\u001b[38;5;241m>\u001b[39m Tensor:\n\u001b[0;32m--> 117\u001b[0m     \u001b[38;5;28;01mreturn\u001b[39;00m \u001b[43mF\u001b[49m\u001b[38;5;241;43m.\u001b[39;49m\u001b[43mlinear\u001b[49m\u001b[43m(\u001b[49m\u001b[38;5;28;43minput\u001b[39;49m\u001b[43m,\u001b[49m\u001b[43m \u001b[49m\u001b[38;5;28;43mself\u001b[39;49m\u001b[38;5;241;43m.\u001b[39;49m\u001b[43mweight\u001b[49m\u001b[43m,\u001b[49m\u001b[43m \u001b[49m\u001b[38;5;28;43mself\u001b[39;49m\u001b[38;5;241;43m.\u001b[39;49m\u001b[43mbias\u001b[49m\u001b[43m)\u001b[49m\n",
      "\u001b[0;31mKeyboardInterrupt\u001b[0m: "
     ]
    }
   ],
   "source": [
    "generated_cells = generate_cells_conditioned_on_cell_type(\n",
    "    csmodel=csmodel, \n",
    "    cell_types_list=cell_types_to_generate, \n",
    "    n_genes=200, \n",
    "    organism=\"Homo sapiens\",\n",
    "    inference_batch_size=inference_batch_size,\n",
    "    max_num_tokens=1024,\n",
    "    use_flash_attn=False,  # at smaller sequence lengths (< 1024), flash attention doesn't significantly benefit text generation.\n",
    "    do_sample=True,\n",
    "    top_k=50,\n",
    "    top_p=0.95,\n",
    ")"
   ]
  },
  {
   "cell_type": "markdown",
   "id": "62a4605f",
   "metadata": {
    "papermill": {
     "duration": null,
     "end_time": null,
     "exception": null,
     "start_time": null,
     "status": "completed"
    },
    "tags": []
   },
   "source": [
    "We can see that the function has generated 2978 cells given the cell types which we provided it, mimicing the cell type frequency in the real test set. We can save our generated cells below:"
   ]
  },
  {
   "cell_type": "code",
   "execution_count": null,
   "id": "d3935a22",
   "metadata": {
    "papermill": {
     "duration": null,
     "end_time": null,
     "exception": null,
     "start_time": null,
     "status": "completed"
    },
    "tags": []
   },
   "outputs": [],
   "source": [
    "len(generated_cells)"
   ]
  },
  {
   "cell_type": "code",
   "execution_count": null,
   "id": "342a8399",
   "metadata": {
    "papermill": {
     "duration": null,
     "end_time": null,
     "exception": null,
     "start_time": null,
     "status": "completed"
    },
    "tags": []
   },
   "outputs": [],
   "source": [
    "with open('/home/sr2464/palmer_scratch/C2S_Files_Syed/c2s_api_testing/generated_cells.pkl', 'wb') as f:\n",
    "    pickle.dump(generated_cells, f)"
   ]
  },
  {
   "cell_type": "markdown",
   "id": "65e98bf0",
   "metadata": {
    "papermill": {
     "duration": null,
     "end_time": null,
     "exception": null,
     "start_time": null,
     "status": "completed"
    },
    "tags": []
   },
   "source": [
    "Here, we view a few of our generated cell sentences:"
   ]
  },
  {
   "cell_type": "code",
   "execution_count": null,
   "id": "52c859f3",
   "metadata": {
    "papermill": {
     "duration": null,
     "end_time": null,
     "exception": null,
     "start_time": null,
     "status": "completed"
    },
    "tags": []
   },
   "outputs": [],
   "source": [
    "generated_cells[:5]"
   ]
  },
  {
   "cell_type": "markdown",
   "id": "4852950a",
   "metadata": {
    "papermill": {
     "duration": null,
     "end_time": null,
     "exception": null,
     "start_time": null,
     "status": "completed"
    },
    "tags": []
   },
   "source": [
    "# Post processing and reconstruction\n",
    "\n",
    "Now that we have generated cell sentences conditioned on cell type, we need to perform some postprocessing steps, namely:\n",
    "1. Removing words that are not gene names in the dataset\n",
    "2. Deal with genes which were generated more than once in a cell sentence (duplicate genes)\n",
    "\n",
    "We will use C2S functions to do this post processing, as well as convert our generated cell sentences back into expression vectors for visualization."
   ]
  },
  {
   "cell_type": "markdown",
   "id": "5d9bf932",
   "metadata": {
    "papermill": {
     "duration": null,
     "end_time": null,
     "exception": null,
     "start_time": null,
     "status": "completed"
    },
    "tags": []
   },
   "source": [
    "First, we get a vocabulary list of gene names from our AnnData object. This will helps us determine what is a real gene word for our data, and what was some nonsense word or unknown gene mistakenly generated by the model."
   ]
  },
  {
   "cell_type": "code",
   "execution_count": null,
   "id": "b24a779e",
   "metadata": {
    "papermill": {
     "duration": null,
     "end_time": null,
     "exception": null,
     "start_time": null,
     "status": "completed"
    },
    "tags": []
   },
   "outputs": [],
   "source": [
    "vocab_list = list(vocabulary.keys())\n",
    "print(len(vocab_list))\n",
    "vocab_list[:4]"
   ]
  },
  {
   "cell_type": "code",
   "execution_count": null,
   "id": "a96abdf6",
   "metadata": {
    "papermill": {
     "duration": null,
     "end_time": null,
     "exception": null,
     "start_time": null,
     "status": "completed"
    },
    "tags": []
   },
   "outputs": [],
   "source": [
    "adata_test.var.head()"
   ]
  },
  {
   "cell_type": "markdown",
   "id": "a04a0158",
   "metadata": {
    "papermill": {
     "duration": null,
     "end_time": null,
     "exception": null,
     "start_time": null,
     "status": "completed"
    },
    "tags": []
   },
   "source": [
    "We post-process all generated cell sentences, which will remove non-gene words in the sentence and average the position of genes which appear multiple times in the generated cell sentence."
   ]
  },
  {
   "cell_type": "code",
   "execution_count": null,
   "id": "47746bfe",
   "metadata": {
    "papermill": {
     "duration": null,
     "end_time": null,
     "exception": null,
     "start_time": null,
     "status": "completed"
    },
    "tags": []
   },
   "outputs": [],
   "source": [
    "post_processed_sentences_list = []\n",
    "num_genes_replaced_list = []\n",
    "for idx in tqdm(range(len(generated_cells))):\n",
    "    post_processed_sentence, num_genes_replaced = post_process_generated_cell_sentences(\n",
    "        cell_sentence=generated_cells[idx],\n",
    "        vocab_list=vocab_list,\n",
    "        replace_nonsense_string=\"NOT_A_GENE\",\n",
    "    )\n",
    "    # post_processed_sentence is a list of genes, with non-genes replaced with replace_nonsense_string\n",
    "    post_processed_sentence = \" \".join(post_processed_sentence)  # rejoin into one cell sentence string\n",
    "    post_processed_sentence = post_processed_sentence.replace(\" NOT_A_GENE\", \"\")  # replace nonsense string\n",
    "    post_processed_sentences_list.append(post_processed_sentence)\n",
    "    num_genes_replaced_list.append(num_genes_replaced)"
   ]
  },
  {
   "cell_type": "code",
   "execution_count": null,
   "id": "aac99fa7",
   "metadata": {
    "papermill": {
     "duration": null,
     "end_time": null,
     "exception": null,
     "start_time": null,
     "status": "completed"
    },
    "tags": []
   },
   "outputs": [],
   "source": [
    "avg_num_genes_replaced = sum(num_genes_replaced_list) / len(num_genes_replaced_list)\n",
    "print(f\"avg_num_genes_replaced: {avg_num_genes_replaced:.5f}\")"
   ]
  },
  {
   "cell_type": "markdown",
   "id": "3cd09d8e",
   "metadata": {
    "papermill": {
     "duration": null,
     "end_time": null,
     "exception": null,
     "start_time": null,
     "status": "completed"
    },
    "tags": []
   },
   "source": [
    "We can see that our model was very accurate, only generating 1.14 invalid genes per cell sentence on average. We can see an example of a cell sentence before and after post processing:"
   ]
  },
  {
   "cell_type": "code",
   "execution_count": null,
   "id": "93680a28",
   "metadata": {
    "papermill": {
     "duration": null,
     "end_time": null,
     "exception": null,
     "start_time": null,
     "status": "completed"
    },
    "tags": []
   },
   "outputs": [],
   "source": [
    "print(\"Predicted sentence 1:\")\n",
    "print(generated_cells[0])\n",
    "print(\"Post-processed sentence 1\")\n",
    "print(post_processed_sentences_list[0])"
   ]
  },
  {
   "cell_type": "markdown",
   "id": "62207c80",
   "metadata": {
    "papermill": {
     "duration": null,
     "end_time": null,
     "exception": null,
     "start_time": null,
     "status": "completed"
    },
    "tags": []
   },
   "source": [
    "Now, we reconstruct expression vectors from the cell sentence. From tutorial notebook 1, we know the slope and intercept values for the linear reconstruction model for this dataset."
   ]
  },
  {
   "cell_type": "code",
   "execution_count": null,
   "id": "c0f85a5a",
   "metadata": {
    "papermill": {
     "duration": null,
     "end_time": null,
     "exception": null,
     "start_time": null,
     "status": "completed"
    },
    "tags": []
   },
   "outputs": [],
   "source": [
    "slope = -0.6756886579917628\n",
    "intercept = 2.237853249084892"
   ]
  },
  {
   "cell_type": "markdown",
   "id": "acfb41fb",
   "metadata": {
    "papermill": {
     "duration": null,
     "end_time": null,
     "exception": null,
     "start_time": null,
     "status": "completed"
    },
    "tags": []
   },
   "source": [
    "We will utilize the reconstruct_expression_from_cell_sentence() function from `utils.py` to reconstruct an expression vector from our generated cell sentence. The expression vector will have column features that match the order of vocab_list, so <font color=\"red\"> make sure that vocab_list reflects the exact gene ordering in the original data!</font>"
   ]
  },
  {
   "cell_type": "code",
   "execution_count": null,
   "id": "ac7aeba5",
   "metadata": {
    "papermill": {
     "duration": null,
     "end_time": null,
     "exception": null,
     "start_time": null,
     "status": "completed"
    },
    "tags": []
   },
   "outputs": [],
   "source": [
    "all_reconstructed_expression_vectors = []\n",
    "for idx in tqdm(range(len(post_processed_sentences_list))):\n",
    "    expression_vector = reconstruct_expression_from_cell_sentence(\n",
    "        cell_sentence_str=post_processed_sentences_list[idx],\n",
    "        delimiter=\" \",\n",
    "        vocab_list=vocab_list,\n",
    "        slope=slope,\n",
    "        intercept=intercept,\n",
    "    )\n",
    "    all_reconstructed_expression_vectors.append(expression_vector)\n",
    "\n",
    "all_reconstructed_expression_vectors = np.stack(all_reconstructed_expression_vectors)"
   ]
  },
  {
   "cell_type": "code",
   "execution_count": null,
   "id": "20a9aa71",
   "metadata": {
    "papermill": {
     "duration": null,
     "end_time": null,
     "exception": null,
     "start_time": null,
     "status": "completed"
    },
    "tags": []
   },
   "outputs": [],
   "source": [
    "all_reconstructed_expression_vectors.shape"
   ]
  },
  {
   "cell_type": "code",
   "execution_count": null,
   "id": "102c9fda",
   "metadata": {
    "papermill": {
     "duration": null,
     "end_time": null,
     "exception": null,
     "start_time": null,
     "status": "completed"
    },
    "tags": []
   },
   "outputs": [],
   "source": [
    "all_reconstructed_expression_vectors.dtype"
   ]
  },
  {
   "cell_type": "code",
   "execution_count": null,
   "id": "a7c6322e",
   "metadata": {
    "papermill": {
     "duration": null,
     "end_time": null,
     "exception": null,
     "start_time": null,
     "status": "completed"
    },
    "tags": []
   },
   "outputs": [],
   "source": [
    "np.save(\"/home/sr2464/palmer_scratch/C2S_Files_Syed/c2s_api_testing/cell_generation_all_reconstructed_expression_vectors.npy\", all_reconstructed_expression_vectors)"
   ]
  },
  {
   "cell_type": "markdown",
   "id": "e2265be8",
   "metadata": {
    "papermill": {
     "duration": null,
     "end_time": null,
     "exception": null,
     "start_time": null,
     "status": "completed"
    },
    "tags": []
   },
   "source": [
    "# Visualization of Generated cells\n",
    "\n",
    "Now that post processing and the conversion back to expression vectors using the linear model is complete, let's visualize the cells we have generated by putting them together into one AnnData object and visualizing original data and generated data side by side.\n",
    "\n",
    "First, we retrieve the original data from our adata object, subsetting to the same test set cells:"
   ]
  },
  {
   "cell_type": "code",
   "execution_count": null,
   "id": "7441100d",
   "metadata": {
    "papermill": {
     "duration": null,
     "end_time": null,
     "exception": null,
     "start_time": null,
     "status": "completed"
    },
    "tags": []
   },
   "outputs": [],
   "source": [
    "adata_test = adata[data_split_indices_dict[\"test\"], :].copy()\n",
    "adata_test"
   ]
  },
  {
   "cell_type": "code",
   "execution_count": null,
   "id": "ce578098",
   "metadata": {
    "papermill": {
     "duration": null,
     "end_time": null,
     "exception": null,
     "start_time": null,
     "status": "completed"
    },
    "tags": []
   },
   "outputs": [],
   "source": [
    "del adata_test.uns\n",
    "del adata_test.obsm\n",
    "del adata_test.varm\n",
    "del adata_test.obsp"
   ]
  },
  {
   "cell_type": "code",
   "execution_count": null,
   "id": "3157597d",
   "metadata": {
    "papermill": {
     "duration": null,
     "end_time": null,
     "exception": null,
     "start_time": null,
     "status": "completed"
    },
    "tags": []
   },
   "outputs": [],
   "source": [
    "adata_test"
   ]
  },
  {
   "cell_type": "markdown",
   "id": "0f5892fd",
   "metadata": {
    "papermill": {
     "duration": null,
     "end_time": null,
     "exception": null,
     "start_time": null,
     "status": "completed"
    },
    "tags": []
   },
   "source": [
    "Now, we restrict the original adata to the top 200 genes, to match cells which we have generated with 200 genes."
   ]
  },
  {
   "cell_type": "code",
   "execution_count": null,
   "id": "05a368a8",
   "metadata": {
    "papermill": {
     "duration": null,
     "end_time": null,
     "exception": null,
     "start_time": null,
     "status": "completed"
    },
    "tags": []
   },
   "outputs": [],
   "source": [
    "adata_test.X = adata_test.X.toarray().astype(np.float32)"
   ]
  },
  {
   "cell_type": "code",
   "execution_count": null,
   "id": "74bfc305",
   "metadata": {
    "papermill": {
     "duration": null,
     "end_time": null,
     "exception": null,
     "start_time": null,
     "status": "completed"
    },
    "tags": []
   },
   "outputs": [],
   "source": [
    "top_k_gene_count = 200"
   ]
  },
  {
   "cell_type": "code",
   "execution_count": null,
   "id": "687bc149",
   "metadata": {
    "papermill": {
     "duration": null,
     "end_time": null,
     "exception": null,
     "start_time": null,
     "status": "completed"
    },
    "tags": []
   },
   "outputs": [],
   "source": [
    "for cell_idx in tqdm(range(adata_test.X.shape[0])):\n",
    "    ind = np.argpartition(adata_test.X[cell_idx], -top_k_gene_count)[-top_k_gene_count:]\n",
    "    ind.sort()\n",
    "    all_but_ind = np.setdiff1d(np.array(list(range(adata_test.X.shape[1])), dtype=np.int64), ind)\n",
    "    adata_test.X[cell_idx, all_but_ind] = 0"
   ]
  },
  {
   "cell_type": "code",
   "execution_count": null,
   "id": "e8dcf97a",
   "metadata": {
    "papermill": {
     "duration": null,
     "end_time": null,
     "exception": null,
     "start_time": null,
     "status": "completed"
    },
    "tags": []
   },
   "outputs": [],
   "source": [
    "print(adata_test.X.shape)"
   ]
  },
  {
   "cell_type": "code",
   "execution_count": null,
   "id": "0b055ebe",
   "metadata": {
    "papermill": {
     "duration": null,
     "end_time": null,
     "exception": null,
     "start_time": null,
     "status": "completed"
    },
    "tags": []
   },
   "outputs": [],
   "source": [
    "print(np.nonzero(adata_test.X[0])[0].shape)\n",
    "print(np.nonzero(adata_test.X[1])[0].shape)\n",
    "print(np.nonzero(adata_test.X[2])[0].shape)"
   ]
  },
  {
   "cell_type": "markdown",
   "id": "e088c27e",
   "metadata": {
    "papermill": {
     "duration": null,
     "end_time": null,
     "exception": null,
     "start_time": null,
     "status": "completed"
    },
    "tags": []
   },
   "source": [
    "Now, we create another AnnData object with our C2S-generated cells"
   ]
  },
  {
   "cell_type": "code",
   "execution_count": null,
   "id": "6958d407",
   "metadata": {
    "papermill": {
     "duration": null,
     "end_time": null,
     "exception": null,
     "start_time": null,
     "status": "completed"
    },
    "tags": []
   },
   "outputs": [],
   "source": [
    "generated_obs_df = pd.DataFrame({\n",
    "    \"cell_type\": cell_types_to_generate\n",
    "}, index=[f\"C2S_gen_cell_{idx}\" for idx in range(len(cell_types_to_generate))])\n",
    "print(generated_obs_df.shape)\n",
    "generated_obs_df.head()"
   ]
  },
  {
   "cell_type": "code",
   "execution_count": null,
   "id": "98dd52a1",
   "metadata": {
    "papermill": {
     "duration": null,
     "end_time": null,
     "exception": null,
     "start_time": null,
     "status": "completed"
    },
    "tags": []
   },
   "outputs": [],
   "source": [
    "generated_adata = anndata.AnnData(\n",
    "    X=all_reconstructed_expression_vectors,\n",
    "    obs=generated_obs_df,\n",
    "    var=adata_test.var.copy(),\n",
    ")\n",
    "generated_adata"
   ]
  },
  {
   "cell_type": "code",
   "execution_count": null,
   "id": "7f2938e1",
   "metadata": {
    "papermill": {
     "duration": null,
     "end_time": null,
     "exception": null,
     "start_time": null,
     "status": "completed"
    },
    "tags": []
   },
   "outputs": [],
   "source": [
    "generated_adata.obs.head()"
   ]
  },
  {
   "cell_type": "code",
   "execution_count": null,
   "id": "c17afe8c",
   "metadata": {
    "papermill": {
     "duration": null,
     "end_time": null,
     "exception": null,
     "start_time": null,
     "status": "completed"
    },
    "tags": []
   },
   "outputs": [],
   "source": [
    "print(np.nonzero(generated_adata.X[0])[0].shape)\n",
    "print(np.nonzero(generated_adata.X[1])[0].shape)\n",
    "print(np.nonzero(generated_adata.X[2])[0].shape)"
   ]
  },
  {
   "cell_type": "markdown",
   "id": "965d205a",
   "metadata": {
    "papermill": {
     "duration": null,
     "end_time": null,
     "exception": null,
     "start_time": null,
     "status": "completed"
    },
    "tags": []
   },
   "source": [
    "Our generated cells will have a few less genes than 200, since 1-2 genes were removed during post processing."
   ]
  },
  {
   "cell_type": "markdown",
   "id": "b191b74c",
   "metadata": {
    "papermill": {
     "duration": null,
     "end_time": null,
     "exception": null,
     "start_time": null,
     "status": "completed"
    },
    "tags": []
   },
   "source": [
    "We can quickly visualize separate UMAPs of the generated data, to see what clusters there are in the generated cells:"
   ]
  },
  {
   "cell_type": "code",
   "execution_count": null,
   "id": "08dd4900",
   "metadata": {
    "papermill": {
     "duration": null,
     "end_time": null,
     "exception": null,
     "start_time": null,
     "status": "completed"
    },
    "tags": []
   },
   "outputs": [],
   "source": [
    "del generated_adata.uns\n",
    "del generated_adata.obsm\n",
    "del generated_adata.varm\n",
    "del generated_adata.obsp"
   ]
  },
  {
   "cell_type": "code",
   "execution_count": null,
   "id": "0343a2de",
   "metadata": {
    "papermill": {
     "duration": null,
     "end_time": null,
     "exception": null,
     "start_time": null,
     "status": "completed"
    },
    "tags": []
   },
   "outputs": [],
   "source": [
    "generated_adata"
   ]
  },
  {
   "cell_type": "code",
   "execution_count": null,
   "id": "0a196dcf",
   "metadata": {
    "papermill": {
     "duration": null,
     "end_time": null,
     "exception": null,
     "start_time": null,
     "status": "completed"
    },
    "tags": []
   },
   "outputs": [],
   "source": [
    "sc.tl.pca(generated_adata)"
   ]
  },
  {
   "cell_type": "code",
   "execution_count": null,
   "id": "5076b588",
   "metadata": {
    "papermill": {
     "duration": null,
     "end_time": null,
     "exception": null,
     "start_time": null,
     "status": "completed"
    },
    "tags": []
   },
   "outputs": [],
   "source": [
    "sc.pp.neighbors(generated_adata)  # , metric=\"cosine\""
   ]
  },
  {
   "cell_type": "code",
   "execution_count": null,
   "id": "abba82f5",
   "metadata": {
    "papermill": {
     "duration": null,
     "end_time": null,
     "exception": null,
     "start_time": null,
     "status": "completed"
    },
    "tags": []
   },
   "outputs": [],
   "source": [
    "sc.tl.umap(generated_adata)"
   ]
  },
  {
   "cell_type": "code",
   "execution_count": null,
   "id": "4c9c0029",
   "metadata": {
    "papermill": {
     "duration": null,
     "end_time": null,
     "exception": null,
     "start_time": null,
     "status": "completed"
    },
    "tags": []
   },
   "outputs": [],
   "source": [
    "generated_adata"
   ]
  },
  {
   "cell_type": "code",
   "execution_count": null,
   "id": "fa3be8b8",
   "metadata": {
    "papermill": {
     "duration": null,
     "end_time": null,
     "exception": null,
     "start_time": null,
     "status": "completed"
    },
    "tags": []
   },
   "outputs": [],
   "source": [
    "sc.pl.umap(\n",
    "    generated_adata,\n",
    "    color=\"cell_type\",\n",
    "    size=8,\n",
    "    title=\"C2S Generated Data\"\n",
    ")"
   ]
  },
  {
   "cell_type": "markdown",
   "id": "15115700",
   "metadata": {
    "papermill": {
     "duration": null,
     "end_time": null,
     "exception": null,
     "start_time": null,
     "status": "completed"
    },
    "tags": []
   },
   "source": [
    "Our generated data looks to have good cell type clustering and structure! Let's quickly make a separate UMAP of the original data to compare:"
   ]
  },
  {
   "cell_type": "code",
   "execution_count": null,
   "id": "0d925ccd",
   "metadata": {
    "papermill": {
     "duration": null,
     "end_time": null,
     "exception": null,
     "start_time": null,
     "status": "completed"
    },
    "tags": []
   },
   "outputs": [],
   "source": [
    "adata_test"
   ]
  },
  {
   "cell_type": "code",
   "execution_count": null,
   "id": "4adf2fe9",
   "metadata": {
    "papermill": {
     "duration": null,
     "end_time": null,
     "exception": null,
     "start_time": null,
     "status": "completed"
    },
    "tags": []
   },
   "outputs": [],
   "source": [
    "sc.tl.pca(adata_test)"
   ]
  },
  {
   "cell_type": "code",
   "execution_count": null,
   "id": "b9834324",
   "metadata": {
    "papermill": {
     "duration": null,
     "end_time": null,
     "exception": null,
     "start_time": null,
     "status": "completed"
    },
    "tags": []
   },
   "outputs": [],
   "source": [
    "sc.pp.neighbors(adata_test)"
   ]
  },
  {
   "cell_type": "code",
   "execution_count": null,
   "id": "ea7f48f4",
   "metadata": {
    "papermill": {
     "duration": null,
     "end_time": null,
     "exception": null,
     "start_time": null,
     "status": "completed"
    },
    "tags": []
   },
   "outputs": [],
   "source": [
    "sc.tl.umap(adata_test)"
   ]
  },
  {
   "cell_type": "code",
   "execution_count": null,
   "id": "74c2fce7",
   "metadata": {
    "papermill": {
     "duration": null,
     "end_time": null,
     "exception": null,
     "start_time": null,
     "status": "completed"
    },
    "tags": []
   },
   "outputs": [],
   "source": [
    "adata_test"
   ]
  },
  {
   "cell_type": "code",
   "execution_count": null,
   "id": "584532cb",
   "metadata": {
    "papermill": {
     "duration": null,
     "end_time": null,
     "exception": null,
     "start_time": null,
     "status": "completed"
    },
    "tags": []
   },
   "outputs": [],
   "source": [
    "sc.pl.umap(\n",
    "    adata_test,\n",
    "    color=\"cell_type\",\n",
    "    size=8,\n",
    "    title=\"Original Data\"\n",
    ")"
   ]
  },
  {
   "cell_type": "markdown",
   "id": "16be4bad",
   "metadata": {
    "papermill": {
     "duration": null,
     "end_time": null,
     "exception": null,
     "start_time": null,
     "status": "completed"
    },
    "tags": []
   },
   "source": [
    "The original data has a similar structure. As a last check before we make a joint UMAP, we can look at a heatmap of gene expression between generated and original data:"
   ]
  },
  {
   "cell_type": "code",
   "execution_count": null,
   "id": "999979e1",
   "metadata": {
    "papermill": {
     "duration": null,
     "end_time": null,
     "exception": null,
     "start_time": null,
     "status": "completed"
    },
    "tags": []
   },
   "outputs": [],
   "source": [
    "markers = ['MALAT1', 'MT-CO2', 'MT-CO1', 'MT-ND3', 'MT-ND4L', 'MT-CO3', 'MT-CYB', 'MT-ATP8', 'MT-ND4', 'MT-ATP6', 'MT-ND5', 'MT-ND2', 'MT-ND1', 'MTRNR2L12', 'HSP90AA1', 'HSPA1A', 'HSPA1B', 'DNAJB1', 'FOSB', 'HSP90AB1', 'HSPA8', 'JUNB', 'FOS', 'DUSP1', 'BTG1', 'JUN', 'FTL', 'B2M', 'RPL41', 'RPLP1', 'RPS27', 'RPL10', 'RPL13', 'RPS12', 'RPL28', 'RPS19', 'RPL39', 'RPS15A', 'RPS3A', 'RPS27A', 'RPL32', 'RPS28', 'RPL34', 'RPS14', 'RPL30', 'RPS18', 'RPL37', 'RPL11', 'RPS21', 'RPS23', 'RPL19', 'RPS3', 'RPL18A', 'RPS15', 'RPL26', 'RPL3', 'RPS6', 'RPS8', 'RPL35A', 'RPLP2', 'RPL12', 'RPS2', 'RPL21', 'RPL36', 'RPL14', 'RPS13', 'RPL18', 'RPL7A', 'RPS25', 'RPL8', 'RPS4X', 'RPL29', 'RPL23A', 'RPL9', 'RPS24', 'RPLP0', 'RPS29', 'RPL17', 'RPL37A', 'RPL15', 'RPS7', 'RPL6', 'RPL10A', 'RPS16', 'RPL5', 'EEF1A1', 'RPL13A', 'RPL22', 'RPS5', 'TPT1', 'RPL35', 'RPL36A', 'RPS9', 'RPL24', 'PTMA', 'RPL38', 'FAU', 'HLA-B', 'RPSA', 'EEF1B2', 'HLA-A', 'UBA52', 'TMSB4X', 'RPL4', 'EEF1G', 'EIF1', 'ACTB', 'NACA', 'HLA-C', 'RACK1', 'PABPC1', 'RPL27', 'PPP1R15A', 'TMSB10', 'HSPH1', 'PNRC1', 'RPL31', 'H3-3B', 'RPS11', 'EEF2', 'BTG2', 'PFDN5', 'RPL7', 'HNRNPA2B1', 'SARAF', 'BTF3', 'NPM1', 'FTH1', 'HNRNPA1', 'RPS20', 'CD3E', 'RPL36AL', 'MT-ND6', 'HSPE1', 'NCL', 'SRSF7', 'CD8A', 'HNRNPDL', 'ZFP36L2', 'TUBA1A', 'SLC2A3', 'CD3D', 'EIF4A2', 'HNRNPU', 'SRSF5', 'RPL27A', 'RPS17', 'RPL23', 'EIF4A1', 'CD7', 'PTPRC', 'HSPD1', 'DDX5', 'H3-3A', 'EIF4B', 'SERF2', 'SLC25A5', 'EIF3E', 'RPS4Y1', 'CD52', 'TOMM7', 'PCBP2', 'IL7R', 'SLC25A6', 'RBM39', 'EIF3F', 'RPS26', 'MYL12A', 'EIF3K', 'CD69', 'RPL22L1', 'TUBA1B', 'EIF3G', 'ATP5F1E', 'EIF3H', 'CFL1', 'EIF4A3', 'UBC', 'RAC2', 'CD8B', 'CD3G', 'RGS2', 'SRSF3', 'EIF5A', 'SFPQ', 'TUBA4A', 'EIF3D', 'EIF4G2', 'EIF3L', 'HNRNPC', 'TSC22D3', 'EIF1AX', 'HINT1', 'RPS10', 'SLC25A3', 'RPS27L']"
   ]
  },
  {
   "cell_type": "code",
   "execution_count": null,
   "id": "3bba51a3",
   "metadata": {
    "papermill": {
     "duration": null,
     "end_time": null,
     "exception": null,
     "start_time": null,
     "status": "completed"
    },
    "tags": []
   },
   "outputs": [],
   "source": [
    "sc.pl.heatmap(adata_test, markers, groupby='cell_type', swap_axes=True, vmax=3.0)"
   ]
  },
  {
   "cell_type": "code",
   "execution_count": null,
   "id": "46035bbe",
   "metadata": {
    "papermill": {
     "duration": null,
     "end_time": null,
     "exception": null,
     "start_time": null,
     "status": "completed"
    },
    "tags": []
   },
   "outputs": [],
   "source": [
    "sc.pl.heatmap(generated_adata, markers, groupby='cell_type', swap_axes=True, vmax=3.0)"
   ]
  },
  {
   "cell_type": "markdown",
   "id": "2e2d5bf2",
   "metadata": {
    "papermill": {
     "duration": null,
     "end_time": null,
     "exception": null,
     "start_time": null,
     "status": "completed"
    },
    "tags": []
   },
   "source": [
    "We can see from the heatmaps that the generated cells have very realistic gene expression profiles compared to the original data, which is promising. It indicates that the cell generation of our C2S model is accurate, and the linear model is able to reconstruct gene expression effectively.\n",
    "\n",
    "Now, we will move on to visualizing a joint UMAP of generated and original ground truth cells, so that all cells are in the same joint space."
   ]
  },
  {
   "cell_type": "markdown",
   "id": "ad364dd1",
   "metadata": {
    "papermill": {
     "duration": null,
     "end_time": null,
     "exception": null,
     "start_time": null,
     "status": "completed"
    },
    "tags": []
   },
   "source": [
    "# Combined UMAP in shared space\n",
    "Now, we create a combined AnnData object and run PCA, neighbors, and UMAP:"
   ]
  },
  {
   "cell_type": "code",
   "execution_count": null,
   "id": "25bd1f79",
   "metadata": {
    "papermill": {
     "duration": null,
     "end_time": null,
     "exception": null,
     "start_time": null,
     "status": "completed"
    },
    "tags": []
   },
   "outputs": [],
   "source": [
    "del adata_test.uns\n",
    "del adata_test.obsm\n",
    "del adata_test.varm\n",
    "del adata_test.obsp\n",
    "\n",
    "del generated_adata.uns\n",
    "del generated_adata.obsm\n",
    "del generated_adata.varm\n",
    "del generated_adata.obsp"
   ]
  },
  {
   "cell_type": "code",
   "execution_count": null,
   "id": "85303477",
   "metadata": {
    "papermill": {
     "duration": null,
     "end_time": null,
     "exception": null,
     "start_time": null,
     "status": "completed"
    },
    "tags": []
   },
   "outputs": [],
   "source": [
    "adata_test"
   ]
  },
  {
   "cell_type": "code",
   "execution_count": null,
   "id": "1f2c39b2",
   "metadata": {
    "papermill": {
     "duration": null,
     "end_time": null,
     "exception": null,
     "start_time": null,
     "status": "completed"
    },
    "tags": []
   },
   "outputs": [],
   "source": [
    "generated_adata"
   ]
  },
  {
   "cell_type": "code",
   "execution_count": null,
   "id": "e2cd5646",
   "metadata": {
    "papermill": {
     "duration": null,
     "end_time": null,
     "exception": null,
     "start_time": null,
     "status": "completed"
    },
    "tags": []
   },
   "outputs": [],
   "source": [
    "adata_test.obs[\"data_label\"] = \"Original Data\"\n",
    "generated_adata.obs[\"data_label\"] = \"C2S Generated Data\""
   ]
  },
  {
   "cell_type": "code",
   "execution_count": null,
   "id": "e683f48e",
   "metadata": {
    "papermill": {
     "duration": null,
     "end_time": null,
     "exception": null,
     "start_time": null,
     "status": "completed"
    },
    "tags": []
   },
   "outputs": [],
   "source": [
    "print(adata_test.X.shape)\n",
    "print(adata_test.X.max())\n",
    "print(adata_test.X[0].sum())\n",
    "print(adata_test.X[0].max())\n",
    "print(adata_test.X[0].mean())"
   ]
  },
  {
   "cell_type": "code",
   "execution_count": null,
   "id": "715240c4",
   "metadata": {
    "papermill": {
     "duration": null,
     "end_time": null,
     "exception": null,
     "start_time": null,
     "status": "completed"
    },
    "tags": []
   },
   "outputs": [],
   "source": [
    "print(generated_adata.X.shape)\n",
    "print(generated_adata.X.max())\n",
    "print(generated_adata.X[0].sum())\n",
    "print(generated_adata.X[0].max())\n",
    "print(generated_adata.X[0].mean())"
   ]
  },
  {
   "cell_type": "code",
   "execution_count": null,
   "id": "f203cae8",
   "metadata": {
    "papermill": {
     "duration": null,
     "end_time": null,
     "exception": null,
     "start_time": null,
     "status": "completed"
    },
    "tags": []
   },
   "outputs": [],
   "source": [
    "concat_adata = anndata.concat([adata_test, generated_adata], axis=0)\n",
    "concat_adata"
   ]
  },
  {
   "cell_type": "code",
   "execution_count": null,
   "id": "69e1a4ba",
   "metadata": {
    "papermill": {
     "duration": null,
     "end_time": null,
     "exception": null,
     "start_time": null,
     "status": "completed"
    },
    "tags": []
   },
   "outputs": [],
   "source": [
    "concat_adata.var = adata_test.var.copy()\n",
    "concat_adata"
   ]
  },
  {
   "cell_type": "code",
   "execution_count": null,
   "id": "ef5ce495",
   "metadata": {
    "papermill": {
     "duration": null,
     "end_time": null,
     "exception": null,
     "start_time": null,
     "status": "completed"
    },
    "tags": []
   },
   "outputs": [],
   "source": [
    "Counter(concat_adata.obs[\"data_label\"])"
   ]
  },
  {
   "cell_type": "code",
   "execution_count": null,
   "id": "452d36fa",
   "metadata": {
    "papermill": {
     "duration": null,
     "end_time": null,
     "exception": null,
     "start_time": null,
     "status": "completed"
    },
    "tags": []
   },
   "outputs": [],
   "source": [
    "sc.tl.pca(concat_adata)"
   ]
  },
  {
   "cell_type": "code",
   "execution_count": null,
   "id": "b17bd9dc",
   "metadata": {
    "papermill": {
     "duration": null,
     "end_time": null,
     "exception": null,
     "start_time": null,
     "status": "completed"
    },
    "tags": []
   },
   "outputs": [],
   "source": [
    "sc.pp.neighbors(concat_adata)"
   ]
  },
  {
   "cell_type": "code",
   "execution_count": null,
   "id": "f958d7be",
   "metadata": {
    "papermill": {
     "duration": null,
     "end_time": null,
     "exception": null,
     "start_time": null,
     "status": "completed"
    },
    "tags": []
   },
   "outputs": [],
   "source": [
    "sc.tl.umap(concat_adata)"
   ]
  },
  {
   "cell_type": "code",
   "execution_count": null,
   "id": "872c0e88",
   "metadata": {
    "papermill": {
     "duration": null,
     "end_time": null,
     "exception": null,
     "start_time": null,
     "status": "completed"
    },
    "tags": []
   },
   "outputs": [],
   "source": [
    "concat_adata"
   ]
  },
  {
   "cell_type": "code",
   "execution_count": null,
   "id": "778663c2",
   "metadata": {
    "papermill": {
     "duration": null,
     "end_time": null,
     "exception": null,
     "start_time": null,
     "status": "completed"
    },
    "tags": []
   },
   "outputs": [],
   "source": [
    "fig, (ax1, ax2) = plt.subplots(1, 2, figsize=(15, 5))\n",
    "ax = sc.pl.umap(\n",
    "    concat_adata[concat_adata.obs[\"data_label\"] == \"Original Data\", :],\n",
    "    color=\"cell_type\",\n",
    "    size=8,\n",
    "    title=\"Original Human Immune Tissue Data\",\n",
    "    show=False,\n",
    "    legend_loc=None,\n",
    "    ax=ax1,\n",
    ")\n",
    "sc.pl.umap(\n",
    "    concat_adata[concat_adata.obs[\"data_label\"] == \"C2S Generated Data\", :],\n",
    "    color=\"cell_type\",\n",
    "    size=8,\n",
    "    title=\"C2S Generated Data\",\n",
    "    show=False,\n",
    "    ax=ax2,\n",
    ")\n",
    "plt.tight_layout()\n",
    "plt.show()\n",
    "plt.close()"
   ]
  },
  {
   "cell_type": "markdown",
   "id": "cd74fe66",
   "metadata": {
    "papermill": {
     "duration": null,
     "end_time": null,
     "exception": null,
     "start_time": null,
     "status": "completed"
    },
    "tags": []
   },
   "source": [
    "We can see that the generated data by our C2S model (right) comes very close to the original data (left), which is promising for the potential of C2S to generate realistic data. These cells are being visualized after conversion back to expression vectors from generated cell sentences, so we can also observe that we did not lose too much information in our data by going to cell sentences and back to expression vectors. This allows us to leverage the strengths and generation ability of LLMs without losing too much information."
   ]
  }
 ],
 "metadata": {
  "kernelspec": {
   "display_name": "Python 3.8.19 ('cell2sentence': conda)",
   "language": "python",
   "name": "python3"
  },
  "language_info": {
   "codemirror_mode": {
    "name": "ipython",
    "version": 3
   },
   "file_extension": ".py",
   "mimetype": "text/x-python",
   "name": "python",
   "nbconvert_exporter": "python",
   "pygments_lexer": "ipython3",
   "version": "3.8.19"
  },
  "papermill": {
   "default_parameters": {},
   "duration": 52.945289,
   "end_time": "2024-09-24T13:25:35.573389",
   "environment_variables": {},
   "exception": null,
   "input_path": "c2s_tutorial_5_cell_generation.ipynb",
   "output_path": "c2s_tutorial_5_cell_generation_output.ipynb",
   "parameters": {},
   "start_time": "2024-09-24T13:24:42.628100",
   "version": "2.6.0"
  },
  "vscode": {
   "interpreter": {
    "hash": "30854c2c12e6a68630235fdae2d040378c6582e0cbda77c6d9a96d02c39a5866"
   }
  }
 },
 "nbformat": 4,
 "nbformat_minor": 5
}