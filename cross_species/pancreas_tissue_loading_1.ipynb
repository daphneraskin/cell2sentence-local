{
 "cells": [
  {
   "cell_type": "code",
   "execution_count": 54,
   "metadata": {},
   "outputs": [],
   "source": [
    "# Standard Libraries\n",
    "import os # operating system dependent functionality\n",
    "from collections import Counter # counting elements in an iterable\n",
    "\n",
    "# External Libraries\n",
    "import numpy as np # numerical operations on data arrays and matrices\n",
    "import pandas as pd # data manipulation and analysis\n",
    "import matplotlib.pyplot as plt # plotting and visualizations\n",
    "\n",
    "# Bioinformatics and Data Analysis \n",
    "import anndata # handling annotated data, particularly in genomics\n",
    "import scanpy as sc # single-cell RNA-seq data analysis\n",
    "import scipy # scientific and technical computations"
   ]
  },
  {
   "cell_type": "code",
   "execution_count": 55,
   "metadata": {},
   "outputs": [],
   "source": [
    "# access raw data from research paper by Baron et al: \"A Single-Cell Transcriptomic Map of the Human and Mouse Pancreas Reveals Inter- and Intra-cell Population Structure\" \n",
    "BASE_DIR = \"/home/sr2464/palmer_scratch/C2S_Files_Syed/Cross_Species_Datasets/mouse_human_pancreas_tissue_Baron_et_al/raw_data\""
   ]
  },
  {
   "cell_type": "code",
   "execution_count": 56,
   "metadata": {},
   "outputs": [
    {
     "data": {
      "text/plain": [
       "['GSE84133_RAW.tar',\n",
       " 'GSM2230757_human1_umifm_counts.csv',\n",
       " 'GSM2230757_human1_umifm_counts.csv.gz',\n",
       " 'GSM2230757_human1_umifm_counts_merge_two_cols.csv',\n",
       " 'GSM2230758_human2_umifm_counts.csv',\n",
       " 'GSM2230758_human2_umifm_counts.csv.gz',\n",
       " 'GSM2230759_human3_umifm_counts.csv',\n",
       " 'GSM2230759_human3_umifm_counts.csv.gz',\n",
       " 'GSM2230760_human4_umifm_counts.csv',\n",
       " 'GSM2230760_human4_umifm_counts.csv.gz',\n",
       " 'GSM2230761_mouse1_umifm_counts.csv',\n",
       " 'GSM2230761_mouse1_umifm_counts.csv.gz',\n",
       " 'GSM2230762_mouse2_umifm_counts.csv',\n",
       " 'GSM2230762_mouse2_umifm_counts.csv.gz']"
      ]
     },
     "execution_count": 56,
     "metadata": {},
     "output_type": "execute_result"
    }
   ],
   "source": [
    "# list contents of raw data folder\n",
    "os.listdir(BASE_DIR)"
   ]
  },
  {
   "cell_type": "code",
   "execution_count": 58,
   "metadata": {},
   "outputs": [],
   "source": [
    "def load_csv_into_anndata(fname):\n",
    "    \"\"\"Function facilitates the conversion of data stored in CSV file into an AnnData object, which is widely used in single-cell RNA sequencing analysis, making downstream analysis/processing in Scanpy easier and more efficient.\n",
    "    Input: fname (filename of csv)\n",
    "    Output: AnnData object\n",
    "    \"\"\"\n",
    "\n",
    "    # read csv file into a pandas dataframe\n",
    "    adata_df = pd.read_csv( \n",
    "        os.path.join(BASE_DIR, f\"{fname}.csv\"), # construct full path to the file by appending .csv to the BASE_DIR directory\n",
    "        index_col=0\n",
    "    )\n",
    "\n",
    "    # extract certain attributes related to each cell (aka sample or observation)\n",
    "    cell_barcodes = adata_df[\"barcode\"].tolist()\n",
    "    cell_manual_ids = adata_df.index.tolist()\n",
    "    cell_types = adata_df[\"assigned_cluster\"].tolist()\n",
    "    batch_sample = [fname] * len(cell_manual_ids)\n",
    "\n",
    "    # isolate count matrices (which represent the expression levels of genes for each cell) from the Dataframe\n",
    "    # convert each matrix into a sparse matrix format (CSR) for memory efficiency\n",
    "    cellxgene_matrix = adata_df.iloc[:, 2:].to_numpy().astype(np.float32)\n",
    "    cellxgene_matrix = scipy.sparse.csr_matrix(cellxgene_matrix)\n",
    "\n",
    "    # extract and convert gene names to uppercase for consistency\n",
    "    gene_names = adata_df.iloc[:, 2:].columns.tolist()\n",
    "    gene_names = [name.upper() for name in gene_names]\n",
    "\n",
    "    # create DataFrame for obs (observation) annotations containing cell barcodes, IDs, types, and batch information\n",
    "    obs_df = pd.DataFrame({\n",
    "        \"cell_barcodes\": cell_barcodes,\n",
    "        \"cell_manual_ids\": cell_manual_ids,\n",
    "        \"cell_types\": cell_types,\n",
    "        \"batch_sample\": batch_sample,\n",
    "    }, index=cell_manual_ids)\n",
    "    \n",
    "    # create Dataframe for var (variable) annotations contiaining gene names\n",
    "    var_df = pd.DataFrame({\n",
    "        \"gene_names\": gene_names\n",
    "    }, index=gene_names)\n",
    "\n",
    "    # create anndata object using the count matrix (X), observation annotations (obs), and variable annotations (var)\n",
    "    adata = anndata.AnnData(\n",
    "        X=cellxgene_matrix,\n",
    "        obs=obs_df,\n",
    "        var=var_df,\n",
    "    )\n",
    "    # return anndata object\n",
    "    return adata"
   ]
  },
  {
   "cell_type": "markdown",
   "metadata": {},
   "source": [
    "The Baron et al paper provides uniformly sequenced single-cell RNA data for 4 humans and 2 mice. We load in this data."
   ]
  },
  {
   "cell_type": "code",
   "execution_count": 59,
   "metadata": {},
   "outputs": [
    {
     "data": {
      "text/plain": [
       "AnnData object with n_obs × n_vars = 1937 × 20125\n",
       "    obs: 'cell_barcodes', 'cell_manual_ids', 'cell_types', 'batch_sample'\n",
       "    var: 'gene_names'"
      ]
     },
     "execution_count": 59,
     "metadata": {},
     "output_type": "execute_result"
    }
   ],
   "source": [
    "# load human #1 single-cell RNA data as AnnData object\n",
    "human1_adata = load_csv_into_anndata(fname=\"GSM2230757_human1_umifm_counts\")\n",
    "human1_adata"
   ]
  },
  {
   "cell_type": "code",
   "execution_count": 60,
   "metadata": {},
   "outputs": [
    {
     "data": {
      "text/plain": [
       "AnnData object with n_obs × n_vars = 1724 × 20125\n",
       "    obs: 'cell_barcodes', 'cell_manual_ids', 'cell_types', 'batch_sample'\n",
       "    var: 'gene_names'"
      ]
     },
     "execution_count": 60,
     "metadata": {},
     "output_type": "execute_result"
    }
   ],
   "source": [
    "# load human #2 single-cell RNA data as AnnData object\n",
    "human2_adata = load_csv_into_anndata(fname=\"GSM2230758_human2_umifm_counts\")\n",
    "human2_adata"
   ]
  },
  {
   "cell_type": "code",
   "execution_count": 61,
   "metadata": {},
   "outputs": [
    {
     "data": {
      "text/plain": [
       "AnnData object with n_obs × n_vars = 3605 × 20125\n",
       "    obs: 'cell_barcodes', 'cell_manual_ids', 'cell_types', 'batch_sample'\n",
       "    var: 'gene_names'"
      ]
     },
     "execution_count": 61,
     "metadata": {},
     "output_type": "execute_result"
    }
   ],
   "source": [
    "# load human #3 single-cell RNA data as AnnData object\n",
    "human3_adata = load_csv_into_anndata(fname=\"GSM2230759_human3_umifm_counts\")\n",
    "human3_adata"
   ]
  },
  {
   "cell_type": "code",
   "execution_count": 62,
   "metadata": {},
   "outputs": [
    {
     "data": {
      "text/plain": [
       "AnnData object with n_obs × n_vars = 1303 × 20125\n",
       "    obs: 'cell_barcodes', 'cell_manual_ids', 'cell_types', 'batch_sample'\n",
       "    var: 'gene_names'"
      ]
     },
     "execution_count": 62,
     "metadata": {},
     "output_type": "execute_result"
    }
   ],
   "source": [
    "# load human #4 single-cell RNA data as AnnData object\n",
    "human4_adata = load_csv_into_anndata(fname=\"GSM2230760_human4_umifm_counts\")\n",
    "human4_adata"
   ]
  },
  {
   "cell_type": "code",
   "execution_count": 63,
   "metadata": {},
   "outputs": [
    {
     "name": "stderr",
     "output_type": "stream",
     "text": [
      "/home/dor3/.conda/envs/cell2sentence/lib/python3.8/site-packages/anndata/_core/anndata.py:1840: UserWarning: Variable names are not unique. To make them unique, call `.var_names_make_unique`.\n",
      "  utils.warn_names_duplicates(\"var\")\n"
     ]
    },
    {
     "data": {
      "text/plain": [
       "AnnData object with n_obs × n_vars = 822 × 14878\n",
       "    obs: 'cell_barcodes', 'cell_manual_ids', 'cell_types', 'batch_sample'\n",
       "    var: 'gene_names'"
      ]
     },
     "execution_count": 63,
     "metadata": {},
     "output_type": "execute_result"
    }
   ],
   "source": [
    "# load mouse #1 single-cell RNA data as AnnData object\n",
    "mouse1_adata = load_csv_into_anndata(fname=\"GSM2230761_mouse1_umifm_counts\")\n",
    "mouse1_adata"
   ]
  },
  {
   "cell_type": "code",
   "execution_count": 64,
   "metadata": {},
   "outputs": [
    {
     "name": "stderr",
     "output_type": "stream",
     "text": [
      "/home/dor3/.conda/envs/cell2sentence/lib/python3.8/site-packages/anndata/_core/anndata.py:1840: UserWarning: Variable names are not unique. To make them unique, call `.var_names_make_unique`.\n",
      "  utils.warn_names_duplicates(\"var\")\n"
     ]
    },
    {
     "data": {
      "text/plain": [
       "AnnData object with n_obs × n_vars = 1064 × 14878\n",
       "    obs: 'cell_barcodes', 'cell_manual_ids', 'cell_types', 'batch_sample'\n",
       "    var: 'gene_names'"
      ]
     },
     "execution_count": 64,
     "metadata": {},
     "output_type": "execute_result"
    }
   ],
   "source": [
    "# load mouse #2 single-cell RNA data as AnnData object\n",
    "mouse2_adata = load_csv_into_anndata(fname=\"GSM2230762_mouse2_umifm_counts\")\n",
    "mouse2_adata"
   ]
  },
  {
   "cell_type": "code",
   "execution_count": 66,
   "metadata": {},
   "outputs": [],
   "source": [
    "# data processing: make each variable name unique in mouse data by adding a number to each duplicate value\n",
    "mouse1_adata.var_names_make_unique()\n",
    "mouse2_adata.var_names_make_unique()"
   ]
  },
  {
   "cell_type": "markdown",
   "metadata": {},
   "source": [
    "# Combine mouse and human samples into a single adata per species"
   ]
  },
  {
   "cell_type": "code",
   "execution_count": 68,
   "metadata": {},
   "outputs": [
    {
     "data": {
      "text/plain": [
       "AnnData object with n_obs × n_vars = 1886 × 14878\n",
       "    obs: 'cell_barcodes', 'cell_manual_ids', 'cell_types', 'batch_sample'\n",
       "    var: 'gene_name'"
      ]
     },
     "execution_count": 68,
     "metadata": {},
     "output_type": "execute_result"
    }
   ],
   "source": [
    "# concat the mouse cells (observations) from the two AnnData objects into a single AnnData object along the rows\n",
    "# mouse_adata contains all cells from the original datasets, with any overlapping genes (variables) aligned\n",
    "mouse_adata = anndata.concat([mouse1_adata, mouse2_adata], axis=0)\n",
    "\n",
    "# add new column \"gene_name\" in the variable annotations (var)\n",
    "# this makes the gene names more explicitly accessible as a column of the Dataframe\n",
    "mouse_adata.var[\"gene_name\"] = mouse_adata.var.index.tolist()\n",
    "mouse_adata"
   ]
  },
  {
   "cell_type": "code",
   "execution_count": 71,
   "metadata": {},
   "outputs": [
    {
     "data": {
      "text/html": [
       "<div>\n",
       "<style scoped>\n",
       "    .dataframe tbody tr th:only-of-type {\n",
       "        vertical-align: middle;\n",
       "    }\n",
       "\n",
       "    .dataframe tbody tr th {\n",
       "        vertical-align: top;\n",
       "    }\n",
       "\n",
       "    .dataframe thead th {\n",
       "        text-align: right;\n",
       "    }\n",
       "</style>\n",
       "<table border=\"1\" class=\"dataframe\">\n",
       "  <thead>\n",
       "    <tr style=\"text-align: right;\">\n",
       "      <th></th>\n",
       "      <th>cell_barcodes</th>\n",
       "      <th>cell_manual_ids</th>\n",
       "      <th>cell_types</th>\n",
       "      <th>batch_sample</th>\n",
       "    </tr>\n",
       "  </thead>\n",
       "  <tbody>\n",
       "    <tr>\n",
       "      <th>mouse1_lib1.final_cell_0001</th>\n",
       "      <td>AAGTGAAAG-CGACTCCT</td>\n",
       "      <td>mouse1_lib1.final_cell_0001</td>\n",
       "      <td>beta</td>\n",
       "      <td>GSM2230761_mouse1_umifm_counts</td>\n",
       "    </tr>\n",
       "    <tr>\n",
       "      <th>mouse1_lib1.final_cell_0002</th>\n",
       "      <td>TGCAAGGG-GGCATGCT</td>\n",
       "      <td>mouse1_lib1.final_cell_0002</td>\n",
       "      <td>ductal</td>\n",
       "      <td>GSM2230761_mouse1_umifm_counts</td>\n",
       "    </tr>\n",
       "    <tr>\n",
       "      <th>mouse1_lib1.final_cell_0003</th>\n",
       "      <td>GAGAGCCCAT-CTTCTGGA</td>\n",
       "      <td>mouse1_lib1.final_cell_0003</td>\n",
       "      <td>delta</td>\n",
       "      <td>GSM2230761_mouse1_umifm_counts</td>\n",
       "    </tr>\n",
       "    <tr>\n",
       "      <th>mouse1_lib1.final_cell_0004</th>\n",
       "      <td>AAATCAGA-GTTGCACG</td>\n",
       "      <td>mouse1_lib1.final_cell_0004</td>\n",
       "      <td>schwann</td>\n",
       "      <td>GSM2230761_mouse1_umifm_counts</td>\n",
       "    </tr>\n",
       "    <tr>\n",
       "      <th>mouse1_lib1.final_cell_0005</th>\n",
       "      <td>GAGGCGTTAG-GGCTACTA</td>\n",
       "      <td>mouse1_lib1.final_cell_0005</td>\n",
       "      <td>delta</td>\n",
       "      <td>GSM2230761_mouse1_umifm_counts</td>\n",
       "    </tr>\n",
       "  </tbody>\n",
       "</table>\n",
       "</div>"
      ],
      "text/plain": [
       "                                   cell_barcodes              cell_manual_ids  \\\n",
       "mouse1_lib1.final_cell_0001   AAGTGAAAG-CGACTCCT  mouse1_lib1.final_cell_0001   \n",
       "mouse1_lib1.final_cell_0002    TGCAAGGG-GGCATGCT  mouse1_lib1.final_cell_0002   \n",
       "mouse1_lib1.final_cell_0003  GAGAGCCCAT-CTTCTGGA  mouse1_lib1.final_cell_0003   \n",
       "mouse1_lib1.final_cell_0004    AAATCAGA-GTTGCACG  mouse1_lib1.final_cell_0004   \n",
       "mouse1_lib1.final_cell_0005  GAGGCGTTAG-GGCTACTA  mouse1_lib1.final_cell_0005   \n",
       "\n",
       "                            cell_types                    batch_sample  \n",
       "mouse1_lib1.final_cell_0001       beta  GSM2230761_mouse1_umifm_counts  \n",
       "mouse1_lib1.final_cell_0002     ductal  GSM2230761_mouse1_umifm_counts  \n",
       "mouse1_lib1.final_cell_0003      delta  GSM2230761_mouse1_umifm_counts  \n",
       "mouse1_lib1.final_cell_0004    schwann  GSM2230761_mouse1_umifm_counts  \n",
       "mouse1_lib1.final_cell_0005      delta  GSM2230761_mouse1_umifm_counts  "
      ]
     },
     "execution_count": 71,
     "metadata": {},
     "output_type": "execute_result"
    }
   ],
   "source": [
    "# inspect five mouse cells (observations)\n",
    "mouse_adata.obs.head()"
   ]
  },
  {
   "cell_type": "code",
   "execution_count": 72,
   "metadata": {},
   "outputs": [
    {
     "data": {
      "text/plain": [
       "Counter({'beta': 894,\n",
       "         'ductal': 275,\n",
       "         'delta': 218,\n",
       "         'schwann': 6,\n",
       "         'quiescent_stellate': 47,\n",
       "         'endothelial': 139,\n",
       "         'gamma': 41,\n",
       "         'alpha': 191,\n",
       "         'macrophage': 36,\n",
       "         'immune_other': 8,\n",
       "         'activated_stellate': 14,\n",
       "         'B_cell': 10,\n",
       "         'T_cell': 7})"
      ]
     },
     "execution_count": 72,
     "metadata": {},
     "output_type": "execute_result"
    }
   ],
   "source": [
    "# inspect number of each type of mouse cell\n",
    "Counter(mouse_adata.obs[\"cell_types\"])"
   ]
  },
  {
   "cell_type": "code",
   "execution_count": 20,
   "metadata": {},
   "outputs": [],
   "source": [
    "# save the combined AnnData object to the file specified by the path\n",
    "mouse_adata.write_h5ad(\"/home/dor3/palmer_scratch/C2S_Files_Daphne/Cross_Species_Datasets/mouse_human_pancreas_tissue_Baron_et_al/processed_data/mouse_pancreas_all_samples_raw_adata.h5ad\")"
   ]
  },
  {
   "cell_type": "code",
   "execution_count": 73,
   "metadata": {},
   "outputs": [
    {
     "data": {
      "text/plain": [
       "AnnData object with n_obs × n_vars = 8569 × 20125\n",
       "    obs: 'cell_barcodes', 'cell_manual_ids', 'cell_types', 'batch_sample'\n",
       "    var: 'gene_name'"
      ]
     },
     "execution_count": 73,
     "metadata": {},
     "output_type": "execute_result"
    }
   ],
   "source": [
    "# concat the human cells (observations) from the four AnnData objects into a single AnnData object along the rows\n",
    "# human_adata contains all cells from the original datasets, with any overlapping genes (variables) aligned\n",
    "human_adata = anndata.concat([human1_adata, human2_adata, human3_adata, human4_adata], axis=0)\n",
    "\n",
    "# add new column \"gene_name\" in the variable annotations (var)\n",
    "# this makes the gene names more explicitly accessible as a column of the Dataframe\n",
    "human_adata.var[\"gene_name\"] = human_adata.var.index.tolist()\n",
    "human_adata"
   ]
  },
  {
   "cell_type": "code",
   "execution_count": 74,
   "metadata": {},
   "outputs": [
    {
     "data": {
      "text/html": [
       "<div>\n",
       "<style scoped>\n",
       "    .dataframe tbody tr th:only-of-type {\n",
       "        vertical-align: middle;\n",
       "    }\n",
       "\n",
       "    .dataframe tbody tr th {\n",
       "        vertical-align: top;\n",
       "    }\n",
       "\n",
       "    .dataframe thead th {\n",
       "        text-align: right;\n",
       "    }\n",
       "</style>\n",
       "<table border=\"1\" class=\"dataframe\">\n",
       "  <thead>\n",
       "    <tr style=\"text-align: right;\">\n",
       "      <th></th>\n",
       "      <th>cell_barcodes</th>\n",
       "      <th>cell_manual_ids</th>\n",
       "      <th>cell_types</th>\n",
       "      <th>batch_sample</th>\n",
       "    </tr>\n",
       "  </thead>\n",
       "  <tbody>\n",
       "    <tr>\n",
       "      <th>human1_lib1.final_cell_0001</th>\n",
       "      <td>GATGACGGAC-GGTGGGAT</td>\n",
       "      <td>human1_lib1.final_cell_0001</td>\n",
       "      <td>acinar</td>\n",
       "      <td>GSM2230757_human1_umifm_counts</td>\n",
       "    </tr>\n",
       "    <tr>\n",
       "      <th>human1_lib1.final_cell_0002</th>\n",
       "      <td>GAGCGTTGCT-ACCTTCTT</td>\n",
       "      <td>human1_lib1.final_cell_0002</td>\n",
       "      <td>acinar</td>\n",
       "      <td>GSM2230757_human1_umifm_counts</td>\n",
       "    </tr>\n",
       "    <tr>\n",
       "      <th>human1_lib1.final_cell_0003</th>\n",
       "      <td>CTTACGGG-CCATTACT</td>\n",
       "      <td>human1_lib1.final_cell_0003</td>\n",
       "      <td>acinar</td>\n",
       "      <td>GSM2230757_human1_umifm_counts</td>\n",
       "    </tr>\n",
       "    <tr>\n",
       "      <th>human1_lib1.final_cell_0004</th>\n",
       "      <td>GATGTACACG-TTAAACTG</td>\n",
       "      <td>human1_lib1.final_cell_0004</td>\n",
       "      <td>acinar</td>\n",
       "      <td>GSM2230757_human1_umifm_counts</td>\n",
       "    </tr>\n",
       "    <tr>\n",
       "      <th>human1_lib1.final_cell_0005</th>\n",
       "      <td>GAGATTGCGA-GTCGTCGT</td>\n",
       "      <td>human1_lib1.final_cell_0005</td>\n",
       "      <td>acinar</td>\n",
       "      <td>GSM2230757_human1_umifm_counts</td>\n",
       "    </tr>\n",
       "  </tbody>\n",
       "</table>\n",
       "</div>"
      ],
      "text/plain": [
       "                                   cell_barcodes              cell_manual_ids  \\\n",
       "human1_lib1.final_cell_0001  GATGACGGAC-GGTGGGAT  human1_lib1.final_cell_0001   \n",
       "human1_lib1.final_cell_0002  GAGCGTTGCT-ACCTTCTT  human1_lib1.final_cell_0002   \n",
       "human1_lib1.final_cell_0003    CTTACGGG-CCATTACT  human1_lib1.final_cell_0003   \n",
       "human1_lib1.final_cell_0004  GATGTACACG-TTAAACTG  human1_lib1.final_cell_0004   \n",
       "human1_lib1.final_cell_0005  GAGATTGCGA-GTCGTCGT  human1_lib1.final_cell_0005   \n",
       "\n",
       "                            cell_types                    batch_sample  \n",
       "human1_lib1.final_cell_0001     acinar  GSM2230757_human1_umifm_counts  \n",
       "human1_lib1.final_cell_0002     acinar  GSM2230757_human1_umifm_counts  \n",
       "human1_lib1.final_cell_0003     acinar  GSM2230757_human1_umifm_counts  \n",
       "human1_lib1.final_cell_0004     acinar  GSM2230757_human1_umifm_counts  \n",
       "human1_lib1.final_cell_0005     acinar  GSM2230757_human1_umifm_counts  "
      ]
     },
     "execution_count": 74,
     "metadata": {},
     "output_type": "execute_result"
    }
   ],
   "source": [
    "# inspect five human cells (observations)\n",
    "human_adata.obs.head()"
   ]
  },
  {
   "cell_type": "code",
   "execution_count": 76,
   "metadata": {},
   "outputs": [
    {
     "data": {
      "text/plain": [
       "Counter({'GSM2230757_human1_umifm_counts': 1937,\n",
       "         'GSM2230758_human2_umifm_counts': 1724,\n",
       "         'GSM2230759_human3_umifm_counts': 3605,\n",
       "         'GSM2230760_human4_umifm_counts': 1303})"
      ]
     },
     "execution_count": 76,
     "metadata": {},
     "output_type": "execute_result"
    }
   ],
   "source": [
    "# count and summarize the number of ocurrences of each unique batch or sample identifier\n",
    "Counter(human_adata.obs[\"batch_sample\"])"
   ]
  },
  {
   "cell_type": "code",
   "execution_count": 75,
   "metadata": {},
   "outputs": [
    {
     "data": {
      "text/plain": [
       "Counter({'acinar': 958,\n",
       "         'beta': 2525,\n",
       "         'delta': 601,\n",
       "         'activated_stellate': 284,\n",
       "         'ductal': 1077,\n",
       "         'alpha': 2326,\n",
       "         'epsilon': 18,\n",
       "         'gamma': 255,\n",
       "         'endothelial': 252,\n",
       "         'quiescent_stellate': 173,\n",
       "         'macrophage': 55,\n",
       "         'schwann': 13,\n",
       "         'mast': 25,\n",
       "         't_cell': 7})"
      ]
     },
     "execution_count": 75,
     "metadata": {},
     "output_type": "execute_result"
    }
   ],
   "source": [
    "# inspect number of each type of human cell\n",
    "Counter(human_adata.obs[\"cell_types\"])"
   ]
  },
  {
   "cell_type": "code",
   "execution_count": 77,
   "metadata": {},
   "outputs": [
    {
     "data": {
      "text/plain": [
       "<8569x20125 sparse matrix of type '<class 'numpy.float32'>'\n",
       "\twith 16171764 stored elements in Compressed Sparse Row format>"
      ]
     },
     "execution_count": 77,
     "metadata": {},
     "output_type": "execute_result"
    }
   ],
   "source": [
    "# inspect the primary data matrix in the human_adata object, which contains gene expression data for single-cell RNA-seq studies (rows = cells; cols = genes)\n",
    "human_adata.X"
   ]
  },
  {
   "cell_type": "code",
   "execution_count": 78,
   "metadata": {},
   "outputs": [
    {
     "data": {
      "text/plain": [
       "array([4., 6., 1., 1., 2., 1., 1., 1., 1., 1.], dtype=float32)"
      ]
     },
     "execution_count": 78,
     "metadata": {},
     "output_type": "execute_result"
    }
   ],
   "source": [
    "# since the primary data matrix is sparse,\n",
    "# we inspect the first 10 non-zero elements of the data matrix in the human_adata object\n",
    "human_adata.X.data[:10]"
   ]
  },
  {
   "cell_type": "code",
   "execution_count": 28,
   "metadata": {},
   "outputs": [],
   "source": [
    "# save the combined AnnData object to the file specified by the path\n",
    "human_adata.write_h5ad(\"/home/dor3/palmer_scratch/C2S_Files_Daphne/Cross_Species_Datasets/mouse_human_pancreas_tissue_Baron_et_al/processed_data/human_pancreas_all_samples_raw_adata.h5ad\")"
   ]
  },
  {
   "cell_type": "markdown",
   "metadata": {},
   "source": [
    "# Old loading code for 1 sample"
   ]
  },
  {
   "cell_type": "code",
   "execution_count": 29,
   "metadata": {},
   "outputs": [
    {
     "data": {
      "text/plain": [
       "(822, 14880)"
      ]
     },
     "execution_count": 29,
     "metadata": {},
     "output_type": "execute_result"
    }
   ],
   "source": [
    "fname = \"GSM2230761_mouse1_umifm_counts\"\n",
    "adata_mouse1_df = pd.read_csv(\n",
    "    os.path.join(BASE_DIR, f\"{fname}.csv\"), \n",
    "    index_col=0\n",
    ")\n",
    "adata_mouse1_df.shape"
   ]
  },
  {
   "cell_type": "code",
   "execution_count": 30,
   "metadata": {},
   "outputs": [
    {
     "data": {
      "text/html": [
       "<div>\n",
       "<style scoped>\n",
       "    .dataframe tbody tr th:only-of-type {\n",
       "        vertical-align: middle;\n",
       "    }\n",
       "\n",
       "    .dataframe tbody tr th {\n",
       "        vertical-align: top;\n",
       "    }\n",
       "\n",
       "    .dataframe thead th {\n",
       "        text-align: right;\n",
       "    }\n",
       "</style>\n",
       "<table border=\"1\" class=\"dataframe\">\n",
       "  <thead>\n",
       "    <tr style=\"text-align: right;\">\n",
       "      <th></th>\n",
       "      <th>barcode</th>\n",
       "      <th>assigned_cluster</th>\n",
       "      <th>0610007P14Rik</th>\n",
       "      <th>0610009B22Rik</th>\n",
       "      <th>0610009E02Rik</th>\n",
       "      <th>0610009L18Rik</th>\n",
       "      <th>0610009O20Rik</th>\n",
       "      <th>0610010F05Rik</th>\n",
       "      <th>0610010K14Rik</th>\n",
       "      <th>0610011F06Rik</th>\n",
       "      <th>...</th>\n",
       "      <th>Zw10</th>\n",
       "      <th>Zwilch</th>\n",
       "      <th>Zwint</th>\n",
       "      <th>Zxdb</th>\n",
       "      <th>Zxdc</th>\n",
       "      <th>Zyg11b</th>\n",
       "      <th>Zyx</th>\n",
       "      <th>Zzef1</th>\n",
       "      <th>Zzz3</th>\n",
       "      <th>l7Rn6</th>\n",
       "    </tr>\n",
       "  </thead>\n",
       "  <tbody>\n",
       "    <tr>\n",
       "      <th>mouse1_lib1.final_cell_0001</th>\n",
       "      <td>AAGTGAAAG-CGACTCCT</td>\n",
       "      <td>beta</td>\n",
       "      <td>0</td>\n",
       "      <td>0</td>\n",
       "      <td>0</td>\n",
       "      <td>0</td>\n",
       "      <td>0</td>\n",
       "      <td>2</td>\n",
       "      <td>0</td>\n",
       "      <td>1</td>\n",
       "      <td>...</td>\n",
       "      <td>0</td>\n",
       "      <td>0</td>\n",
       "      <td>1</td>\n",
       "      <td>0</td>\n",
       "      <td>0</td>\n",
       "      <td>0</td>\n",
       "      <td>0</td>\n",
       "      <td>1</td>\n",
       "      <td>0</td>\n",
       "      <td>1</td>\n",
       "    </tr>\n",
       "    <tr>\n",
       "      <th>mouse1_lib1.final_cell_0002</th>\n",
       "      <td>TGCAAGGG-GGCATGCT</td>\n",
       "      <td>ductal</td>\n",
       "      <td>2</td>\n",
       "      <td>0</td>\n",
       "      <td>0</td>\n",
       "      <td>0</td>\n",
       "      <td>0</td>\n",
       "      <td>1</td>\n",
       "      <td>0</td>\n",
       "      <td>1</td>\n",
       "      <td>...</td>\n",
       "      <td>0</td>\n",
       "      <td>0</td>\n",
       "      <td>1</td>\n",
       "      <td>0</td>\n",
       "      <td>0</td>\n",
       "      <td>0</td>\n",
       "      <td>1</td>\n",
       "      <td>0</td>\n",
       "      <td>0</td>\n",
       "      <td>1</td>\n",
       "    </tr>\n",
       "    <tr>\n",
       "      <th>mouse1_lib1.final_cell_0003</th>\n",
       "      <td>GAGAGCCCAT-CTTCTGGA</td>\n",
       "      <td>delta</td>\n",
       "      <td>0</td>\n",
       "      <td>0</td>\n",
       "      <td>1</td>\n",
       "      <td>0</td>\n",
       "      <td>0</td>\n",
       "      <td>0</td>\n",
       "      <td>0</td>\n",
       "      <td>1</td>\n",
       "      <td>...</td>\n",
       "      <td>0</td>\n",
       "      <td>0</td>\n",
       "      <td>0</td>\n",
       "      <td>0</td>\n",
       "      <td>1</td>\n",
       "      <td>0</td>\n",
       "      <td>0</td>\n",
       "      <td>1</td>\n",
       "      <td>0</td>\n",
       "      <td>2</td>\n",
       "    </tr>\n",
       "    <tr>\n",
       "      <th>mouse1_lib1.final_cell_0004</th>\n",
       "      <td>AAATCAGA-GTTGCACG</td>\n",
       "      <td>schwann</td>\n",
       "      <td>0</td>\n",
       "      <td>0</td>\n",
       "      <td>0</td>\n",
       "      <td>0</td>\n",
       "      <td>1</td>\n",
       "      <td>0</td>\n",
       "      <td>0</td>\n",
       "      <td>0</td>\n",
       "      <td>...</td>\n",
       "      <td>1</td>\n",
       "      <td>0</td>\n",
       "      <td>1</td>\n",
       "      <td>0</td>\n",
       "      <td>0</td>\n",
       "      <td>1</td>\n",
       "      <td>2</td>\n",
       "      <td>0</td>\n",
       "      <td>0</td>\n",
       "      <td>3</td>\n",
       "    </tr>\n",
       "    <tr>\n",
       "      <th>mouse1_lib1.final_cell_0005</th>\n",
       "      <td>GAGGCGTTAG-GGCTACTA</td>\n",
       "      <td>delta</td>\n",
       "      <td>1</td>\n",
       "      <td>1</td>\n",
       "      <td>0</td>\n",
       "      <td>0</td>\n",
       "      <td>0</td>\n",
       "      <td>0</td>\n",
       "      <td>0</td>\n",
       "      <td>0</td>\n",
       "      <td>...</td>\n",
       "      <td>0</td>\n",
       "      <td>0</td>\n",
       "      <td>1</td>\n",
       "      <td>0</td>\n",
       "      <td>0</td>\n",
       "      <td>0</td>\n",
       "      <td>0</td>\n",
       "      <td>1</td>\n",
       "      <td>1</td>\n",
       "      <td>0</td>\n",
       "    </tr>\n",
       "  </tbody>\n",
       "</table>\n",
       "<p>5 rows × 14880 columns</p>\n",
       "</div>"
      ],
      "text/plain": [
       "                                         barcode assigned_cluster  \\\n",
       "mouse1_lib1.final_cell_0001   AAGTGAAAG-CGACTCCT             beta   \n",
       "mouse1_lib1.final_cell_0002    TGCAAGGG-GGCATGCT           ductal   \n",
       "mouse1_lib1.final_cell_0003  GAGAGCCCAT-CTTCTGGA            delta   \n",
       "mouse1_lib1.final_cell_0004    AAATCAGA-GTTGCACG          schwann   \n",
       "mouse1_lib1.final_cell_0005  GAGGCGTTAG-GGCTACTA            delta   \n",
       "\n",
       "                             0610007P14Rik  0610009B22Rik  0610009E02Rik  \\\n",
       "mouse1_lib1.final_cell_0001              0              0              0   \n",
       "mouse1_lib1.final_cell_0002              2              0              0   \n",
       "mouse1_lib1.final_cell_0003              0              0              1   \n",
       "mouse1_lib1.final_cell_0004              0              0              0   \n",
       "mouse1_lib1.final_cell_0005              1              1              0   \n",
       "\n",
       "                             0610009L18Rik  0610009O20Rik  0610010F05Rik  \\\n",
       "mouse1_lib1.final_cell_0001              0              0              2   \n",
       "mouse1_lib1.final_cell_0002              0              0              1   \n",
       "mouse1_lib1.final_cell_0003              0              0              0   \n",
       "mouse1_lib1.final_cell_0004              0              1              0   \n",
       "mouse1_lib1.final_cell_0005              0              0              0   \n",
       "\n",
       "                             0610010K14Rik  0610011F06Rik  ...  Zw10  Zwilch  \\\n",
       "mouse1_lib1.final_cell_0001              0              1  ...     0       0   \n",
       "mouse1_lib1.final_cell_0002              0              1  ...     0       0   \n",
       "mouse1_lib1.final_cell_0003              0              1  ...     0       0   \n",
       "mouse1_lib1.final_cell_0004              0              0  ...     1       0   \n",
       "mouse1_lib1.final_cell_0005              0              0  ...     0       0   \n",
       "\n",
       "                             Zwint  Zxdb  Zxdc  Zyg11b  Zyx  Zzef1  Zzz3  \\\n",
       "mouse1_lib1.final_cell_0001      1     0     0       0    0      1     0   \n",
       "mouse1_lib1.final_cell_0002      1     0     0       0    1      0     0   \n",
       "mouse1_lib1.final_cell_0003      0     0     1       0    0      1     0   \n",
       "mouse1_lib1.final_cell_0004      1     0     0       1    2      0     0   \n",
       "mouse1_lib1.final_cell_0005      1     0     0       0    0      1     1   \n",
       "\n",
       "                             l7Rn6  \n",
       "mouse1_lib1.final_cell_0001      1  \n",
       "mouse1_lib1.final_cell_0002      1  \n",
       "mouse1_lib1.final_cell_0003      2  \n",
       "mouse1_lib1.final_cell_0004      3  \n",
       "mouse1_lib1.final_cell_0005      0  \n",
       "\n",
       "[5 rows x 14880 columns]"
      ]
     },
     "execution_count": 30,
     "metadata": {},
     "output_type": "execute_result"
    }
   ],
   "source": [
    "adata_mouse1_df.head()"
   ]
  },
  {
   "cell_type": "code",
   "execution_count": 31,
   "metadata": {},
   "outputs": [
    {
     "data": {
      "text/plain": [
       "(1937, 20127)"
      ]
     },
     "execution_count": 31,
     "metadata": {},
     "output_type": "execute_result"
    }
   ],
   "source": [
    "fname = \"GSM2230757_human1_umifm_counts\"\n",
    "adata_human1_df = pd.read_csv(\n",
    "    os.path.join(BASE_DIR, f\"{fname}.csv\"), \n",
    "    index_col=0\n",
    ")\n",
    "adata_human1_df.shape"
   ]
  },
  {
   "cell_type": "code",
   "execution_count": 32,
   "metadata": {},
   "outputs": [
    {
     "data": {
      "text/html": [
       "<div>\n",
       "<style scoped>\n",
       "    .dataframe tbody tr th:only-of-type {\n",
       "        vertical-align: middle;\n",
       "    }\n",
       "\n",
       "    .dataframe tbody tr th {\n",
       "        vertical-align: top;\n",
       "    }\n",
       "\n",
       "    .dataframe thead th {\n",
       "        text-align: right;\n",
       "    }\n",
       "</style>\n",
       "<table border=\"1\" class=\"dataframe\">\n",
       "  <thead>\n",
       "    <tr style=\"text-align: right;\">\n",
       "      <th></th>\n",
       "      <th>barcode</th>\n",
       "      <th>assigned_cluster</th>\n",
       "      <th>A1BG</th>\n",
       "      <th>A1CF</th>\n",
       "      <th>A2M</th>\n",
       "      <th>A2ML1</th>\n",
       "      <th>A4GALT</th>\n",
       "      <th>A4GNT</th>\n",
       "      <th>AA06</th>\n",
       "      <th>AAAS</th>\n",
       "      <th>...</th>\n",
       "      <th>ZWILCH</th>\n",
       "      <th>ZWINT</th>\n",
       "      <th>ZXDA</th>\n",
       "      <th>ZXDB</th>\n",
       "      <th>ZXDC</th>\n",
       "      <th>ZYG11B</th>\n",
       "      <th>ZYX</th>\n",
       "      <th>ZZEF1</th>\n",
       "      <th>ZZZ3</th>\n",
       "      <th>pk</th>\n",
       "    </tr>\n",
       "  </thead>\n",
       "  <tbody>\n",
       "    <tr>\n",
       "      <th>human1_lib1.final_cell_0001</th>\n",
       "      <td>GATGACGGAC-GGTGGGAT</td>\n",
       "      <td>acinar</td>\n",
       "      <td>0</td>\n",
       "      <td>4</td>\n",
       "      <td>0</td>\n",
       "      <td>0</td>\n",
       "      <td>0</td>\n",
       "      <td>0</td>\n",
       "      <td>0</td>\n",
       "      <td>0</td>\n",
       "      <td>...</td>\n",
       "      <td>0</td>\n",
       "      <td>0</td>\n",
       "      <td>0</td>\n",
       "      <td>0</td>\n",
       "      <td>0</td>\n",
       "      <td>0</td>\n",
       "      <td>2</td>\n",
       "      <td>0</td>\n",
       "      <td>0</td>\n",
       "      <td>1</td>\n",
       "    </tr>\n",
       "    <tr>\n",
       "      <th>human1_lib1.final_cell_0002</th>\n",
       "      <td>GAGCGTTGCT-ACCTTCTT</td>\n",
       "      <td>acinar</td>\n",
       "      <td>0</td>\n",
       "      <td>0</td>\n",
       "      <td>0</td>\n",
       "      <td>0</td>\n",
       "      <td>0</td>\n",
       "      <td>0</td>\n",
       "      <td>0</td>\n",
       "      <td>0</td>\n",
       "      <td>...</td>\n",
       "      <td>0</td>\n",
       "      <td>0</td>\n",
       "      <td>0</td>\n",
       "      <td>0</td>\n",
       "      <td>0</td>\n",
       "      <td>1</td>\n",
       "      <td>4</td>\n",
       "      <td>0</td>\n",
       "      <td>1</td>\n",
       "      <td>0</td>\n",
       "    </tr>\n",
       "    <tr>\n",
       "      <th>human1_lib1.final_cell_0003</th>\n",
       "      <td>CTTACGGG-CCATTACT</td>\n",
       "      <td>acinar</td>\n",
       "      <td>0</td>\n",
       "      <td>0</td>\n",
       "      <td>0</td>\n",
       "      <td>0</td>\n",
       "      <td>0</td>\n",
       "      <td>0</td>\n",
       "      <td>0</td>\n",
       "      <td>0</td>\n",
       "      <td>...</td>\n",
       "      <td>0</td>\n",
       "      <td>0</td>\n",
       "      <td>0</td>\n",
       "      <td>0</td>\n",
       "      <td>0</td>\n",
       "      <td>0</td>\n",
       "      <td>0</td>\n",
       "      <td>0</td>\n",
       "      <td>0</td>\n",
       "      <td>0</td>\n",
       "    </tr>\n",
       "    <tr>\n",
       "      <th>human1_lib1.final_cell_0004</th>\n",
       "      <td>GATGTACACG-TTAAACTG</td>\n",
       "      <td>acinar</td>\n",
       "      <td>0</td>\n",
       "      <td>0</td>\n",
       "      <td>0</td>\n",
       "      <td>0</td>\n",
       "      <td>0</td>\n",
       "      <td>0</td>\n",
       "      <td>0</td>\n",
       "      <td>1</td>\n",
       "      <td>...</td>\n",
       "      <td>1</td>\n",
       "      <td>0</td>\n",
       "      <td>0</td>\n",
       "      <td>0</td>\n",
       "      <td>0</td>\n",
       "      <td>1</td>\n",
       "      <td>3</td>\n",
       "      <td>1</td>\n",
       "      <td>0</td>\n",
       "      <td>0</td>\n",
       "    </tr>\n",
       "    <tr>\n",
       "      <th>human1_lib1.final_cell_0005</th>\n",
       "      <td>GAGATTGCGA-GTCGTCGT</td>\n",
       "      <td>acinar</td>\n",
       "      <td>0</td>\n",
       "      <td>0</td>\n",
       "      <td>0</td>\n",
       "      <td>0</td>\n",
       "      <td>0</td>\n",
       "      <td>0</td>\n",
       "      <td>0</td>\n",
       "      <td>0</td>\n",
       "      <td>...</td>\n",
       "      <td>0</td>\n",
       "      <td>0</td>\n",
       "      <td>0</td>\n",
       "      <td>0</td>\n",
       "      <td>0</td>\n",
       "      <td>0</td>\n",
       "      <td>1</td>\n",
       "      <td>0</td>\n",
       "      <td>0</td>\n",
       "      <td>1</td>\n",
       "    </tr>\n",
       "  </tbody>\n",
       "</table>\n",
       "<p>5 rows × 20127 columns</p>\n",
       "</div>"
      ],
      "text/plain": [
       "                                         barcode assigned_cluster  A1BG  A1CF  \\\n",
       "human1_lib1.final_cell_0001  GATGACGGAC-GGTGGGAT           acinar     0     4   \n",
       "human1_lib1.final_cell_0002  GAGCGTTGCT-ACCTTCTT           acinar     0     0   \n",
       "human1_lib1.final_cell_0003    CTTACGGG-CCATTACT           acinar     0     0   \n",
       "human1_lib1.final_cell_0004  GATGTACACG-TTAAACTG           acinar     0     0   \n",
       "human1_lib1.final_cell_0005  GAGATTGCGA-GTCGTCGT           acinar     0     0   \n",
       "\n",
       "                             A2M  A2ML1  A4GALT  A4GNT  AA06  AAAS  ...  \\\n",
       "human1_lib1.final_cell_0001    0      0       0      0     0     0  ...   \n",
       "human1_lib1.final_cell_0002    0      0       0      0     0     0  ...   \n",
       "human1_lib1.final_cell_0003    0      0       0      0     0     0  ...   \n",
       "human1_lib1.final_cell_0004    0      0       0      0     0     1  ...   \n",
       "human1_lib1.final_cell_0005    0      0       0      0     0     0  ...   \n",
       "\n",
       "                             ZWILCH  ZWINT  ZXDA  ZXDB  ZXDC  ZYG11B  ZYX  \\\n",
       "human1_lib1.final_cell_0001       0      0     0     0     0       0    2   \n",
       "human1_lib1.final_cell_0002       0      0     0     0     0       1    4   \n",
       "human1_lib1.final_cell_0003       0      0     0     0     0       0    0   \n",
       "human1_lib1.final_cell_0004       1      0     0     0     0       1    3   \n",
       "human1_lib1.final_cell_0005       0      0     0     0     0       0    1   \n",
       "\n",
       "                             ZZEF1  ZZZ3  pk  \n",
       "human1_lib1.final_cell_0001      0     0   1  \n",
       "human1_lib1.final_cell_0002      0     1   0  \n",
       "human1_lib1.final_cell_0003      0     0   0  \n",
       "human1_lib1.final_cell_0004      1     0   0  \n",
       "human1_lib1.final_cell_0005      0     0   1  \n",
       "\n",
       "[5 rows x 20127 columns]"
      ]
     },
     "execution_count": 32,
     "metadata": {},
     "output_type": "execute_result"
    }
   ],
   "source": [
    "adata_human1_df.head()"
   ]
  },
  {
   "cell_type": "code",
   "execution_count": 33,
   "metadata": {},
   "outputs": [
    {
     "data": {
      "text/plain": [
       "['GATGACGGAC-GGTGGGAT', 'GAGCGTTGCT-ACCTTCTT', 'CTTACGGG-CCATTACT']"
      ]
     },
     "execution_count": 33,
     "metadata": {},
     "output_type": "execute_result"
    }
   ],
   "source": [
    "cell_barcodes = adata_human1_df[\"barcode\"].tolist()\n",
    "len(cell_barcodes)\n",
    "cell_barcodes[:3]"
   ]
  },
  {
   "cell_type": "code",
   "execution_count": 34,
   "metadata": {},
   "outputs": [
    {
     "data": {
      "text/plain": [
       "['acinar', 'acinar', 'acinar']"
      ]
     },
     "execution_count": 34,
     "metadata": {},
     "output_type": "execute_result"
    }
   ],
   "source": [
    "cell_types = adata_human1_df[\"assigned_cluster\"].tolist()\n",
    "len(cell_types)\n",
    "cell_types[:3]"
   ]
  },
  {
   "cell_type": "code",
   "execution_count": 35,
   "metadata": {},
   "outputs": [
    {
     "data": {
      "text/plain": [
       "[1, 0, 0]"
      ]
     },
     "execution_count": 35,
     "metadata": {},
     "output_type": "execute_result"
    }
   ],
   "source": [
    "pk_list = adata_human1_df[\"pk\"].tolist()\n",
    "len(pk_list)\n",
    "pk_list[:3]"
   ]
  },
  {
   "cell_type": "code",
   "execution_count": 36,
   "metadata": {},
   "outputs": [
    {
     "data": {
      "text/plain": [
       "['human1_lib1.final_cell_0001',\n",
       " 'human1_lib1.final_cell_0002',\n",
       " 'human1_lib1.final_cell_0003']"
      ]
     },
     "execution_count": 36,
     "metadata": {},
     "output_type": "execute_result"
    }
   ],
   "source": [
    "cell_manual_ids = adata_human1_df.index.tolist()\n",
    "len(cell_manual_ids)\n",
    "cell_manual_ids[:3]"
   ]
  },
  {
   "cell_type": "code",
   "execution_count": 37,
   "metadata": {},
   "outputs": [],
   "source": [
    "batch_sample = [fname] * len(cell_manual_ids)"
   ]
  },
  {
   "cell_type": "code",
   "execution_count": 38,
   "metadata": {},
   "outputs": [
    {
     "name": "stdout",
     "output_type": "stream",
     "text": [
      "(1937, 20124)\n",
      "float32\n",
      "<class 'scipy.sparse._csr.csr_matrix'>\n"
     ]
    }
   ],
   "source": [
    "cellxgene_matrix = adata_human1_df.iloc[:, 2:-1].to_numpy().astype(np.float32)\n",
    "cellxgene_matrix = scipy.sparse.csr_matrix(cellxgene_matrix)\n",
    "print(cellxgene_matrix.shape)\n",
    "print(cellxgene_matrix.dtype)\n",
    "print(type(cellxgene_matrix))"
   ]
  },
  {
   "cell_type": "code",
   "execution_count": 39,
   "metadata": {},
   "outputs": [
    {
     "name": "stdout",
     "output_type": "stream",
     "text": [
      "[4. 6. 1. 1. 2. 1. 1. 1. 1. 1.]\n"
     ]
    },
    {
     "data": {
      "text/plain": [
       "<1937x20124 sparse matrix of type '<class 'numpy.float32'>'\n",
       "\twith 3726243 stored elements in Compressed Sparse Row format>"
      ]
     },
     "execution_count": 39,
     "metadata": {},
     "output_type": "execute_result"
    }
   ],
   "source": [
    "print(cellxgene_matrix.data[:10])\n",
    "cellxgene_matrix"
   ]
  },
  {
   "cell_type": "code",
   "execution_count": 40,
   "metadata": {},
   "outputs": [
    {
     "data": {
      "text/html": [
       "<div>\n",
       "<style scoped>\n",
       "    .dataframe tbody tr th:only-of-type {\n",
       "        vertical-align: middle;\n",
       "    }\n",
       "\n",
       "    .dataframe tbody tr th {\n",
       "        vertical-align: top;\n",
       "    }\n",
       "\n",
       "    .dataframe thead th {\n",
       "        text-align: right;\n",
       "    }\n",
       "</style>\n",
       "<table border=\"1\" class=\"dataframe\">\n",
       "  <thead>\n",
       "    <tr style=\"text-align: right;\">\n",
       "      <th></th>\n",
       "      <th>A1BG</th>\n",
       "      <th>A1CF</th>\n",
       "      <th>A2M</th>\n",
       "      <th>A2ML1</th>\n",
       "      <th>A4GALT</th>\n",
       "      <th>A4GNT</th>\n",
       "      <th>AA06</th>\n",
       "      <th>AAAS</th>\n",
       "      <th>AACS</th>\n",
       "      <th>AACSP1</th>\n",
       "      <th>...</th>\n",
       "      <th>ZW10</th>\n",
       "      <th>ZWILCH</th>\n",
       "      <th>ZWINT</th>\n",
       "      <th>ZXDA</th>\n",
       "      <th>ZXDB</th>\n",
       "      <th>ZXDC</th>\n",
       "      <th>ZYG11B</th>\n",
       "      <th>ZYX</th>\n",
       "      <th>ZZEF1</th>\n",
       "      <th>ZZZ3</th>\n",
       "    </tr>\n",
       "  </thead>\n",
       "  <tbody>\n",
       "    <tr>\n",
       "      <th>human1_lib1.final_cell_0001</th>\n",
       "      <td>0</td>\n",
       "      <td>4</td>\n",
       "      <td>0</td>\n",
       "      <td>0</td>\n",
       "      <td>0</td>\n",
       "      <td>0</td>\n",
       "      <td>0</td>\n",
       "      <td>0</td>\n",
       "      <td>0</td>\n",
       "      <td>0</td>\n",
       "      <td>...</td>\n",
       "      <td>1</td>\n",
       "      <td>0</td>\n",
       "      <td>0</td>\n",
       "      <td>0</td>\n",
       "      <td>0</td>\n",
       "      <td>0</td>\n",
       "      <td>0</td>\n",
       "      <td>2</td>\n",
       "      <td>0</td>\n",
       "      <td>0</td>\n",
       "    </tr>\n",
       "    <tr>\n",
       "      <th>human1_lib1.final_cell_0002</th>\n",
       "      <td>0</td>\n",
       "      <td>0</td>\n",
       "      <td>0</td>\n",
       "      <td>0</td>\n",
       "      <td>0</td>\n",
       "      <td>0</td>\n",
       "      <td>0</td>\n",
       "      <td>0</td>\n",
       "      <td>2</td>\n",
       "      <td>0</td>\n",
       "      <td>...</td>\n",
       "      <td>0</td>\n",
       "      <td>0</td>\n",
       "      <td>0</td>\n",
       "      <td>0</td>\n",
       "      <td>0</td>\n",
       "      <td>0</td>\n",
       "      <td>1</td>\n",
       "      <td>4</td>\n",
       "      <td>0</td>\n",
       "      <td>1</td>\n",
       "    </tr>\n",
       "    <tr>\n",
       "      <th>human1_lib1.final_cell_0003</th>\n",
       "      <td>0</td>\n",
       "      <td>0</td>\n",
       "      <td>0</td>\n",
       "      <td>0</td>\n",
       "      <td>0</td>\n",
       "      <td>0</td>\n",
       "      <td>0</td>\n",
       "      <td>0</td>\n",
       "      <td>0</td>\n",
       "      <td>0</td>\n",
       "      <td>...</td>\n",
       "      <td>0</td>\n",
       "      <td>0</td>\n",
       "      <td>0</td>\n",
       "      <td>0</td>\n",
       "      <td>0</td>\n",
       "      <td>0</td>\n",
       "      <td>0</td>\n",
       "      <td>0</td>\n",
       "      <td>0</td>\n",
       "      <td>0</td>\n",
       "    </tr>\n",
       "    <tr>\n",
       "      <th>human1_lib1.final_cell_0004</th>\n",
       "      <td>0</td>\n",
       "      <td>0</td>\n",
       "      <td>0</td>\n",
       "      <td>0</td>\n",
       "      <td>0</td>\n",
       "      <td>0</td>\n",
       "      <td>0</td>\n",
       "      <td>1</td>\n",
       "      <td>0</td>\n",
       "      <td>0</td>\n",
       "      <td>...</td>\n",
       "      <td>0</td>\n",
       "      <td>1</td>\n",
       "      <td>0</td>\n",
       "      <td>0</td>\n",
       "      <td>0</td>\n",
       "      <td>0</td>\n",
       "      <td>1</td>\n",
       "      <td>3</td>\n",
       "      <td>1</td>\n",
       "      <td>0</td>\n",
       "    </tr>\n",
       "    <tr>\n",
       "      <th>human1_lib1.final_cell_0005</th>\n",
       "      <td>0</td>\n",
       "      <td>0</td>\n",
       "      <td>0</td>\n",
       "      <td>0</td>\n",
       "      <td>0</td>\n",
       "      <td>0</td>\n",
       "      <td>0</td>\n",
       "      <td>0</td>\n",
       "      <td>0</td>\n",
       "      <td>0</td>\n",
       "      <td>...</td>\n",
       "      <td>0</td>\n",
       "      <td>0</td>\n",
       "      <td>0</td>\n",
       "      <td>0</td>\n",
       "      <td>0</td>\n",
       "      <td>0</td>\n",
       "      <td>0</td>\n",
       "      <td>1</td>\n",
       "      <td>0</td>\n",
       "      <td>0</td>\n",
       "    </tr>\n",
       "  </tbody>\n",
       "</table>\n",
       "<p>5 rows × 20124 columns</p>\n",
       "</div>"
      ],
      "text/plain": [
       "                             A1BG  A1CF  A2M  A2ML1  A4GALT  A4GNT  AA06  \\\n",
       "human1_lib1.final_cell_0001     0     4    0      0       0      0     0   \n",
       "human1_lib1.final_cell_0002     0     0    0      0       0      0     0   \n",
       "human1_lib1.final_cell_0003     0     0    0      0       0      0     0   \n",
       "human1_lib1.final_cell_0004     0     0    0      0       0      0     0   \n",
       "human1_lib1.final_cell_0005     0     0    0      0       0      0     0   \n",
       "\n",
       "                             AAAS  AACS  AACSP1  ...  ZW10  ZWILCH  ZWINT  \\\n",
       "human1_lib1.final_cell_0001     0     0       0  ...     1       0      0   \n",
       "human1_lib1.final_cell_0002     0     2       0  ...     0       0      0   \n",
       "human1_lib1.final_cell_0003     0     0       0  ...     0       0      0   \n",
       "human1_lib1.final_cell_0004     1     0       0  ...     0       1      0   \n",
       "human1_lib1.final_cell_0005     0     0       0  ...     0       0      0   \n",
       "\n",
       "                             ZXDA  ZXDB  ZXDC  ZYG11B  ZYX  ZZEF1  ZZZ3  \n",
       "human1_lib1.final_cell_0001     0     0     0       0    2      0     0  \n",
       "human1_lib1.final_cell_0002     0     0     0       1    4      0     1  \n",
       "human1_lib1.final_cell_0003     0     0     0       0    0      0     0  \n",
       "human1_lib1.final_cell_0004     0     0     0       1    3      1     0  \n",
       "human1_lib1.final_cell_0005     0     0     0       0    1      0     0  \n",
       "\n",
       "[5 rows x 20124 columns]"
      ]
     },
     "execution_count": 40,
     "metadata": {},
     "output_type": "execute_result"
    }
   ],
   "source": [
    "adata_human1_df.iloc[:, 2:-1].head()"
   ]
  },
  {
   "cell_type": "code",
   "execution_count": 41,
   "metadata": {},
   "outputs": [
    {
     "name": "stdout",
     "output_type": "stream",
     "text": [
      "20124\n"
     ]
    },
    {
     "data": {
      "text/plain": [
       "['A1BG', 'A1CF', 'A2M']"
      ]
     },
     "execution_count": 41,
     "metadata": {},
     "output_type": "execute_result"
    }
   ],
   "source": [
    "gene_names = adata_human1_df.iloc[:, 2:-1].columns.tolist()\n",
    "print(len(gene_names))\n",
    "gene_names = [name.upper() for name in gene_names]\n",
    "gene_names[:3]"
   ]
  },
  {
   "cell_type": "code",
   "execution_count": 42,
   "metadata": {},
   "outputs": [],
   "source": [
    "obs_df = pd.DataFrame({\n",
    "    \"cell_barcodes\": cell_barcodes,\n",
    "    \"cell_manual_ids\": cell_manual_ids,\n",
    "    \"cell_types\": cell_types,\n",
    "    \"batch_sample\": batch_sample,\n",
    "    \"pk_list\": pk_list,\n",
    "}, index=cell_manual_ids)\n",
    "var_df = pd.DataFrame({\n",
    "    \"gene_names\": gene_names\n",
    "}, index=gene_names)\n",
    "adata = anndata.AnnData(\n",
    "    X=cellxgene_matrix,\n",
    "    obs=obs_df,\n",
    "    var=var_df,\n",
    ")"
   ]
  },
  {
   "cell_type": "code",
   "execution_count": 43,
   "metadata": {},
   "outputs": [
    {
     "data": {
      "text/plain": [
       "AnnData object with n_obs × n_vars = 1937 × 20124\n",
       "    obs: 'cell_barcodes', 'cell_manual_ids', 'cell_types', 'batch_sample', 'pk_list'\n",
       "    var: 'gene_names'"
      ]
     },
     "execution_count": 43,
     "metadata": {},
     "output_type": "execute_result"
    }
   ],
   "source": [
    "adata"
   ]
  },
  {
   "cell_type": "code",
   "execution_count": 44,
   "metadata": {},
   "outputs": [
    {
     "data": {
      "text/html": [
       "<div>\n",
       "<style scoped>\n",
       "    .dataframe tbody tr th:only-of-type {\n",
       "        vertical-align: middle;\n",
       "    }\n",
       "\n",
       "    .dataframe tbody tr th {\n",
       "        vertical-align: top;\n",
       "    }\n",
       "\n",
       "    .dataframe thead th {\n",
       "        text-align: right;\n",
       "    }\n",
       "</style>\n",
       "<table border=\"1\" class=\"dataframe\">\n",
       "  <thead>\n",
       "    <tr style=\"text-align: right;\">\n",
       "      <th></th>\n",
       "      <th>cell_barcodes</th>\n",
       "      <th>cell_manual_ids</th>\n",
       "      <th>cell_types</th>\n",
       "      <th>batch_sample</th>\n",
       "      <th>pk_list</th>\n",
       "    </tr>\n",
       "  </thead>\n",
       "  <tbody>\n",
       "    <tr>\n",
       "      <th>human1_lib1.final_cell_0001</th>\n",
       "      <td>GATGACGGAC-GGTGGGAT</td>\n",
       "      <td>human1_lib1.final_cell_0001</td>\n",
       "      <td>acinar</td>\n",
       "      <td>GSM2230757_human1_umifm_counts</td>\n",
       "      <td>1</td>\n",
       "    </tr>\n",
       "    <tr>\n",
       "      <th>human1_lib1.final_cell_0002</th>\n",
       "      <td>GAGCGTTGCT-ACCTTCTT</td>\n",
       "      <td>human1_lib1.final_cell_0002</td>\n",
       "      <td>acinar</td>\n",
       "      <td>GSM2230757_human1_umifm_counts</td>\n",
       "      <td>0</td>\n",
       "    </tr>\n",
       "    <tr>\n",
       "      <th>human1_lib1.final_cell_0003</th>\n",
       "      <td>CTTACGGG-CCATTACT</td>\n",
       "      <td>human1_lib1.final_cell_0003</td>\n",
       "      <td>acinar</td>\n",
       "      <td>GSM2230757_human1_umifm_counts</td>\n",
       "      <td>0</td>\n",
       "    </tr>\n",
       "    <tr>\n",
       "      <th>human1_lib1.final_cell_0004</th>\n",
       "      <td>GATGTACACG-TTAAACTG</td>\n",
       "      <td>human1_lib1.final_cell_0004</td>\n",
       "      <td>acinar</td>\n",
       "      <td>GSM2230757_human1_umifm_counts</td>\n",
       "      <td>0</td>\n",
       "    </tr>\n",
       "    <tr>\n",
       "      <th>human1_lib1.final_cell_0005</th>\n",
       "      <td>GAGATTGCGA-GTCGTCGT</td>\n",
       "      <td>human1_lib1.final_cell_0005</td>\n",
       "      <td>acinar</td>\n",
       "      <td>GSM2230757_human1_umifm_counts</td>\n",
       "      <td>1</td>\n",
       "    </tr>\n",
       "  </tbody>\n",
       "</table>\n",
       "</div>"
      ],
      "text/plain": [
       "                                   cell_barcodes              cell_manual_ids  \\\n",
       "human1_lib1.final_cell_0001  GATGACGGAC-GGTGGGAT  human1_lib1.final_cell_0001   \n",
       "human1_lib1.final_cell_0002  GAGCGTTGCT-ACCTTCTT  human1_lib1.final_cell_0002   \n",
       "human1_lib1.final_cell_0003    CTTACGGG-CCATTACT  human1_lib1.final_cell_0003   \n",
       "human1_lib1.final_cell_0004  GATGTACACG-TTAAACTG  human1_lib1.final_cell_0004   \n",
       "human1_lib1.final_cell_0005  GAGATTGCGA-GTCGTCGT  human1_lib1.final_cell_0005   \n",
       "\n",
       "                            cell_types                    batch_sample  \\\n",
       "human1_lib1.final_cell_0001     acinar  GSM2230757_human1_umifm_counts   \n",
       "human1_lib1.final_cell_0002     acinar  GSM2230757_human1_umifm_counts   \n",
       "human1_lib1.final_cell_0003     acinar  GSM2230757_human1_umifm_counts   \n",
       "human1_lib1.final_cell_0004     acinar  GSM2230757_human1_umifm_counts   \n",
       "human1_lib1.final_cell_0005     acinar  GSM2230757_human1_umifm_counts   \n",
       "\n",
       "                             pk_list  \n",
       "human1_lib1.final_cell_0001        1  \n",
       "human1_lib1.final_cell_0002        0  \n",
       "human1_lib1.final_cell_0003        0  \n",
       "human1_lib1.final_cell_0004        0  \n",
       "human1_lib1.final_cell_0005        1  "
      ]
     },
     "execution_count": 44,
     "metadata": {},
     "output_type": "execute_result"
    }
   ],
   "source": [
    "adata.obs.head()"
   ]
  },
  {
   "cell_type": "code",
   "execution_count": 45,
   "metadata": {},
   "outputs": [
    {
     "data": {
      "text/html": [
       "<div>\n",
       "<style scoped>\n",
       "    .dataframe tbody tr th:only-of-type {\n",
       "        vertical-align: middle;\n",
       "    }\n",
       "\n",
       "    .dataframe tbody tr th {\n",
       "        vertical-align: top;\n",
       "    }\n",
       "\n",
       "    .dataframe thead th {\n",
       "        text-align: right;\n",
       "    }\n",
       "</style>\n",
       "<table border=\"1\" class=\"dataframe\">\n",
       "  <thead>\n",
       "    <tr style=\"text-align: right;\">\n",
       "      <th></th>\n",
       "      <th>gene_names</th>\n",
       "    </tr>\n",
       "  </thead>\n",
       "  <tbody>\n",
       "    <tr>\n",
       "      <th>A1BG</th>\n",
       "      <td>A1BG</td>\n",
       "    </tr>\n",
       "    <tr>\n",
       "      <th>A1CF</th>\n",
       "      <td>A1CF</td>\n",
       "    </tr>\n",
       "    <tr>\n",
       "      <th>A2M</th>\n",
       "      <td>A2M</td>\n",
       "    </tr>\n",
       "    <tr>\n",
       "      <th>A2ML1</th>\n",
       "      <td>A2ML1</td>\n",
       "    </tr>\n",
       "    <tr>\n",
       "      <th>A4GALT</th>\n",
       "      <td>A4GALT</td>\n",
       "    </tr>\n",
       "  </tbody>\n",
       "</table>\n",
       "</div>"
      ],
      "text/plain": [
       "       gene_names\n",
       "A1BG         A1BG\n",
       "A1CF         A1CF\n",
       "A2M           A2M\n",
       "A2ML1       A2ML1\n",
       "A4GALT     A4GALT"
      ]
     },
     "execution_count": 45,
     "metadata": {},
     "output_type": "execute_result"
    }
   ],
   "source": [
    "adata.var.head()"
   ]
  },
  {
   "cell_type": "code",
   "execution_count": 46,
   "metadata": {},
   "outputs": [
    {
     "data": {
      "text/plain": [
       "True"
      ]
     },
     "execution_count": 46,
     "metadata": {},
     "output_type": "execute_result"
    }
   ],
   "source": [
    "adata.raw is None"
   ]
  },
  {
   "cell_type": "code",
   "execution_count": 47,
   "metadata": {},
   "outputs": [
    {
     "data": {
      "text/plain": [
       "(1303, 20127)"
      ]
     },
     "execution_count": 47,
     "metadata": {},
     "output_type": "execute_result"
    }
   ],
   "source": [
    "adata_human2_df = pd.read_csv(\n",
    "    os.path.join(BASE_DIR, \"GSM2230760_human4_umifm_counts.csv\"), \n",
    "    index_col=0\n",
    ")\n",
    "adata_human2_df.shape"
   ]
  },
  {
   "cell_type": "code",
   "execution_count": 48,
   "metadata": {},
   "outputs": [
    {
     "data": {
      "text/html": [
       "<div>\n",
       "<style scoped>\n",
       "    .dataframe tbody tr th:only-of-type {\n",
       "        vertical-align: middle;\n",
       "    }\n",
       "\n",
       "    .dataframe tbody tr th {\n",
       "        vertical-align: top;\n",
       "    }\n",
       "\n",
       "    .dataframe thead th {\n",
       "        text-align: right;\n",
       "    }\n",
       "</style>\n",
       "<table border=\"1\" class=\"dataframe\">\n",
       "  <thead>\n",
       "    <tr style=\"text-align: right;\">\n",
       "      <th></th>\n",
       "      <th>barcode</th>\n",
       "      <th>assigned_cluster</th>\n",
       "      <th>A1BG</th>\n",
       "      <th>A1CF</th>\n",
       "      <th>A2M</th>\n",
       "      <th>A2ML1</th>\n",
       "      <th>A4GALT</th>\n",
       "      <th>A4GNT</th>\n",
       "      <th>AA06</th>\n",
       "      <th>AAAS</th>\n",
       "      <th>...</th>\n",
       "      <th>ZWILCH</th>\n",
       "      <th>ZWINT</th>\n",
       "      <th>ZXDA</th>\n",
       "      <th>ZXDB</th>\n",
       "      <th>ZXDC</th>\n",
       "      <th>ZYG11B</th>\n",
       "      <th>ZYX</th>\n",
       "      <th>ZZEF1</th>\n",
       "      <th>ZZZ3</th>\n",
       "      <th>pk</th>\n",
       "    </tr>\n",
       "  </thead>\n",
       "  <tbody>\n",
       "    <tr>\n",
       "      <th>human4_lib1.final_cell_0001</th>\n",
       "      <td>AATATCTTC-AGTGAAAG</td>\n",
       "      <td>ductal</td>\n",
       "      <td>0</td>\n",
       "      <td>1</td>\n",
       "      <td>0</td>\n",
       "      <td>0</td>\n",
       "      <td>0</td>\n",
       "      <td>0</td>\n",
       "      <td>0</td>\n",
       "      <td>2</td>\n",
       "      <td>...</td>\n",
       "      <td>2</td>\n",
       "      <td>0</td>\n",
       "      <td>0</td>\n",
       "      <td>0</td>\n",
       "      <td>0</td>\n",
       "      <td>2</td>\n",
       "      <td>2</td>\n",
       "      <td>1</td>\n",
       "      <td>1</td>\n",
       "      <td>0</td>\n",
       "    </tr>\n",
       "    <tr>\n",
       "      <th>human4_lib1.final_cell_0002</th>\n",
       "      <td>AGGCAACG-GCATGGGT</td>\n",
       "      <td>delta</td>\n",
       "      <td>1</td>\n",
       "      <td>1</td>\n",
       "      <td>0</td>\n",
       "      <td>0</td>\n",
       "      <td>0</td>\n",
       "      <td>0</td>\n",
       "      <td>0</td>\n",
       "      <td>0</td>\n",
       "      <td>...</td>\n",
       "      <td>0</td>\n",
       "      <td>0</td>\n",
       "      <td>0</td>\n",
       "      <td>0</td>\n",
       "      <td>0</td>\n",
       "      <td>1</td>\n",
       "      <td>0</td>\n",
       "      <td>0</td>\n",
       "      <td>0</td>\n",
       "      <td>0</td>\n",
       "    </tr>\n",
       "    <tr>\n",
       "      <th>human4_lib1.final_cell_0003</th>\n",
       "      <td>AACGCAGAG-TTGTCGCC</td>\n",
       "      <td>delta</td>\n",
       "      <td>0</td>\n",
       "      <td>0</td>\n",
       "      <td>0</td>\n",
       "      <td>0</td>\n",
       "      <td>0</td>\n",
       "      <td>0</td>\n",
       "      <td>0</td>\n",
       "      <td>0</td>\n",
       "      <td>...</td>\n",
       "      <td>0</td>\n",
       "      <td>0</td>\n",
       "      <td>0</td>\n",
       "      <td>0</td>\n",
       "      <td>0</td>\n",
       "      <td>0</td>\n",
       "      <td>0</td>\n",
       "      <td>0</td>\n",
       "      <td>0</td>\n",
       "      <td>0</td>\n",
       "    </tr>\n",
       "    <tr>\n",
       "      <th>human4_lib1.final_cell_0004</th>\n",
       "      <td>CGGCTTAC-CGGGCTTT</td>\n",
       "      <td>ductal</td>\n",
       "      <td>0</td>\n",
       "      <td>0</td>\n",
       "      <td>0</td>\n",
       "      <td>0</td>\n",
       "      <td>2</td>\n",
       "      <td>0</td>\n",
       "      <td>0</td>\n",
       "      <td>0</td>\n",
       "      <td>...</td>\n",
       "      <td>0</td>\n",
       "      <td>0</td>\n",
       "      <td>0</td>\n",
       "      <td>0</td>\n",
       "      <td>0</td>\n",
       "      <td>1</td>\n",
       "      <td>4</td>\n",
       "      <td>0</td>\n",
       "      <td>1</td>\n",
       "      <td>0</td>\n",
       "    </tr>\n",
       "    <tr>\n",
       "      <th>human4_lib1.final_cell_0005</th>\n",
       "      <td>AAGCTACGG-TGTAGTTT</td>\n",
       "      <td>ductal</td>\n",
       "      <td>0</td>\n",
       "      <td>0</td>\n",
       "      <td>0</td>\n",
       "      <td>0</td>\n",
       "      <td>2</td>\n",
       "      <td>0</td>\n",
       "      <td>0</td>\n",
       "      <td>0</td>\n",
       "      <td>...</td>\n",
       "      <td>0</td>\n",
       "      <td>0</td>\n",
       "      <td>0</td>\n",
       "      <td>0</td>\n",
       "      <td>0</td>\n",
       "      <td>0</td>\n",
       "      <td>4</td>\n",
       "      <td>0</td>\n",
       "      <td>0</td>\n",
       "      <td>1</td>\n",
       "    </tr>\n",
       "  </tbody>\n",
       "</table>\n",
       "<p>5 rows × 20127 columns</p>\n",
       "</div>"
      ],
      "text/plain": [
       "                                        barcode assigned_cluster  A1BG  A1CF  \\\n",
       "human4_lib1.final_cell_0001  AATATCTTC-AGTGAAAG           ductal     0     1   \n",
       "human4_lib1.final_cell_0002   AGGCAACG-GCATGGGT            delta     1     1   \n",
       "human4_lib1.final_cell_0003  AACGCAGAG-TTGTCGCC            delta     0     0   \n",
       "human4_lib1.final_cell_0004   CGGCTTAC-CGGGCTTT           ductal     0     0   \n",
       "human4_lib1.final_cell_0005  AAGCTACGG-TGTAGTTT           ductal     0     0   \n",
       "\n",
       "                             A2M  A2ML1  A4GALT  A4GNT  AA06  AAAS  ...  \\\n",
       "human4_lib1.final_cell_0001    0      0       0      0     0     2  ...   \n",
       "human4_lib1.final_cell_0002    0      0       0      0     0     0  ...   \n",
       "human4_lib1.final_cell_0003    0      0       0      0     0     0  ...   \n",
       "human4_lib1.final_cell_0004    0      0       2      0     0     0  ...   \n",
       "human4_lib1.final_cell_0005    0      0       2      0     0     0  ...   \n",
       "\n",
       "                             ZWILCH  ZWINT  ZXDA  ZXDB  ZXDC  ZYG11B  ZYX  \\\n",
       "human4_lib1.final_cell_0001       2      0     0     0     0       2    2   \n",
       "human4_lib1.final_cell_0002       0      0     0     0     0       1    0   \n",
       "human4_lib1.final_cell_0003       0      0     0     0     0       0    0   \n",
       "human4_lib1.final_cell_0004       0      0     0     0     0       1    4   \n",
       "human4_lib1.final_cell_0005       0      0     0     0     0       0    4   \n",
       "\n",
       "                             ZZEF1  ZZZ3  pk  \n",
       "human4_lib1.final_cell_0001      1     1   0  \n",
       "human4_lib1.final_cell_0002      0     0   0  \n",
       "human4_lib1.final_cell_0003      0     0   0  \n",
       "human4_lib1.final_cell_0004      0     1   0  \n",
       "human4_lib1.final_cell_0005      0     0   1  \n",
       "\n",
       "[5 rows x 20127 columns]"
      ]
     },
     "execution_count": 48,
     "metadata": {},
     "output_type": "execute_result"
    }
   ],
   "source": [
    "adata_human2_df.head()"
   ]
  }
 ],
 "metadata": {
  "kernelspec": {
   "display_name": "Python 3.8.19 64-bit ('cell2sentence')",
   "language": "python",
   "name": "python3"
  },
  "language_info": {
   "codemirror_mode": {
    "name": "ipython",
    "version": 3
   },
   "file_extension": ".py",
   "mimetype": "text/x-python",
   "name": "python",
   "nbconvert_exporter": "python",
   "pygments_lexer": "ipython3",
   "version": "3.8.19"
  },
  "orig_nbformat": 4,
  "vscode": {
   "interpreter": {
    "hash": "8779fa284e7bf1e546315c54e0f99067d891071405c0af9d51c72e798eae4921"
   }
  }
 },
 "nbformat": 4,
 "nbformat_minor": 2
}
