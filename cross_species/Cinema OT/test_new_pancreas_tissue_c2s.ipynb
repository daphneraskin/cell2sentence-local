{
 "cells": [
  {
   "cell_type": "code",
   "execution_count": 26,
   "metadata": {},
   "outputs": [],
   "source": [
    "import os\n",
    "import anndata\n",
    "import cell2sentence as cs\n",
    "from cell2sentence import tasks, CSData\n",
    "from datasets import load_from_disk\n",
    "from cell2sentence.csmodel import CSModel\n"
   ]
  },
  {
   "cell_type": "code",
   "execution_count": 2,
   "metadata": {},
   "outputs": [],
   "source": [
    "# Load AnnData Objects\n",
    "human_restricted = anndata.read_h5ad(\"/home/dor3/palmer_scratch/C2S_Files_Daphne/Cross_Species_Datasets/mouse_human_pancreas_tissue_Baron_et_al/processed_homolog_intersected_data/human_pancreas_one_sample_preprocessed_homolog_intersected_adata.h5ad\")\n",
    "mouse_restricted = anndata.read_h5ad(\"/home/dor3/palmer_scratch/C2S_Files_Daphne/Cross_Species_Datasets/mouse_human_pancreas_tissue_Baron_et_al/processed_homolog_intersected_data/mouse_pancreas_preprocessed_homolog_intersected_adata.h5ad\")"
   ]
  },
  {
   "cell_type": "code",
   "execution_count": 30,
   "metadata": {},
   "outputs": [
    {
     "data": {
      "application/vnd.jupyter.widget-view+json": {
       "model_id": "906808ec5bae4d229b14998e89be77ae",
       "version_major": 2,
       "version_minor": 0
      },
      "text/plain": [
       "Saving the dataset (0/1 shards):   0%|          | 0/12113 [00:00<?, ? examples/s]"
      ]
     },
     "metadata": {},
     "output_type": "display_data"
    }
   ],
   "source": [
    "c2s_save_dir = \"/home/sr2464/palmer_scratch/C2S_Files_Syed/c2s_api_testing\"  # C2S dataset will be saved into this directory\n",
    "human_c2s_save_name = \"human_pancreas_tissue_c2s_embeddings_cinema_ot\"  # This will be the name of our C2S dataset on disk\n",
    "\n",
    "human_csdata = cs.CSData.csdata_from_arrow(\n",
    "    arrow_dataset=human_arrow_ds, \n",
    "    vocabulary=human_vocab,\n",
    "    save_dir=c2s_save_dir,\n",
    "    save_name=human_c2s_save_name,\n",
    "    dataset_backend=\"arrow\"\n",
    ")"
   ]
  },
  {
   "cell_type": "code",
   "execution_count": 31,
   "metadata": {},
   "outputs": [
    {
     "data": {
      "application/vnd.jupyter.widget-view+json": {
       "model_id": "bd40760c49a1413d80d0078275bf2d6b",
       "version_major": 2,
       "version_minor": 0
      },
      "text/plain": [
       "Saving the dataset (0/1 shards):   0%|          | 0/12113 [00:00<?, ? examples/s]"
      ]
     },
     "metadata": {},
     "output_type": "display_data"
    }
   ],
   "source": [
    "mouse_c2s_save_name = \"mouse_pancreas_tissue_c2s_embeddings_cinema_ot\"  # This will be the name of our C2S dataset on disk\n",
    "mouse_csdata = cs.CSData.csdata_from_arrow(\n",
    "    arrow_dataset=mouse_arrow_ds, \n",
    "    vocabulary=mouse_vocab,\n",
    "    save_dir=c2s_save_dir,\n",
    "    save_name=mouse_c2s_save_name,\n",
    "    dataset_backend=\"arrow\"\n",
    ")"
   ]
  },
  {
   "cell_type": "code",
   "execution_count": 33,
   "metadata": {},
   "outputs": [],
   "source": [
    "# Get cell sentences\n",
    "human_csdata = CSData(vocab=None, data_path='./data/human_arrow', dataset_backend='arrow')\n",
    "mouse_csdata = CSData(vocab=None, data_path='./data/mouse_arrow', dataset_backend='arrow')"
   ]
  },
  {
   "cell_type": "code",
   "execution_count": 34,
   "metadata": {},
   "outputs": [
    {
     "ename": "ValueError",
     "evalue": "The number of cell sentences does not match the number of cells in the AnnData object.",
     "output_type": "error",
     "traceback": [
      "\u001b[0;31m---------------------------------------------------------------------------\u001b[0m",
      "\u001b[0;31mValueError\u001b[0m                                Traceback (most recent call last)",
      "Cell \u001b[0;32mIn[34], line 4\u001b[0m\n\u001b[1;32m      2\u001b[0m human_cell_sentences \u001b[38;5;241m=\u001b[39m human_csdata\u001b[38;5;241m.\u001b[39mget_sentence_strings()\n\u001b[1;32m      3\u001b[0m \u001b[38;5;28;01mif\u001b[39;00m \u001b[38;5;28mlen\u001b[39m(human_cell_sentences) \u001b[38;5;241m!=\u001b[39m human_restricted\u001b[38;5;241m.\u001b[39mshape[\u001b[38;5;241m0\u001b[39m]:\n\u001b[0;32m----> 4\u001b[0m     \u001b[38;5;28;01mraise\u001b[39;00m \u001b[38;5;167;01mValueError\u001b[39;00m(\u001b[38;5;124m\"\u001b[39m\u001b[38;5;124mThe number of cell sentences does not match the number of cells in the AnnData object.\u001b[39m\u001b[38;5;124m\"\u001b[39m)\n\u001b[1;32m      6\u001b[0m mouse_cell_sentences \u001b[38;5;241m=\u001b[39m mouse_csdata\u001b[38;5;241m.\u001b[39mget_sentence_strings()\n\u001b[1;32m      7\u001b[0m \u001b[38;5;28;01mif\u001b[39;00m \u001b[38;5;28mlen\u001b[39m(mouse_cell_sentences) \u001b[38;5;241m!=\u001b[39m mouse_restricted\u001b[38;5;241m.\u001b[39mshape[\u001b[38;5;241m0\u001b[39m]:\n",
      "\u001b[0;31mValueError\u001b[0m: The number of cell sentences does not match the number of cells in the AnnData object."
     ]
    }
   ],
   "source": [
    "# Ensure the AnnData object has the same order of cells as the cell sentences list\n",
    "human_cell_sentences = human_csdata.get_sentence_strings()\n",
    "if len(human_cell_sentences) != human_restricted.shape[0]:\n",
    "    raise ValueError(\"The number of cell sentences does not match the number of cells in the AnnData object.\")\n",
    "\n",
    "mouse_cell_sentences = mouse_csdata.get_sentence_strings()\n",
    "if len(mouse_cell_sentences) != mouse_restricted.shape[0]:\n",
    "    raise ValueError(\"The number of cell sentences does not match the number of cells in the AnnData object.\")"
   ]
  },
  {
   "cell_type": "code",
   "execution_count": 12,
   "metadata": {},
   "outputs": [
    {
     "name": "stdout",
     "output_type": "stream",
     "text": [
      "                                                                 cell_sentence\n",
      "human1_lib1.final_cell_0001  REG1A-1 REG1A PRSS2-2 PRSS2 PRSS2-3 PRSS2-1 CE...\n",
      "human1_lib1.final_cell_0002  REG1A-1 REG1A REG1B-1 REG1B PRSS2-2 PRSS2 PRSS...\n",
      "human1_lib1.final_cell_0003  REG1A-1 REG1A PRSS2-1 PRSS2-3 PRSS2-2 PRSS2 RE...\n",
      "human1_lib1.final_cell_0004  REG1A-1 REG1A REG1B-1 REG1B PRSS2-1 PRSS2-3 PR...\n",
      "human1_lib1.final_cell_0005  REG1A-1 REG1A PRSS2-2 PRSS2-1 PRSS2-3 PRSS2 RE...\n"
     ]
    }
   ],
   "source": [
    "# Add cell sentences to the AnnData object\n",
    "human_restricted.obs['cell_sentence'] = human_cell_sentences\n",
    "\n",
    "# Optionally, print a few sentences to verify\n",
    "print(human_restricted.obs[['cell_sentence']].head())"
   ]
  },
  {
   "cell_type": "code",
   "execution_count": 13,
   "metadata": {},
   "outputs": [
    {
     "name": "stdout",
     "output_type": "stream",
     "text": [
      "                                                                 cell_sentence\n",
      "mouse1_lib1.final_cell_0001  INS2 INS1 IAPP PCSK2 SPP1 SQSTM1 HSPA5 CHGA MT...\n",
      "mouse1_lib1.final_cell_0002  KRT8 ACTG1 ACTB FTH1 ACTN1 RPL13 RPS2 F3 HSPA5...\n",
      "mouse1_lib1.final_cell_0003  SST IAPP PYY GNAS RBP4 INS2 PCSK2 SCG2 CHGB RE...\n",
      "mouse1_lib1.final_cell_0004  VIM SERPINE1 ACTB TMSB4X ACTG1 S100A6 ACTN1 AN...\n",
      "mouse1_lib1.final_cell_0005  SST IAPP PYY RBP4 GNAS PCSK2 SCG2 GPX3 HSPA5 C...\n"
     ]
    }
   ],
   "source": [
    "# Add cell sentences to the AnnData object\n",
    "mouse_restricted.obs['cell_sentence'] = mouse_cell_sentences\n",
    "\n",
    "# Optionally, print a few sentences to verify\n",
    "print(mouse_restricted.obs[['cell_sentence']].head())"
   ]
  },
  {
   "cell_type": "code",
   "execution_count": 14,
   "metadata": {},
   "outputs": [],
   "source": [
    "# Convert and Save to Arrow Dataset\n",
    "def prepare_and_save_csdata(adata, arrow_path, random_state=1234):\n",
    "    adata = adata.T if adata.shape[1] > adata.shape[0] else adata\n",
    "    if not os.path.exists(os.path.dirname(arrow_path)):\n",
    "        os.makedirs(os.path.dirname(arrow_path))\n",
    "    \n",
    "    arrow_ds, vocab = CSData.adata_to_arrow(adata, random_state=random_state)\n",
    "    arrow_ds.save_to_disk(arrow_path)\n",
    "    return arrow_ds, vocab"
   ]
  },
  {
   "cell_type": "code",
   "execution_count": 15,
   "metadata": {},
   "outputs": [],
   "source": [
    "# Ensure Data Path\n",
    "arrow_dir = './data/'\n",
    "os.makedirs(arrow_dir, exist_ok=True)"
   ]
  },
  {
   "cell_type": "code",
   "execution_count": 16,
   "metadata": {},
   "outputs": [],
   "source": [
    "# Paths to Arrow Datasets\n",
    "arrow_path_human = os.path.join(arrow_dir, 'human_arrow')\n",
    "arrow_path_mouse = os.path.join(arrow_dir, 'mouse_arrow')"
   ]
  },
  {
   "cell_type": "code",
   "execution_count": 17,
   "metadata": {},
   "outputs": [],
   "source": [
    "# Ensure required keys and convert to Arrow dataset\n",
    "required_keys = ['cell_sentence', 'organism']\n",
    "\n",
    "# Ensure organism key is present for both human and mouse\n",
    "if 'organism' not in human_restricted.obs:\n",
    "    human_restricted.obs['organism'] = 'Homo sapiens'\n",
    "if 'organism' not in mouse_restricted.obs:\n",
    "    mouse_restricted.obs['organism'] = 'Mus musculus'"
   ]
  },
  {
   "cell_type": "code",
   "execution_count": 18,
   "metadata": {},
   "outputs": [
    {
     "name": "stdout",
     "output_type": "stream",
     "text": [
      "Converting human AnnData to Arrow dataset...\n"
     ]
    },
    {
     "name": "stderr",
     "output_type": "stream",
     "text": [
      "100%|██████████| 12113/12113 [00:01<00:00, 6609.76it/s]\n"
     ]
    },
    {
     "data": {
      "application/vnd.jupyter.widget-view+json": {
       "model_id": "f244d866e3c1415fb4340af6eb3f1ac9",
       "version_major": 2,
       "version_minor": 0
      },
      "text/plain": [
       "Saving the dataset (0/1 shards):   0%|          | 0/12113 [00:00<?, ? examples/s]"
      ]
     },
     "metadata": {},
     "output_type": "display_data"
    },
    {
     "name": "stdout",
     "output_type": "stream",
     "text": [
      "Arrow dataset for human is saved at: ./data/human_arrow\n",
      "Converting mouse AnnData to Arrow dataset...\n"
     ]
    },
    {
     "name": "stderr",
     "output_type": "stream",
     "text": [
      "100%|██████████| 12113/12113 [00:01<00:00, 7037.83it/s]\n"
     ]
    },
    {
     "data": {
      "application/vnd.jupyter.widget-view+json": {
       "model_id": "8fbc12d4946a4f81b694402ada4b8999",
       "version_major": 2,
       "version_minor": 0
      },
      "text/plain": [
       "Saving the dataset (0/1 shards):   0%|          | 0/12113 [00:00<?, ? examples/s]"
      ]
     },
     "metadata": {},
     "output_type": "display_data"
    },
    {
     "name": "stdout",
     "output_type": "stream",
     "text": [
      "Arrow dataset for mouse is saved at: ./data/mouse_arrow\n"
     ]
    }
   ],
   "source": [
    "# Convert and Save\n",
    "print(\"Converting human AnnData to Arrow dataset...\")\n",
    "human_arrow_ds, human_vocab = prepare_and_save_csdata(human_restricted, arrow_path_human)\n",
    "print(f\"Arrow dataset for human is saved at: {arrow_path_human}\")\n",
    "\n",
    "print(\"Converting mouse AnnData to Arrow dataset...\")\n",
    "mouse_arrow_ds, mouse_vocab = prepare_and_save_csdata(mouse_restricted, arrow_path_mouse)\n",
    "print(f\"Arrow dataset for mouse is saved at: {arrow_path_mouse}\")"
   ]
  },
  {
   "cell_type": "code",
   "execution_count": 19,
   "metadata": {},
   "outputs": [
    {
     "name": "stdout",
     "output_type": "stream",
     "text": [
      "Human Arrow dataset path exists? True\n",
      "Mouse Arrow dataset path exists? True\n"
     ]
    }
   ],
   "source": [
    "# Verify Arrow Datasets\n",
    "print(f\"Human Arrow dataset path exists? {os.path.exists(arrow_path_human)}\")\n",
    "print(f\"Mouse Arrow dataset path exists? {os.path.exists(arrow_path_mouse)}\")"
   ]
  },
  {
   "cell_type": "code",
   "execution_count": 20,
   "metadata": {},
   "outputs": [
    {
     "name": "stdout",
     "output_type": "stream",
     "text": [
      "Human Arrow dataset loaded successfully with 12113 entries.\n",
      "Mouse Arrow dataset loaded successfully with 12113 entries.\n"
     ]
    }
   ],
   "source": [
    "# Load and Verify\n",
    "loaded_human_arrow_ds = load_from_disk(arrow_path_human)\n",
    "print(f\"Human Arrow dataset loaded successfully with {len(loaded_human_arrow_ds)} entries.\")\n",
    "\n",
    "loaded_mouse_arrow_ds = load_from_disk(arrow_path_mouse)\n",
    "print(f\"Mouse Arrow dataset loaded successfully with {len(loaded_mouse_arrow_ds)} entries.\")"
   ]
  },
  {
   "cell_type": "code",
   "execution_count": 28,
   "metadata": {},
   "outputs": [],
   "source": [
    "# Create CSData Objects\n",
    "human_csdata_new = CSData(vocab=human_vocab, data_path=arrow_path_human, dataset_backend='arrow')\n",
    "mouse_csdata_new = CSData(vocab=mouse_vocab, data_path=arrow_path_mouse, dataset_backend='arrow')"
   ]
  },
  {
   "cell_type": "code",
   "execution_count": 24,
   "metadata": {},
   "outputs": [
    {
     "name": "stdout",
     "output_type": "stream",
     "text": [
      "Using device: cuda\n"
     ]
    }
   ],
   "source": [
    "# Define CSModel\n",
    "cell_type_prediction_model_path = \"/home/sr2464/palmer_scratch/C2S_Files_Syed/multicell_pretraining_v2_important_models/pythia-410m-multicell_v2_2024-07-28_13-55-51_checkpoint-7600_cell_type_pred\"\n",
    "save_dir = \"/home/sr2464/palmer_scratch/C2S_Files_Syed/c2s_api_testing/csmodel_tutorial_2\"\n",
    "save_name = \"cell_embedding_prediction_pythia_410M_1\"\n",
    "csmodel = CSModel(\n",
    "    model_name_or_path=cell_type_prediction_model_path,\n",
    "    save_dir=save_dir,\n",
    "    save_name=save_name\n",
    ")"
   ]
  },
  {
   "cell_type": "code",
   "execution_count": 29,
   "metadata": {},
   "outputs": [
    {
     "name": "stdout",
     "output_type": "stream",
     "text": [
      "Embedding human cells...\n",
      "Reloading model from path on disk: /home/sr2464/palmer_scratch/C2S_Files_Syed/c2s_api_testing/csmodel_tutorial_2/cell_embedding_prediction_pythia_410M_1\n"
     ]
    },
    {
     "ename": "KeyError",
     "evalue": "'organism'",
     "output_type": "error",
     "traceback": [
      "\u001b[0;31m---------------------------------------------------------------------------\u001b[0m",
      "\u001b[0;31mKeyError\u001b[0m                                  Traceback (most recent call last)",
      "Cell \u001b[0;32mIn[29], line 3\u001b[0m\n\u001b[1;32m      1\u001b[0m \u001b[38;5;66;03m# Embed Cells\u001b[39;00m\n\u001b[1;32m      2\u001b[0m \u001b[38;5;28mprint\u001b[39m(\u001b[38;5;124m\"\u001b[39m\u001b[38;5;124mEmbedding human cells...\u001b[39m\u001b[38;5;124m\"\u001b[39m)\n\u001b[0;32m----> 3\u001b[0m human_embeddings \u001b[38;5;241m=\u001b[39m \u001b[43mtasks\u001b[49m\u001b[38;5;241;43m.\u001b[39;49m\u001b[43membed_cells\u001b[49m\u001b[43m(\u001b[49m\u001b[43mcsdata\u001b[49m\u001b[38;5;241;43m=\u001b[39;49m\u001b[43mhuman_csdata_new\u001b[49m\u001b[43m,\u001b[49m\u001b[43m \u001b[49m\u001b[43mcsmodel\u001b[49m\u001b[38;5;241;43m=\u001b[39;49m\u001b[43mcsmodel\u001b[49m\u001b[43m,\u001b[49m\u001b[43m \u001b[49m\u001b[43mn_genes\u001b[49m\u001b[38;5;241;43m=\u001b[39;49m\u001b[38;5;241;43m200\u001b[39;49m\u001b[43m)\u001b[49m\n\u001b[1;32m      4\u001b[0m \u001b[38;5;28mprint\u001b[39m(\u001b[38;5;124m\"\u001b[39m\u001b[38;5;124mHuman cell embeddings shape: \u001b[39m\u001b[38;5;124m\"\u001b[39m, human_embeddings\u001b[38;5;241m.\u001b[39mshape)\n\u001b[1;32m      6\u001b[0m \u001b[38;5;28mprint\u001b[39m(\u001b[38;5;124m\"\u001b[39m\u001b[38;5;124mEmbedding mouse cells...\u001b[39m\u001b[38;5;124m\"\u001b[39m)\n",
      "File \u001b[0;32m/vast/palmer/home.mccleary/dor3/cell2sentence/src/cell2sentence/tasks.py:183\u001b[0m, in \u001b[0;36membed_cells\u001b[0;34m(csdata, csmodel, n_genes, inference_batch_size)\u001b[0m\n\u001b[1;32m    181\u001b[0m \u001b[39m# Format prompts\u001b[39;00m\n\u001b[1;32m    182\u001b[0m prompt_formatter \u001b[39m=\u001b[39m PromptFormatter(task\u001b[39m=\u001b[39m\u001b[39m\"\u001b[39m\u001b[39mcell_type_prediction\u001b[39m\u001b[39m\"\u001b[39m, top_k_genes\u001b[39m=\u001b[39mn_genes)\n\u001b[0;32m--> 183\u001b[0m formatted_hf_ds \u001b[39m=\u001b[39m prompt_formatter\u001b[39m.\u001b[39;49mformat_hf_ds(hf_ds_dict)\n\u001b[1;32m    185\u001b[0m \u001b[39m# Predict cell types using trained C2S models\u001b[39;00m\n\u001b[1;32m    186\u001b[0m \u001b[39mprint\u001b[39m(\u001b[39mf\u001b[39m\u001b[39m\"\u001b[39m\u001b[39mEmbedding \u001b[39m\u001b[39m{\u001b[39;00mformatted_hf_ds\u001b[39m.\u001b[39mnum_rows\u001b[39m}\u001b[39;00m\u001b[39m cells using CSModel...\u001b[39m\u001b[39m\"\u001b[39m)\n",
      "File \u001b[0;32m/vast/palmer/home.mccleary/dor3/cell2sentence/src/cell2sentence/prompt_formatter.py:111\u001b[0m, in \u001b[0;36mPromptFormatter.format_hf_ds\u001b[0;34m(self, hf_ds)\u001b[0m\n\u001b[1;32m    109\u001b[0m \u001b[39m# Select an input prompt, format keys\u001b[39;00m\n\u001b[1;32m    110\u001b[0m model_input_str \u001b[39m=\u001b[39m random\u001b[39m.\u001b[39mchoice(\u001b[39mself\u001b[39m\u001b[39m.\u001b[39mprompts_dict[\u001b[39m\"\u001b[39m\u001b[39mmodel_input\u001b[39m\u001b[39m\"\u001b[39m])\n\u001b[0;32m--> 111\u001b[0m model_input_str \u001b[39m=\u001b[39m model_input_str\u001b[39m.\u001b[39mformat(\u001b[39m*\u001b[39m\u001b[39m*\u001b[39m{key: sample[key] \u001b[39mfor\u001b[39;00m key \u001b[39min\u001b[39;00m model_input_keys})\n\u001b[1;32m    113\u001b[0m \u001b[39m# Format key in response\u001b[39;00m\n\u001b[1;32m    114\u001b[0m response_str \u001b[39m=\u001b[39m \u001b[39mself\u001b[39m\u001b[39m.\u001b[39mprompts_dict[\u001b[39m\"\u001b[39m\u001b[39mresponse\u001b[39m\u001b[39m\"\u001b[39m][\u001b[39m0\u001b[39m]  \u001b[39m# 1 response template\u001b[39;00m\n",
      "File \u001b[0;32m/vast/palmer/home.mccleary/dor3/cell2sentence/src/cell2sentence/prompt_formatter.py:111\u001b[0m, in \u001b[0;36m<dictcomp>\u001b[0;34m(.0)\u001b[0m\n\u001b[1;32m    109\u001b[0m \u001b[39m# Select an input prompt, format keys\u001b[39;00m\n\u001b[1;32m    110\u001b[0m model_input_str \u001b[39m=\u001b[39m random\u001b[39m.\u001b[39mchoice(\u001b[39mself\u001b[39m\u001b[39m.\u001b[39mprompts_dict[\u001b[39m\"\u001b[39m\u001b[39mmodel_input\u001b[39m\u001b[39m\"\u001b[39m])\n\u001b[0;32m--> 111\u001b[0m model_input_str \u001b[39m=\u001b[39m model_input_str\u001b[39m.\u001b[39mformat(\u001b[39m*\u001b[39m\u001b[39m*\u001b[39m{key: sample[key] \u001b[39mfor\u001b[39;00m key \u001b[39min\u001b[39;00m model_input_keys})\n\u001b[1;32m    113\u001b[0m \u001b[39m# Format key in response\u001b[39;00m\n\u001b[1;32m    114\u001b[0m response_str \u001b[39m=\u001b[39m \u001b[39mself\u001b[39m\u001b[39m.\u001b[39mprompts_dict[\u001b[39m\"\u001b[39m\u001b[39mresponse\u001b[39m\u001b[39m\"\u001b[39m][\u001b[39m0\u001b[39m]  \u001b[39m# 1 response template\u001b[39;00m\n",
      "\u001b[0;31mKeyError\u001b[0m: 'organism'"
     ]
    }
   ],
   "source": [
    "# Embed Cells\n",
    "print(\"Embedding human cells...\")\n",
    "human_embeddings = tasks.embed_cells(csdata=human_csdata_new, csmodel=csmodel, n_genes=200)\n",
    "print(\"Human cell embeddings shape: \", human_embeddings.shape)\n",
    "\n",
    "print(\"Embedding mouse cells...\")\n",
    "mouse_embeddings = tasks.embed_cells(csdata=mouse_csdata_new, csmodel=csmodel, n_genes=200)\n",
    "print(\"Mouse cell embeddings shape: \", mouse_embeddings.shape)"
   ]
  },
  {
   "cell_type": "code",
   "execution_count": null,
   "metadata": {},
   "outputs": [],
   "source": []
  }
 ],
 "metadata": {
  "kernelspec": {
   "display_name": "Python (cell2sentence)",
   "language": "python",
   "name": "cell2sentence"
  },
  "language_info": {
   "codemirror_mode": {
    "name": "ipython",
    "version": 3
   },
   "file_extension": ".py",
   "mimetype": "text/x-python",
   "name": "python",
   "nbconvert_exporter": "python",
   "pygments_lexer": "ipython3",
   "version": "3.8.19"
  },
  "orig_nbformat": 4,
  "vscode": {
   "interpreter": {
    "hash": "ead1b95f633dc9c51826328e1846203f51a198c6fb5f2884a80417ba131d4e82"
   }
  }
 },
 "nbformat": 4,
 "nbformat_minor": 2
}
