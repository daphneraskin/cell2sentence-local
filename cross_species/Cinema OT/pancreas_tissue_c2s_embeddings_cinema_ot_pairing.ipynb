{
 "cells": [
  {
   "cell_type": "code",
   "execution_count": 1,
   "metadata": {},
   "outputs": [],
   "source": [
    "# Standard Libraries\n",
    "import os # operating system dependent functionality\n",
    "from collections import Counter # counting elements in an iterable\n",
    "\n",
    "# External Libraries\n",
    "import numpy as np # numerical operations on data arrays and matrices\n",
    "import pandas as pd # data manipulation and analysis\n",
    "import matplotlib.pyplot as plt # plotting and visualizations\n",
    "from tqdm import tqdm\n",
    "from sklearn.neighbors import NearestNeighbors\n",
    "\n",
    "# Bioinformatics and Data Analysis \n",
    "import anndata # handling annotated data, particularly in genomics\n",
    "import scanpy as sc # single-cell RNA-seq data analysis\n",
    "import scipy # scientific and technical computations\n",
    "\n",
    "# Test Specific Libraries\n",
    "from sklearn.decomposition import FastICA\n",
    "import cell2sentence as cs\n",
    "from cell2sentence import tasks, CSData, CSModel\n",
    "from cell2sentence.prompt_formatter import PromptFormatter\n",
    "import ot\n",
    "import cinemaot\n",
    "\n",
    "# Huggingface\n",
    "import torch\n",
    "from transformers import AutoModelForCausalLM\n",
    "from datasets import load_from_disk"
   ]
  },
  {
   "cell_type": "code",
   "execution_count": 2,
   "metadata": {},
   "outputs": [],
   "source": [
    "# load processed AnnData objects for human and mouse cells\n",
    "human_restricted = anndata.read_h5ad(\"/home/dor3/palmer_scratch/C2S_Files_Daphne/Cross_Species_Datasets/mouse_human_pancreas_tissue_Baron_et_al/processed_homolog_intersected_data/human_pancreas_one_sample_preprocessed_homolog_intersected_adata.h5ad\")\n",
    "mouse_restricted = anndata.read_h5ad(\"/home/dor3/palmer_scratch/C2S_Files_Daphne/Cross_Species_Datasets/mouse_human_pancreas_tissue_Baron_et_al/processed_homolog_intersected_data/mouse_pancreas_preprocessed_homolog_intersected_adata.h5ad\")"
   ]
  },
  {
   "cell_type": "code",
   "execution_count": 3,
   "metadata": {},
   "outputs": [],
   "source": [
    "# Ensure organism key is present for both human and mouse\n",
    "if 'organism' not in human_restricted.obs:\n",
    "    human_restricted.obs['organism'] = 'Homo sapiens'\n",
    "if 'organism' not in mouse_restricted.obs:\n",
    "    mouse_restricted.obs['organism'] = 'Mus musculus'"
   ]
  },
  {
   "cell_type": "code",
   "execution_count": 4,
   "metadata": {},
   "outputs": [
    {
     "data": {
      "text/plain": [
       "AnnData object with n_obs × n_vars = 1937 × 12113\n",
       "    obs: 'cell_barcodes', 'cell_manual_ids', 'cell_types', 'batch_sample', 'n_genes', 'n_genes_by_counts', 'total_counts', 'total_counts_mt', 'pct_counts_mt', 'organism'\n",
       "    var: 'gene_name', 'n_cells', 'mt', 'n_cells_by_counts', 'mean_counts', 'pct_dropout_by_counts', 'total_counts', 'ensembl_id'"
      ]
     },
     "execution_count": 4,
     "metadata": {},
     "output_type": "execute_result"
    }
   ],
   "source": [
    "human_restricted"
   ]
  },
  {
   "cell_type": "markdown",
   "metadata": {},
   "source": [
    "Data processing"
   ]
  },
  {
   "cell_type": "code",
   "execution_count": 5,
   "metadata": {},
   "outputs": [],
   "source": [
    "sc.pp.filter_cells(human_restricted, min_genes=200)\n",
    "sc.pp.filter_genes(human_restricted, min_cells=3)"
   ]
  },
  {
   "cell_type": "code",
   "execution_count": 6,
   "metadata": {},
   "outputs": [],
   "source": [
    "sc.pp.filter_cells(mouse_restricted, min_genes=200)\n",
    "sc.pp.filter_genes(mouse_restricted, min_cells=3)"
   ]
  },
  {
   "cell_type": "code",
   "execution_count": 7,
   "metadata": {},
   "outputs": [
    {
     "data": {
      "text/plain": [
       "AnnData object with n_obs × n_vars = 1937 × 11601\n",
       "    obs: 'cell_barcodes', 'cell_manual_ids', 'cell_types', 'batch_sample', 'n_genes', 'n_genes_by_counts', 'total_counts', 'total_counts_mt', 'pct_counts_mt', 'organism'\n",
       "    var: 'gene_name', 'n_cells', 'mt', 'n_cells_by_counts', 'mean_counts', 'pct_dropout_by_counts', 'total_counts', 'ensembl_id'"
      ]
     },
     "execution_count": 7,
     "metadata": {},
     "output_type": "execute_result"
    }
   ],
   "source": [
    "# determine effect of filtering\n",
    "human_restricted"
   ]
  },
  {
   "cell_type": "code",
   "execution_count": 8,
   "metadata": {},
   "outputs": [],
   "source": [
    "# Count normalization\n",
    "sc.pp.normalize_total(human_restricted)\n",
    "# Lop1p transformation with base 10 - base 10 is important for C2S transformation!\n",
    "sc.pp.log1p(human_restricted, base=10)  "
   ]
  },
  {
   "cell_type": "code",
   "execution_count": 9,
   "metadata": {},
   "outputs": [],
   "source": [
    "# Count normalization\n",
    "sc.pp.normalize_total(mouse_restricted)\n",
    "# Lop1p transformation with base 10 - base 10 is important for C2S transformation!\n",
    "sc.pp.log1p(mouse_restricted, base=10)  "
   ]
  },
  {
   "cell_type": "markdown",
   "metadata": {},
   "source": [
    "Using Preprocessed data to embed cells"
   ]
  },
  {
   "cell_type": "code",
   "execution_count": 10,
   "metadata": {},
   "outputs": [],
   "source": [
    "c2s_save_dir = \"/home/sr2464/palmer_scratch/C2S_Files_Syed/c2s_api_testing\"  # C2S dataset will be saved into this directory\n",
    "human_c2s_save_name = \"human_pancreas_tissue_c2s_embeddings_cinema_ot\"  # This will be the name of our C2S dataset on disk\n",
    "mouse_c2s_save_name = \"mouse_pancreas_tissue_c2s_embeddings_cinema_ot\"  # This will be the name of our C2S dataset on disk\n"
   ]
  },
  {
   "cell_type": "code",
   "execution_count": 11,
   "metadata": {},
   "outputs": [
    {
     "name": "stderr",
     "output_type": "stream",
     "text": [
      "WARN: more variables (11601) than observations (1937)... did you mean to transpose the object (e.g. adata.T)?\n",
      "WARN: more variables (11601) than observations (1937), did you mean to transpose the object (e.g. adata.T)?\n",
      "100%|██████████| 1937/1937 [00:00<00:00, 3109.88it/s]\n",
      "WARN: more variables (12113) than observations (1886)... did you mean to transpose the object (e.g. adata.T)?\n",
      "WARN: more variables (12113) than observations (1886), did you mean to transpose the object (e.g. adata.T)?\n",
      "100%|██████████| 1886/1886 [00:00<00:00, 3454.30it/s]\n"
     ]
    }
   ],
   "source": [
    "arrow_dir='./data/'\n",
    "# ensure the directory for Arrow datasets exists\n",
    "os.makedirs(arrow_dir, exist_ok=True)\n",
    "\n",
    "# paths to Arrow datasets\n",
    "arrow_path_human = os.path.join(arrow_dir, 'human_arrow')\n",
    "arrow_path_mouse = os.path.join(arrow_dir, 'mouse_arrow')\n",
    "\n",
    "# convert AnnData to Arrow format and save\n",
    "'''# Create CSData object\n",
    "arrow_ds, vocabulary = cs.CSData.adata_to_arrow(\n",
    "    adata=adata, \n",
    "    random_state=SEED, \n",
    "    sentence_delimiter=' ',\n",
    "    label_col_names=adata_obs_cols_to_keep\n",
    ")'''\n",
    "human_arrow_ds, human_vocab = CSData.adata_to_arrow(\n",
    "    adata=human_restricted, \n",
    "    random_state=1234, \n",
    "    sentence_delimiter=' ')\n",
    "\n",
    "mouse_arrow_ds, mouse_vocab = CSData.adata_to_arrow(\n",
    "    adata=mouse_restricted,\n",
    "    random_state=1234, \n",
    "    sentence_delimiter=' ')"
   ]
  },
  {
   "cell_type": "code",
   "execution_count": 12,
   "metadata": {},
   "outputs": [
    {
     "data": {
      "application/vnd.jupyter.widget-view+json": {
       "model_id": "10f9234196f24ceeb7045e85ce5262ea",
       "version_major": 2,
       "version_minor": 0
      },
      "text/plain": [
       "Saving the dataset (0/1 shards):   0%|          | 0/1937 [00:00<?, ? examples/s]"
      ]
     },
     "metadata": {},
     "output_type": "display_data"
    }
   ],
   "source": [
    "human_csdata = cs.CSData.csdata_from_arrow(\n",
    "    arrow_dataset=human_arrow_ds, \n",
    "    vocabulary=human_vocab,\n",
    "    save_dir=c2s_save_dir,\n",
    "    save_name=human_c2s_save_name,\n",
    "    dataset_backend=\"arrow\"\n",
    ")"
   ]
  },
  {
   "cell_type": "code",
   "execution_count": 13,
   "metadata": {},
   "outputs": [
    {
     "data": {
      "application/vnd.jupyter.widget-view+json": {
       "model_id": "919e46808b6f4d51a3bcb5c18d992a5c",
       "version_major": 2,
       "version_minor": 0
      },
      "text/plain": [
       "Saving the dataset (0/1 shards):   0%|          | 0/1886 [00:00<?, ? examples/s]"
      ]
     },
     "metadata": {},
     "output_type": "display_data"
    }
   ],
   "source": [
    "mouse_csdata = cs.CSData.csdata_from_arrow(\n",
    "    arrow_dataset=mouse_arrow_ds, \n",
    "    vocabulary=mouse_vocab,\n",
    "    save_dir=c2s_save_dir,\n",
    "    save_name=mouse_c2s_save_name,\n",
    "    dataset_backend=\"arrow\"\n",
    ")"
   ]
  },
  {
   "cell_type": "code",
   "execution_count": 14,
   "metadata": {},
   "outputs": [],
   "source": [
    "# Ensure the AnnData object has the same order of cells as the cell sentences list\n",
    "human_cell_sentences = human_csdata.get_sentence_strings()\n",
    "if len(human_cell_sentences) != human_restricted.shape[0]:\n",
    "    raise ValueError(\"The number of cell sentences does not match the number of cells in the AnnData object.\")\n",
    "\n",
    "mouse_cell_sentences = mouse_csdata.get_sentence_strings()\n",
    "if len(mouse_cell_sentences) != mouse_restricted.shape[0]:\n",
    "    raise ValueError(\"The number of cell sentences does not match the number of cells in the AnnData object.\")"
   ]
  },
  {
   "cell_type": "code",
   "execution_count": 15,
   "metadata": {},
   "outputs": [],
   "source": [
    "# Add cell sentences to the AnnData object\n",
    "human_restricted.obs['cell_sentence'] = human_cell_sentences\n",
    "\n",
    "# Add cell sentences to the AnnData object\n",
    "mouse_restricted.obs['cell_sentence'] = mouse_cell_sentences"
   ]
  },
  {
   "cell_type": "code",
   "execution_count": 16,
   "metadata": {},
   "outputs": [
    {
     "name": "stdout",
     "output_type": "stream",
     "text": [
      "                                                                 cell_sentence\n",
      "human1_lib1.final_cell_0001  REG1A-1 REG1A PRSS2-3 PRSS2 PRSS2-2 PRSS2-1 CE...\n",
      "human1_lib1.final_cell_0002  REG1A-1 REG1A REG1B-1 REG1B PRSS2-1 PRSS2-2 PR...\n",
      "human1_lib1.final_cell_0003  REG1A-1 REG1A PRSS2-1 PRSS2-3 PRSS2-2 PRSS2 RE...\n",
      "human1_lib1.final_cell_0004  REG1A-1 REG1A REG1B-1 REG1B PRSS2-1 PRSS2-3 PR...\n",
      "human1_lib1.final_cell_0005  REG1A-1 REG1A PRSS2-2 PRSS2-1 PRSS2-3 PRSS2 RE...\n"
     ]
    }
   ],
   "source": [
    "# Optionally, print a few sentences to verify\n",
    "print(human_restricted.obs[['cell_sentence']].head())"
   ]
  },
  {
   "cell_type": "code",
   "execution_count": 17,
   "metadata": {},
   "outputs": [
    {
     "name": "stdout",
     "output_type": "stream",
     "text": [
      "Using device: cuda\n"
     ]
    }
   ],
   "source": [
    "# Define CSModel object\n",
    "cell_type_prediction_model_path = \"/home/sr2464/palmer_scratch/C2S_Files_Syed/multicell_pretraining_v2_important_models/pythia-410m-multicell_v2_2024-07-28_13-55-51_checkpoint-7600_cell_type_pred\"\n",
    "save_dir = \"/home/sr2464/palmer_scratch/C2S_Files_Syed/c2s_api_testing/csmodel_tutorial_2\"\n",
    "save_name = \"cell_embedding_prediction_pythia_410M_1\"\n",
    "csmodel = cs.CSModel(\n",
    "    model_name_or_path=cell_type_prediction_model_path,\n",
    "    save_dir=save_dir,\n",
    "    save_name=save_name)"
   ]
  },
  {
   "cell_type": "code",
   "execution_count": 18,
   "metadata": {},
   "outputs": [
    {
     "name": "stdout",
     "output_type": "stream",
     "text": [
      "Reloading model from path on disk: /home/sr2464/palmer_scratch/C2S_Files_Syed/c2s_api_testing/csmodel_tutorial_2/cell_embedding_prediction_pythia_410M_1\n"
     ]
    },
    {
     "ename": "KeyError",
     "evalue": "'organism'",
     "output_type": "error",
     "traceback": [
      "\u001b[0;31m---------------------------------------------------------------------------\u001b[0m",
      "\u001b[0;31mKeyError\u001b[0m                                  Traceback (most recent call last)",
      "Cell \u001b[0;32mIn[18], line 2\u001b[0m\n\u001b[1;32m      1\u001b[0m \u001b[38;5;66;03m# Embed cells\u001b[39;00m\n\u001b[0;32m----> 2\u001b[0m embedded_human_cells \u001b[38;5;241m=\u001b[39m \u001b[43mtasks\u001b[49m\u001b[38;5;241;43m.\u001b[39;49m\u001b[43membed_cells\u001b[49m\u001b[43m(\u001b[49m\n\u001b[1;32m      3\u001b[0m \u001b[43m    \u001b[49m\u001b[43mcsdata\u001b[49m\u001b[38;5;241;43m=\u001b[39;49m\u001b[43mhuman_csdata\u001b[49m\u001b[43m,\u001b[49m\n\u001b[1;32m      4\u001b[0m \u001b[43m    \u001b[49m\u001b[43mcsmodel\u001b[49m\u001b[38;5;241;43m=\u001b[39;49m\u001b[43mcsmodel\u001b[49m\u001b[43m,\u001b[49m\n\u001b[1;32m      5\u001b[0m \u001b[43m    \u001b[49m\u001b[43mn_genes\u001b[49m\u001b[38;5;241;43m=\u001b[39;49m\u001b[38;5;241;43m200\u001b[39;49m\u001b[43m,\u001b[49m\n\u001b[1;32m      6\u001b[0m \u001b[43m)\u001b[49m\n",
      "File \u001b[0;32m/vast/palmer/home.mccleary/dor3/cell2sentence/src/cell2sentence/tasks.py:183\u001b[0m, in \u001b[0;36membed_cells\u001b[0;34m(csdata, csmodel, n_genes, inference_batch_size)\u001b[0m\n\u001b[1;32m    181\u001b[0m \u001b[39m# Format prompts\u001b[39;00m\n\u001b[1;32m    182\u001b[0m prompt_formatter \u001b[39m=\u001b[39m PromptFormatter(task\u001b[39m=\u001b[39m\u001b[39m\"\u001b[39m\u001b[39mcell_type_prediction\u001b[39m\u001b[39m\"\u001b[39m, top_k_genes\u001b[39m=\u001b[39mn_genes)\n\u001b[0;32m--> 183\u001b[0m formatted_hf_ds \u001b[39m=\u001b[39m prompt_formatter\u001b[39m.\u001b[39;49mformat_hf_ds(hf_ds_dict)\n\u001b[1;32m    185\u001b[0m \u001b[39m# Predict cell types using trained C2S models\u001b[39;00m\n\u001b[1;32m    186\u001b[0m \u001b[39mprint\u001b[39m(\u001b[39mf\u001b[39m\u001b[39m\"\u001b[39m\u001b[39mEmbedding \u001b[39m\u001b[39m{\u001b[39;00mformatted_hf_ds\u001b[39m.\u001b[39mnum_rows\u001b[39m}\u001b[39;00m\u001b[39m cells using CSModel...\u001b[39m\u001b[39m\"\u001b[39m)\n",
      "File \u001b[0;32m/vast/palmer/home.mccleary/dor3/cell2sentence/src/cell2sentence/prompt_formatter.py:111\u001b[0m, in \u001b[0;36mPromptFormatter.format_hf_ds\u001b[0;34m(self, hf_ds)\u001b[0m\n\u001b[1;32m    109\u001b[0m \u001b[39m# Select an input prompt, format keys\u001b[39;00m\n\u001b[1;32m    110\u001b[0m model_input_str \u001b[39m=\u001b[39m random\u001b[39m.\u001b[39mchoice(\u001b[39mself\u001b[39m\u001b[39m.\u001b[39mprompts_dict[\u001b[39m\"\u001b[39m\u001b[39mmodel_input\u001b[39m\u001b[39m\"\u001b[39m])\n\u001b[0;32m--> 111\u001b[0m model_input_str \u001b[39m=\u001b[39m model_input_str\u001b[39m.\u001b[39mformat(\u001b[39m*\u001b[39m\u001b[39m*\u001b[39m{key: sample[key] \u001b[39mfor\u001b[39;00m key \u001b[39min\u001b[39;00m model_input_keys})\n\u001b[1;32m    113\u001b[0m \u001b[39m# Format key in response\u001b[39;00m\n\u001b[1;32m    114\u001b[0m response_str \u001b[39m=\u001b[39m \u001b[39mself\u001b[39m\u001b[39m.\u001b[39mprompts_dict[\u001b[39m\"\u001b[39m\u001b[39mresponse\u001b[39m\u001b[39m\"\u001b[39m][\u001b[39m0\u001b[39m]  \u001b[39m# 1 response template\u001b[39;00m\n",
      "File \u001b[0;32m/vast/palmer/home.mccleary/dor3/cell2sentence/src/cell2sentence/prompt_formatter.py:111\u001b[0m, in \u001b[0;36m<dictcomp>\u001b[0;34m(.0)\u001b[0m\n\u001b[1;32m    109\u001b[0m \u001b[39m# Select an input prompt, format keys\u001b[39;00m\n\u001b[1;32m    110\u001b[0m model_input_str \u001b[39m=\u001b[39m random\u001b[39m.\u001b[39mchoice(\u001b[39mself\u001b[39m\u001b[39m.\u001b[39mprompts_dict[\u001b[39m\"\u001b[39m\u001b[39mmodel_input\u001b[39m\u001b[39m\"\u001b[39m])\n\u001b[0;32m--> 111\u001b[0m model_input_str \u001b[39m=\u001b[39m model_input_str\u001b[39m.\u001b[39mformat(\u001b[39m*\u001b[39m\u001b[39m*\u001b[39m{key: sample[key] \u001b[39mfor\u001b[39;00m key \u001b[39min\u001b[39;00m model_input_keys})\n\u001b[1;32m    113\u001b[0m \u001b[39m# Format key in response\u001b[39;00m\n\u001b[1;32m    114\u001b[0m response_str \u001b[39m=\u001b[39m \u001b[39mself\u001b[39m\u001b[39m.\u001b[39mprompts_dict[\u001b[39m\"\u001b[39m\u001b[39mresponse\u001b[39m\u001b[39m\"\u001b[39m][\u001b[39m0\u001b[39m]  \u001b[39m# 1 response template\u001b[39;00m\n",
      "\u001b[0;31mKeyError\u001b[0m: 'organism'"
     ]
    }
   ],
   "source": [
    "# Embed cells\n",
    "embedded_human_cells = tasks.embed_cells(\n",
    "    csdata=human_csdata,\n",
    "    csmodel=csmodel,\n",
    "    n_genes=200,\n",
    ")"
   ]
  },
  {
   "cell_type": "code",
   "execution_count": null,
   "metadata": {},
   "outputs": [
    {
     "name": "stdout",
     "output_type": "stream",
     "text": [
      "Embedding human cells...\n",
      "Reloading model from path on disk: /home/sr2464/palmer_scratch/C2S_Files_Syed/c2s_api_testing/csmodel_tutorial_2/cell_embedding_prediction_pythia_410M_1\n"
     ]
    },
    {
     "ename": "KeyError",
     "evalue": "'organism'",
     "output_type": "error",
     "traceback": [
      "\u001b[0;31m---------------------------------------------------------------------------\u001b[0m",
      "\u001b[0;31mKeyError\u001b[0m                                  Traceback (most recent call last)",
      "Cell \u001b[0;32mIn[83], line 3\u001b[0m\n\u001b[1;32m      1\u001b[0m \u001b[38;5;66;03m# Embed the cells using the C2S model\u001b[39;00m\n\u001b[1;32m      2\u001b[0m \u001b[38;5;28mprint\u001b[39m(\u001b[38;5;124m\"\u001b[39m\u001b[38;5;124mEmbedding human cells...\u001b[39m\u001b[38;5;124m\"\u001b[39m)\n\u001b[0;32m----> 3\u001b[0m human_embeddings \u001b[38;5;241m=\u001b[39m \u001b[43mtasks\u001b[49m\u001b[38;5;241;43m.\u001b[39;49m\u001b[43membed_cells\u001b[49m\u001b[43m(\u001b[49m\u001b[43mcsdata\u001b[49m\u001b[38;5;241;43m=\u001b[39;49m\u001b[43mhuman_csdata\u001b[49m\u001b[43m,\u001b[49m\u001b[43m \u001b[49m\u001b[43mcsmodel\u001b[49m\u001b[38;5;241;43m=\u001b[39;49m\u001b[43mcsmodel\u001b[49m\u001b[43m,\u001b[49m\u001b[43m \u001b[49m\u001b[43mn_genes\u001b[49m\u001b[38;5;241;43m=\u001b[39;49m\u001b[38;5;241;43m200\u001b[39;49m\u001b[43m)\u001b[49m\n",
      "File \u001b[0;32m/vast/palmer/home.mccleary/dor3/cell2sentence/src/cell2sentence/tasks.py:183\u001b[0m, in \u001b[0;36membed_cells\u001b[0;34m(csdata, csmodel, n_genes, inference_batch_size)\u001b[0m\n\u001b[1;32m    181\u001b[0m \u001b[39m# Format prompts\u001b[39;00m\n\u001b[1;32m    182\u001b[0m prompt_formatter \u001b[39m=\u001b[39m PromptFormatter(task\u001b[39m=\u001b[39m\u001b[39m\"\u001b[39m\u001b[39mcell_type_prediction\u001b[39m\u001b[39m\"\u001b[39m, top_k_genes\u001b[39m=\u001b[39mn_genes)\n\u001b[0;32m--> 183\u001b[0m formatted_hf_ds \u001b[39m=\u001b[39m prompt_formatter\u001b[39m.\u001b[39;49mformat_hf_ds(hf_ds_dict)\n\u001b[1;32m    185\u001b[0m \u001b[39m# Predict cell types using trained C2S models\u001b[39;00m\n\u001b[1;32m    186\u001b[0m \u001b[39mprint\u001b[39m(\u001b[39mf\u001b[39m\u001b[39m\"\u001b[39m\u001b[39mEmbedding \u001b[39m\u001b[39m{\u001b[39;00mformatted_hf_ds\u001b[39m.\u001b[39mnum_rows\u001b[39m}\u001b[39;00m\u001b[39m cells using CSModel...\u001b[39m\u001b[39m\"\u001b[39m)\n",
      "File \u001b[0;32m/vast/palmer/home.mccleary/dor3/cell2sentence/src/cell2sentence/prompt_formatter.py:111\u001b[0m, in \u001b[0;36mPromptFormatter.format_hf_ds\u001b[0;34m(self, hf_ds)\u001b[0m\n\u001b[1;32m    109\u001b[0m \u001b[39m# Select an input prompt, format keys\u001b[39;00m\n\u001b[1;32m    110\u001b[0m model_input_str \u001b[39m=\u001b[39m random\u001b[39m.\u001b[39mchoice(\u001b[39mself\u001b[39m\u001b[39m.\u001b[39mprompts_dict[\u001b[39m\"\u001b[39m\u001b[39mmodel_input\u001b[39m\u001b[39m\"\u001b[39m])\n\u001b[0;32m--> 111\u001b[0m model_input_str \u001b[39m=\u001b[39m model_input_str\u001b[39m.\u001b[39mformat(\u001b[39m*\u001b[39m\u001b[39m*\u001b[39m{key: sample[key] \u001b[39mfor\u001b[39;00m key \u001b[39min\u001b[39;00m model_input_keys})\n\u001b[1;32m    113\u001b[0m \u001b[39m# Format key in response\u001b[39;00m\n\u001b[1;32m    114\u001b[0m response_str \u001b[39m=\u001b[39m \u001b[39mself\u001b[39m\u001b[39m.\u001b[39mprompts_dict[\u001b[39m\"\u001b[39m\u001b[39mresponse\u001b[39m\u001b[39m\"\u001b[39m][\u001b[39m0\u001b[39m]  \u001b[39m# 1 response template\u001b[39;00m\n",
      "File \u001b[0;32m/vast/palmer/home.mccleary/dor3/cell2sentence/src/cell2sentence/prompt_formatter.py:111\u001b[0m, in \u001b[0;36m<dictcomp>\u001b[0;34m(.0)\u001b[0m\n\u001b[1;32m    109\u001b[0m \u001b[39m# Select an input prompt, format keys\u001b[39;00m\n\u001b[1;32m    110\u001b[0m model_input_str \u001b[39m=\u001b[39m random\u001b[39m.\u001b[39mchoice(\u001b[39mself\u001b[39m\u001b[39m.\u001b[39mprompts_dict[\u001b[39m\"\u001b[39m\u001b[39mmodel_input\u001b[39m\u001b[39m\"\u001b[39m])\n\u001b[0;32m--> 111\u001b[0m model_input_str \u001b[39m=\u001b[39m model_input_str\u001b[39m.\u001b[39mformat(\u001b[39m*\u001b[39m\u001b[39m*\u001b[39m{key: sample[key] \u001b[39mfor\u001b[39;00m key \u001b[39min\u001b[39;00m model_input_keys})\n\u001b[1;32m    113\u001b[0m \u001b[39m# Format key in response\u001b[39;00m\n\u001b[1;32m    114\u001b[0m response_str \u001b[39m=\u001b[39m \u001b[39mself\u001b[39m\u001b[39m.\u001b[39mprompts_dict[\u001b[39m\"\u001b[39m\u001b[39mresponse\u001b[39m\u001b[39m\"\u001b[39m][\u001b[39m0\u001b[39m]  \u001b[39m# 1 response template\u001b[39;00m\n",
      "\u001b[0;31mKeyError\u001b[0m: 'organism'"
     ]
    }
   ],
   "source": [
    "# Embed the cells using the C2S model\n",
    "print(\"Embedding human cells...\")\n",
    "human_embeddings = tasks.embed_cells(csdata=human_csdata, csmodel=csmodel, n_genes=200)"
   ]
  },
  {
   "cell_type": "code",
   "execution_count": 19,
   "metadata": {},
   "outputs": [
    {
     "name": "stdout",
     "output_type": "stream",
     "text": [
      "Embedding mouse cells...\n",
      "Reloading model from path on disk: /home/sr2464/palmer_scratch/C2S_Files_Syed/c2s_api_testing/csmodel_tutorial_2/cell_embedding_prediction_pythia_410M_1\n"
     ]
    },
    {
     "ename": "KeyError",
     "evalue": "'organism'",
     "output_type": "error",
     "traceback": [
      "\u001b[0;31m---------------------------------------------------------------------------\u001b[0m",
      "\u001b[0;31mKeyError\u001b[0m                                  Traceback (most recent call last)",
      "Cell \u001b[0;32mIn[19], line 2\u001b[0m\n\u001b[1;32m      1\u001b[0m \u001b[38;5;28mprint\u001b[39m(\u001b[38;5;124m\"\u001b[39m\u001b[38;5;124mEmbedding mouse cells...\u001b[39m\u001b[38;5;124m\"\u001b[39m)\n\u001b[0;32m----> 2\u001b[0m mouse_embeddings \u001b[38;5;241m=\u001b[39m \u001b[43mtasks\u001b[49m\u001b[38;5;241;43m.\u001b[39;49m\u001b[43membed_cells\u001b[49m\u001b[43m(\u001b[49m\u001b[43mcsdata\u001b[49m\u001b[38;5;241;43m=\u001b[39;49m\u001b[43mmouse_csdata\u001b[49m\u001b[43m,\u001b[49m\u001b[43m \u001b[49m\u001b[43mcsmodel\u001b[49m\u001b[38;5;241;43m=\u001b[39;49m\u001b[43mcsmodel\u001b[49m\u001b[43m,\u001b[49m\u001b[43m \u001b[49m\u001b[43mn_genes\u001b[49m\u001b[38;5;241;43m=\u001b[39;49m\u001b[38;5;241;43m200\u001b[39;49m\u001b[43m,\u001b[49m\u001b[43m \u001b[49m\u001b[43minference_batch_size\u001b[49m\u001b[38;5;241;43m=\u001b[39;49m\u001b[38;5;241;43m8\u001b[39;49m\u001b[43m)\u001b[49m\n\u001b[1;32m      3\u001b[0m \u001b[38;5;28mprint\u001b[39m(\u001b[38;5;124m\"\u001b[39m\u001b[38;5;124mMouse cell embeddings shape: \u001b[39m\u001b[38;5;124m\"\u001b[39m, mouse_embeddings\u001b[38;5;241m.\u001b[39mshape)\n",
      "File \u001b[0;32m/vast/palmer/home.mccleary/dor3/cell2sentence/src/cell2sentence/tasks.py:183\u001b[0m, in \u001b[0;36membed_cells\u001b[0;34m(csdata, csmodel, n_genes, inference_batch_size)\u001b[0m\n\u001b[1;32m    181\u001b[0m \u001b[39m# Format prompts\u001b[39;00m\n\u001b[1;32m    182\u001b[0m prompt_formatter \u001b[39m=\u001b[39m PromptFormatter(task\u001b[39m=\u001b[39m\u001b[39m\"\u001b[39m\u001b[39mcell_type_prediction\u001b[39m\u001b[39m\"\u001b[39m, top_k_genes\u001b[39m=\u001b[39mn_genes)\n\u001b[0;32m--> 183\u001b[0m formatted_hf_ds \u001b[39m=\u001b[39m prompt_formatter\u001b[39m.\u001b[39;49mformat_hf_ds(hf_ds_dict)\n\u001b[1;32m    185\u001b[0m \u001b[39m# Predict cell types using trained C2S models\u001b[39;00m\n\u001b[1;32m    186\u001b[0m \u001b[39mprint\u001b[39m(\u001b[39mf\u001b[39m\u001b[39m\"\u001b[39m\u001b[39mEmbedding \u001b[39m\u001b[39m{\u001b[39;00mformatted_hf_ds\u001b[39m.\u001b[39mnum_rows\u001b[39m}\u001b[39;00m\u001b[39m cells using CSModel...\u001b[39m\u001b[39m\"\u001b[39m)\n",
      "File \u001b[0;32m/vast/palmer/home.mccleary/dor3/cell2sentence/src/cell2sentence/prompt_formatter.py:111\u001b[0m, in \u001b[0;36mPromptFormatter.format_hf_ds\u001b[0;34m(self, hf_ds)\u001b[0m\n\u001b[1;32m    109\u001b[0m \u001b[39m# Select an input prompt, format keys\u001b[39;00m\n\u001b[1;32m    110\u001b[0m model_input_str \u001b[39m=\u001b[39m random\u001b[39m.\u001b[39mchoice(\u001b[39mself\u001b[39m\u001b[39m.\u001b[39mprompts_dict[\u001b[39m\"\u001b[39m\u001b[39mmodel_input\u001b[39m\u001b[39m\"\u001b[39m])\n\u001b[0;32m--> 111\u001b[0m model_input_str \u001b[39m=\u001b[39m model_input_str\u001b[39m.\u001b[39mformat(\u001b[39m*\u001b[39m\u001b[39m*\u001b[39m{key: sample[key] \u001b[39mfor\u001b[39;00m key \u001b[39min\u001b[39;00m model_input_keys})\n\u001b[1;32m    113\u001b[0m \u001b[39m# Format key in response\u001b[39;00m\n\u001b[1;32m    114\u001b[0m response_str \u001b[39m=\u001b[39m \u001b[39mself\u001b[39m\u001b[39m.\u001b[39mprompts_dict[\u001b[39m\"\u001b[39m\u001b[39mresponse\u001b[39m\u001b[39m\"\u001b[39m][\u001b[39m0\u001b[39m]  \u001b[39m# 1 response template\u001b[39;00m\n",
      "File \u001b[0;32m/vast/palmer/home.mccleary/dor3/cell2sentence/src/cell2sentence/prompt_formatter.py:111\u001b[0m, in \u001b[0;36m<dictcomp>\u001b[0;34m(.0)\u001b[0m\n\u001b[1;32m    109\u001b[0m \u001b[39m# Select an input prompt, format keys\u001b[39;00m\n\u001b[1;32m    110\u001b[0m model_input_str \u001b[39m=\u001b[39m random\u001b[39m.\u001b[39mchoice(\u001b[39mself\u001b[39m\u001b[39m.\u001b[39mprompts_dict[\u001b[39m\"\u001b[39m\u001b[39mmodel_input\u001b[39m\u001b[39m\"\u001b[39m])\n\u001b[0;32m--> 111\u001b[0m model_input_str \u001b[39m=\u001b[39m model_input_str\u001b[39m.\u001b[39mformat(\u001b[39m*\u001b[39m\u001b[39m*\u001b[39m{key: sample[key] \u001b[39mfor\u001b[39;00m key \u001b[39min\u001b[39;00m model_input_keys})\n\u001b[1;32m    113\u001b[0m \u001b[39m# Format key in response\u001b[39;00m\n\u001b[1;32m    114\u001b[0m response_str \u001b[39m=\u001b[39m \u001b[39mself\u001b[39m\u001b[39m.\u001b[39mprompts_dict[\u001b[39m\"\u001b[39m\u001b[39mresponse\u001b[39m\u001b[39m\"\u001b[39m][\u001b[39m0\u001b[39m]  \u001b[39m# 1 response template\u001b[39;00m\n",
      "\u001b[0;31mKeyError\u001b[0m: 'organism'"
     ]
    }
   ],
   "source": [
    "print(\"Embedding mouse cells...\")\n",
    "mouse_embeddings = tasks.embed_cells(csdata=mouse_csdata, csmodel=csmodel, n_genes=200, inference_batch_size=8)\n",
    "print(\"Mouse cell embeddings shape: \", mouse_embeddings.shape)"
   ]
  },
  {
   "cell_type": "code",
   "execution_count": null,
   "metadata": {},
   "outputs": [],
   "source": [
    "# use ICA (Independence Component Analysis) to reduce the dimensionality of the embeddings\n",
    "ica = FastICA(n_components=50) # What number should n_components be? I think for default PCA this is 14? Or is that nearest neighbors? Check.\n",
    "human_ica = ica.fit_transform(human_embeddings)\n",
    "mouse_ica = ica.fit_transform(mouse_embeddings) "
   ]
  },
  {
   "cell_type": "code",
   "execution_count": null,
   "metadata": {},
   "outputs": [],
   "source": [
    "# use CinemaOT to compute the cost matrix and OT plan\n",
    "# create pandas dataframe to use with Cinema OT\n",
    "human_df = pd.Dataframe(human_ica, index=adata_human.obs.index)\n",
    "mouse_df = pd.Dataframe(mouse_ica, index=adata_mouse.obs.index)"
   ]
  },
  {
   "cell_type": "code",
   "execution_count": null,
   "metadata": {},
   "outputs": [],
   "source": [
    "# use cinema OT to find optimal transport\n",
    "ot_optimizer = cinemaot.OptimalTransport()\n",
    "transport_plan = ot_op"
   ]
  },
  {
   "cell_type": "code",
   "execution_count": null,
   "metadata": {},
   "outputs": [],
   "source": [
    "# extract OT matrix from the transport plan\n",
    "ot_matrix = transport_plan.values\n"
   ]
  },
  {
   "cell_type": "code",
   "execution_count": null,
   "metadata": {},
   "outputs": [],
   "source": [
    " # find the ooptimal pairs based on the transport plan\n",
    "paired_indices = []\n",
    "for human_idx in range(ot_matrix.shape[0]):\n",
    "    mouse_idx = np.argmax(ot_matrix[human_idx])\n",
    "    paired_indices.append((human_idx, mouse_idx))"
   ]
  },
  {
   "cell_type": "code",
   "execution_count": null,
   "metadata": {},
   "outputs": [],
   "source": []
  },
  {
   "cell_type": "code",
   "execution_count": null,
   "metadata": {},
   "outputs": [],
   "source": [
    "def cinema_ot_pairing(adata_human, adata_mouse, csmodel, arrow_dir='./data/'):\n",
    "    \"\"\"\n",
    "    Compute Cinema OT pairing between human and mouse cells using Cell2Sentence embeddings and ICA.\n",
    "\n",
    "    Parameters:\n",
    "    - adata_human: AnnData object for human cells.\n",
    "    - adata_mouse: AnnData object for mouse cells.\n",
    "    - csmodel: Cell2Sentence (CS) model for generating cell embeddings.\n",
    "\n",
    "    Returns:\n",
    "    - paired_indices: List of tuples (human_index, mouse_index) of paired cells\n",
    "    - ot_matrix: Optimal transport matrix.\n",
    "    \"\"\"\n",
    "    # ensure the directory for Arrow datasets exists\n",
    "    os.makedirs(arrow_dir, exist_ok=True)\n",
    "    \n",
    "    # paths to Arrow datasets\n",
    "    arrow_path_human = os.path.join(arrow_dir, 'human_arrow')\n",
    "    arrow_path_mouse = os.path.join(arrow_dir, 'mouse_arrow')\n",
    "    \n",
    "    # prepare CSData objects\n",
    "    csdata_human, vocab_human = prepare_csdata(adata_human, arrow_path_human)\n",
    "    csdata_mouse, vocab_mouse = prepare_csdata(adata_mouse, arrow_path_mouse)\n",
    "\n",
    "    # embed the cells using the C2S model (same space of c2s --> model's hidden configurations model.con)\n",
    "    # human_embeddings.shape --> number of cells x hidden dimension (latent space size = hidden dimensionality of model)\n",
    "    human_embeddings = tasks.embed_cells(csdata_human, csmodel, n_genes=200, inference_batch_size=8)\n",
    "    mouse_embeddings = tasks.embed_cells(csdata_mouse, csmodel, n_genes=200, inference_batch_size=8)\n",
    "\n",
    "    # use ICA (Independence Component Analysis) to reduce the dimensionality of the embeddings\n",
    "    ica = FastICA(n_components=50) # What number should n_components be? I think for default PCA this is 14? Or is that nearest neighbors? Check.\n",
    "    human_ica = ica.fit_transform(human_embeddings)\n",
    "    mouse_ica = ica.fit_transform(mouse_embeddings) \n",
    "\n",
    "    # use CinemaOT to compute the cost matrix and OT plan\n",
    "    # create pandas dataframe to use with Cinema OT\n",
    "    human_df = pd.Dataframe(human_ica, index=adata_human.obs.index)\n",
    "    mouse_df = pd.Dataframe(mouse_ica, index=adata_mouse.obs.index)\n",
    "\n",
    "    # use cinema OT to find optimal transport\n",
    "    ot_optimizer = cinemaot.OptimalTransport()\n",
    "    transport_plan = ot_optimizer.optimize(human_df, mouse_df)\n",
    "\n",
    "    # extract OT matrix from the transport plan\n",
    "    ot_matrix = transport_plan.values\n",
    "\n",
    "    # find the ooptimal pairs based on the transport plan\n",
    "    paired_indices = []\n",
    "    for human_idx in range(ot_matrix.shape[0]):\n",
    "        mouse_idx = np.argmax(ot_matrix[human_idx])\n",
    "        paired_indices.append((human_idx, mouse_idx))\n",
    "\n",
    "    return paired_indices, ot_matrix"
   ]
  },
  {
   "cell_type": "code",
   "execution_count": null,
   "metadata": {},
   "outputs": [
    {
     "name": "stderr",
     "output_type": "stream",
     "text": [
      "WARN: more variables (12113) than observations (1937)... did you mean to transpose the object (e.g. adata.T)?\n",
      "WARN: more variables (12113) than observations (1937), did you mean to transpose the object (e.g. adata.T)?\n",
      "  0%|          | 0/1937 [00:00<?, ?it/s]\n"
     ]
    },
    {
     "ename": "AttributeError",
     "evalue": "'int' object has no attribute 'join'",
     "output_type": "error",
     "traceback": [
      "\u001b[0;31m---------------------------------------------------------------------------\u001b[0m",
      "\u001b[0;31mAttributeError\u001b[0m                            Traceback (most recent call last)",
      "Cell \u001b[0;32mIn[16], line 1\u001b[0m\n\u001b[0;32m----> 1\u001b[0m paired_indices, ot_matrix \u001b[38;5;241m=\u001b[39m \u001b[43mcinema_ot_pairing\u001b[49m\u001b[43m(\u001b[49m\u001b[43mhuman_restricted\u001b[49m\u001b[43m,\u001b[49m\u001b[43m \u001b[49m\u001b[43mmouse_restricted\u001b[49m\u001b[43m,\u001b[49m\u001b[43m \u001b[49m\u001b[43mCSModel\u001b[49m\u001b[43m)\u001b[49m\n",
      "Cell \u001b[0;32mIn[15], line 22\u001b[0m, in \u001b[0;36mcinema_ot_pairing\u001b[0;34m(adata_human, adata_mouse, csmodel, arrow_dir)\u001b[0m\n\u001b[1;32m     19\u001b[0m arrow_path_mouse \u001b[38;5;241m=\u001b[39m os\u001b[38;5;241m.\u001b[39mpath\u001b[38;5;241m.\u001b[39mjoin(arrow_dir, \u001b[38;5;124m'\u001b[39m\u001b[38;5;124mmouse_arrow\u001b[39m\u001b[38;5;124m'\u001b[39m)\n\u001b[1;32m     21\u001b[0m \u001b[38;5;66;03m# prepare CSData objects\u001b[39;00m\n\u001b[0;32m---> 22\u001b[0m csdata_human, vocab_human \u001b[38;5;241m=\u001b[39m \u001b[43mprepare_csdata\u001b[49m\u001b[43m(\u001b[49m\u001b[43madata_human\u001b[49m\u001b[43m,\u001b[49m\u001b[43m \u001b[49m\u001b[43marrow_path_human\u001b[49m\u001b[43m)\u001b[49m\n\u001b[1;32m     23\u001b[0m csdata_mouse, vocab_mouse \u001b[38;5;241m=\u001b[39m prepare_csdata(adata_mouse, arrow_path_mouse)\n\u001b[1;32m     25\u001b[0m \u001b[38;5;66;03m# embed the cells using the C2S model\u001b[39;00m\n",
      "Cell \u001b[0;32mIn[14], line 17\u001b[0m, in \u001b[0;36mprepare_csdata\u001b[0;34m(adata, arrow_path, vocab, random_state, dataset_backend)\u001b[0m\n\u001b[1;32m      2\u001b[0m \u001b[38;5;250m\u001b[39m\u001b[38;5;124;03m\"\"\"\u001b[39;00m\n\u001b[1;32m      3\u001b[0m \u001b[38;5;124;03mPrepare CSData object from AnnData object and store as Arrow dataset.\u001b[39;00m\n\u001b[1;32m      4\u001b[0m \n\u001b[0;32m   (...)\u001b[0m\n\u001b[1;32m     14\u001b[0m \u001b[38;5;124;03m- vocabulary: Vocabulary dictionary used or generated\u001b[39;00m\n\u001b[1;32m     15\u001b[0m \u001b[38;5;124;03m\"\"\"\u001b[39;00m\n\u001b[1;32m     16\u001b[0m \u001b[38;5;66;03m# convert AnnData to Arrow dataset\u001b[39;00m\n\u001b[0;32m---> 17\u001b[0m arrow_ds, vocabulary \u001b[38;5;241m=\u001b[39m \u001b[43mcs\u001b[49m\u001b[38;5;241;43m.\u001b[39;49m\u001b[43mCSData\u001b[49m\u001b[38;5;241;43m.\u001b[39;49m\u001b[43madata_to_arrow\u001b[49m\u001b[43m(\u001b[49m\u001b[43madata\u001b[49m\u001b[43m,\u001b[49m\u001b[43m \u001b[49m\u001b[43marrow_path\u001b[49m\u001b[43m,\u001b[49m\u001b[43m \u001b[49m\u001b[43mrandom_state\u001b[49m\u001b[43m)\u001b[49m\n\u001b[1;32m     19\u001b[0m \u001b[38;5;66;03m# use provided vocabulary or generated one\u001b[39;00m\n\u001b[1;32m     20\u001b[0m \u001b[38;5;28;01mif\u001b[39;00m vocab \u001b[38;5;129;01mis\u001b[39;00m \u001b[38;5;28;01mNone\u001b[39;00m:\n",
      "File \u001b[0;32m/vast/palmer/home.mccleary/dor3/cell2sentence/src/cell2sentence/csdata.py:73\u001b[0m, in \u001b[0;36mCSData.adata_to_arrow\u001b[0;34m(self, adata, random_state, sentence_delimiter, label_col_names)\u001b[0m\n\u001b[1;32m     71\u001b[0m \u001b[39m# Create vocabulary and cell sentences based on adata object\u001b[39;00m\n\u001b[1;32m     72\u001b[0m vocabulary \u001b[39m=\u001b[39m generate_vocabulary(adata)\n\u001b[0;32m---> 73\u001b[0m sentences \u001b[39m=\u001b[39m generate_sentences(adata, vocabulary, delimiter\u001b[39m=\u001b[39;49msentence_delimiter)\n\u001b[1;32m     74\u001b[0m cell_names \u001b[39m=\u001b[39m adata\u001b[39m.\u001b[39mobs_names\u001b[39m.\u001b[39mtolist()\n\u001b[1;32m     76\u001b[0m \u001b[39m# Turn into arrow dataset\u001b[39;00m\n",
      "File \u001b[0;32m/vast/palmer/home.mccleary/dor3/cell2sentence/src/cell2sentence/utils.py:117\u001b[0m, in \u001b[0;36mgenerate_sentences\u001b[0;34m(adata, vocab, delimiter, random_state)\u001b[0m\n\u001b[1;32m    115\u001b[0m     vals \u001b[39m=\u001b[39m mat\u001b[39m.\u001b[39mdata[mat\u001b[39m.\u001b[39mindptr[i] : mat\u001b[39m.\u001b[39mindptr[i \u001b[39m+\u001b[39m \u001b[39m1\u001b[39m]]\n\u001b[1;32m    116\u001b[0m     cols, vals \u001b[39m=\u001b[39m shuffle(cols, vals)\n\u001b[0;32m--> 117\u001b[0m     sentences\u001b[39m.\u001b[39mappend(delimiter\u001b[39m.\u001b[39;49mjoin([enc_map[x] \u001b[39mfor\u001b[39;00m x \u001b[39min\u001b[39;00m cols[np\u001b[39m.\u001b[39margsort(\u001b[39m-\u001b[39mvals, kind\u001b[39m=\u001b[39m\u001b[39m\"\u001b[39m\u001b[39mstable\u001b[39m\u001b[39m\"\u001b[39m)]]))\n\u001b[1;32m    119\u001b[0m \u001b[39mreturn\u001b[39;00m sentences\n",
      "\u001b[0;31mAttributeError\u001b[0m: 'int' object has no attribute 'join'"
     ]
    }
   ],
   "source": [
    "paired_indices, ot_matrix = cinema_ot_pairing(human_restricted, mouse_restricted, CSModel)"
   ]
  },
  {
   "cell_type": "code",
   "execution_count": null,
   "metadata": {},
   "outputs": [],
   "source": [
    "print(paired_indices[0])\n",
    "print(paired_indices[1])\n",
    "print(paired_indices[2])"
   ]
  },
  {
   "cell_type": "code",
   "execution_count": null,
   "metadata": {},
   "outputs": [
    {
     "ename": "NameError",
     "evalue": "name 'csmodel' is not defined",
     "output_type": "error",
     "traceback": [
      "\u001b[0;31m---------------------------------------------------------------------------\u001b[0m",
      "\u001b[0;31mNameError\u001b[0m                                 Traceback (most recent call last)",
      "Cell \u001b[0;32mIn[2], line 9\u001b[0m\n\u001b[1;32m      5\u001b[0m \u001b[38;5;28;01mfrom\u001b[39;00m \u001b[38;5;21;01mtransformers\u001b[39;00m \u001b[38;5;28;01mimport\u001b[39;00m AutoModelForCausalLM\n\u001b[1;32m      6\u001b[0m \u001b[38;5;28;01mfrom\u001b[39;00m \u001b[38;5;21;01mdatasets\u001b[39;00m \u001b[38;5;28;01mimport\u001b[39;00m load_from_disk\n\u001b[1;32m      8\u001b[0m model \u001b[38;5;241m=\u001b[39m AutoModelForCausalLM\u001b[38;5;241m.\u001b[39mfrom_pretrained(\n\u001b[0;32m----> 9\u001b[0m     \u001b[43mcsmodel\u001b[49m\u001b[38;5;241m.\u001b[39msave_path,\n\u001b[1;32m     10\u001b[0m     cache_dir\u001b[38;5;241m=\u001b[39mos\u001b[38;5;241m.\u001b[39mpath\u001b[38;5;241m.\u001b[39mjoin(csmodel\u001b[38;5;241m.\u001b[39msave_dir, \u001b[38;5;124m\"\u001b[39m\u001b[38;5;124m.cache\u001b[39m\u001b[38;5;124m\"\u001b[39m),\n\u001b[1;32m     11\u001b[0m     trust_remote_code\u001b[38;5;241m=\u001b[39m\u001b[38;5;28;01mTrue\u001b[39;00m\n\u001b[1;32m     12\u001b[0m )\n\u001b[1;32m     13\u001b[0m model \u001b[38;5;241m=\u001b[39m model\u001b[38;5;241m.\u001b[39mto(csmodel\u001b[38;5;241m.\u001b[39mdevice)\n",
      "\u001b[0;31mNameError\u001b[0m: name 'csmodel' is not defined"
     ]
    }
   ],
   "source": [
    "# tasks.embed_cells loads model from that path and then uses it\n",
    "\n",
    "# Huggingface\n",
    "'''import torch\n",
    "from transformers import AutoModelForCausalLM\n",
    "from datasets import load_from_disk\n",
    "\n",
    "model = AutoModelForCausalLM.from_pretrained(\n",
    "    csmodel.save_path,\n",
    "    cache_dir=os.path.join(csmodel.save_dir, \".cache\"),\n",
    "    trust_remote_code=True\n",
    ")\n",
    "model = model.to(csmodel.device)'''"
   ]
  }
 ],
 "metadata": {
  "kernelspec": {
   "display_name": "Python (cell2sentence)",
   "language": "python",
   "name": "cell2sentence"
  },
  "language_info": {
   "codemirror_mode": {
    "name": "ipython",
    "version": 3
   },
   "file_extension": ".py",
   "mimetype": "text/x-python",
   "name": "python",
   "nbconvert_exporter": "python",
   "pygments_lexer": "ipython3",
   "version": "3.8.19"
  },
  "orig_nbformat": 4,
  "vscode": {
   "interpreter": {
    "hash": "ead1b95f633dc9c51826328e1846203f51a198c6fb5f2884a80417ba131d4e82"
   }
  }
 },
 "nbformat": 4,
 "nbformat_minor": 2
}
