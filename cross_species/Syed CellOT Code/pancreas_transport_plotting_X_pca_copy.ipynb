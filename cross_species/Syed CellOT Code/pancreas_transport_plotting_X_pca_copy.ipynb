{
 "cells": [
  {
   "cell_type": "code",
   "execution_count": 1,
   "metadata": {},
   "outputs": [],
   "source": [
    "from collections import Counter\n",
    "import os\n",
    "import random\n",
    "\n",
    "import numpy as np\n",
    "import pandas as pd\n",
    "import matplotlib.pyplot as plt\n",
    "import matplotlib as mpl\n",
    "from tqdm import tqdm\n",
    "\n",
    "import anndata\n",
    "import scanpy as sc"
   ]
  },
  {
   "cell_type": "code",
   "execution_count": 2,
   "metadata": {},
   "outputs": [],
   "source": [
    "import matplotlib as mpl"
   ]
  },
  {
   "cell_type": "code",
   "execution_count": 3,
   "metadata": {},
   "outputs": [],
   "source": [
    "SEED = 1234\n",
    "random.seed(SEED)\n",
    "np.random.seed(SEED)"
   ]
  },
  {
   "cell_type": "code",
   "execution_count": 4,
   "metadata": {},
   "outputs": [],
   "source": [
    "orig_data_path = \"/home/sr2464/scratch/C2S_Files/CellOT_files/pancreas_data/harmony_common_pancreas.h5ad\"\n",
    "BASE_PATH = \"/home/sr2464/scratch/C2S_Files/CellOT_files/pancreas_training_runs/run7_X_pca/evals_iid_data_space\"\n",
    "cell_ot_transported_data_path = os.path.join(BASE_PATH, \"imputed.h5ad\")"
   ]
  },
  {
   "cell_type": "code",
   "execution_count": 5,
   "metadata": {},
   "outputs": [
    {
     "data": {
      "text/plain": [
       "AnnData object with n_obs × n_vars = 9436 × 12113\n",
       "    obs: 'cell_barcodes', 'cell_manual_ids', 'cell_types', 'batch_sample', 'n_genes', 'n_genes_by_counts', 'total_counts', 'total_counts_mt', 'pct_counts_mt', 'species_cell_type_label', 'species_label'\n",
       "    var: 'homolog_pair_idx', 'human_gene_name', 'mouse_gene_name', 'human_gene_ensembl_id', 'mouse_gene_ensembl_id', 'highly_variable', 'means', 'dispersions', 'dispersions_norm', 'highly_variable_nbatches', 'highly_variable_intersection'\n",
       "    uns: 'hvg', 'neighbors', 'pca', 'species_label_colors', 'umap'\n",
       "    obsm: 'X_pca', 'X_pca_harmony_library', 'X_umap'\n",
       "    varm: 'PCs'\n",
       "    obsp: 'connectivities', 'distances'"
      ]
     },
     "execution_count": 5,
     "metadata": {},
     "output_type": "execute_result"
    }
   ],
   "source": [
    "orig_adata = anndata.read_h5ad(orig_data_path)\n",
    "orig_adata"
   ]
  },
  {
   "cell_type": "code",
   "execution_count": 6,
   "metadata": {},
   "outputs": [
    {
     "data": {
      "text/plain": [
       "AnnData object with n_obs × n_vars = 500 × 50\n",
       "    obs: 'cell_barcodes', 'cell_manual_ids', 'cell_types', 'batch_sample', 'n_genes', 'n_genes_by_counts', 'total_counts', 'total_counts_mt', 'pct_counts_mt', 'species_cell_type_label', 'species_label', 'transport', 'split'"
      ]
     },
     "execution_count": 6,
     "metadata": {},
     "output_type": "execute_result"
    }
   ],
   "source": [
    "cell_ot_transport_adata = anndata.read_h5ad(cell_ot_transported_data_path)\n",
    "cell_ot_transport_adata"
   ]
  },
  {
   "cell_type": "code",
   "execution_count": 7,
   "metadata": {},
   "outputs": [
    {
     "name": "stderr",
     "output_type": "stream",
     "text": [
      "<ipython-input-7-58f7d54dd4c1>:1: FutureWarning: X.dtype being converted to np.float32 from float64. In the next version of anndata (0.9) conversion will not be automatic. Pass dtype explicitly to avoid this warning. Pass `AnnData(X, dtype=X.dtype, ...)` to get the future behavour.\n",
      "  orig_adata_reduced = anndata.AnnData(\n"
     ]
    }
   ],
   "source": [
    "orig_adata_reduced = anndata.AnnData(\n",
    "    X=orig_adata.obsm[\"X_pca\"],\n",
    "    var=cell_ot_transport_adata.var.copy(),\n",
    "    obs=orig_adata.obs.copy()\n",
    ")"
   ]
  },
  {
   "cell_type": "code",
   "execution_count": 8,
   "metadata": {},
   "outputs": [],
   "source": [
    "orig_adata_reduced.obsm[\"X_pca\"] = orig_adata_reduced.X"
   ]
  },
  {
   "cell_type": "code",
   "execution_count": 9,
   "metadata": {},
   "outputs": [
    {
     "data": {
      "text/plain": [
       "AnnData object with n_obs × n_vars = 9436 × 50\n",
       "    obs: 'cell_barcodes', 'cell_manual_ids', 'cell_types', 'batch_sample', 'n_genes', 'n_genes_by_counts', 'total_counts', 'total_counts_mt', 'pct_counts_mt', 'species_cell_type_label', 'species_label'\n",
       "    obsm: 'X_pca'"
      ]
     },
     "execution_count": 9,
     "metadata": {},
     "output_type": "execute_result"
    }
   ],
   "source": [
    "orig_adata_reduced"
   ]
  },
  {
   "cell_type": "code",
   "execution_count": 10,
   "metadata": {},
   "outputs": [
    {
     "data": {
      "text/plain": [
       "AnnData object with n_obs × n_vars = 500 × 50\n",
       "    obs: 'cell_barcodes', 'cell_manual_ids', 'cell_types', 'batch_sample', 'n_genes', 'n_genes_by_counts', 'total_counts', 'total_counts_mt', 'pct_counts_mt', 'species_cell_type_label', 'species_label', 'transport', 'split'"
      ]
     },
     "execution_count": 10,
     "metadata": {},
     "output_type": "execute_result"
    }
   ],
   "source": [
    "cell_ot_transport_adata"
   ]
  },
  {
   "cell_type": "markdown",
   "metadata": {},
   "source": [
    "# Visualize original cells"
   ]
  },
  {
   "cell_type": "code",
   "execution_count": 25,
   "metadata": {},
   "outputs": [],
   "source": [
    "mpl.rcParams['figure.facecolor'] = 'white'"
   ]
  },
  {
   "cell_type": "code",
   "execution_count": 16,
   "metadata": {},
   "outputs": [],
   "source": [
    "del orig_adata_reduced.obsm\n",
    "del orig_adata_reduced.varm\n",
    "del orig_adata_reduced.obsp\n",
    "del orig_adata_reduced.uns"
   ]
  },
  {
   "cell_type": "code",
   "execution_count": 17,
   "metadata": {},
   "outputs": [
    {
     "data": {
      "text/plain": [
       "AnnData object with n_obs × n_vars = 9436 × 50\n",
       "    obs: 'cell_barcodes', 'cell_manual_ids', 'cell_types', 'batch_sample', 'n_genes', 'n_genes_by_counts', 'total_counts', 'total_counts_mt', 'pct_counts_mt', 'species_cell_type_label', 'species_label'"
      ]
     },
     "execution_count": 17,
     "metadata": {},
     "output_type": "execute_result"
    }
   ],
   "source": [
    "orig_adata_reduced"
   ]
  },
  {
   "cell_type": "code",
   "execution_count": 18,
   "metadata": {},
   "outputs": [],
   "source": [
    "sc.tl.pca(orig_adata_reduced)"
   ]
  },
  {
   "cell_type": "code",
   "execution_count": 19,
   "metadata": {},
   "outputs": [
    {
     "name": "stderr",
     "output_type": "stream",
     "text": [
      "/gpfs/radev/home/sr2464/.conda/envs/cellot/lib/python3.9/site-packages/tqdm/auto.py:21: TqdmWarning: IProgress not found. Please update jupyter and ipywidgets. See https://ipywidgets.readthedocs.io/en/stable/user_install.html\n",
      "  from .autonotebook import tqdm as notebook_tqdm\n"
     ]
    }
   ],
   "source": [
    "sc.pp.neighbors(orig_adata_reduced)"
   ]
  },
  {
   "cell_type": "code",
   "execution_count": 20,
   "metadata": {},
   "outputs": [],
   "source": [
    "sc.tl.umap(orig_adata_reduced)"
   ]
  },
  {
   "cell_type": "code",
   "execution_count": 21,
   "metadata": {},
   "outputs": [
    {
     "data": {
      "text/plain": [
       "AnnData object with n_obs × n_vars = 9436 × 50\n",
       "    obs: 'cell_barcodes', 'cell_manual_ids', 'cell_types', 'batch_sample', 'n_genes', 'n_genes_by_counts', 'total_counts', 'total_counts_mt', 'pct_counts_mt', 'species_cell_type_label', 'species_label'\n",
       "    uns: 'pca', 'neighbors', 'umap'\n",
       "    obsm: 'X_pca', 'X_umap'\n",
       "    varm: 'PCs'\n",
       "    obsp: 'distances', 'connectivities'"
      ]
     },
     "execution_count": 21,
     "metadata": {},
     "output_type": "execute_result"
    }
   ],
   "source": [
    "orig_adata_reduced"
   ]
  },
  {
   "cell_type": "code",
   "execution_count": 22,
   "metadata": {},
   "outputs": [],
   "source": [
    "orig_adata_reduced.raw"
   ]
  },
  {
   "cell_type": "code",
   "execution_count": 26,
   "metadata": {},
   "outputs": [
    {
     "data": {
      "image/png": "[encoded data removed]",
      "text/plain": [
       "<Figure size 432x288 with 1 Axes>"
      ]
     },
     "metadata": {},
     "output_type": "display_data"
    }
   ],
   "source": [
    "sc.pl.umap(\n",
    "    orig_adata,\n",
    "    color=\"species_label\",\n",
    "    title=\"Pancreas UMAP\",\n",
    "    show=False,\n",
    ")\n",
    "plt.savefig(os.path.join(BASE_PATH, \"orig_adata_reduced_umap.png\"),\n",
    "            facecolor=\"white\", bbox_inches=\"tight\", dpi=300)\n",
    "plt.show()\n",
    "plt.close()"
   ]
  },
  {
   "cell_type": "markdown",
   "metadata": {},
   "source": [
    "# Visualize cells"
   ]
  },
  {
   "cell_type": "code",
   "execution_count": 31,
   "metadata": {},
   "outputs": [],
   "source": [
    "del cell_ot_transport_adata.obsm\n",
    "del cell_ot_transport_adata.uns\n",
    "del cell_ot_transport_adata.varm\n",
    "del cell_ot_transport_adata.obsp"
   ]
  },
  {
   "cell_type": "code",
   "execution_count": 32,
   "metadata": {},
   "outputs": [
    {
     "data": {
      "text/plain": [
       "AnnData object with n_obs × n_vars = 500 × 50\n",
       "    obs: 'cell_barcodes', 'cell_manual_ids', 'cell_types', 'batch_sample', 'n_genes', 'n_genes_by_counts', 'total_counts', 'total_counts_mt', 'pct_counts_mt', 'species_cell_type_label', 'species_label', 'transport', 'split'"
      ]
     },
     "execution_count": 32,
     "metadata": {},
     "output_type": "execute_result"
    }
   ],
   "source": [
    "cell_ot_transport_adata"
   ]
  },
  {
   "cell_type": "code",
   "execution_count": 33,
   "metadata": {},
   "outputs": [],
   "source": [
    "sc.tl.pca(cell_ot_transport_adata)\n",
    "# cell_ot_transport_adata.obsm[\"X_pca\"] = cell_ot_transport_adata.X"
   ]
  },
  {
   "cell_type": "code",
   "execution_count": 34,
   "metadata": {},
   "outputs": [
    {
     "data": {
      "text/plain": [
       "AnnData object with n_obs × n_vars = 500 × 50\n",
       "    obs: 'cell_barcodes', 'cell_manual_ids', 'cell_types', 'batch_sample', 'n_genes', 'n_genes_by_counts', 'total_counts', 'total_counts_mt', 'pct_counts_mt', 'species_cell_type_label', 'species_label', 'transport', 'split'\n",
       "    uns: 'pca'\n",
       "    obsm: 'X_pca'\n",
       "    varm: 'PCs'"
      ]
     },
     "execution_count": 34,
     "metadata": {},
     "output_type": "execute_result"
    }
   ],
   "source": [
    "cell_ot_transport_adata"
   ]
  },
  {
   "cell_type": "code",
   "execution_count": 35,
   "metadata": {},
   "outputs": [
    {
     "data": {
      "text/plain": [
       "(500, 49)"
      ]
     },
     "execution_count": 35,
     "metadata": {},
     "output_type": "execute_result"
    }
   ],
   "source": [
    "cell_ot_transport_adata.obsm[\"X_pca\"].shape"
   ]
  },
  {
   "cell_type": "code",
   "execution_count": 36,
   "metadata": {},
   "outputs": [],
   "source": [
    "sc.pp.neighbors(cell_ot_transport_adata)"
   ]
  },
  {
   "cell_type": "code",
   "execution_count": 37,
   "metadata": {},
   "outputs": [],
   "source": [
    "sc.tl.umap(cell_ot_transport_adata)"
   ]
  },
  {
   "cell_type": "code",
   "execution_count": 38,
   "metadata": {},
   "outputs": [
    {
     "data": {
      "text/plain": [
       "AnnData object with n_obs × n_vars = 500 × 50\n",
       "    obs: 'cell_barcodes', 'cell_manual_ids', 'cell_types', 'batch_sample', 'n_genes', 'n_genes_by_counts', 'total_counts', 'total_counts_mt', 'pct_counts_mt', 'species_cell_type_label', 'species_label', 'transport', 'split'\n",
       "    uns: 'pca', 'neighbors', 'umap'\n",
       "    obsm: 'X_pca', 'X_umap'\n",
       "    varm: 'PCs'\n",
       "    obsp: 'distances', 'connectivities'"
      ]
     },
     "execution_count": 38,
     "metadata": {},
     "output_type": "execute_result"
    }
   ],
   "source": [
    "cell_ot_transport_adata"
   ]
  },
  {
   "cell_type": "code",
   "execution_count": 39,
   "metadata": {},
   "outputs": [
    {
     "data": {
      "text/html": [
       "<div>\n",
       "<style scoped>\n",
       "    .dataframe tbody tr th:only-of-type {\n",
       "        vertical-align: middle;\n",
       "    }\n",
       "\n",
       "    .dataframe tbody tr th {\n",
       "        vertical-align: top;\n",
       "    }\n",
       "\n",
       "    .dataframe thead th {\n",
       "        text-align: right;\n",
       "    }\n",
       "</style>\n",
       "<table border=\"1\" class=\"dataframe\">\n",
       "  <thead>\n",
       "    <tr style=\"text-align: right;\">\n",
       "      <th></th>\n",
       "      <th>cell_barcodes</th>\n",
       "      <th>cell_manual_ids</th>\n",
       "      <th>cell_types</th>\n",
       "      <th>batch_sample</th>\n",
       "      <th>n_genes</th>\n",
       "      <th>n_genes_by_counts</th>\n",
       "      <th>total_counts</th>\n",
       "      <th>total_counts_mt</th>\n",
       "      <th>pct_counts_mt</th>\n",
       "      <th>species_cell_type_label</th>\n",
       "      <th>species_label</th>\n",
       "      <th>transport</th>\n",
       "      <th>split</th>\n",
       "    </tr>\n",
       "  </thead>\n",
       "  <tbody>\n",
       "    <tr>\n",
       "      <th>human1_lib1.final_cell_0032</th>\n",
       "      <td>AATATCTTC-ATGTTGGC</td>\n",
       "      <td>human1_lib1.final_cell_0032</td>\n",
       "      <td>delta</td>\n",
       "      <td>GSM2230757_human1_umifm_counts</td>\n",
       "      <td>2002</td>\n",
       "      <td>2002</td>\n",
       "      <td>7051.0</td>\n",
       "      <td>0.0</td>\n",
       "      <td>0.0</td>\n",
       "      <td>human_delta</td>\n",
       "      <td>human</td>\n",
       "      <td>source</td>\n",
       "      <td>test</td>\n",
       "    </tr>\n",
       "    <tr>\n",
       "      <th>human1_lib1.final_cell_0034</th>\n",
       "      <td>GACACGGACT-CTGAGTGC</td>\n",
       "      <td>human1_lib1.final_cell_0034</td>\n",
       "      <td>delta</td>\n",
       "      <td>GSM2230757_human1_umifm_counts</td>\n",
       "      <td>1698</td>\n",
       "      <td>1698</td>\n",
       "      <td>6475.0</td>\n",
       "      <td>0.0</td>\n",
       "      <td>0.0</td>\n",
       "      <td>human_delta</td>\n",
       "      <td>human</td>\n",
       "      <td>source</td>\n",
       "      <td>test</td>\n",
       "    </tr>\n",
       "    <tr>\n",
       "      <th>human1_lib1.final_cell_0041</th>\n",
       "      <td>GTAACGTT-ATGACTTT</td>\n",
       "      <td>human1_lib1.final_cell_0041</td>\n",
       "      <td>activated_stellate</td>\n",
       "      <td>GSM2230757_human1_umifm_counts</td>\n",
       "      <td>3377</td>\n",
       "      <td>3377</td>\n",
       "      <td>12169.0</td>\n",
       "      <td>0.0</td>\n",
       "      <td>0.0</td>\n",
       "      <td>human_activated_stellate</td>\n",
       "      <td>human</td>\n",
       "      <td>source</td>\n",
       "      <td>test</td>\n",
       "    </tr>\n",
       "    <tr>\n",
       "      <th>human1_lib1.final_cell_0088</th>\n",
       "      <td>ACTAGATTG-TCCCAATC</td>\n",
       "      <td>human1_lib1.final_cell_0088</td>\n",
       "      <td>beta</td>\n",
       "      <td>GSM2230757_human1_umifm_counts</td>\n",
       "      <td>2069</td>\n",
       "      <td>2068</td>\n",
       "      <td>5979.0</td>\n",
       "      <td>0.0</td>\n",
       "      <td>0.0</td>\n",
       "      <td>human_beta</td>\n",
       "      <td>human</td>\n",
       "      <td>source</td>\n",
       "      <td>test</td>\n",
       "    </tr>\n",
       "    <tr>\n",
       "      <th>human1_lib1.final_cell_0135</th>\n",
       "      <td>GAGCGTTGCT-AACACACG</td>\n",
       "      <td>human1_lib1.final_cell_0135</td>\n",
       "      <td>alpha</td>\n",
       "      <td>GSM2230757_human1_umifm_counts</td>\n",
       "      <td>2460</td>\n",
       "      <td>2460</td>\n",
       "      <td>6151.0</td>\n",
       "      <td>0.0</td>\n",
       "      <td>0.0</td>\n",
       "      <td>human_alpha</td>\n",
       "      <td>human</td>\n",
       "      <td>source</td>\n",
       "      <td>test</td>\n",
       "    </tr>\n",
       "  </tbody>\n",
       "</table>\n",
       "</div>"
      ],
      "text/plain": [
       "                                   cell_barcodes              cell_manual_ids  \\\n",
       "human1_lib1.final_cell_0032   AATATCTTC-ATGTTGGC  human1_lib1.final_cell_0032   \n",
       "human1_lib1.final_cell_0034  GACACGGACT-CTGAGTGC  human1_lib1.final_cell_0034   \n",
       "human1_lib1.final_cell_0041    GTAACGTT-ATGACTTT  human1_lib1.final_cell_0041   \n",
       "human1_lib1.final_cell_0088   ACTAGATTG-TCCCAATC  human1_lib1.final_cell_0088   \n",
       "human1_lib1.final_cell_0135  GAGCGTTGCT-AACACACG  human1_lib1.final_cell_0135   \n",
       "\n",
       "                                     cell_types  \\\n",
       "human1_lib1.final_cell_0032               delta   \n",
       "human1_lib1.final_cell_0034               delta   \n",
       "human1_lib1.final_cell_0041  activated_stellate   \n",
       "human1_lib1.final_cell_0088                beta   \n",
       "human1_lib1.final_cell_0135               alpha   \n",
       "\n",
       "                                               batch_sample  n_genes  \\\n",
       "human1_lib1.final_cell_0032  GSM2230757_human1_umifm_counts     2002   \n",
       "human1_lib1.final_cell_0034  GSM2230757_human1_umifm_counts     1698   \n",
       "human1_lib1.final_cell_0041  GSM2230757_human1_umifm_counts     3377   \n",
       "human1_lib1.final_cell_0088  GSM2230757_human1_umifm_counts     2069   \n",
       "human1_lib1.final_cell_0135  GSM2230757_human1_umifm_counts     2460   \n",
       "\n",
       "                             n_genes_by_counts  total_counts  total_counts_mt  \\\n",
       "human1_lib1.final_cell_0032               2002        7051.0              0.0   \n",
       "human1_lib1.final_cell_0034               1698        6475.0              0.0   \n",
       "human1_lib1.final_cell_0041               3377       12169.0              0.0   \n",
       "human1_lib1.final_cell_0088               2068        5979.0              0.0   \n",
       "human1_lib1.final_cell_0135               2460        6151.0              0.0   \n",
       "\n",
       "                             pct_counts_mt   species_cell_type_label  \\\n",
       "human1_lib1.final_cell_0032            0.0               human_delta   \n",
       "human1_lib1.final_cell_0034            0.0               human_delta   \n",
       "human1_lib1.final_cell_0041            0.0  human_activated_stellate   \n",
       "human1_lib1.final_cell_0088            0.0                human_beta   \n",
       "human1_lib1.final_cell_0135            0.0               human_alpha   \n",
       "\n",
       "                            species_label transport split  \n",
       "human1_lib1.final_cell_0032         human    source  test  \n",
       "human1_lib1.final_cell_0034         human    source  test  \n",
       "human1_lib1.final_cell_0041         human    source  test  \n",
       "human1_lib1.final_cell_0088         human    source  test  \n",
       "human1_lib1.final_cell_0135         human    source  test  "
      ]
     },
     "execution_count": 39,
     "metadata": {},
     "output_type": "execute_result"
    }
   ],
   "source": [
    "cell_ot_transport_adata.obs.head()"
   ]
  },
  {
   "cell_type": "code",
   "execution_count": 40,
   "metadata": {},
   "outputs": [
    {
     "data": {
      "text/plain": [
       "Counter({'human': 500})"
      ]
     },
     "execution_count": 40,
     "metadata": {},
     "output_type": "execute_result"
    }
   ],
   "source": [
    "Counter(cell_ot_transport_adata.obs[\"species_label\"].tolist())"
   ]
  },
  {
   "cell_type": "code",
   "execution_count": 41,
   "metadata": {},
   "outputs": [
    {
     "data": {
      "text/plain": [
       "Counter({'test': 500})"
      ]
     },
     "execution_count": 41,
     "metadata": {},
     "output_type": "execute_result"
    }
   ],
   "source": [
    "Counter(cell_ot_transport_adata.obs[\"split\"].tolist())"
   ]
  },
  {
   "cell_type": "code",
   "execution_count": 42,
   "metadata": {},
   "outputs": [
    {
     "data": {
      "text/plain": [
       "Counter({'source': 500})"
      ]
     },
     "execution_count": 42,
     "metadata": {},
     "output_type": "execute_result"
    }
   ],
   "source": [
    "Counter(cell_ot_transport_adata.obs[\"transport\"].tolist())"
   ]
  },
  {
   "cell_type": "code",
   "execution_count": 45,
   "metadata": {},
   "outputs": [
    {
     "data": {
      "image/png": "[encoded data removed]",
      "text/plain": [
       "<Figure size 432x288 with 1 Axes>"
      ]
     },
     "metadata": {},
     "output_type": "display_data"
    }
   ],
   "source": [
    "sc.pl.umap(\n",
    "    cell_ot_transport_adata,\n",
    "    color=\"species_label\",\n",
    "    title=\"CellOT Transported Data\",\n",
    "    show=False,\n",
    ")\n",
    "plt.savefig(os.path.join(BASE_PATH, \"cell_ot_transport_adata_umap.png\"),\n",
    "            facecolor=\"white\", bbox_inches=\"tight\", dpi=300)\n",
    "plt.show()\n",
    "plt.close()"
   ]
  },
  {
   "cell_type": "markdown",
   "metadata": {},
   "source": [
    "# Comebine adatas, see where transported cells are"
   ]
  },
  {
   "cell_type": "code",
   "execution_count": 46,
   "metadata": {},
   "outputs": [],
   "source": [
    "del orig_adata_reduced.obsm\n",
    "del orig_adata_reduced.uns\n",
    "del orig_adata_reduced.varm\n",
    "del orig_adata_reduced.obsp"
   ]
  },
  {
   "cell_type": "code",
   "execution_count": 47,
   "metadata": {},
   "outputs": [],
   "source": [
    "del cell_ot_transport_adata.obsm\n",
    "del cell_ot_transport_adata.uns\n",
    "del cell_ot_transport_adata.varm\n",
    "del cell_ot_transport_adata.obsp"
   ]
  },
  {
   "cell_type": "code",
   "execution_count": 48,
   "metadata": {},
   "outputs": [
    {
     "data": {
      "text/plain": [
       "AnnData object with n_obs × n_vars = 9436 × 50\n",
       "    obs: 'cell_barcodes', 'cell_manual_ids', 'cell_types', 'batch_sample', 'n_genes', 'n_genes_by_counts', 'total_counts', 'total_counts_mt', 'pct_counts_mt', 'species_cell_type_label', 'species_label'"
      ]
     },
     "execution_count": 48,
     "metadata": {},
     "output_type": "execute_result"
    }
   ],
   "source": [
    "orig_adata_reduced"
   ]
  },
  {
   "cell_type": "code",
   "execution_count": 49,
   "metadata": {},
   "outputs": [
    {
     "data": {
      "text/plain": [
       "AnnData object with n_obs × n_vars = 500 × 50\n",
       "    obs: 'cell_barcodes', 'cell_manual_ids', 'cell_types', 'batch_sample', 'n_genes', 'n_genes_by_counts', 'total_counts', 'total_counts_mt', 'pct_counts_mt', 'species_cell_type_label', 'species_label', 'transport', 'split'"
      ]
     },
     "execution_count": 49,
     "metadata": {},
     "output_type": "execute_result"
    }
   ],
   "source": [
    "cell_ot_transport_adata"
   ]
  },
  {
   "cell_type": "code",
   "execution_count": 50,
   "metadata": {},
   "outputs": [],
   "source": [
    "orig_data_label = [\"Original Data (\" + species_label + \")\" for species_label in orig_adata_reduced.obs[\"species_label\"]]\n",
    "orig_adata_reduced.obs[\"transport_flag\"] = orig_data_label\n",
    "cell_ot_transport_adata.obs[\"transport_flag\"] = \"Transported Cells\""
   ]
  },
  {
   "cell_type": "code",
   "execution_count": 51,
   "metadata": {},
   "outputs": [
    {
     "name": "stderr",
     "output_type": "stream",
     "text": [
      "/gpfs/radev/home/sr2464/.conda/envs/cellot/lib/python3.9/site-packages/anndata/_core/anndata.py:1785: FutureWarning: X.dtype being converted to np.float32 from float64. In the next version of anndata (0.9) conversion will not be automatic. Pass dtype explicitly to avoid this warning. Pass `AnnData(X, dtype=X.dtype, ...)` to get the future behavour.\n",
      "  [AnnData(sparse.csr_matrix(a.shape), obs=a.obs) for a in all_adatas],\n"
     ]
    },
    {
     "data": {
      "text/plain": [
       "AnnData object with n_obs × n_vars = 9936 × 50\n",
       "    obs: 'cell_barcodes', 'cell_manual_ids', 'cell_types', 'batch_sample', 'n_genes', 'n_genes_by_counts', 'total_counts', 'total_counts_mt', 'pct_counts_mt', 'species_cell_type_label', 'species_label', 'transport_flag', 'transport', 'split', 'batch'"
      ]
     },
     "execution_count": 51,
     "metadata": {},
     "output_type": "execute_result"
    }
   ],
   "source": [
    "combined_adata = orig_adata_reduced.concatenate(cell_ot_transport_adata)\n",
    "combined_adata"
   ]
  },
  {
   "cell_type": "code",
   "execution_count": 52,
   "metadata": {},
   "outputs": [
    {
     "data": {
      "text/plain": [
       "AnnData object with n_obs × n_vars = 9936 × 50\n",
       "    obs: 'cell_barcodes', 'cell_manual_ids', 'cell_types', 'batch_sample', 'n_genes', 'n_genes_by_counts', 'total_counts', 'total_counts_mt', 'pct_counts_mt', 'species_cell_type_label', 'species_label', 'transport_flag', 'transport', 'split', 'batch'"
      ]
     },
     "execution_count": 52,
     "metadata": {},
     "output_type": "execute_result"
    }
   ],
   "source": [
    "combined_adata"
   ]
  },
  {
   "cell_type": "markdown",
   "metadata": {},
   "source": [
    "# Visualize"
   ]
  },
  {
   "cell_type": "code",
   "execution_count": 53,
   "metadata": {},
   "outputs": [],
   "source": [
    "sc.tl.pca(combined_adata)"
   ]
  },
  {
   "cell_type": "code",
   "execution_count": 54,
   "metadata": {},
   "outputs": [],
   "source": [
    "sc.pp.neighbors(combined_adata)"
   ]
  },
  {
   "cell_type": "code",
   "execution_count": 55,
   "metadata": {},
   "outputs": [],
   "source": [
    "sc.tl.umap(combined_adata)"
   ]
  },
  {
   "cell_type": "code",
   "execution_count": 56,
   "metadata": {},
   "outputs": [
    {
     "data": {
      "text/plain": [
       "AnnData object with n_obs × n_vars = 9936 × 50\n",
       "    obs: 'cell_barcodes', 'cell_manual_ids', 'cell_types', 'batch_sample', 'n_genes', 'n_genes_by_counts', 'total_counts', 'total_counts_mt', 'pct_counts_mt', 'species_cell_type_label', 'species_label', 'transport_flag', 'transport', 'split', 'batch'\n",
       "    uns: 'pca', 'neighbors', 'umap'\n",
       "    obsm: 'X_pca', 'X_umap'\n",
       "    varm: 'PCs'\n",
       "    obsp: 'distances', 'connectivities'"
      ]
     },
     "execution_count": 56,
     "metadata": {},
     "output_type": "execute_result"
    }
   ],
   "source": [
    "combined_adata"
   ]
  },
  {
   "cell_type": "code",
   "execution_count": 57,
   "metadata": {},
   "outputs": [
    {
     "data": {
      "image/png": "[encoded data removed]",
      "text/plain": [
       "<Figure size 432x288 with 1 Axes>"
      ]
     },
     "metadata": {},
     "output_type": "display_data"
    }
   ],
   "source": [
    "sc.pl.umap(\n",
    "    combined_adata,\n",
    "    color=\"transport_flag\",\n",
    "    title=\"CellOT Transported Data Versus Original Data\",\n",
    "    show=False\n",
    ")\n",
    "plt.savefig(os.path.join(BASE_PATH, \"cell_ot_human_transported_vs_orig_data.png\"),\n",
    "            facecolor=\"white\", bbox_inches=\"tight\", dpi=300)\n",
    "plt.show()\n",
    "plt.close()"
   ]
  },
  {
   "cell_type": "code",
   "execution_count": null,
   "metadata": {},
   "outputs": [],
   "source": []
  },
  {
   "cell_type": "code",
   "execution_count": null,
   "metadata": {},
   "outputs": [],
   "source": []
  }
 ],
 "metadata": {
  "kernelspec": {
   "display_name": "Python 3.11.2 64-bit",
   "language": "python",
   "name": "python3"
  },
  "language_info": {
   "codemirror_mode": {
    "name": "ipython",
    "version": 3
   },
   "file_extension": ".py",
   "mimetype": "text/x-python",
   "name": "python",
   "nbconvert_exporter": "python",
   "pygments_lexer": "ipython3",
   "version": "3.11.2"
  },
  "orig_nbformat": 4,
  "vscode": {
   "interpreter": {
    "hash": "ead1b95f633dc9c51826328e1846203f51a198c6fb5f2884a80417ba131d4e82"
   }
  }
 },
 "nbformat": 4,
 "nbformat_minor": 2
}
