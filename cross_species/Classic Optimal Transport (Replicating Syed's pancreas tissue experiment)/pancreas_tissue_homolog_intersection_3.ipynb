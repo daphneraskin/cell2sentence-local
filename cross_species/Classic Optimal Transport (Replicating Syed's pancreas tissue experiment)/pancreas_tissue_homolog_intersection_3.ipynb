{
 "cells": [
  {
   "cell_type": "code",
   "execution_count": 1,
   "metadata": {},
   "outputs": [],
   "source": [
    "import os\n",
    "from collections import Counter\n",
    "\n",
    "import numpy as np\n",
    "import pandas as pd\n",
    "import matplotlib.pyplot as plt\n",
    "from tqdm import tqdm\n",
    "\n",
    "import anndata\n",
    "import scanpy as sc\n",
    "import scipy"
   ]
  },
  {
   "cell_type": "markdown",
   "metadata": {},
   "source": [
    "# Load human and mouse processed data"
   ]
  },
  {
   "cell_type": "code",
   "execution_count": 2,
   "metadata": {},
   "outputs": [],
   "source": [
    "human_adata = anndata.read_h5ad(\"/home/sr2464/palmer_scratch/C2S_Files_Syed/Cross_Species_Datasets/mouse_human_pancreas_tissue_Baron_et_al/processed_data/human_pancreas_one_sample_preprocessed_adata.h5ad\")\n",
    "mouse_adata = anndata.read_h5ad(\"/home/sr2464/palmer_scratch/C2S_Files_Syed/Cross_Species_Datasets/mouse_human_pancreas_tissue_Baron_et_al/processed_data/mouse_pancreas_all_samples_preprocessed_adata.h5ad\")"
   ]
  },
  {
   "cell_type": "code",
   "execution_count": 3,
   "metadata": {},
   "outputs": [
    {
     "data": {
      "text/plain": [
       "AnnData object with n_obs × n_vars = 1937 × 16359\n",
       "    obs: 'cell_barcodes', 'cell_manual_ids', 'cell_types', 'batch_sample', 'n_genes', 'n_genes_by_counts', 'total_counts', 'total_counts_mt', 'pct_counts_mt'\n",
       "    var: 'gene_name', 'n_cells', 'mt', 'n_cells_by_counts', 'mean_counts', 'pct_dropout_by_counts', 'total_counts'\n",
       "    uns: 'cell_types_colors', 'log1p', 'neighbors', 'pca', 'umap'\n",
       "    obsm: 'X_pca', 'X_umap'\n",
       "    varm: 'PCs'\n",
       "    obsp: 'connectivities', 'distances'"
      ]
     },
     "execution_count": 3,
     "metadata": {},
     "output_type": "execute_result"
    }
   ],
   "source": [
    "human_adata"
   ]
  },
  {
   "cell_type": "code",
   "execution_count": 21,
   "metadata": {},
   "outputs": [
    {
     "data": {
      "text/html": [
       "<div>\n",
       "<style scoped>\n",
       "    .dataframe tbody tr th:only-of-type {\n",
       "        vertical-align: middle;\n",
       "    }\n",
       "\n",
       "    .dataframe tbody tr th {\n",
       "        vertical-align: top;\n",
       "    }\n",
       "\n",
       "    .dataframe thead th {\n",
       "        text-align: right;\n",
       "    }\n",
       "</style>\n",
       "<table border=\"1\" class=\"dataframe\">\n",
       "  <thead>\n",
       "    <tr style=\"text-align: right;\">\n",
       "      <th></th>\n",
       "      <th>gene_name</th>\n",
       "      <th>n_cells</th>\n",
       "      <th>mt</th>\n",
       "      <th>n_cells_by_counts</th>\n",
       "      <th>mean_counts</th>\n",
       "      <th>pct_dropout_by_counts</th>\n",
       "      <th>total_counts</th>\n",
       "    </tr>\n",
       "  </thead>\n",
       "  <tbody>\n",
       "    <tr>\n",
       "      <th>A1BG</th>\n",
       "      <td>A1BG</td>\n",
       "      <td>42</td>\n",
       "      <td>False</td>\n",
       "      <td>42</td>\n",
       "      <td>0.005135</td>\n",
       "      <td>99.509861</td>\n",
       "      <td>44.0</td>\n",
       "    </tr>\n",
       "    <tr>\n",
       "      <th>A1CF</th>\n",
       "      <td>A1CF</td>\n",
       "      <td>1408</td>\n",
       "      <td>False</td>\n",
       "      <td>1408</td>\n",
       "      <td>0.223947</td>\n",
       "      <td>83.568678</td>\n",
       "      <td>1919.0</td>\n",
       "    </tr>\n",
       "    <tr>\n",
       "      <th>A2M</th>\n",
       "      <td>A2M</td>\n",
       "      <td>273</td>\n",
       "      <td>False</td>\n",
       "      <td>273</td>\n",
       "      <td>0.054966</td>\n",
       "      <td>96.814097</td>\n",
       "      <td>471.0</td>\n",
       "    </tr>\n",
       "    <tr>\n",
       "      <th>A4GALT</th>\n",
       "      <td>A4GALT</td>\n",
       "      <td>444</td>\n",
       "      <td>False</td>\n",
       "      <td>444</td>\n",
       "      <td>0.071654</td>\n",
       "      <td>94.818532</td>\n",
       "      <td>614.0</td>\n",
       "    </tr>\n",
       "    <tr>\n",
       "      <th>AAAS</th>\n",
       "      <td>AAAS</td>\n",
       "      <td>1216</td>\n",
       "      <td>False</td>\n",
       "      <td>1216</td>\n",
       "      <td>0.187770</td>\n",
       "      <td>85.809313</td>\n",
       "      <td>1609.0</td>\n",
       "    </tr>\n",
       "    <tr>\n",
       "      <th>AACS</th>\n",
       "      <td>AACS</td>\n",
       "      <td>1385</td>\n",
       "      <td>False</td>\n",
       "      <td>1385</td>\n",
       "      <td>0.211460</td>\n",
       "      <td>83.837087</td>\n",
       "      <td>1812.0</td>\n",
       "    </tr>\n",
       "    <tr>\n",
       "      <th>AADAC</th>\n",
       "      <td>AADAC</td>\n",
       "      <td>435</td>\n",
       "      <td>False</td>\n",
       "      <td>435</td>\n",
       "      <td>0.170732</td>\n",
       "      <td>94.923562</td>\n",
       "      <td>1463.0</td>\n",
       "    </tr>\n",
       "    <tr>\n",
       "      <th>AADACL2</th>\n",
       "      <td>AADACL2</td>\n",
       "      <td>3</td>\n",
       "      <td>False</td>\n",
       "      <td>3</td>\n",
       "      <td>0.000350</td>\n",
       "      <td>99.964990</td>\n",
       "      <td>3.0</td>\n",
       "    </tr>\n",
       "    <tr>\n",
       "      <th>AADACP1</th>\n",
       "      <td>AADACP1</td>\n",
       "      <td>26</td>\n",
       "      <td>False</td>\n",
       "      <td>26</td>\n",
       "      <td>0.004435</td>\n",
       "      <td>99.696581</td>\n",
       "      <td>38.0</td>\n",
       "    </tr>\n",
       "    <tr>\n",
       "      <th>AADAT</th>\n",
       "      <td>AADAT</td>\n",
       "      <td>147</td>\n",
       "      <td>False</td>\n",
       "      <td>147</td>\n",
       "      <td>0.018905</td>\n",
       "      <td>98.284514</td>\n",
       "      <td>162.0</td>\n",
       "    </tr>\n",
       "    <tr>\n",
       "      <th>AAED1</th>\n",
       "      <td>AAED1</td>\n",
       "      <td>1060</td>\n",
       "      <td>False</td>\n",
       "      <td>1060</td>\n",
       "      <td>0.143424</td>\n",
       "      <td>87.629828</td>\n",
       "      <td>1229.0</td>\n",
       "    </tr>\n",
       "    <tr>\n",
       "      <th>AAGAB</th>\n",
       "      <td>AAGAB</td>\n",
       "      <td>1328</td>\n",
       "      <td>False</td>\n",
       "      <td>1328</td>\n",
       "      <td>0.185202</td>\n",
       "      <td>84.502276</td>\n",
       "      <td>1587.0</td>\n",
       "    </tr>\n",
       "    <tr>\n",
       "      <th>AAK1</th>\n",
       "      <td>AAK1</td>\n",
       "      <td>2102</td>\n",
       "      <td>False</td>\n",
       "      <td>2102</td>\n",
       "      <td>0.319757</td>\n",
       "      <td>75.469716</td>\n",
       "      <td>2740.0</td>\n",
       "    </tr>\n",
       "    <tr>\n",
       "      <th>AAMDC</th>\n",
       "      <td>AAMDC</td>\n",
       "      <td>749</td>\n",
       "      <td>False</td>\n",
       "      <td>749</td>\n",
       "      <td>0.100012</td>\n",
       "      <td>91.259190</td>\n",
       "      <td>857.0</td>\n",
       "    </tr>\n",
       "    <tr>\n",
       "      <th>AAMP</th>\n",
       "      <td>AAMP</td>\n",
       "      <td>2546</td>\n",
       "      <td>False</td>\n",
       "      <td>2546</td>\n",
       "      <td>0.398296</td>\n",
       "      <td>70.288248</td>\n",
       "      <td>3413.0</td>\n",
       "    </tr>\n",
       "    <tr>\n",
       "      <th>AAR2</th>\n",
       "      <td>AAR2</td>\n",
       "      <td>930</td>\n",
       "      <td>False</td>\n",
       "      <td>930</td>\n",
       "      <td>0.127203</td>\n",
       "      <td>89.146925</td>\n",
       "      <td>1090.0</td>\n",
       "    </tr>\n",
       "    <tr>\n",
       "      <th>AARD</th>\n",
       "      <td>AARD</td>\n",
       "      <td>50</td>\n",
       "      <td>False</td>\n",
       "      <td>50</td>\n",
       "      <td>0.006185</td>\n",
       "      <td>99.416501</td>\n",
       "      <td>53.0</td>\n",
       "    </tr>\n",
       "    <tr>\n",
       "      <th>AARS</th>\n",
       "      <td>AARS</td>\n",
       "      <td>3296</td>\n",
       "      <td>False</td>\n",
       "      <td>3296</td>\n",
       "      <td>0.599020</td>\n",
       "      <td>61.535768</td>\n",
       "      <td>5133.0</td>\n",
       "    </tr>\n",
       "    <tr>\n",
       "      <th>AARS2</th>\n",
       "      <td>AARS2</td>\n",
       "      <td>162</td>\n",
       "      <td>False</td>\n",
       "      <td>162</td>\n",
       "      <td>0.019372</td>\n",
       "      <td>98.109464</td>\n",
       "      <td>166.0</td>\n",
       "    </tr>\n",
       "    <tr>\n",
       "      <th>AARSD1</th>\n",
       "      <td>AARSD1</td>\n",
       "      <td>102</td>\n",
       "      <td>False</td>\n",
       "      <td>102</td>\n",
       "      <td>0.012137</td>\n",
       "      <td>98.809663</td>\n",
       "      <td>104.0</td>\n",
       "    </tr>\n",
       "  </tbody>\n",
       "</table>\n",
       "</div>"
      ],
      "text/plain": [
       "        gene_name  n_cells     mt  n_cells_by_counts  mean_counts  \\\n",
       "A1BG         A1BG       42  False                 42     0.005135   \n",
       "A1CF         A1CF     1408  False               1408     0.223947   \n",
       "A2M           A2M      273  False                273     0.054966   \n",
       "A4GALT     A4GALT      444  False                444     0.071654   \n",
       "AAAS         AAAS     1216  False               1216     0.187770   \n",
       "AACS         AACS     1385  False               1385     0.211460   \n",
       "AADAC       AADAC      435  False                435     0.170732   \n",
       "AADACL2   AADACL2        3  False                  3     0.000350   \n",
       "AADACP1   AADACP1       26  False                 26     0.004435   \n",
       "AADAT       AADAT      147  False                147     0.018905   \n",
       "AAED1       AAED1     1060  False               1060     0.143424   \n",
       "AAGAB       AAGAB     1328  False               1328     0.185202   \n",
       "AAK1         AAK1     2102  False               2102     0.319757   \n",
       "AAMDC       AAMDC      749  False                749     0.100012   \n",
       "AAMP         AAMP     2546  False               2546     0.398296   \n",
       "AAR2         AAR2      930  False                930     0.127203   \n",
       "AARD         AARD       50  False                 50     0.006185   \n",
       "AARS         AARS     3296  False               3296     0.599020   \n",
       "AARS2       AARS2      162  False                162     0.019372   \n",
       "AARSD1     AARSD1      102  False                102     0.012137   \n",
       "\n",
       "         pct_dropout_by_counts  total_counts  \n",
       "A1BG                 99.509861          44.0  \n",
       "A1CF                 83.568678        1919.0  \n",
       "A2M                  96.814097         471.0  \n",
       "A4GALT               94.818532         614.0  \n",
       "AAAS                 85.809313        1609.0  \n",
       "AACS                 83.837087        1812.0  \n",
       "AADAC                94.923562        1463.0  \n",
       "AADACL2              99.964990           3.0  \n",
       "AADACP1              99.696581          38.0  \n",
       "AADAT                98.284514         162.0  \n",
       "AAED1                87.629828        1229.0  \n",
       "AAGAB                84.502276        1587.0  \n",
       "AAK1                 75.469716        2740.0  \n",
       "AAMDC                91.259190         857.0  \n",
       "AAMP                 70.288248        3413.0  \n",
       "AAR2                 89.146925        1090.0  \n",
       "AARD                 99.416501          53.0  \n",
       "AARS                 61.535768        5133.0  \n",
       "AARS2                98.109464         166.0  \n",
       "AARSD1               98.809663         104.0  "
      ]
     },
     "execution_count": 21,
     "metadata": {},
     "output_type": "execute_result"
    }
   ],
   "source": [
    "human_adata.var.head(20)"
   ]
  },
  {
   "cell_type": "code",
   "execution_count": 4,
   "metadata": {},
   "outputs": [
    {
     "data": {
      "text/plain": [
       "AnnData object with n_obs × n_vars = 1886 × 14466\n",
       "    obs: 'cell_barcodes', 'cell_manual_ids', 'cell_types', 'batch_sample', 'n_genes', 'n_genes_by_counts', 'total_counts', 'total_counts_mt', 'pct_counts_mt'\n",
       "    var: 'gene_name', 'n_cells', 'mt', 'n_cells_by_counts', 'mean_counts', 'pct_dropout_by_counts', 'total_counts'\n",
       "    uns: 'cell_types_colors', 'log1p', 'neighbors', 'pca', 'umap'\n",
       "    obsm: 'X_pca', 'X_umap'\n",
       "    varm: 'PCs'\n",
       "    obsp: 'connectivities', 'distances'"
      ]
     },
     "execution_count": 4,
     "metadata": {},
     "output_type": "execute_result"
    }
   ],
   "source": [
    "mouse_adata"
   ]
  },
  {
   "cell_type": "code",
   "execution_count": 23,
   "metadata": {},
   "outputs": [
    {
     "data": {
      "text/html": [
       "<div>\n",
       "<style scoped>\n",
       "    .dataframe tbody tr th:only-of-type {\n",
       "        vertical-align: middle;\n",
       "    }\n",
       "\n",
       "    .dataframe tbody tr th {\n",
       "        vertical-align: top;\n",
       "    }\n",
       "\n",
       "    .dataframe thead th {\n",
       "        text-align: right;\n",
       "    }\n",
       "</style>\n",
       "<table border=\"1\" class=\"dataframe\">\n",
       "  <thead>\n",
       "    <tr style=\"text-align: right;\">\n",
       "      <th></th>\n",
       "      <th>gene_name</th>\n",
       "      <th>n_cells</th>\n",
       "      <th>mt</th>\n",
       "      <th>n_cells_by_counts</th>\n",
       "      <th>mean_counts</th>\n",
       "      <th>pct_dropout_by_counts</th>\n",
       "      <th>total_counts</th>\n",
       "    </tr>\n",
       "  </thead>\n",
       "  <tbody>\n",
       "    <tr>\n",
       "      <th>ZSCAN21</th>\n",
       "      <td>ZSCAN21</td>\n",
       "      <td>90</td>\n",
       "      <td>False</td>\n",
       "      <td>90</td>\n",
       "      <td>0.063627</td>\n",
       "      <td>95.227996</td>\n",
       "      <td>120.0</td>\n",
       "    </tr>\n",
       "    <tr>\n",
       "      <th>ZSCAN22</th>\n",
       "      <td>ZSCAN22</td>\n",
       "      <td>87</td>\n",
       "      <td>False</td>\n",
       "      <td>87</td>\n",
       "      <td>0.066278</td>\n",
       "      <td>95.387063</td>\n",
       "      <td>125.0</td>\n",
       "    </tr>\n",
       "    <tr>\n",
       "      <th>ZSCAN29</th>\n",
       "      <td>ZSCAN29</td>\n",
       "      <td>58</td>\n",
       "      <td>False</td>\n",
       "      <td>58</td>\n",
       "      <td>0.038706</td>\n",
       "      <td>96.924708</td>\n",
       "      <td>73.0</td>\n",
       "    </tr>\n",
       "    <tr>\n",
       "      <th>ZSWIM1</th>\n",
       "      <td>ZSWIM1</td>\n",
       "      <td>88</td>\n",
       "      <td>False</td>\n",
       "      <td>88</td>\n",
       "      <td>0.055143</td>\n",
       "      <td>95.334040</td>\n",
       "      <td>104.0</td>\n",
       "    </tr>\n",
       "    <tr>\n",
       "      <th>ZSWIM3</th>\n",
       "      <td>ZSWIM3</td>\n",
       "      <td>25</td>\n",
       "      <td>False</td>\n",
       "      <td>25</td>\n",
       "      <td>0.014316</td>\n",
       "      <td>98.674443</td>\n",
       "      <td>27.0</td>\n",
       "    </tr>\n",
       "    <tr>\n",
       "      <th>ZSWIM4</th>\n",
       "      <td>ZSWIM4</td>\n",
       "      <td>211</td>\n",
       "      <td>False</td>\n",
       "      <td>211</td>\n",
       "      <td>0.151113</td>\n",
       "      <td>88.812301</td>\n",
       "      <td>285.0</td>\n",
       "    </tr>\n",
       "    <tr>\n",
       "      <th>ZSWIM5</th>\n",
       "      <td>ZSWIM5</td>\n",
       "      <td>56</td>\n",
       "      <td>False</td>\n",
       "      <td>56</td>\n",
       "      <td>0.037646</td>\n",
       "      <td>97.030753</td>\n",
       "      <td>71.0</td>\n",
       "    </tr>\n",
       "    <tr>\n",
       "      <th>ZSWIM7</th>\n",
       "      <td>ZSWIM7</td>\n",
       "      <td>62</td>\n",
       "      <td>False</td>\n",
       "      <td>62</td>\n",
       "      <td>0.036585</td>\n",
       "      <td>96.712619</td>\n",
       "      <td>69.0</td>\n",
       "    </tr>\n",
       "    <tr>\n",
       "      <th>ZSWIM8</th>\n",
       "      <td>ZSWIM8</td>\n",
       "      <td>605</td>\n",
       "      <td>False</td>\n",
       "      <td>605</td>\n",
       "      <td>0.470308</td>\n",
       "      <td>67.921527</td>\n",
       "      <td>887.0</td>\n",
       "    </tr>\n",
       "    <tr>\n",
       "      <th>ZUFSP</th>\n",
       "      <td>ZUFSP</td>\n",
       "      <td>45</td>\n",
       "      <td>False</td>\n",
       "      <td>45</td>\n",
       "      <td>0.025981</td>\n",
       "      <td>97.613998</td>\n",
       "      <td>49.0</td>\n",
       "    </tr>\n",
       "    <tr>\n",
       "      <th>ZW10</th>\n",
       "      <td>ZW10</td>\n",
       "      <td>156</td>\n",
       "      <td>False</td>\n",
       "      <td>156</td>\n",
       "      <td>0.110817</td>\n",
       "      <td>91.728526</td>\n",
       "      <td>209.0</td>\n",
       "    </tr>\n",
       "    <tr>\n",
       "      <th>ZWILCH</th>\n",
       "      <td>ZWILCH</td>\n",
       "      <td>10</td>\n",
       "      <td>False</td>\n",
       "      <td>10</td>\n",
       "      <td>0.005832</td>\n",
       "      <td>99.469777</td>\n",
       "      <td>11.0</td>\n",
       "    </tr>\n",
       "    <tr>\n",
       "      <th>ZWINT</th>\n",
       "      <td>ZWINT</td>\n",
       "      <td>625</td>\n",
       "      <td>False</td>\n",
       "      <td>625</td>\n",
       "      <td>0.568929</td>\n",
       "      <td>66.861082</td>\n",
       "      <td>1073.0</td>\n",
       "    </tr>\n",
       "    <tr>\n",
       "      <th>ZXDB</th>\n",
       "      <td>ZXDB</td>\n",
       "      <td>192</td>\n",
       "      <td>False</td>\n",
       "      <td>192</td>\n",
       "      <td>0.117709</td>\n",
       "      <td>89.819724</td>\n",
       "      <td>222.0</td>\n",
       "    </tr>\n",
       "    <tr>\n",
       "      <th>ZXDC</th>\n",
       "      <td>ZXDC</td>\n",
       "      <td>185</td>\n",
       "      <td>False</td>\n",
       "      <td>185</td>\n",
       "      <td>0.126723</td>\n",
       "      <td>90.190880</td>\n",
       "      <td>239.0</td>\n",
       "    </tr>\n",
       "    <tr>\n",
       "      <th>ZYG11B</th>\n",
       "      <td>ZYG11B</td>\n",
       "      <td>389</td>\n",
       "      <td>False</td>\n",
       "      <td>389</td>\n",
       "      <td>0.308590</td>\n",
       "      <td>79.374337</td>\n",
       "      <td>582.0</td>\n",
       "    </tr>\n",
       "    <tr>\n",
       "      <th>ZYX</th>\n",
       "      <td>ZYX</td>\n",
       "      <td>277</td>\n",
       "      <td>False</td>\n",
       "      <td>277</td>\n",
       "      <td>0.224284</td>\n",
       "      <td>85.312831</td>\n",
       "      <td>423.0</td>\n",
       "    </tr>\n",
       "    <tr>\n",
       "      <th>ZZEF1</th>\n",
       "      <td>ZZEF1</td>\n",
       "      <td>356</td>\n",
       "      <td>False</td>\n",
       "      <td>356</td>\n",
       "      <td>0.242312</td>\n",
       "      <td>81.124072</td>\n",
       "      <td>457.0</td>\n",
       "    </tr>\n",
       "    <tr>\n",
       "      <th>ZZZ3</th>\n",
       "      <td>ZZZ3</td>\n",
       "      <td>342</td>\n",
       "      <td>False</td>\n",
       "      <td>342</td>\n",
       "      <td>0.268823</td>\n",
       "      <td>81.866384</td>\n",
       "      <td>507.0</td>\n",
       "    </tr>\n",
       "    <tr>\n",
       "      <th>L7RN6</th>\n",
       "      <td>L7RN6</td>\n",
       "      <td>223</td>\n",
       "      <td>False</td>\n",
       "      <td>223</td>\n",
       "      <td>0.173383</td>\n",
       "      <td>88.176034</td>\n",
       "      <td>327.0</td>\n",
       "    </tr>\n",
       "  </tbody>\n",
       "</table>\n",
       "</div>"
      ],
      "text/plain": [
       "        gene_name  n_cells     mt  n_cells_by_counts  mean_counts  \\\n",
       "ZSCAN21   ZSCAN21       90  False                 90     0.063627   \n",
       "ZSCAN22   ZSCAN22       87  False                 87     0.066278   \n",
       "ZSCAN29   ZSCAN29       58  False                 58     0.038706   \n",
       "ZSWIM1     ZSWIM1       88  False                 88     0.055143   \n",
       "ZSWIM3     ZSWIM3       25  False                 25     0.014316   \n",
       "ZSWIM4     ZSWIM4      211  False                211     0.151113   \n",
       "ZSWIM5     ZSWIM5       56  False                 56     0.037646   \n",
       "ZSWIM7     ZSWIM7       62  False                 62     0.036585   \n",
       "ZSWIM8     ZSWIM8      605  False                605     0.470308   \n",
       "ZUFSP       ZUFSP       45  False                 45     0.025981   \n",
       "ZW10         ZW10      156  False                156     0.110817   \n",
       "ZWILCH     ZWILCH       10  False                 10     0.005832   \n",
       "ZWINT       ZWINT      625  False                625     0.568929   \n",
       "ZXDB         ZXDB      192  False                192     0.117709   \n",
       "ZXDC         ZXDC      185  False                185     0.126723   \n",
       "ZYG11B     ZYG11B      389  False                389     0.308590   \n",
       "ZYX           ZYX      277  False                277     0.224284   \n",
       "ZZEF1       ZZEF1      356  False                356     0.242312   \n",
       "ZZZ3         ZZZ3      342  False                342     0.268823   \n",
       "L7RN6       L7RN6      223  False                223     0.173383   \n",
       "\n",
       "         pct_dropout_by_counts  total_counts  \n",
       "ZSCAN21              95.227996         120.0  \n",
       "ZSCAN22              95.387063         125.0  \n",
       "ZSCAN29              96.924708          73.0  \n",
       "ZSWIM1               95.334040         104.0  \n",
       "ZSWIM3               98.674443          27.0  \n",
       "ZSWIM4               88.812301         285.0  \n",
       "ZSWIM5               97.030753          71.0  \n",
       "ZSWIM7               96.712619          69.0  \n",
       "ZSWIM8               67.921527         887.0  \n",
       "ZUFSP                97.613998          49.0  \n",
       "ZW10                 91.728526         209.0  \n",
       "ZWILCH               99.469777          11.0  \n",
       "ZWINT                66.861082        1073.0  \n",
       "ZXDB                 89.819724         222.0  \n",
       "ZXDC                 90.190880         239.0  \n",
       "ZYG11B               79.374337         582.0  \n",
       "ZYX                  85.312831         423.0  \n",
       "ZZEF1                81.124072         457.0  \n",
       "ZZZ3                 81.866384         507.0  \n",
       "L7RN6                88.176034         327.0  "
      ]
     },
     "execution_count": 23,
     "metadata": {},
     "output_type": "execute_result"
    }
   ],
   "source": [
    "mouse_adata.var.tail(20)"
   ]
  },
  {
   "cell_type": "markdown",
   "metadata": {},
   "source": [
    "# Load homology information"
   ]
  },
  {
   "cell_type": "code",
   "execution_count": 5,
   "metadata": {},
   "outputs": [
    {
     "data": {
      "text/plain": [
       "(22232, 13)"
      ]
     },
     "execution_count": 5,
     "metadata": {},
     "output_type": "execute_result"
    }
   ],
   "source": [
    "homology_df = pd.read_csv(\"/home/sr2464/Desktop/CellLM/datasets/homolog_df_with_similarity_scores_and_avg_expr_goc_wga_score.csv\", index_col=0)\n",
    "homology_df.shape"
   ]
  },
  {
   "cell_type": "code",
   "execution_count": 6,
   "metadata": {},
   "outputs": [
    {
     "data": {
      "text/plain": [
       "(22232, 5)"
      ]
     },
     "execution_count": 6,
     "metadata": {},
     "output_type": "execute_result"
    }
   ],
   "source": [
    "homology_df = homology_df[[\"human_homolog_ENS_ID\", \"mouse_homolog_ENS_ID\", \"Sequence_Similarity_Score\", \"goc_score\", \"wga_score\"]]\n",
    "homology_df.shape"
   ]
  },
  {
   "cell_type": "code",
   "execution_count": 7,
   "metadata": {},
   "outputs": [
    {
     "data": {
      "text/html": [
       "<div>\n",
       "<style scoped>\n",
       "    .dataframe tbody tr th:only-of-type {\n",
       "        vertical-align: middle;\n",
       "    }\n",
       "\n",
       "    .dataframe tbody tr th {\n",
       "        vertical-align: top;\n",
       "    }\n",
       "\n",
       "    .dataframe thead th {\n",
       "        text-align: right;\n",
       "    }\n",
       "</style>\n",
       "<table border=\"1\" class=\"dataframe\">\n",
       "  <thead>\n",
       "    <tr style=\"text-align: right;\">\n",
       "      <th></th>\n",
       "      <th>human_homolog_ENS_ID</th>\n",
       "      <th>mouse_homolog_ENS_ID</th>\n",
       "      <th>Sequence_Similarity_Score</th>\n",
       "      <th>goc_score</th>\n",
       "      <th>wga_score</th>\n",
       "    </tr>\n",
       "  </thead>\n",
       "  <tbody>\n",
       "    <tr>\n",
       "      <th>0</th>\n",
       "      <td>ENSG00000198888</td>\n",
       "      <td>ENSMUSG00000064341</td>\n",
       "      <td>77.0440</td>\n",
       "      <td>50.0</td>\n",
       "      <td>100.0</td>\n",
       "    </tr>\n",
       "    <tr>\n",
       "      <th>1</th>\n",
       "      <td>ENSG00000198763</td>\n",
       "      <td>ENSMUSG00000064345</td>\n",
       "      <td>57.3913</td>\n",
       "      <td>75.0</td>\n",
       "      <td>100.0</td>\n",
       "    </tr>\n",
       "    <tr>\n",
       "      <th>2</th>\n",
       "      <td>ENSG00000198804</td>\n",
       "      <td>ENSMUSG00000064351</td>\n",
       "      <td>90.6615</td>\n",
       "      <td>100.0</td>\n",
       "      <td>100.0</td>\n",
       "    </tr>\n",
       "    <tr>\n",
       "      <th>3</th>\n",
       "      <td>ENSG00000198712</td>\n",
       "      <td>ENSMUSG00000064354</td>\n",
       "      <td>71.3656</td>\n",
       "      <td>100.0</td>\n",
       "      <td>100.0</td>\n",
       "    </tr>\n",
       "    <tr>\n",
       "      <th>4</th>\n",
       "      <td>ENSG00000228253</td>\n",
       "      <td>ENSMUSG00000064356</td>\n",
       "      <td>46.2687</td>\n",
       "      <td>100.0</td>\n",
       "      <td>100.0</td>\n",
       "    </tr>\n",
       "  </tbody>\n",
       "</table>\n",
       "</div>"
      ],
      "text/plain": [
       "  human_homolog_ENS_ID mouse_homolog_ENS_ID  Sequence_Similarity_Score  \\\n",
       "0      ENSG00000198888   ENSMUSG00000064341                    77.0440   \n",
       "1      ENSG00000198763   ENSMUSG00000064345                    57.3913   \n",
       "2      ENSG00000198804   ENSMUSG00000064351                    90.6615   \n",
       "3      ENSG00000198712   ENSMUSG00000064354                    71.3656   \n",
       "4      ENSG00000228253   ENSMUSG00000064356                    46.2687   \n",
       "\n",
       "   goc_score  wga_score  \n",
       "0       50.0      100.0  \n",
       "1       75.0      100.0  \n",
       "2      100.0      100.0  \n",
       "3      100.0      100.0  \n",
       "4      100.0      100.0  "
      ]
     },
     "execution_count": 7,
     "metadata": {},
     "output_type": "execute_result"
    }
   ],
   "source": [
    "homology_df.head()"
   ]
  },
  {
   "cell_type": "markdown",
   "metadata": {},
   "source": [
    "Load mapping of ensembl IDs to gene names for both human and mouse"
   ]
  },
  {
   "cell_type": "code",
   "execution_count": 26,
   "metadata": {},
   "outputs": [
    {
     "name": "stdout",
     "output_type": "stream",
     "text": [
      "(36601, 2)\n"
     ]
    },
    {
     "data": {
      "text/html": [
       "<div>\n",
       "<style scoped>\n",
       "    .dataframe tbody tr th:only-of-type {\n",
       "        vertical-align: middle;\n",
       "    }\n",
       "\n",
       "    .dataframe tbody tr th {\n",
       "        vertical-align: top;\n",
       "    }\n",
       "\n",
       "    .dataframe thead th {\n",
       "        text-align: right;\n",
       "    }\n",
       "</style>\n",
       "<table border=\"1\" class=\"dataframe\">\n",
       "  <thead>\n",
       "    <tr style=\"text-align: right;\">\n",
       "      <th></th>\n",
       "      <th>gene_name</th>\n",
       "      <th>ensembl_id</th>\n",
       "    </tr>\n",
       "  </thead>\n",
       "  <tbody>\n",
       "    <tr>\n",
       "      <th>0</th>\n",
       "      <td>MIR1302-2HG</td>\n",
       "      <td>ENSG00000243485</td>\n",
       "    </tr>\n",
       "    <tr>\n",
       "      <th>1</th>\n",
       "      <td>FAM138A</td>\n",
       "      <td>ENSG00000237613</td>\n",
       "    </tr>\n",
       "    <tr>\n",
       "      <th>2</th>\n",
       "      <td>OR4F5</td>\n",
       "      <td>ENSG00000186092</td>\n",
       "    </tr>\n",
       "    <tr>\n",
       "      <th>3</th>\n",
       "      <td>AL627309.1</td>\n",
       "      <td>ENSG00000238009</td>\n",
       "    </tr>\n",
       "    <tr>\n",
       "      <th>4</th>\n",
       "      <td>AL627309.3</td>\n",
       "      <td>ENSG00000239945</td>\n",
       "    </tr>\n",
       "    <tr>\n",
       "      <th>5</th>\n",
       "      <td>AL627309.2</td>\n",
       "      <td>ENSG00000239906</td>\n",
       "    </tr>\n",
       "    <tr>\n",
       "      <th>6</th>\n",
       "      <td>AL627309.5</td>\n",
       "      <td>ENSG00000241860</td>\n",
       "    </tr>\n",
       "    <tr>\n",
       "      <th>7</th>\n",
       "      <td>AL627309.4</td>\n",
       "      <td>ENSG00000241599</td>\n",
       "    </tr>\n",
       "    <tr>\n",
       "      <th>8</th>\n",
       "      <td>AP006222.2</td>\n",
       "      <td>ENSG00000286448</td>\n",
       "    </tr>\n",
       "    <tr>\n",
       "      <th>9</th>\n",
       "      <td>AL732372.1</td>\n",
       "      <td>ENSG00000236601</td>\n",
       "    </tr>\n",
       "    <tr>\n",
       "      <th>10</th>\n",
       "      <td>OR4F29</td>\n",
       "      <td>ENSG00000284733</td>\n",
       "    </tr>\n",
       "    <tr>\n",
       "      <th>11</th>\n",
       "      <td>AC114498.1</td>\n",
       "      <td>ENSG00000235146</td>\n",
       "    </tr>\n",
       "    <tr>\n",
       "      <th>12</th>\n",
       "      <td>OR4F16</td>\n",
       "      <td>ENSG00000284662</td>\n",
       "    </tr>\n",
       "    <tr>\n",
       "      <th>13</th>\n",
       "      <td>AL669831.2</td>\n",
       "      <td>ENSG00000229905</td>\n",
       "    </tr>\n",
       "    <tr>\n",
       "      <th>14</th>\n",
       "      <td>LINC01409</td>\n",
       "      <td>ENSG00000237491</td>\n",
       "    </tr>\n",
       "    <tr>\n",
       "      <th>15</th>\n",
       "      <td>FAM87B</td>\n",
       "      <td>ENSG00000177757</td>\n",
       "    </tr>\n",
       "    <tr>\n",
       "      <th>16</th>\n",
       "      <td>LINC01128</td>\n",
       "      <td>ENSG00000228794</td>\n",
       "    </tr>\n",
       "    <tr>\n",
       "      <th>17</th>\n",
       "      <td>LINC00115</td>\n",
       "      <td>ENSG00000225880</td>\n",
       "    </tr>\n",
       "    <tr>\n",
       "      <th>18</th>\n",
       "      <td>FAM41C</td>\n",
       "      <td>ENSG00000230368</td>\n",
       "    </tr>\n",
       "    <tr>\n",
       "      <th>19</th>\n",
       "      <td>AL645608.6</td>\n",
       "      <td>ENSG00000272438</td>\n",
       "    </tr>\n",
       "    <tr>\n",
       "      <th>20</th>\n",
       "      <td>AL645608.2</td>\n",
       "      <td>ENSG00000230699</td>\n",
       "    </tr>\n",
       "    <tr>\n",
       "      <th>21</th>\n",
       "      <td>AL645608.4</td>\n",
       "      <td>ENSG00000241180</td>\n",
       "    </tr>\n",
       "    <tr>\n",
       "      <th>22</th>\n",
       "      <td>LINC02593</td>\n",
       "      <td>ENSG00000223764</td>\n",
       "    </tr>\n",
       "    <tr>\n",
       "      <th>23</th>\n",
       "      <td>SAMD11</td>\n",
       "      <td>ENSG00000187634</td>\n",
       "    </tr>\n",
       "    <tr>\n",
       "      <th>24</th>\n",
       "      <td>NOC2L</td>\n",
       "      <td>ENSG00000188976</td>\n",
       "    </tr>\n",
       "    <tr>\n",
       "      <th>25</th>\n",
       "      <td>KLHL17</td>\n",
       "      <td>ENSG00000187961</td>\n",
       "    </tr>\n",
       "    <tr>\n",
       "      <th>26</th>\n",
       "      <td>PLEKHN1</td>\n",
       "      <td>ENSG00000187583</td>\n",
       "    </tr>\n",
       "    <tr>\n",
       "      <th>27</th>\n",
       "      <td>PERM1</td>\n",
       "      <td>ENSG00000187642</td>\n",
       "    </tr>\n",
       "    <tr>\n",
       "      <th>28</th>\n",
       "      <td>AL645608.7</td>\n",
       "      <td>ENSG00000272512</td>\n",
       "    </tr>\n",
       "    <tr>\n",
       "      <th>29</th>\n",
       "      <td>HES4</td>\n",
       "      <td>ENSG00000188290</td>\n",
       "    </tr>\n",
       "  </tbody>\n",
       "</table>\n",
       "</div>"
      ],
      "text/plain": [
       "      gene_name       ensembl_id\n",
       "0   MIR1302-2HG  ENSG00000243485\n",
       "1       FAM138A  ENSG00000237613\n",
       "2         OR4F5  ENSG00000186092\n",
       "3    AL627309.1  ENSG00000238009\n",
       "4    AL627309.3  ENSG00000239945\n",
       "5    AL627309.2  ENSG00000239906\n",
       "6    AL627309.5  ENSG00000241860\n",
       "7    AL627309.4  ENSG00000241599\n",
       "8    AP006222.2  ENSG00000286448\n",
       "9    AL732372.1  ENSG00000236601\n",
       "10       OR4F29  ENSG00000284733\n",
       "11   AC114498.1  ENSG00000235146\n",
       "12       OR4F16  ENSG00000284662\n",
       "13   AL669831.2  ENSG00000229905\n",
       "14    LINC01409  ENSG00000237491\n",
       "15       FAM87B  ENSG00000177757\n",
       "16    LINC01128  ENSG00000228794\n",
       "17    LINC00115  ENSG00000225880\n",
       "18       FAM41C  ENSG00000230368\n",
       "19   AL645608.6  ENSG00000272438\n",
       "20   AL645608.2  ENSG00000230699\n",
       "21   AL645608.4  ENSG00000241180\n",
       "22    LINC02593  ENSG00000223764\n",
       "23       SAMD11  ENSG00000187634\n",
       "24        NOC2L  ENSG00000188976\n",
       "25       KLHL17  ENSG00000187961\n",
       "26      PLEKHN1  ENSG00000187583\n",
       "27        PERM1  ENSG00000187642\n",
       "28   AL645608.7  ENSG00000272512\n",
       "29         HES4  ENSG00000188290"
      ]
     },
     "execution_count": 26,
     "metadata": {},
     "output_type": "execute_result"
    }
   ],
   "source": [
    "human_map_df = pd.read_csv(\n",
    "    \"/home/sr2464/Desktop/C2S_Cross_Species/human_map.csv\", \n",
    "    index_col=0, \n",
    "    names=['gene_name', 'ensembl_id'],\n",
    "    skiprows=1,  # ignore first row containing switched col names\n",
    ")\n",
    "print(human_map_df.shape)\n",
    "human_map_df.head(30)"
   ]
  },
  {
   "cell_type": "code",
   "execution_count": 27,
   "metadata": {},
   "outputs": [
    {
     "name": "stderr",
     "output_type": "stream",
     "text": [
      "100%|██████████| 36601/36601 [00:01<00:00, 18954.98it/s]\n"
     ]
    }
   ],
   "source": [
    "human_gene_to_ens_id_map = {}\n",
    "for idx in tqdm(range(human_map_df.shape[0])):\n",
    "    gene_name = human_map_df.iloc[idx][\"gene_name\"]\n",
    "    ensembl_id = human_map_df.iloc[idx][\"ensembl_id\"]\n",
    "\n",
    "    # Put gene name with version number into mapping\n",
    "    # This also guarantees gene name with no version number overrides anything set later in loop\n",
    "    human_gene_to_ens_id_map[gene_name] = ensembl_id\n",
    "\n",
    "    # Get gene name without version number\n",
    "    gene_name_wout_version_num = gene_name if \".\" not in gene_name else gene_name.split(\".\")[0]\n",
    "    if gene_name_wout_version_num not in human_gene_to_ens_id_map:\n",
    "        human_gene_to_ens_id_map[gene_name_wout_version_num] = ensembl_id"
   ]
  },
  {
   "cell_type": "code",
   "execution_count": 30,
   "metadata": {},
   "outputs": [
    {
     "name": "stdout",
     "output_type": "stream",
     "text": [
      "ENSG00000238009\n",
      "ENSG00000238009\n",
      "ENSG00000239906\n",
      "ENSG00000239945\n",
      "ENSG00000241860\n",
      "\n",
      "ENSG00000272438\n",
      "ENSG00000272438\n",
      "ENSG00000224969\n"
     ]
    }
   ],
   "source": [
    "print(human_gene_to_ens_id_map[\"AL627309\"])\n",
    "print(human_gene_to_ens_id_map[\"AL627309.1\"])\n",
    "print(human_gene_to_ens_id_map[\"AL627309.2\"])\n",
    "print(human_gene_to_ens_id_map[\"AL627309.3\"])\n",
    "print(human_gene_to_ens_id_map[\"AL627309.5\"])\n",
    "print()\n",
    "print(human_gene_to_ens_id_map[\"AL645608\"])\n",
    "print(human_gene_to_ens_id_map[\"AL645608.6\"])\n",
    "print(human_gene_to_ens_id_map[\"AL645608.1\"])"
   ]
  },
  {
   "cell_type": "markdown",
   "metadata": {},
   "source": [
    "Repeat for mouse"
   ]
  },
  {
   "cell_type": "code",
   "execution_count": 31,
   "metadata": {},
   "outputs": [
    {
     "name": "stdout",
     "output_type": "stream",
     "text": [
      "(32285, 2)\n"
     ]
    },
    {
     "data": {
      "text/html": [
       "<div>\n",
       "<style scoped>\n",
       "    .dataframe tbody tr th:only-of-type {\n",
       "        vertical-align: middle;\n",
       "    }\n",
       "\n",
       "    .dataframe tbody tr th {\n",
       "        vertical-align: top;\n",
       "    }\n",
       "\n",
       "    .dataframe thead th {\n",
       "        text-align: right;\n",
       "    }\n",
       "</style>\n",
       "<table border=\"1\" class=\"dataframe\">\n",
       "  <thead>\n",
       "    <tr style=\"text-align: right;\">\n",
       "      <th></th>\n",
       "      <th>gene_name</th>\n",
       "      <th>ensembl_id</th>\n",
       "    </tr>\n",
       "  </thead>\n",
       "  <tbody>\n",
       "    <tr>\n",
       "      <th>0</th>\n",
       "      <td>Xkr4</td>\n",
       "      <td>ENSMUSG00000051951</td>\n",
       "    </tr>\n",
       "    <tr>\n",
       "      <th>1</th>\n",
       "      <td>Gm1992</td>\n",
       "      <td>ENSMUSG00000089699</td>\n",
       "    </tr>\n",
       "    <tr>\n",
       "      <th>2</th>\n",
       "      <td>Gm19938</td>\n",
       "      <td>ENSMUSG00000102331</td>\n",
       "    </tr>\n",
       "    <tr>\n",
       "      <th>3</th>\n",
       "      <td>Gm37381</td>\n",
       "      <td>ENSMUSG00000102343</td>\n",
       "    </tr>\n",
       "    <tr>\n",
       "      <th>4</th>\n",
       "      <td>Rp1</td>\n",
       "      <td>ENSMUSG00000025900</td>\n",
       "    </tr>\n",
       "    <tr>\n",
       "      <th>5</th>\n",
       "      <td>Sox17</td>\n",
       "      <td>ENSMUSG00000025902</td>\n",
       "    </tr>\n",
       "    <tr>\n",
       "      <th>6</th>\n",
       "      <td>Gm37587</td>\n",
       "      <td>ENSMUSG00000104238</td>\n",
       "    </tr>\n",
       "    <tr>\n",
       "      <th>7</th>\n",
       "      <td>Gm37323</td>\n",
       "      <td>ENSMUSG00000104328</td>\n",
       "    </tr>\n",
       "    <tr>\n",
       "      <th>8</th>\n",
       "      <td>Mrpl15</td>\n",
       "      <td>ENSMUSG00000033845</td>\n",
       "    </tr>\n",
       "    <tr>\n",
       "      <th>9</th>\n",
       "      <td>Lypla1</td>\n",
       "      <td>ENSMUSG00000025903</td>\n",
       "    </tr>\n",
       "    <tr>\n",
       "      <th>10</th>\n",
       "      <td>Tcea1</td>\n",
       "      <td>ENSMUSG00000033813</td>\n",
       "    </tr>\n",
       "    <tr>\n",
       "      <th>11</th>\n",
       "      <td>Rgs20</td>\n",
       "      <td>ENSMUSG00000002459</td>\n",
       "    </tr>\n",
       "    <tr>\n",
       "      <th>12</th>\n",
       "      <td>Gm16041</td>\n",
       "      <td>ENSMUSG00000085623</td>\n",
       "    </tr>\n",
       "    <tr>\n",
       "      <th>13</th>\n",
       "      <td>Atp6v1h</td>\n",
       "      <td>ENSMUSG00000033793</td>\n",
       "    </tr>\n",
       "    <tr>\n",
       "      <th>14</th>\n",
       "      <td>Oprk1</td>\n",
       "      <td>ENSMUSG00000025905</td>\n",
       "    </tr>\n",
       "    <tr>\n",
       "      <th>15</th>\n",
       "      <td>Npbwr1</td>\n",
       "      <td>ENSMUSG00000033774</td>\n",
       "    </tr>\n",
       "    <tr>\n",
       "      <th>16</th>\n",
       "      <td>Rb1cc1</td>\n",
       "      <td>ENSMUSG00000025907</td>\n",
       "    </tr>\n",
       "    <tr>\n",
       "      <th>17</th>\n",
       "      <td>4732440D04Rik</td>\n",
       "      <td>ENSMUSG00000090031</td>\n",
       "    </tr>\n",
       "    <tr>\n",
       "      <th>18</th>\n",
       "      <td>Alkal1</td>\n",
       "      <td>ENSMUSG00000087247</td>\n",
       "    </tr>\n",
       "    <tr>\n",
       "      <th>19</th>\n",
       "      <td>St18</td>\n",
       "      <td>ENSMUSG00000033740</td>\n",
       "    </tr>\n",
       "  </tbody>\n",
       "</table>\n",
       "</div>"
      ],
      "text/plain": [
       "        gene_name          ensembl_id\n",
       "0            Xkr4  ENSMUSG00000051951\n",
       "1          Gm1992  ENSMUSG00000089699\n",
       "2         Gm19938  ENSMUSG00000102331\n",
       "3         Gm37381  ENSMUSG00000102343\n",
       "4             Rp1  ENSMUSG00000025900\n",
       "5           Sox17  ENSMUSG00000025902\n",
       "6         Gm37587  ENSMUSG00000104238\n",
       "7         Gm37323  ENSMUSG00000104328\n",
       "8          Mrpl15  ENSMUSG00000033845\n",
       "9          Lypla1  ENSMUSG00000025903\n",
       "10          Tcea1  ENSMUSG00000033813\n",
       "11          Rgs20  ENSMUSG00000002459\n",
       "12        Gm16041  ENSMUSG00000085623\n",
       "13        Atp6v1h  ENSMUSG00000033793\n",
       "14          Oprk1  ENSMUSG00000025905\n",
       "15         Npbwr1  ENSMUSG00000033774\n",
       "16         Rb1cc1  ENSMUSG00000025907\n",
       "17  4732440D04Rik  ENSMUSG00000090031\n",
       "18         Alkal1  ENSMUSG00000087247\n",
       "19           St18  ENSMUSG00000033740"
      ]
     },
     "execution_count": 31,
     "metadata": {},
     "output_type": "execute_result"
    }
   ],
   "source": [
    "mouse_map_df = pd.read_csv(\n",
    "    \"/home/sr2464/Desktop/C2S_Cross_Species/mouse_map.csv\", \n",
    "    index_col=0, \n",
    "    names=['gene_name', 'ensembl_id'],\n",
    "    skiprows=1,  # ignore first row containing switched col names\n",
    ")\n",
    "print(mouse_map_df.shape)\n",
    "mouse_map_df.head(20)"
   ]
  },
  {
   "cell_type": "code",
   "execution_count": 32,
   "metadata": {},
   "outputs": [
    {
     "name": "stderr",
     "output_type": "stream",
     "text": [
      "100%|██████████| 32285/32285 [00:01<00:00, 19064.86it/s]\n"
     ]
    }
   ],
   "source": [
    "mouse_gene_to_ens_id_map = {}\n",
    "for idx in tqdm(range(mouse_map_df.shape[0])):\n",
    "    gene_name = mouse_map_df.iloc[idx][\"gene_name\"].upper()\n",
    "    ensembl_id = mouse_map_df.iloc[idx][\"ensembl_id\"]\n",
    "\n",
    "    # Put gene name with version number into mapping\n",
    "    # This also guarantees gene name with no version number overrides anything set later in loop\n",
    "    mouse_gene_to_ens_id_map[gene_name] = ensembl_id\n",
    "\n",
    "    # Get gene name without version number\n",
    "    gene_name_wout_version_num = gene_name if \".\" not in gene_name else gene_name.split(\".\")[0]\n",
    "    if gene_name_wout_version_num not in mouse_gene_to_ens_id_map:\n",
    "        mouse_gene_to_ens_id_map[gene_name_wout_version_num] = ensembl_id"
   ]
  },
  {
   "cell_type": "code",
   "execution_count": 35,
   "metadata": {},
   "outputs": [
    {
     "name": "stdout",
     "output_type": "stream",
     "text": [
      "ENSMUSG00000051951\n",
      "ENSMUSG00000089699\n",
      "ENSMUSG00000102331\n",
      "ENSMUSG00000033740\n"
     ]
    }
   ],
   "source": [
    "print(mouse_gene_to_ens_id_map[\"Xkr4\".upper()])\n",
    "print(mouse_gene_to_ens_id_map[\"Gm1992\".upper()])\n",
    "print(mouse_gene_to_ens_id_map[\"Gm19938\".upper()])\n",
    "print(mouse_gene_to_ens_id_map[\"St18\".upper()])"
   ]
  },
  {
   "cell_type": "code",
   "execution_count": 37,
   "metadata": {},
   "outputs": [
    {
     "name": "stdout",
     "output_type": "stream",
     "text": [
      "ENSMUSG00000000001\n",
      "ENSMUSG00000000003\n",
      "ENSMUSG00000000028\n",
      "ENSMUSG00000000031\n",
      "ENSMUSG00000000037\n"
     ]
    }
   ],
   "source": [
    "print(mouse_gene_to_ens_id_map[\"Gnai3\".upper()])\n",
    "print(mouse_gene_to_ens_id_map[\"Pbsn\".upper()])\n",
    "print(mouse_gene_to_ens_id_map[\"Cdc45\".upper()])\n",
    "print(mouse_gene_to_ens_id_map[\"H19\".upper()])\n",
    "print(mouse_gene_to_ens_id_map[\"Scml2\".upper()])  # Matches what we had in below mapping df! Great sign"
   ]
  },
  {
   "cell_type": "code",
   "execution_count": 38,
   "metadata": {},
   "outputs": [],
   "source": [
    "# mouse_gene_name_id_mapping_df = pd.read_csv(\"/home/sr2464/Desktop/CellLM/datasets/mouse_gene_id_name_mapping.csv\")\n",
    "# mouse_gene_name_id_mapping_df.shape"
   ]
  },
  {
   "cell_type": "code",
   "execution_count": 40,
   "metadata": {},
   "outputs": [],
   "source": [
    "# mouse_gene_name_id_mapping_df.head()"
   ]
  },
  {
   "cell_type": "code",
   "execution_count": 41,
   "metadata": {},
   "outputs": [],
   "source": [
    "# mouse_gene_name_id_mapping_df = mouse_gene_name_id_mapping_df.fillna('NOT_FOUND')\n",
    "# mouse_gene_name_id_mapping_df[\"symbol\"] = mouse_gene_name_id_mapping_df[\"symbol\"].str.upper()"
   ]
  },
  {
   "cell_type": "code",
   "execution_count": 42,
   "metadata": {},
   "outputs": [],
   "source": [
    "# mouse_gene_name_to_ensembl_id = {}\n",
    "# mouse_gene_ensembl_id_to_name = {}\n",
    "# for row_idx in tqdm(range(mouse_gene_name_id_mapping_df.shape[0])):\n",
    "#     mouse_gene_name = mouse_gene_name_id_mapping_df.iloc[row_idx][\"symbol\"]\n",
    "#     mouse_gene_ensembl_id = mouse_gene_name_id_mapping_df.iloc[row_idx][\"query\"]\n",
    "#     if mouse_gene_name != \"NOT_FOUND\":\n",
    "#         if \".\" in mouse_gene_name:\n",
    "#             mouse_gene_name = mouse_gene_name.split(\".\")[0]  # remove version number\n",
    "#         mouse_gene_name_to_ensembl_id[mouse_gene_name] = mouse_gene_ensembl_id\n",
    "#         mouse_gene_ensembl_id_to_name[mouse_gene_ensembl_id] = mouse_gene_name"
   ]
  },
  {
   "cell_type": "code",
   "execution_count": 43,
   "metadata": {},
   "outputs": [
    {
     "data": {
      "text/html": [
       "<div>\n",
       "<style scoped>\n",
       "    .dataframe tbody tr th:only-of-type {\n",
       "        vertical-align: middle;\n",
       "    }\n",
       "\n",
       "    .dataframe tbody tr th {\n",
       "        vertical-align: top;\n",
       "    }\n",
       "\n",
       "    .dataframe thead th {\n",
       "        text-align: right;\n",
       "    }\n",
       "</style>\n",
       "<table border=\"1\" class=\"dataframe\">\n",
       "  <thead>\n",
       "    <tr style=\"text-align: right;\">\n",
       "      <th></th>\n",
       "      <th>gene_name</th>\n",
       "      <th>n_cells</th>\n",
       "      <th>mt</th>\n",
       "      <th>n_cells_by_counts</th>\n",
       "      <th>mean_counts</th>\n",
       "      <th>pct_dropout_by_counts</th>\n",
       "      <th>total_counts</th>\n",
       "    </tr>\n",
       "  </thead>\n",
       "  <tbody>\n",
       "    <tr>\n",
       "      <th>0610007P14RIK</th>\n",
       "      <td>0610007P14RIK</td>\n",
       "      <td>197</td>\n",
       "      <td>False</td>\n",
       "      <td>197</td>\n",
       "      <td>0.150583</td>\n",
       "      <td>89.554613</td>\n",
       "      <td>284.0</td>\n",
       "    </tr>\n",
       "    <tr>\n",
       "      <th>0610009B22RIK</th>\n",
       "      <td>0610009B22RIK</td>\n",
       "      <td>257</td>\n",
       "      <td>False</td>\n",
       "      <td>257</td>\n",
       "      <td>0.188229</td>\n",
       "      <td>86.373277</td>\n",
       "      <td>355.0</td>\n",
       "    </tr>\n",
       "    <tr>\n",
       "      <th>0610009E02RIK</th>\n",
       "      <td>0610009E02RIK</td>\n",
       "      <td>74</td>\n",
       "      <td>False</td>\n",
       "      <td>74</td>\n",
       "      <td>0.048250</td>\n",
       "      <td>96.076352</td>\n",
       "      <td>91.0</td>\n",
       "    </tr>\n",
       "    <tr>\n",
       "      <th>0610009L18RIK</th>\n",
       "      <td>0610009L18RIK</td>\n",
       "      <td>48</td>\n",
       "      <td>False</td>\n",
       "      <td>48</td>\n",
       "      <td>0.027572</td>\n",
       "      <td>97.454931</td>\n",
       "      <td>52.0</td>\n",
       "    </tr>\n",
       "    <tr>\n",
       "      <th>0610009O20RIK</th>\n",
       "      <td>0610009O20RIK</td>\n",
       "      <td>119</td>\n",
       "      <td>False</td>\n",
       "      <td>119</td>\n",
       "      <td>0.066808</td>\n",
       "      <td>93.690350</td>\n",
       "      <td>126.0</td>\n",
       "    </tr>\n",
       "  </tbody>\n",
       "</table>\n",
       "</div>"
      ],
      "text/plain": [
       "                   gene_name  n_cells     mt  n_cells_by_counts  mean_counts  \\\n",
       "0610007P14RIK  0610007P14RIK      197  False                197     0.150583   \n",
       "0610009B22RIK  0610009B22RIK      257  False                257     0.188229   \n",
       "0610009E02RIK  0610009E02RIK       74  False                 74     0.048250   \n",
       "0610009L18RIK  0610009L18RIK       48  False                 48     0.027572   \n",
       "0610009O20RIK  0610009O20RIK      119  False                119     0.066808   \n",
       "\n",
       "               pct_dropout_by_counts  total_counts  \n",
       "0610007P14RIK              89.554613         284.0  \n",
       "0610009B22RIK              86.373277         355.0  \n",
       "0610009E02RIK              96.076352          91.0  \n",
       "0610009L18RIK              97.454931          52.0  \n",
       "0610009O20RIK              93.690350         126.0  "
      ]
     },
     "execution_count": 43,
     "metadata": {},
     "output_type": "execute_result"
    }
   ],
   "source": [
    "mouse_adata.var.head()"
   ]
  },
  {
   "cell_type": "code",
   "execution_count": 45,
   "metadata": {},
   "outputs": [],
   "source": [
    "mouse_ens_id_list = []\n",
    "for idx in range(mouse_adata.var.shape[0]):\n",
    "    gene_name = mouse_adata.var.iloc[idx][\"gene_name\"].upper()\n",
    "    gene_ens_id = mouse_gene_to_ens_id_map.get(gene_name, \"NaN\")\n",
    "    mouse_ens_id_list.append(gene_ens_id)"
   ]
  },
  {
   "cell_type": "code",
   "execution_count": 46,
   "metadata": {},
   "outputs": [
    {
     "data": {
      "text/plain": [
       "['NaN',\n",
       " 'ENSMUSG00000007777',\n",
       " 'ENSMUSG00000086714',\n",
       " 'ENSMUSG00000043644',\n",
       " 'NaN',\n",
       " 'ENSMUSG00000042208',\n",
       " 'ENSMUSG00000020831',\n",
       " 'NaN',\n",
       " 'ENSMUSG00000107002',\n",
       " 'ENSMUSG00000058706']"
      ]
     },
     "execution_count": 46,
     "metadata": {},
     "output_type": "execute_result"
    }
   ],
   "source": [
    "mouse_ens_id_list[:10]"
   ]
  },
  {
   "cell_type": "code",
   "execution_count": 47,
   "metadata": {},
   "outputs": [
    {
     "data": {
      "text/plain": [
       "654"
      ]
     },
     "execution_count": 47,
     "metadata": {},
     "output_type": "execute_result"
    }
   ],
   "source": [
    "sum([1 if name == \"NaN\" else 0 for name in mouse_ens_id_list])"
   ]
  },
  {
   "cell_type": "code",
   "execution_count": 48,
   "metadata": {},
   "outputs": [
    {
     "data": {
      "text/html": [
       "<div>\n",
       "<style scoped>\n",
       "    .dataframe tbody tr th:only-of-type {\n",
       "        vertical-align: middle;\n",
       "    }\n",
       "\n",
       "    .dataframe tbody tr th {\n",
       "        vertical-align: top;\n",
       "    }\n",
       "\n",
       "    .dataframe thead th {\n",
       "        text-align: right;\n",
       "    }\n",
       "</style>\n",
       "<table border=\"1\" class=\"dataframe\">\n",
       "  <thead>\n",
       "    <tr style=\"text-align: right;\">\n",
       "      <th></th>\n",
       "      <th>gene_name</th>\n",
       "      <th>n_cells</th>\n",
       "      <th>mt</th>\n",
       "      <th>n_cells_by_counts</th>\n",
       "      <th>mean_counts</th>\n",
       "      <th>pct_dropout_by_counts</th>\n",
       "      <th>total_counts</th>\n",
       "      <th>ensembl_id</th>\n",
       "    </tr>\n",
       "  </thead>\n",
       "  <tbody>\n",
       "    <tr>\n",
       "      <th>0610007P14RIK</th>\n",
       "      <td>0610007P14RIK</td>\n",
       "      <td>197</td>\n",
       "      <td>False</td>\n",
       "      <td>197</td>\n",
       "      <td>0.150583</td>\n",
       "      <td>89.554613</td>\n",
       "      <td>284.0</td>\n",
       "      <td>NaN</td>\n",
       "    </tr>\n",
       "    <tr>\n",
       "      <th>0610009B22RIK</th>\n",
       "      <td>0610009B22RIK</td>\n",
       "      <td>257</td>\n",
       "      <td>False</td>\n",
       "      <td>257</td>\n",
       "      <td>0.188229</td>\n",
       "      <td>86.373277</td>\n",
       "      <td>355.0</td>\n",
       "      <td>ENSMUSG00000007777</td>\n",
       "    </tr>\n",
       "    <tr>\n",
       "      <th>0610009E02RIK</th>\n",
       "      <td>0610009E02RIK</td>\n",
       "      <td>74</td>\n",
       "      <td>False</td>\n",
       "      <td>74</td>\n",
       "      <td>0.048250</td>\n",
       "      <td>96.076352</td>\n",
       "      <td>91.0</td>\n",
       "      <td>ENSMUSG00000086714</td>\n",
       "    </tr>\n",
       "    <tr>\n",
       "      <th>0610009L18RIK</th>\n",
       "      <td>0610009L18RIK</td>\n",
       "      <td>48</td>\n",
       "      <td>False</td>\n",
       "      <td>48</td>\n",
       "      <td>0.027572</td>\n",
       "      <td>97.454931</td>\n",
       "      <td>52.0</td>\n",
       "      <td>ENSMUSG00000043644</td>\n",
       "    </tr>\n",
       "    <tr>\n",
       "      <th>0610009O20RIK</th>\n",
       "      <td>0610009O20RIK</td>\n",
       "      <td>119</td>\n",
       "      <td>False</td>\n",
       "      <td>119</td>\n",
       "      <td>0.066808</td>\n",
       "      <td>93.690350</td>\n",
       "      <td>126.0</td>\n",
       "      <td>NaN</td>\n",
       "    </tr>\n",
       "  </tbody>\n",
       "</table>\n",
       "</div>"
      ],
      "text/plain": [
       "                   gene_name  n_cells     mt  n_cells_by_counts  mean_counts  \\\n",
       "0610007P14RIK  0610007P14RIK      197  False                197     0.150583   \n",
       "0610009B22RIK  0610009B22RIK      257  False                257     0.188229   \n",
       "0610009E02RIK  0610009E02RIK       74  False                 74     0.048250   \n",
       "0610009L18RIK  0610009L18RIK       48  False                 48     0.027572   \n",
       "0610009O20RIK  0610009O20RIK      119  False                119     0.066808   \n",
       "\n",
       "               pct_dropout_by_counts  total_counts          ensembl_id  \n",
       "0610007P14RIK              89.554613         284.0                 NaN  \n",
       "0610009B22RIK              86.373277         355.0  ENSMUSG00000007777  \n",
       "0610009E02RIK              96.076352          91.0  ENSMUSG00000086714  \n",
       "0610009L18RIK              97.454931          52.0  ENSMUSG00000043644  \n",
       "0610009O20RIK              93.690350         126.0                 NaN  "
      ]
     },
     "execution_count": 48,
     "metadata": {},
     "output_type": "execute_result"
    }
   ],
   "source": [
    "mouse_adata.var[\"ensembl_id\"] = mouse_ens_id_list\n",
    "mouse_adata.var.head()"
   ]
  },
  {
   "cell_type": "code",
   "execution_count": 49,
   "metadata": {},
   "outputs": [
    {
     "data": {
      "text/html": [
       "<div>\n",
       "<style scoped>\n",
       "    .dataframe tbody tr th:only-of-type {\n",
       "        vertical-align: middle;\n",
       "    }\n",
       "\n",
       "    .dataframe tbody tr th {\n",
       "        vertical-align: top;\n",
       "    }\n",
       "\n",
       "    .dataframe thead th {\n",
       "        text-align: right;\n",
       "    }\n",
       "</style>\n",
       "<table border=\"1\" class=\"dataframe\">\n",
       "  <thead>\n",
       "    <tr style=\"text-align: right;\">\n",
       "      <th></th>\n",
       "      <th>gene_name</th>\n",
       "      <th>n_cells</th>\n",
       "      <th>mt</th>\n",
       "      <th>n_cells_by_counts</th>\n",
       "      <th>mean_counts</th>\n",
       "      <th>pct_dropout_by_counts</th>\n",
       "      <th>total_counts</th>\n",
       "      <th>ensembl_id</th>\n",
       "    </tr>\n",
       "  </thead>\n",
       "  <tbody>\n",
       "    <tr>\n",
       "      <th>ZYG11B</th>\n",
       "      <td>ZYG11B</td>\n",
       "      <td>389</td>\n",
       "      <td>False</td>\n",
       "      <td>389</td>\n",
       "      <td>0.308590</td>\n",
       "      <td>79.374337</td>\n",
       "      <td>582.0</td>\n",
       "      <td>ENSMUSG00000034636</td>\n",
       "    </tr>\n",
       "    <tr>\n",
       "      <th>ZYX</th>\n",
       "      <td>ZYX</td>\n",
       "      <td>277</td>\n",
       "      <td>False</td>\n",
       "      <td>277</td>\n",
       "      <td>0.224284</td>\n",
       "      <td>85.312831</td>\n",
       "      <td>423.0</td>\n",
       "      <td>ENSMUSG00000029860</td>\n",
       "    </tr>\n",
       "    <tr>\n",
       "      <th>ZZEF1</th>\n",
       "      <td>ZZEF1</td>\n",
       "      <td>356</td>\n",
       "      <td>False</td>\n",
       "      <td>356</td>\n",
       "      <td>0.242312</td>\n",
       "      <td>81.124072</td>\n",
       "      <td>457.0</td>\n",
       "      <td>ENSMUSG00000055670</td>\n",
       "    </tr>\n",
       "    <tr>\n",
       "      <th>ZZZ3</th>\n",
       "      <td>ZZZ3</td>\n",
       "      <td>342</td>\n",
       "      <td>False</td>\n",
       "      <td>342</td>\n",
       "      <td>0.268823</td>\n",
       "      <td>81.866384</td>\n",
       "      <td>507.0</td>\n",
       "      <td>ENSMUSG00000039068</td>\n",
       "    </tr>\n",
       "    <tr>\n",
       "      <th>L7RN6</th>\n",
       "      <td>L7RN6</td>\n",
       "      <td>223</td>\n",
       "      <td>False</td>\n",
       "      <td>223</td>\n",
       "      <td>0.173383</td>\n",
       "      <td>88.176034</td>\n",
       "      <td>327.0</td>\n",
       "      <td>NaN</td>\n",
       "    </tr>\n",
       "  </tbody>\n",
       "</table>\n",
       "</div>"
      ],
      "text/plain": [
       "       gene_name  n_cells     mt  n_cells_by_counts  mean_counts  \\\n",
       "ZYG11B    ZYG11B      389  False                389     0.308590   \n",
       "ZYX          ZYX      277  False                277     0.224284   \n",
       "ZZEF1      ZZEF1      356  False                356     0.242312   \n",
       "ZZZ3        ZZZ3      342  False                342     0.268823   \n",
       "L7RN6      L7RN6      223  False                223     0.173383   \n",
       "\n",
       "        pct_dropout_by_counts  total_counts          ensembl_id  \n",
       "ZYG11B              79.374337         582.0  ENSMUSG00000034636  \n",
       "ZYX                 85.312831         423.0  ENSMUSG00000029860  \n",
       "ZZEF1               81.124072         457.0  ENSMUSG00000055670  \n",
       "ZZZ3                81.866384         507.0  ENSMUSG00000039068  \n",
       "L7RN6               88.176034         327.0                 NaN  "
      ]
     },
     "execution_count": 49,
     "metadata": {},
     "output_type": "execute_result"
    }
   ],
   "source": [
    "mouse_adata.var.tail()"
   ]
  },
  {
   "cell_type": "markdown",
   "metadata": {},
   "source": [
    "Repeat for human adata"
   ]
  },
  {
   "cell_type": "code",
   "execution_count": 50,
   "metadata": {},
   "outputs": [],
   "source": [
    "# hca_adata = anndata.read_h5ad(\"/home/sr2464/palmer_scratch/C2S_Files_Syed/Cell2Sentence_Datasets/hca_cellxgene_raw_h5ad/blood_bone_marrow_spleen.h5ad\")\n",
    "# hca_adata"
   ]
  },
  {
   "cell_type": "code",
   "execution_count": 52,
   "metadata": {},
   "outputs": [],
   "source": [
    "# hca_adata.var[[\"ensembl_ids\"]].head()"
   ]
  },
  {
   "cell_type": "code",
   "execution_count": 53,
   "metadata": {},
   "outputs": [],
   "source": [
    "# human_gene_name_to_ensembl_id = {}\n",
    "# human_gene_ensembl_id_to_name = {}\n",
    "# human_gene_name_to_ensembl_id_wout_version_nums = {}\n",
    "# human_gene_ensembl_id_to_name_wout_version_nums = {}\n",
    "# for row_idx in tqdm(range(hca_adata.var.shape[0])):\n",
    "#     human_gene_name = str(hca_adata.var.index[row_idx])\n",
    "#     human_gene_ensembl_id = hca_adata.var.iloc[row_idx][\"ensembl_ids\"]\n",
    "#     human_gene_name_to_ensembl_id[human_gene_name] = human_gene_ensembl_id\n",
    "#     human_gene_ensembl_id_to_name[human_gene_ensembl_id] = human_gene_name\n",
    "\n",
    "#     # Repeat without version numbers\n",
    "#     if \".\" in human_gene_name:\n",
    "#         human_gene_name = human_gene_name.split(\".\")[0]\n",
    "#     if \".\" in human_gene_ensembl_id:\n",
    "#         human_gene_ensembl_id = human_gene_ensembl_id.split(\".\")[0]\n",
    "#     human_gene_name_to_ensembl_id_wout_version_nums[human_gene_name] = human_gene_ensembl_id\n",
    "#     human_gene_ensembl_id_to_name_wout_version_nums[human_gene_ensembl_id] = human_gene_name"
   ]
  },
  {
   "cell_type": "markdown",
   "metadata": {},
   "source": [
    "Add human ens ids to human adata"
   ]
  },
  {
   "cell_type": "code",
   "execution_count": 55,
   "metadata": {},
   "outputs": [
    {
     "data": {
      "text/plain": [
       "AnnData object with n_obs × n_vars = 1937 × 16359\n",
       "    obs: 'cell_barcodes', 'cell_manual_ids', 'cell_types', 'batch_sample', 'n_genes', 'n_genes_by_counts', 'total_counts', 'total_counts_mt', 'pct_counts_mt'\n",
       "    var: 'gene_name', 'n_cells', 'mt', 'n_cells_by_counts', 'mean_counts', 'pct_dropout_by_counts', 'total_counts'\n",
       "    uns: 'cell_types_colors', 'log1p', 'neighbors', 'pca', 'umap'\n",
       "    obsm: 'X_pca', 'X_umap'\n",
       "    varm: 'PCs'\n",
       "    obsp: 'connectivities', 'distances'"
      ]
     },
     "execution_count": 55,
     "metadata": {},
     "output_type": "execute_result"
    }
   ],
   "source": [
    "human_adata"
   ]
  },
  {
   "cell_type": "code",
   "execution_count": 56,
   "metadata": {},
   "outputs": [
    {
     "name": "stderr",
     "output_type": "stream",
     "text": [
      "100%|██████████| 16359/16359 [00:00<00:00, 21874.59it/s]\n"
     ]
    }
   ],
   "source": [
    "human_ens_id_list = []\n",
    "for idx in tqdm(range(human_adata.var.shape[0])):\n",
    "    gene_name = human_adata.var.iloc[idx][\"gene_name\"].upper()\n",
    "    if \".\" in gene_name:\n",
    "        gene_name = gene_name.split(\".\")[0]\n",
    "    gene_ens_id = human_gene_to_ens_id_map.get(gene_name, \"NaN\")\n",
    "    human_ens_id_list.append(gene_ens_id)"
   ]
  },
  {
   "cell_type": "code",
   "execution_count": 57,
   "metadata": {},
   "outputs": [
    {
     "data": {
      "text/plain": [
       "1170"
      ]
     },
     "execution_count": 57,
     "metadata": {},
     "output_type": "execute_result"
    }
   ],
   "source": [
    "sum([1 if name == \"NaN\" else 0 for name in human_ens_id_list])"
   ]
  },
  {
   "cell_type": "code",
   "execution_count": 59,
   "metadata": {},
   "outputs": [
    {
     "data": {
      "text/html": [
       "<div>\n",
       "<style scoped>\n",
       "    .dataframe tbody tr th:only-of-type {\n",
       "        vertical-align: middle;\n",
       "    }\n",
       "\n",
       "    .dataframe tbody tr th {\n",
       "        vertical-align: top;\n",
       "    }\n",
       "\n",
       "    .dataframe thead th {\n",
       "        text-align: right;\n",
       "    }\n",
       "</style>\n",
       "<table border=\"1\" class=\"dataframe\">\n",
       "  <thead>\n",
       "    <tr style=\"text-align: right;\">\n",
       "      <th></th>\n",
       "      <th>gene_name</th>\n",
       "      <th>n_cells</th>\n",
       "      <th>mt</th>\n",
       "      <th>n_cells_by_counts</th>\n",
       "      <th>mean_counts</th>\n",
       "      <th>pct_dropout_by_counts</th>\n",
       "      <th>total_counts</th>\n",
       "      <th>ensembl_id</th>\n",
       "    </tr>\n",
       "  </thead>\n",
       "  <tbody>\n",
       "    <tr>\n",
       "      <th>A1BG</th>\n",
       "      <td>A1BG</td>\n",
       "      <td>42</td>\n",
       "      <td>False</td>\n",
       "      <td>42</td>\n",
       "      <td>0.005135</td>\n",
       "      <td>99.509861</td>\n",
       "      <td>44.0</td>\n",
       "      <td>ENSG00000121410</td>\n",
       "    </tr>\n",
       "    <tr>\n",
       "      <th>A1CF</th>\n",
       "      <td>A1CF</td>\n",
       "      <td>1408</td>\n",
       "      <td>False</td>\n",
       "      <td>1408</td>\n",
       "      <td>0.223947</td>\n",
       "      <td>83.568678</td>\n",
       "      <td>1919.0</td>\n",
       "      <td>ENSG00000148584</td>\n",
       "    </tr>\n",
       "    <tr>\n",
       "      <th>A2M</th>\n",
       "      <td>A2M</td>\n",
       "      <td>273</td>\n",
       "      <td>False</td>\n",
       "      <td>273</td>\n",
       "      <td>0.054966</td>\n",
       "      <td>96.814097</td>\n",
       "      <td>471.0</td>\n",
       "      <td>ENSG00000175899</td>\n",
       "    </tr>\n",
       "    <tr>\n",
       "      <th>A4GALT</th>\n",
       "      <td>A4GALT</td>\n",
       "      <td>444</td>\n",
       "      <td>False</td>\n",
       "      <td>444</td>\n",
       "      <td>0.071654</td>\n",
       "      <td>94.818532</td>\n",
       "      <td>614.0</td>\n",
       "      <td>ENSG00000128274</td>\n",
       "    </tr>\n",
       "    <tr>\n",
       "      <th>AAAS</th>\n",
       "      <td>AAAS</td>\n",
       "      <td>1216</td>\n",
       "      <td>False</td>\n",
       "      <td>1216</td>\n",
       "      <td>0.187770</td>\n",
       "      <td>85.809313</td>\n",
       "      <td>1609.0</td>\n",
       "      <td>ENSG00000094914</td>\n",
       "    </tr>\n",
       "  </tbody>\n",
       "</table>\n",
       "</div>"
      ],
      "text/plain": [
       "       gene_name  n_cells     mt  n_cells_by_counts  mean_counts  \\\n",
       "A1BG        A1BG       42  False                 42     0.005135   \n",
       "A1CF        A1CF     1408  False               1408     0.223947   \n",
       "A2M          A2M      273  False                273     0.054966   \n",
       "A4GALT    A4GALT      444  False                444     0.071654   \n",
       "AAAS        AAAS     1216  False               1216     0.187770   \n",
       "\n",
       "        pct_dropout_by_counts  total_counts       ensembl_id  \n",
       "A1BG                99.509861          44.0  ENSG00000121410  \n",
       "A1CF                83.568678        1919.0  ENSG00000148584  \n",
       "A2M                 96.814097         471.0  ENSG00000175899  \n",
       "A4GALT              94.818532         614.0  ENSG00000128274  \n",
       "AAAS                85.809313        1609.0  ENSG00000094914  "
      ]
     },
     "execution_count": 59,
     "metadata": {},
     "output_type": "execute_result"
    }
   ],
   "source": [
    "human_adata.var[\"ensembl_id\"] = human_ens_id_list\n",
    "human_adata.var.head()"
   ]
  },
  {
   "cell_type": "markdown",
   "metadata": {},
   "source": [
    "# Restrict Human and Mouse adata objects to homologous genes"
   ]
  },
  {
   "cell_type": "code",
   "execution_count": 73,
   "metadata": {},
   "outputs": [],
   "source": [
    "def restrict_to_homologous_genes(human_adata, mouse_adata, homolog_df):\n",
    "    # Extract homologous Ensembl IDs from the dataframe\n",
    "    human_homologs = homolog_df['human_homolog_ENS_ID'].values\n",
    "    mouse_homologs = homolog_df['mouse_homolog_ENS_ID'].values\n",
    "\n",
    "    # Create masks for human and mouse AnnData objects based on homologous Ensembl IDs\n",
    "    human_mask = human_adata.var['ensembl_id'].isin(human_homologs)\n",
    "    mouse_mask = mouse_adata.var['ensembl_id'].isin(mouse_homologs)\n",
    "\n",
    "    # Restrict both AnnData objects to homologous genes\n",
    "    human_restricted = human_adata[:, human_mask].copy()\n",
    "    mouse_restricted = mouse_adata[:, mouse_mask].copy()\n",
    "\n",
    "    # Initialize empty lists for indices where both human and mouse homologous genes exist\n",
    "    human_order = []\n",
    "    mouse_order = []\n",
    "\n",
    "    # Loop through the homologous pairs to ensure both human and mouse have the homologous gene\n",
    "    for human_id, mouse_id in zip(human_homologs, mouse_homologs):\n",
    "        if human_id in human_restricted.var['ensembl_id'].values and mouse_id in mouse_restricted.var['ensembl_id'].values:\n",
    "            # Get the index of the homologous gene in both human and mouse\n",
    "            human_idx = human_restricted.var['ensembl_id'].tolist().index(human_id)\n",
    "            mouse_idx = mouse_restricted.var['ensembl_id'].tolist().index(mouse_id)\n",
    "            \n",
    "            # Append the index if both human and mouse have the gene\n",
    "            human_order.append(human_idx)\n",
    "            mouse_order.append(mouse_idx)\n",
    "\n",
    "    # Reorder AnnData objects to match the homologous gene ordering\n",
    "    human_restricted = human_restricted[:, human_order].copy()\n",
    "    mouse_restricted = mouse_restricted[:, mouse_order].copy()\n",
    "\n",
    "    return human_restricted, mouse_restricted"
   ]
  },
  {
   "cell_type": "code",
   "execution_count": 74,
   "metadata": {},
   "outputs": [
    {
     "name": "stderr",
     "output_type": "stream",
     "text": [
      "/vast/palmer/home.mccleary/sr2464/.conda/envs/pyg_torch2.1/lib/python3.8/site-packages/anndata/_core/anndata.py:1830: UserWarning: Variable names are not unique. To make them unique, call `.var_names_make_unique`.\n",
      "  utils.warn_names_duplicates(\"var\")\n"
     ]
    }
   ],
   "source": [
    "human_restricted, mouse_restricted = restrict_to_homologous_genes(human_adata, mouse_adata, homology_df)"
   ]
  },
  {
   "cell_type": "code",
   "execution_count": 75,
   "metadata": {},
   "outputs": [
    {
     "data": {
      "text/plain": [
       "AnnData object with n_obs × n_vars = 1937 × 12113\n",
       "    obs: 'cell_barcodes', 'cell_manual_ids', 'cell_types', 'batch_sample', 'n_genes', 'n_genes_by_counts', 'total_counts', 'total_counts_mt', 'pct_counts_mt'\n",
       "    var: 'gene_name', 'n_cells', 'mt', 'n_cells_by_counts', 'mean_counts', 'pct_dropout_by_counts', 'total_counts', 'ensembl_id'\n",
       "    uns: 'cell_types_colors', 'log1p', 'neighbors', 'pca', 'umap'\n",
       "    obsm: 'X_pca', 'X_umap'\n",
       "    varm: 'PCs'\n",
       "    obsp: 'connectivities', 'distances'"
      ]
     },
     "execution_count": 75,
     "metadata": {},
     "output_type": "execute_result"
    }
   ],
   "source": [
    "human_restricted"
   ]
  },
  {
   "cell_type": "code",
   "execution_count": 76,
   "metadata": {},
   "outputs": [
    {
     "data": {
      "text/plain": [
       "AnnData object with n_obs × n_vars = 1886 × 12113\n",
       "    obs: 'cell_barcodes', 'cell_manual_ids', 'cell_types', 'batch_sample', 'n_genes', 'n_genes_by_counts', 'total_counts', 'total_counts_mt', 'pct_counts_mt'\n",
       "    var: 'gene_name', 'n_cells', 'mt', 'n_cells_by_counts', 'mean_counts', 'pct_dropout_by_counts', 'total_counts', 'ensembl_id'\n",
       "    uns: 'cell_types_colors', 'log1p', 'neighbors', 'pca', 'umap'\n",
       "    obsm: 'X_pca', 'X_umap'\n",
       "    varm: 'PCs'\n",
       "    obsp: 'connectivities', 'distances'"
      ]
     },
     "execution_count": 76,
     "metadata": {},
     "output_type": "execute_result"
    }
   ],
   "source": [
    "mouse_restricted"
   ]
  },
  {
   "cell_type": "code",
   "execution_count": 79,
   "metadata": {},
   "outputs": [
    {
     "data": {
      "text/html": [
       "<div>\n",
       "<style scoped>\n",
       "    .dataframe tbody tr th:only-of-type {\n",
       "        vertical-align: middle;\n",
       "    }\n",
       "\n",
       "    .dataframe tbody tr th {\n",
       "        vertical-align: top;\n",
       "    }\n",
       "\n",
       "    .dataframe thead th {\n",
       "        text-align: right;\n",
       "    }\n",
       "</style>\n",
       "<table border=\"1\" class=\"dataframe\">\n",
       "  <thead>\n",
       "    <tr style=\"text-align: right;\">\n",
       "      <th></th>\n",
       "      <th>gene_name</th>\n",
       "      <th>n_cells</th>\n",
       "      <th>mt</th>\n",
       "      <th>n_cells_by_counts</th>\n",
       "      <th>mean_counts</th>\n",
       "      <th>pct_dropout_by_counts</th>\n",
       "      <th>total_counts</th>\n",
       "      <th>ensembl_id</th>\n",
       "    </tr>\n",
       "  </thead>\n",
       "  <tbody>\n",
       "    <tr>\n",
       "      <th>EIF1AY</th>\n",
       "      <td>EIF1AY</td>\n",
       "      <td>1464</td>\n",
       "      <td>False</td>\n",
       "      <td>1464</td>\n",
       "      <td>0.217062</td>\n",
       "      <td>82.915159</td>\n",
       "      <td>1860.0</td>\n",
       "      <td>ENSG00000198692</td>\n",
       "    </tr>\n",
       "    <tr>\n",
       "      <th>COLEC12</th>\n",
       "      <td>COLEC12</td>\n",
       "      <td>9</td>\n",
       "      <td>False</td>\n",
       "      <td>9</td>\n",
       "      <td>0.001400</td>\n",
       "      <td>99.894970</td>\n",
       "      <td>12.0</td>\n",
       "      <td>ENSG00000158270</td>\n",
       "    </tr>\n",
       "    <tr>\n",
       "      <th>IMPA2</th>\n",
       "      <td>IMPA2</td>\n",
       "      <td>2425</td>\n",
       "      <td>False</td>\n",
       "      <td>2425</td>\n",
       "      <td>0.627728</td>\n",
       "      <td>71.700315</td>\n",
       "      <td>5379.0</td>\n",
       "      <td>ENSG00000141401</td>\n",
       "    </tr>\n",
       "    <tr>\n",
       "      <th>RAB31</th>\n",
       "      <td>RAB31</td>\n",
       "      <td>1780</td>\n",
       "      <td>False</td>\n",
       "      <td>1780</td>\n",
       "      <td>0.386976</td>\n",
       "      <td>79.227448</td>\n",
       "      <td>3316.0</td>\n",
       "      <td>ENSG00000168461</td>\n",
       "    </tr>\n",
       "    <tr>\n",
       "      <th>MED15</th>\n",
       "      <td>MED15</td>\n",
       "      <td>1781</td>\n",
       "      <td>False</td>\n",
       "      <td>1781</td>\n",
       "      <td>0.266309</td>\n",
       "      <td>79.215778</td>\n",
       "      <td>2282.0</td>\n",
       "      <td>ENSG00000099917</td>\n",
       "    </tr>\n",
       "    <tr>\n",
       "      <th>YES1</th>\n",
       "      <td>YES1</td>\n",
       "      <td>1510</td>\n",
       "      <td>False</td>\n",
       "      <td>1510</td>\n",
       "      <td>0.243902</td>\n",
       "      <td>82.378341</td>\n",
       "      <td>2090.0</td>\n",
       "      <td>ENSG00000176105</td>\n",
       "    </tr>\n",
       "    <tr>\n",
       "      <th>MAPRE2</th>\n",
       "      <td>MAPRE2</td>\n",
       "      <td>2320</td>\n",
       "      <td>False</td>\n",
       "      <td>2320</td>\n",
       "      <td>0.405998</td>\n",
       "      <td>72.925662</td>\n",
       "      <td>3479.0</td>\n",
       "      <td>ENSG00000166974</td>\n",
       "    </tr>\n",
       "    <tr>\n",
       "      <th>KLHL14</th>\n",
       "      <td>KLHL14</td>\n",
       "      <td>6</td>\n",
       "      <td>False</td>\n",
       "      <td>6</td>\n",
       "      <td>0.000700</td>\n",
       "      <td>99.929980</td>\n",
       "      <td>6.0</td>\n",
       "      <td>ENSG00000197705</td>\n",
       "    </tr>\n",
       "    <tr>\n",
       "      <th>ZFY</th>\n",
       "      <td>ZFY</td>\n",
       "      <td>194</td>\n",
       "      <td>False</td>\n",
       "      <td>194</td>\n",
       "      <td>0.027191</td>\n",
       "      <td>97.736025</td>\n",
       "      <td>233.0</td>\n",
       "      <td>ENSG00000067646</td>\n",
       "    </tr>\n",
       "    <tr>\n",
       "      <th>OSBP2</th>\n",
       "      <td>OSBP2</td>\n",
       "      <td>129</td>\n",
       "      <td>False</td>\n",
       "      <td>129</td>\n",
       "      <td>0.015988</td>\n",
       "      <td>98.494573</td>\n",
       "      <td>137.0</td>\n",
       "      <td>ENSG00000184792</td>\n",
       "    </tr>\n",
       "  </tbody>\n",
       "</table>\n",
       "</div>"
      ],
      "text/plain": [
       "        gene_name  n_cells     mt  n_cells_by_counts  mean_counts  \\\n",
       "EIF1AY     EIF1AY     1464  False               1464     0.217062   \n",
       "COLEC12   COLEC12        9  False                  9     0.001400   \n",
       "IMPA2       IMPA2     2425  False               2425     0.627728   \n",
       "RAB31       RAB31     1780  False               1780     0.386976   \n",
       "MED15       MED15     1781  False               1781     0.266309   \n",
       "YES1         YES1     1510  False               1510     0.243902   \n",
       "MAPRE2     MAPRE2     2320  False               2320     0.405998   \n",
       "KLHL14     KLHL14        6  False                  6     0.000700   \n",
       "ZFY           ZFY      194  False                194     0.027191   \n",
       "OSBP2       OSBP2      129  False                129     0.015988   \n",
       "\n",
       "         pct_dropout_by_counts  total_counts       ensembl_id  \n",
       "EIF1AY               82.915159        1860.0  ENSG00000198692  \n",
       "COLEC12              99.894970          12.0  ENSG00000158270  \n",
       "IMPA2                71.700315        5379.0  ENSG00000141401  \n",
       "RAB31                79.227448        3316.0  ENSG00000168461  \n",
       "MED15                79.215778        2282.0  ENSG00000099917  \n",
       "YES1                 82.378341        2090.0  ENSG00000176105  \n",
       "MAPRE2               72.925662        3479.0  ENSG00000166974  \n",
       "KLHL14               99.929980           6.0  ENSG00000197705  \n",
       "ZFY                  97.736025         233.0  ENSG00000067646  \n",
       "OSBP2                98.494573         137.0  ENSG00000184792  "
      ]
     },
     "execution_count": 79,
     "metadata": {},
     "output_type": "execute_result"
    }
   ],
   "source": [
    "human_restricted.var.head(10)"
   ]
  },
  {
   "cell_type": "code",
   "execution_count": 78,
   "metadata": {},
   "outputs": [
    {
     "data": {
      "text/html": [
       "<div>\n",
       "<style scoped>\n",
       "    .dataframe tbody tr th:only-of-type {\n",
       "        vertical-align: middle;\n",
       "    }\n",
       "\n",
       "    .dataframe tbody tr th {\n",
       "        vertical-align: top;\n",
       "    }\n",
       "\n",
       "    .dataframe thead th {\n",
       "        text-align: right;\n",
       "    }\n",
       "</style>\n",
       "<table border=\"1\" class=\"dataframe\">\n",
       "  <thead>\n",
       "    <tr style=\"text-align: right;\">\n",
       "      <th></th>\n",
       "      <th>gene_name</th>\n",
       "      <th>n_cells</th>\n",
       "      <th>mt</th>\n",
       "      <th>n_cells_by_counts</th>\n",
       "      <th>mean_counts</th>\n",
       "      <th>pct_dropout_by_counts</th>\n",
       "      <th>total_counts</th>\n",
       "      <th>ensembl_id</th>\n",
       "    </tr>\n",
       "  </thead>\n",
       "  <tbody>\n",
       "    <tr>\n",
       "      <th>EIF1A</th>\n",
       "      <td>EIF1A</td>\n",
       "      <td>468</td>\n",
       "      <td>False</td>\n",
       "      <td>468</td>\n",
       "      <td>0.363733</td>\n",
       "      <td>75.185578</td>\n",
       "      <td>686.0</td>\n",
       "      <td>ENSMUSG00000057561</td>\n",
       "    </tr>\n",
       "    <tr>\n",
       "      <th>COLEC12</th>\n",
       "      <td>COLEC12</td>\n",
       "      <td>5</td>\n",
       "      <td>False</td>\n",
       "      <td>5</td>\n",
       "      <td>0.002651</td>\n",
       "      <td>99.734889</td>\n",
       "      <td>5.0</td>\n",
       "      <td>ENSMUSG00000036103</td>\n",
       "    </tr>\n",
       "    <tr>\n",
       "      <th>IMPA2</th>\n",
       "      <td>IMPA2</td>\n",
       "      <td>30</td>\n",
       "      <td>False</td>\n",
       "      <td>30</td>\n",
       "      <td>0.021739</td>\n",
       "      <td>98.409332</td>\n",
       "      <td>41.0</td>\n",
       "      <td>ENSMUSG00000024525</td>\n",
       "    </tr>\n",
       "    <tr>\n",
       "      <th>RAB31</th>\n",
       "      <td>RAB31</td>\n",
       "      <td>110</td>\n",
       "      <td>False</td>\n",
       "      <td>110</td>\n",
       "      <td>0.085366</td>\n",
       "      <td>94.167550</td>\n",
       "      <td>161.0</td>\n",
       "      <td>ENSMUSG00000056515</td>\n",
       "    </tr>\n",
       "    <tr>\n",
       "      <th>MED15</th>\n",
       "      <td>MED15</td>\n",
       "      <td>247</td>\n",
       "      <td>False</td>\n",
       "      <td>247</td>\n",
       "      <td>0.167020</td>\n",
       "      <td>86.903499</td>\n",
       "      <td>315.0</td>\n",
       "      <td>ENSMUSG00000012114</td>\n",
       "    </tr>\n",
       "    <tr>\n",
       "      <th>YES1</th>\n",
       "      <td>YES1</td>\n",
       "      <td>130</td>\n",
       "      <td>False</td>\n",
       "      <td>130</td>\n",
       "      <td>0.086957</td>\n",
       "      <td>93.107105</td>\n",
       "      <td>164.0</td>\n",
       "      <td>ENSMUSG00000014932</td>\n",
       "    </tr>\n",
       "    <tr>\n",
       "      <th>MAPRE2</th>\n",
       "      <td>MAPRE2</td>\n",
       "      <td>626</td>\n",
       "      <td>False</td>\n",
       "      <td>626</td>\n",
       "      <td>0.693001</td>\n",
       "      <td>66.808059</td>\n",
       "      <td>1307.0</td>\n",
       "      <td>ENSMUSG00000024277</td>\n",
       "    </tr>\n",
       "    <tr>\n",
       "      <th>KLHL14</th>\n",
       "      <td>KLHL14</td>\n",
       "      <td>4</td>\n",
       "      <td>False</td>\n",
       "      <td>4</td>\n",
       "      <td>0.002651</td>\n",
       "      <td>99.787911</td>\n",
       "      <td>5.0</td>\n",
       "      <td>ENSMUSG00000042514</td>\n",
       "    </tr>\n",
       "    <tr>\n",
       "      <th>ZFX</th>\n",
       "      <td>ZFX</td>\n",
       "      <td>221</td>\n",
       "      <td>False</td>\n",
       "      <td>221</td>\n",
       "      <td>0.172853</td>\n",
       "      <td>88.282078</td>\n",
       "      <td>326.0</td>\n",
       "      <td>ENSMUSG00000079509</td>\n",
       "    </tr>\n",
       "    <tr>\n",
       "      <th>OSBP2</th>\n",
       "      <td>OSBP2</td>\n",
       "      <td>15</td>\n",
       "      <td>False</td>\n",
       "      <td>15</td>\n",
       "      <td>0.008484</td>\n",
       "      <td>99.204666</td>\n",
       "      <td>16.0</td>\n",
       "      <td>ENSMUSG00000020435</td>\n",
       "    </tr>\n",
       "  </tbody>\n",
       "</table>\n",
       "</div>"
      ],
      "text/plain": [
       "        gene_name  n_cells     mt  n_cells_by_counts  mean_counts  \\\n",
       "EIF1A       EIF1A      468  False                468     0.363733   \n",
       "COLEC12   COLEC12        5  False                  5     0.002651   \n",
       "IMPA2       IMPA2       30  False                 30     0.021739   \n",
       "RAB31       RAB31      110  False                110     0.085366   \n",
       "MED15       MED15      247  False                247     0.167020   \n",
       "YES1         YES1      130  False                130     0.086957   \n",
       "MAPRE2     MAPRE2      626  False                626     0.693001   \n",
       "KLHL14     KLHL14        4  False                  4     0.002651   \n",
       "ZFX           ZFX      221  False                221     0.172853   \n",
       "OSBP2       OSBP2       15  False                 15     0.008484   \n",
       "\n",
       "         pct_dropout_by_counts  total_counts          ensembl_id  \n",
       "EIF1A                75.185578         686.0  ENSMUSG00000057561  \n",
       "COLEC12              99.734889           5.0  ENSMUSG00000036103  \n",
       "IMPA2                98.409332          41.0  ENSMUSG00000024525  \n",
       "RAB31                94.167550         161.0  ENSMUSG00000056515  \n",
       "MED15                86.903499         315.0  ENSMUSG00000012114  \n",
       "YES1                 93.107105         164.0  ENSMUSG00000014932  \n",
       "MAPRE2               66.808059        1307.0  ENSMUSG00000024277  \n",
       "KLHL14               99.787911           5.0  ENSMUSG00000042514  \n",
       "ZFX                  88.282078         326.0  ENSMUSG00000079509  \n",
       "OSBP2                99.204666          16.0  ENSMUSG00000020435  "
      ]
     },
     "execution_count": 78,
     "metadata": {},
     "output_type": "execute_result"
    }
   ],
   "source": [
    "mouse_restricted.var.head(10)"
   ]
  },
  {
   "cell_type": "markdown",
   "metadata": {},
   "source": [
    "Quickly remake marker gene heatmaps to ensure that marker genes were not lost in homolog intersection"
   ]
  },
  {
   "cell_type": "code",
   "execution_count": 94,
   "metadata": {},
   "outputs": [],
   "source": [
    "human_restricted.var_names_make_unique()"
   ]
  },
  {
   "cell_type": "code",
   "execution_count": 95,
   "metadata": {},
   "outputs": [],
   "source": [
    "mouse_restricted.var_names_make_unique()"
   ]
  },
  {
   "cell_type": "code",
   "execution_count": 99,
   "metadata": {},
   "outputs": [],
   "source": [
    "human_marker_genes = ['GCG', 'INS', 'PPY', 'SST', 'GHRL', 'PRSS1', 'KRT19', 'SPARC', 'VWF', 'RGS5', 'PDGFRA', 'SOX10']  # , 'SDS', 'TPSAB1', 'TRAC'\n",
    "mouse_marker_genes = ['Gcg', 'Ins1', 'Ins2', 'Ppy', 'Sst', 'Krt19', 'Sparc', 'Pecam1', 'Rgs5', 'Pdgfra', 'Sox10', 'Ptprc', 'Flt3', 'Iglc3']  # , 'Lyz2', 'Trac'\n",
    "mouse_marker_genes = [gene_name.upper() for gene_name in mouse_marker_genes]"
   ]
  },
  {
   "cell_type": "code",
   "execution_count": 100,
   "metadata": {},
   "outputs": [
    {
     "name": "stdout",
     "output_type": "stream",
     "text": [
      "WARNING: dendrogram data not found (using key=dendrogram_cell_types). Running `sc.tl.dendrogram` with default parameters. For fine tuning it is recommended to run `sc.tl.dendrogram` independently.\n"
     ]
    },
    {
     "name": "stderr",
     "output_type": "stream",
     "text": [
      "/vast/palmer/home.mccleary/sr2464/.conda/envs/pyg_torch2.1/lib/python3.8/site-packages/scanpy/plotting/_anndata.py:2414: FutureWarning: iteritems is deprecated and will be removed in a future version. Use .items instead.\n",
      "  obs_tidy.index.value_counts(sort=False).iteritems()\n"
     ]
    },
    {
     "data": {
      "image/png": "[encoded data removed]",
      "text/plain": [
       "<Figure size 1000x309 with 4 Axes>"
      ]
     },
     "metadata": {},
     "output_type": "display_data"
    }
   ],
   "source": [
    "sc.pl.heatmap(\n",
    "    human_restricted, \n",
    "    human_marker_genes, \n",
    "    groupby='cell_types', \n",
    "    swap_axes=True,\n",
    "    dendrogram=True,\n",
    "    show=False\n",
    ")\n",
    "plt.savefig(\"/home/sr2464/palmer_scratch/C2S_Files_Syed/Cross_Species_Datasets/mouse_human_pancreas_tissue_Baron_et_al/processed_homolog_intersected_data/human_pancreas_one_sample_marker_gene_heatmap.png\",\n",
    "            facecolor=\"white\", bbox_inches=\"tight\", dpi=300)\n",
    "plt.show()\n",
    "plt.close()"
   ]
  },
  {
   "cell_type": "code",
   "execution_count": 101,
   "metadata": {},
   "outputs": [
    {
     "name": "stderr",
     "output_type": "stream",
     "text": [
      "/vast/palmer/home.mccleary/sr2464/.conda/envs/pyg_torch2.1/lib/python3.8/site-packages/scanpy/plotting/_anndata.py:2414: FutureWarning: iteritems is deprecated and will be removed in a future version. Use .items instead.\n",
      "  obs_tidy.index.value_counts(sort=False).iteritems()\n"
     ]
    },
    {
     "data": {
      "image/png": "[encoded data removed]",
      "text/plain": [
       "<Figure size 1000x265 with 3 Axes>"
      ]
     },
     "metadata": {},
     "output_type": "display_data"
    }
   ],
   "source": [
    "sc.pl.heatmap(\n",
    "    mouse_restricted, \n",
    "    mouse_marker_genes, \n",
    "    groupby='cell_types', \n",
    "    swap_axes=True,\n",
    "    # dendrogram=True,\n",
    "    show=False\n",
    ")\n",
    "plt.savefig(\"/home/sr2464/palmer_scratch/C2S_Files_Syed/Cross_Species_Datasets/mouse_human_pancreas_tissue_Baron_et_al/processed_homolog_intersected_data/mouse_pancreas_marker_gene_heatmap.png\",\n",
    "            facecolor=\"white\", bbox_inches=\"tight\", dpi=300)\n",
    "plt.show()\n",
    "plt.close()"
   ]
  },
  {
   "cell_type": "code",
   "execution_count": 102,
   "metadata": {},
   "outputs": [],
   "source": [
    "del human_restricted.uns\n",
    "del human_restricted.obsm\n",
    "del human_restricted.varm\n",
    "del human_restricted.obsp\n",
    "\n",
    "del mouse_restricted.uns\n",
    "del mouse_restricted.obsm\n",
    "del mouse_restricted.varm\n",
    "del mouse_restricted.obsp"
   ]
  },
  {
   "cell_type": "code",
   "execution_count": 103,
   "metadata": {},
   "outputs": [
    {
     "data": {
      "text/plain": [
       "AnnData object with n_obs × n_vars = 1937 × 12113\n",
       "    obs: 'cell_barcodes', 'cell_manual_ids', 'cell_types', 'batch_sample', 'n_genes', 'n_genes_by_counts', 'total_counts', 'total_counts_mt', 'pct_counts_mt'\n",
       "    var: 'gene_name', 'n_cells', 'mt', 'n_cells_by_counts', 'mean_counts', 'pct_dropout_by_counts', 'total_counts', 'ensembl_id'"
      ]
     },
     "execution_count": 103,
     "metadata": {},
     "output_type": "execute_result"
    }
   ],
   "source": [
    "human_restricted"
   ]
  },
  {
   "cell_type": "code",
   "execution_count": 104,
   "metadata": {},
   "outputs": [
    {
     "data": {
      "text/plain": [
       "AnnData object with n_obs × n_vars = 1886 × 12113\n",
       "    obs: 'cell_barcodes', 'cell_manual_ids', 'cell_types', 'batch_sample', 'n_genes', 'n_genes_by_counts', 'total_counts', 'total_counts_mt', 'pct_counts_mt'\n",
       "    var: 'gene_name', 'n_cells', 'mt', 'n_cells_by_counts', 'mean_counts', 'pct_dropout_by_counts', 'total_counts', 'ensembl_id'"
      ]
     },
     "execution_count": 104,
     "metadata": {},
     "output_type": "execute_result"
    }
   ],
   "source": [
    "mouse_restricted"
   ]
  },
  {
   "cell_type": "code",
   "execution_count": 105,
   "metadata": {},
   "outputs": [],
   "source": [
    "human_restricted.write_h5ad(\"/home/sr2464/palmer_scratch/C2S_Files_Syed/Cross_Species_Datasets/mouse_human_pancreas_tissue_Baron_et_al/processed_homolog_intersected_data/human_pancreas_one_sample_preprocessed_homolog_intersected_adata.h5ad\")\n",
    "mouse_restricted.write_h5ad(\"/home/sr2464/palmer_scratch/C2S_Files_Syed/Cross_Species_Datasets/mouse_human_pancreas_tissue_Baron_et_al/processed_homolog_intersected_data/mouse_pancreas_preprocessed_homolog_intersected_adata.h5ad\")"
   ]
  },
  {
   "cell_type": "code",
   "execution_count": 137,
   "metadata": {},
   "outputs": [],
   "source": [
    "human_restricted = anndata.read_h5ad(\"/home/sr2464/palmer_scratch/C2S_Files_Syed/Cross_Species_Datasets/mouse_human_pancreas_tissue_Baron_et_al/processed_homolog_intersected_data/human_pancreas_one_sample_preprocessed_homolog_intersected_adata.h5ad\")\n",
    "mouse_restricted = anndata.read_h5ad(\"/home/sr2464/palmer_scratch/C2S_Files_Syed/Cross_Species_Datasets/mouse_human_pancreas_tissue_Baron_et_al/processed_homolog_intersected_data/mouse_pancreas_preprocessed_homolog_intersected_adata.h5ad\")"
   ]
  },
  {
   "cell_type": "markdown",
   "metadata": {},
   "source": [
    "# Create cross-species AnnData object"
   ]
  },
  {
   "cell_type": "code",
   "execution_count": 138,
   "metadata": {},
   "outputs": [
    {
     "name": "stdout",
     "output_type": "stream",
     "text": [
      "(12113, 5)\n"
     ]
    },
    {
     "data": {
      "text/html": [
       "<div>\n",
       "<style scoped>\n",
       "    .dataframe tbody tr th:only-of-type {\n",
       "        vertical-align: middle;\n",
       "    }\n",
       "\n",
       "    .dataframe tbody tr th {\n",
       "        vertical-align: top;\n",
       "    }\n",
       "\n",
       "    .dataframe thead th {\n",
       "        text-align: right;\n",
       "    }\n",
       "</style>\n",
       "<table border=\"1\" class=\"dataframe\">\n",
       "  <thead>\n",
       "    <tr style=\"text-align: right;\">\n",
       "      <th></th>\n",
       "      <th>homolog_pair_idx</th>\n",
       "      <th>human_gene_name</th>\n",
       "      <th>mouse_gene_name</th>\n",
       "      <th>human_gene_ensembl_id</th>\n",
       "      <th>mouse_gene_ensembl_id</th>\n",
       "    </tr>\n",
       "  </thead>\n",
       "  <tbody>\n",
       "    <tr>\n",
       "      <th>homolog_pair_0</th>\n",
       "      <td>homolog_pair_0</td>\n",
       "      <td>EIF1AY</td>\n",
       "      <td>EIF1A</td>\n",
       "      <td>ENSG00000198692</td>\n",
       "      <td>ENSMUSG00000057561</td>\n",
       "    </tr>\n",
       "    <tr>\n",
       "      <th>homolog_pair_1</th>\n",
       "      <td>homolog_pair_1</td>\n",
       "      <td>COLEC12</td>\n",
       "      <td>COLEC12</td>\n",
       "      <td>ENSG00000158270</td>\n",
       "      <td>ENSMUSG00000036103</td>\n",
       "    </tr>\n",
       "    <tr>\n",
       "      <th>homolog_pair_2</th>\n",
       "      <td>homolog_pair_2</td>\n",
       "      <td>IMPA2</td>\n",
       "      <td>IMPA2</td>\n",
       "      <td>ENSG00000141401</td>\n",
       "      <td>ENSMUSG00000024525</td>\n",
       "    </tr>\n",
       "    <tr>\n",
       "      <th>homolog_pair_3</th>\n",
       "      <td>homolog_pair_3</td>\n",
       "      <td>RAB31</td>\n",
       "      <td>RAB31</td>\n",
       "      <td>ENSG00000168461</td>\n",
       "      <td>ENSMUSG00000056515</td>\n",
       "    </tr>\n",
       "    <tr>\n",
       "      <th>homolog_pair_4</th>\n",
       "      <td>homolog_pair_4</td>\n",
       "      <td>MED15</td>\n",
       "      <td>MED15</td>\n",
       "      <td>ENSG00000099917</td>\n",
       "      <td>ENSMUSG00000012114</td>\n",
       "    </tr>\n",
       "    <tr>\n",
       "      <th>homolog_pair_5</th>\n",
       "      <td>homolog_pair_5</td>\n",
       "      <td>YES1</td>\n",
       "      <td>YES1</td>\n",
       "      <td>ENSG00000176105</td>\n",
       "      <td>ENSMUSG00000014932</td>\n",
       "    </tr>\n",
       "    <tr>\n",
       "      <th>homolog_pair_6</th>\n",
       "      <td>homolog_pair_6</td>\n",
       "      <td>MAPRE2</td>\n",
       "      <td>MAPRE2</td>\n",
       "      <td>ENSG00000166974</td>\n",
       "      <td>ENSMUSG00000024277</td>\n",
       "    </tr>\n",
       "    <tr>\n",
       "      <th>homolog_pair_7</th>\n",
       "      <td>homolog_pair_7</td>\n",
       "      <td>KLHL14</td>\n",
       "      <td>KLHL14</td>\n",
       "      <td>ENSG00000197705</td>\n",
       "      <td>ENSMUSG00000042514</td>\n",
       "    </tr>\n",
       "    <tr>\n",
       "      <th>homolog_pair_8</th>\n",
       "      <td>homolog_pair_8</td>\n",
       "      <td>ZFY</td>\n",
       "      <td>ZFX</td>\n",
       "      <td>ENSG00000067646</td>\n",
       "      <td>ENSMUSG00000079509</td>\n",
       "    </tr>\n",
       "    <tr>\n",
       "      <th>homolog_pair_9</th>\n",
       "      <td>homolog_pair_9</td>\n",
       "      <td>OSBP2</td>\n",
       "      <td>OSBP2</td>\n",
       "      <td>ENSG00000184792</td>\n",
       "      <td>ENSMUSG00000020435</td>\n",
       "    </tr>\n",
       "  </tbody>\n",
       "</table>\n",
       "</div>"
      ],
      "text/plain": [
       "               homolog_pair_idx human_gene_name mouse_gene_name  \\\n",
       "homolog_pair_0   homolog_pair_0          EIF1AY           EIF1A   \n",
       "homolog_pair_1   homolog_pair_1         COLEC12         COLEC12   \n",
       "homolog_pair_2   homolog_pair_2           IMPA2           IMPA2   \n",
       "homolog_pair_3   homolog_pair_3           RAB31           RAB31   \n",
       "homolog_pair_4   homolog_pair_4           MED15           MED15   \n",
       "homolog_pair_5   homolog_pair_5            YES1            YES1   \n",
       "homolog_pair_6   homolog_pair_6          MAPRE2          MAPRE2   \n",
       "homolog_pair_7   homolog_pair_7          KLHL14          KLHL14   \n",
       "homolog_pair_8   homolog_pair_8             ZFY             ZFX   \n",
       "homolog_pair_9   homolog_pair_9           OSBP2           OSBP2   \n",
       "\n",
       "               human_gene_ensembl_id mouse_gene_ensembl_id  \n",
       "homolog_pair_0       ENSG00000198692    ENSMUSG00000057561  \n",
       "homolog_pair_1       ENSG00000158270    ENSMUSG00000036103  \n",
       "homolog_pair_2       ENSG00000141401    ENSMUSG00000024525  \n",
       "homolog_pair_3       ENSG00000168461    ENSMUSG00000056515  \n",
       "homolog_pair_4       ENSG00000099917    ENSMUSG00000012114  \n",
       "homolog_pair_5       ENSG00000176105    ENSMUSG00000014932  \n",
       "homolog_pair_6       ENSG00000166974    ENSMUSG00000024277  \n",
       "homolog_pair_7       ENSG00000197705    ENSMUSG00000042514  \n",
       "homolog_pair_8       ENSG00000067646    ENSMUSG00000079509  \n",
       "homolog_pair_9       ENSG00000184792    ENSMUSG00000020435  "
      ]
     },
     "execution_count": 138,
     "metadata": {},
     "output_type": "execute_result"
    }
   ],
   "source": [
    "homolog_pair_df_index = [f\"homolog_pair_{idx}\" for idx in range(human_restricted.var.shape[0])]\n",
    "var_df = pd.DataFrame({\n",
    "    \"homolog_pair_idx\": homolog_pair_df_index,\n",
    "    \"human_gene_name\": human_restricted.var[\"gene_name\"].tolist(),\n",
    "    \"mouse_gene_name\": mouse_restricted.var[\"gene_name\"].tolist(),\n",
    "    \"human_gene_ensembl_id\": human_restricted.var[\"ensembl_id\"].tolist(),\n",
    "    \"mouse_gene_ensembl_id\": mouse_restricted.var[\"ensembl_id\"].tolist(),\n",
    "}, index=homolog_pair_df_index)\n",
    "print(var_df.shape)\n",
    "var_df.head(10)"
   ]
  },
  {
   "cell_type": "code",
   "execution_count": 139,
   "metadata": {},
   "outputs": [],
   "source": [
    "del human_restricted.var\n",
    "del mouse_restricted.var"
   ]
  },
  {
   "cell_type": "code",
   "execution_count": 140,
   "metadata": {},
   "outputs": [],
   "source": [
    "human_restricted.var = var_df\n",
    "human_restricted.var_names = var_df.index.tolist()\n",
    "mouse_restricted.var = var_df\n",
    "mouse_restricted.var_names = var_df.index.tolist()"
   ]
  },
  {
   "cell_type": "code",
   "execution_count": 141,
   "metadata": {},
   "outputs": [
    {
     "data": {
      "text/plain": [
       "AnnData object with n_obs × n_vars = 1937 × 12113\n",
       "    obs: 'cell_barcodes', 'cell_manual_ids', 'cell_types', 'batch_sample', 'n_genes', 'n_genes_by_counts', 'total_counts', 'total_counts_mt', 'pct_counts_mt'\n",
       "    var: 'homolog_pair_idx', 'human_gene_name', 'mouse_gene_name', 'human_gene_ensembl_id', 'mouse_gene_ensembl_id'"
      ]
     },
     "execution_count": 141,
     "metadata": {},
     "output_type": "execute_result"
    }
   ],
   "source": [
    "human_restricted"
   ]
  },
  {
   "cell_type": "code",
   "execution_count": 142,
   "metadata": {},
   "outputs": [
    {
     "data": {
      "text/plain": [
       "AnnData object with n_obs × n_vars = 1886 × 12113\n",
       "    obs: 'cell_barcodes', 'cell_manual_ids', 'cell_types', 'batch_sample', 'n_genes', 'n_genes_by_counts', 'total_counts', 'total_counts_mt', 'pct_counts_mt'\n",
       "    var: 'homolog_pair_idx', 'human_gene_name', 'mouse_gene_name', 'human_gene_ensembl_id', 'mouse_gene_ensembl_id'"
      ]
     },
     "execution_count": 142,
     "metadata": {},
     "output_type": "execute_result"
    }
   ],
   "source": [
    "mouse_restricted"
   ]
  },
  {
   "cell_type": "code",
   "execution_count": 147,
   "metadata": {},
   "outputs": [
    {
     "data": {
      "text/plain": [
       "AnnData object with n_obs × n_vars = 3823 × 12113\n",
       "    obs: 'cell_barcodes', 'cell_manual_ids', 'cell_types', 'batch_sample', 'n_genes', 'n_genes_by_counts', 'total_counts', 'total_counts_mt', 'pct_counts_mt'\n",
       "    var: 'homolog_pair_idx', 'human_gene_name', 'mouse_gene_name', 'human_gene_ensembl_id', 'mouse_gene_ensembl_id'"
      ]
     },
     "execution_count": 147,
     "metadata": {},
     "output_type": "execute_result"
    }
   ],
   "source": [
    "human_mouse_adata = anndata.concat([human_restricted, mouse_restricted], axis=0)\n",
    "human_mouse_adata.var = var_df\n",
    "human_mouse_adata"
   ]
  },
  {
   "cell_type": "code",
   "execution_count": 148,
   "metadata": {},
   "outputs": [
    {
     "data": {
      "text/html": [
       "<div>\n",
       "<style scoped>\n",
       "    .dataframe tbody tr th:only-of-type {\n",
       "        vertical-align: middle;\n",
       "    }\n",
       "\n",
       "    .dataframe tbody tr th {\n",
       "        vertical-align: top;\n",
       "    }\n",
       "\n",
       "    .dataframe thead th {\n",
       "        text-align: right;\n",
       "    }\n",
       "</style>\n",
       "<table border=\"1\" class=\"dataframe\">\n",
       "  <thead>\n",
       "    <tr style=\"text-align: right;\">\n",
       "      <th></th>\n",
       "      <th>homolog_pair_idx</th>\n",
       "      <th>human_gene_name</th>\n",
       "      <th>mouse_gene_name</th>\n",
       "      <th>human_gene_ensembl_id</th>\n",
       "      <th>mouse_gene_ensembl_id</th>\n",
       "    </tr>\n",
       "  </thead>\n",
       "  <tbody>\n",
       "    <tr>\n",
       "      <th>homolog_pair_0</th>\n",
       "      <td>homolog_pair_0</td>\n",
       "      <td>EIF1AY</td>\n",
       "      <td>EIF1A</td>\n",
       "      <td>ENSG00000198692</td>\n",
       "      <td>ENSMUSG00000057561</td>\n",
       "    </tr>\n",
       "    <tr>\n",
       "      <th>homolog_pair_1</th>\n",
       "      <td>homolog_pair_1</td>\n",
       "      <td>COLEC12</td>\n",
       "      <td>COLEC12</td>\n",
       "      <td>ENSG00000158270</td>\n",
       "      <td>ENSMUSG00000036103</td>\n",
       "    </tr>\n",
       "    <tr>\n",
       "      <th>homolog_pair_2</th>\n",
       "      <td>homolog_pair_2</td>\n",
       "      <td>IMPA2</td>\n",
       "      <td>IMPA2</td>\n",
       "      <td>ENSG00000141401</td>\n",
       "      <td>ENSMUSG00000024525</td>\n",
       "    </tr>\n",
       "    <tr>\n",
       "      <th>homolog_pair_3</th>\n",
       "      <td>homolog_pair_3</td>\n",
       "      <td>RAB31</td>\n",
       "      <td>RAB31</td>\n",
       "      <td>ENSG00000168461</td>\n",
       "      <td>ENSMUSG00000056515</td>\n",
       "    </tr>\n",
       "    <tr>\n",
       "      <th>homolog_pair_4</th>\n",
       "      <td>homolog_pair_4</td>\n",
       "      <td>MED15</td>\n",
       "      <td>MED15</td>\n",
       "      <td>ENSG00000099917</td>\n",
       "      <td>ENSMUSG00000012114</td>\n",
       "    </tr>\n",
       "    <tr>\n",
       "      <th>homolog_pair_5</th>\n",
       "      <td>homolog_pair_5</td>\n",
       "      <td>YES1</td>\n",
       "      <td>YES1</td>\n",
       "      <td>ENSG00000176105</td>\n",
       "      <td>ENSMUSG00000014932</td>\n",
       "    </tr>\n",
       "    <tr>\n",
       "      <th>homolog_pair_6</th>\n",
       "      <td>homolog_pair_6</td>\n",
       "      <td>MAPRE2</td>\n",
       "      <td>MAPRE2</td>\n",
       "      <td>ENSG00000166974</td>\n",
       "      <td>ENSMUSG00000024277</td>\n",
       "    </tr>\n",
       "    <tr>\n",
       "      <th>homolog_pair_7</th>\n",
       "      <td>homolog_pair_7</td>\n",
       "      <td>KLHL14</td>\n",
       "      <td>KLHL14</td>\n",
       "      <td>ENSG00000197705</td>\n",
       "      <td>ENSMUSG00000042514</td>\n",
       "    </tr>\n",
       "    <tr>\n",
       "      <th>homolog_pair_8</th>\n",
       "      <td>homolog_pair_8</td>\n",
       "      <td>ZFY</td>\n",
       "      <td>ZFX</td>\n",
       "      <td>ENSG00000067646</td>\n",
       "      <td>ENSMUSG00000079509</td>\n",
       "    </tr>\n",
       "    <tr>\n",
       "      <th>homolog_pair_9</th>\n",
       "      <td>homolog_pair_9</td>\n",
       "      <td>OSBP2</td>\n",
       "      <td>OSBP2</td>\n",
       "      <td>ENSG00000184792</td>\n",
       "      <td>ENSMUSG00000020435</td>\n",
       "    </tr>\n",
       "  </tbody>\n",
       "</table>\n",
       "</div>"
      ],
      "text/plain": [
       "               homolog_pair_idx human_gene_name mouse_gene_name  \\\n",
       "homolog_pair_0   homolog_pair_0          EIF1AY           EIF1A   \n",
       "homolog_pair_1   homolog_pair_1         COLEC12         COLEC12   \n",
       "homolog_pair_2   homolog_pair_2           IMPA2           IMPA2   \n",
       "homolog_pair_3   homolog_pair_3           RAB31           RAB31   \n",
       "homolog_pair_4   homolog_pair_4           MED15           MED15   \n",
       "homolog_pair_5   homolog_pair_5            YES1            YES1   \n",
       "homolog_pair_6   homolog_pair_6          MAPRE2          MAPRE2   \n",
       "homolog_pair_7   homolog_pair_7          KLHL14          KLHL14   \n",
       "homolog_pair_8   homolog_pair_8             ZFY             ZFX   \n",
       "homolog_pair_9   homolog_pair_9           OSBP2           OSBP2   \n",
       "\n",
       "               human_gene_ensembl_id mouse_gene_ensembl_id  \n",
       "homolog_pair_0       ENSG00000198692    ENSMUSG00000057561  \n",
       "homolog_pair_1       ENSG00000158270    ENSMUSG00000036103  \n",
       "homolog_pair_2       ENSG00000141401    ENSMUSG00000024525  \n",
       "homolog_pair_3       ENSG00000168461    ENSMUSG00000056515  \n",
       "homolog_pair_4       ENSG00000099917    ENSMUSG00000012114  \n",
       "homolog_pair_5       ENSG00000176105    ENSMUSG00000014932  \n",
       "homolog_pair_6       ENSG00000166974    ENSMUSG00000024277  \n",
       "homolog_pair_7       ENSG00000197705    ENSMUSG00000042514  \n",
       "homolog_pair_8       ENSG00000067646    ENSMUSG00000079509  \n",
       "homolog_pair_9       ENSG00000184792    ENSMUSG00000020435  "
      ]
     },
     "execution_count": 148,
     "metadata": {},
     "output_type": "execute_result"
    }
   ],
   "source": [
    "human_mouse_adata.var.head(10)"
   ]
  },
  {
   "cell_type": "markdown",
   "metadata": {},
   "source": [
    "# Joint UMAP"
   ]
  },
  {
   "cell_type": "code",
   "execution_count": 149,
   "metadata": {},
   "outputs": [
    {
     "data": {
      "text/plain": [
       "AnnData object with n_obs × n_vars = 3823 × 12113\n",
       "    obs: 'cell_barcodes', 'cell_manual_ids', 'cell_types', 'batch_sample', 'n_genes', 'n_genes_by_counts', 'total_counts', 'total_counts_mt', 'pct_counts_mt'\n",
       "    var: 'homolog_pair_idx', 'human_gene_name', 'mouse_gene_name', 'human_gene_ensembl_id', 'mouse_gene_ensembl_id'"
      ]
     },
     "execution_count": 149,
     "metadata": {},
     "output_type": "execute_result"
    }
   ],
   "source": [
    "human_mouse_adata"
   ]
  },
  {
   "cell_type": "code",
   "execution_count": 150,
   "metadata": {},
   "outputs": [],
   "source": [
    "sc.tl.pca(human_mouse_adata)"
   ]
  },
  {
   "cell_type": "code",
   "execution_count": 151,
   "metadata": {},
   "outputs": [
    {
     "name": "stderr",
     "output_type": "stream",
     "text": [
      "/vast/palmer/home.mccleary/sr2464/.conda/envs/pyg_torch2.1/lib/python3.8/site-packages/tqdm/auto.py:21: TqdmWarning: IProgress not found. Please update jupyter and ipywidgets. See https://ipywidgets.readthedocs.io/en/stable/user_install.html\n",
      "  from .autonotebook import tqdm as notebook_tqdm\n"
     ]
    }
   ],
   "source": [
    "sc.pp.neighbors(human_mouse_adata)"
   ]
  },
  {
   "cell_type": "code",
   "execution_count": 152,
   "metadata": {},
   "outputs": [],
   "source": [
    "sc.tl.umap(human_mouse_adata)"
   ]
  },
  {
   "cell_type": "code",
   "execution_count": 153,
   "metadata": {},
   "outputs": [
    {
     "data": {
      "text/plain": [
       "AnnData object with n_obs × n_vars = 3823 × 12113\n",
       "    obs: 'cell_barcodes', 'cell_manual_ids', 'cell_types', 'batch_sample', 'n_genes', 'n_genes_by_counts', 'total_counts', 'total_counts_mt', 'pct_counts_mt'\n",
       "    var: 'homolog_pair_idx', 'human_gene_name', 'mouse_gene_name', 'human_gene_ensembl_id', 'mouse_gene_ensembl_id'\n",
       "    uns: 'pca', 'neighbors', 'umap'\n",
       "    obsm: 'X_pca', 'X_umap'\n",
       "    varm: 'PCs'\n",
       "    obsp: 'distances', 'connectivities'"
      ]
     },
     "execution_count": 153,
     "metadata": {},
     "output_type": "execute_result"
    }
   ],
   "source": [
    "human_mouse_adata"
   ]
  },
  {
   "cell_type": "code",
   "execution_count": 155,
   "metadata": {},
   "outputs": [
    {
     "name": "stderr",
     "output_type": "stream",
     "text": [
      "/vast/palmer/home.mccleary/sr2464/.conda/envs/pyg_torch2.1/lib/python3.8/site-packages/scanpy/plotting/_tools/scatterplots.py:392: UserWarning: No data for colormapping provided via 'c'. Parameters 'cmap' will be ignored\n",
      "  cax = scatter(\n"
     ]
    },
    {
     "data": {
      "image/png": "[encoded data removed]",
      "text/plain": [
       "<Figure size 640x480 with 1 Axes>"
      ]
     },
     "metadata": {},
     "output_type": "display_data"
    }
   ],
   "source": [
    "sc.pl.umap(\n",
    "    human_mouse_adata,\n",
    "    color=\"cell_types\",\n",
    "    # Setting a smaller point size to get prevent overlap\n",
    "    size=8,\n",
    "    title=\"Human-Mouse Pancreas Tissue UMAP\",\n",
    "    show=False\n",
    ")\n",
    "plt.savefig(\"/home/sr2464/palmer_scratch/C2S_Files_Syed/Cross_Species_Datasets/mouse_human_pancreas_tissue_Baron_et_al/processed_homolog_intersected_data/human_mouse_joint_umap.png\",\n",
    "            facecolor=\"white\", bbox_inches=\"tight\", dpi=300)\n",
    "plt.show()\n",
    "plt.close()"
   ]
  },
  {
   "cell_type": "code",
   "execution_count": 156,
   "metadata": {},
   "outputs": [
    {
     "data": {
      "text/html": [
       "<div>\n",
       "<style scoped>\n",
       "    .dataframe tbody tr th:only-of-type {\n",
       "        vertical-align: middle;\n",
       "    }\n",
       "\n",
       "    .dataframe tbody tr th {\n",
       "        vertical-align: top;\n",
       "    }\n",
       "\n",
       "    .dataframe thead th {\n",
       "        text-align: right;\n",
       "    }\n",
       "</style>\n",
       "<table border=\"1\" class=\"dataframe\">\n",
       "  <thead>\n",
       "    <tr style=\"text-align: right;\">\n",
       "      <th></th>\n",
       "      <th>cell_barcodes</th>\n",
       "      <th>cell_manual_ids</th>\n",
       "      <th>cell_types</th>\n",
       "      <th>batch_sample</th>\n",
       "      <th>n_genes</th>\n",
       "      <th>n_genes_by_counts</th>\n",
       "      <th>total_counts</th>\n",
       "      <th>total_counts_mt</th>\n",
       "      <th>pct_counts_mt</th>\n",
       "    </tr>\n",
       "  </thead>\n",
       "  <tbody>\n",
       "    <tr>\n",
       "      <th>human1_lib1.final_cell_0001</th>\n",
       "      <td>GATGACGGAC-GGTGGGAT</td>\n",
       "      <td>human1_lib1.final_cell_0001</td>\n",
       "      <td>acinar</td>\n",
       "      <td>GSM2230757_human1_umifm_counts</td>\n",
       "      <td>3526</td>\n",
       "      <td>3526</td>\n",
       "      <td>22412.0</td>\n",
       "      <td>0.0</td>\n",
       "      <td>0.0</td>\n",
       "    </tr>\n",
       "    <tr>\n",
       "      <th>human1_lib1.final_cell_0002</th>\n",
       "      <td>GAGCGTTGCT-ACCTTCTT</td>\n",
       "      <td>human1_lib1.final_cell_0002</td>\n",
       "      <td>acinar</td>\n",
       "      <td>GSM2230757_human1_umifm_counts</td>\n",
       "      <td>4201</td>\n",
       "      <td>4201</td>\n",
       "      <td>27953.0</td>\n",
       "      <td>0.0</td>\n",
       "      <td>0.0</td>\n",
       "    </tr>\n",
       "    <tr>\n",
       "      <th>human1_lib1.final_cell_0003</th>\n",
       "      <td>CTTACGGG-CCATTACT</td>\n",
       "      <td>human1_lib1.final_cell_0003</td>\n",
       "      <td>acinar</td>\n",
       "      <td>GSM2230757_human1_umifm_counts</td>\n",
       "      <td>2119</td>\n",
       "      <td>2118</td>\n",
       "      <td>16894.0</td>\n",
       "      <td>0.0</td>\n",
       "      <td>0.0</td>\n",
       "    </tr>\n",
       "    <tr>\n",
       "      <th>human1_lib1.final_cell_0004</th>\n",
       "      <td>GATGTACACG-TTAAACTG</td>\n",
       "      <td>human1_lib1.final_cell_0004</td>\n",
       "      <td>acinar</td>\n",
       "      <td>GSM2230757_human1_umifm_counts</td>\n",
       "      <td>2956</td>\n",
       "      <td>2956</td>\n",
       "      <td>19300.0</td>\n",
       "      <td>0.0</td>\n",
       "      <td>0.0</td>\n",
       "    </tr>\n",
       "    <tr>\n",
       "      <th>human1_lib1.final_cell_0005</th>\n",
       "      <td>GAGATTGCGA-GTCGTCGT</td>\n",
       "      <td>human1_lib1.final_cell_0005</td>\n",
       "      <td>acinar</td>\n",
       "      <td>GSM2230757_human1_umifm_counts</td>\n",
       "      <td>2715</td>\n",
       "      <td>2715</td>\n",
       "      <td>15067.0</td>\n",
       "      <td>0.0</td>\n",
       "      <td>0.0</td>\n",
       "    </tr>\n",
       "  </tbody>\n",
       "</table>\n",
       "</div>"
      ],
      "text/plain": [
       "                                   cell_barcodes              cell_manual_ids  \\\n",
       "human1_lib1.final_cell_0001  GATGACGGAC-GGTGGGAT  human1_lib1.final_cell_0001   \n",
       "human1_lib1.final_cell_0002  GAGCGTTGCT-ACCTTCTT  human1_lib1.final_cell_0002   \n",
       "human1_lib1.final_cell_0003    CTTACGGG-CCATTACT  human1_lib1.final_cell_0003   \n",
       "human1_lib1.final_cell_0004  GATGTACACG-TTAAACTG  human1_lib1.final_cell_0004   \n",
       "human1_lib1.final_cell_0005  GAGATTGCGA-GTCGTCGT  human1_lib1.final_cell_0005   \n",
       "\n",
       "                            cell_types                    batch_sample  \\\n",
       "human1_lib1.final_cell_0001     acinar  GSM2230757_human1_umifm_counts   \n",
       "human1_lib1.final_cell_0002     acinar  GSM2230757_human1_umifm_counts   \n",
       "human1_lib1.final_cell_0003     acinar  GSM2230757_human1_umifm_counts   \n",
       "human1_lib1.final_cell_0004     acinar  GSM2230757_human1_umifm_counts   \n",
       "human1_lib1.final_cell_0005     acinar  GSM2230757_human1_umifm_counts   \n",
       "\n",
       "                             n_genes  n_genes_by_counts  total_counts  \\\n",
       "human1_lib1.final_cell_0001     3526               3526       22412.0   \n",
       "human1_lib1.final_cell_0002     4201               4201       27953.0   \n",
       "human1_lib1.final_cell_0003     2119               2118       16894.0   \n",
       "human1_lib1.final_cell_0004     2956               2956       19300.0   \n",
       "human1_lib1.final_cell_0005     2715               2715       15067.0   \n",
       "\n",
       "                             total_counts_mt  pct_counts_mt  \n",
       "human1_lib1.final_cell_0001              0.0            0.0  \n",
       "human1_lib1.final_cell_0002              0.0            0.0  \n",
       "human1_lib1.final_cell_0003              0.0            0.0  \n",
       "human1_lib1.final_cell_0004              0.0            0.0  \n",
       "human1_lib1.final_cell_0005              0.0            0.0  "
      ]
     },
     "execution_count": 156,
     "metadata": {},
     "output_type": "execute_result"
    }
   ],
   "source": [
    "human_mouse_adata.obs.head()"
   ]
  },
  {
   "cell_type": "code",
   "execution_count": 167,
   "metadata": {},
   "outputs": [],
   "source": [
    "species_cell_type_label = []\n",
    "species_label_list = []\n",
    "for idx in range(human_mouse_adata.obs.shape[0]):\n",
    "    obs_row = human_mouse_adata.obs.iloc[idx]\n",
    "    species_label = str(human_mouse_adata.obs.index.tolist()[idx])\n",
    "    species_label = species_label.split(\"_\")[0][:-1]\n",
    "    cell_type_label = obs_row[\"cell_types\"]\n",
    "    species_cell_type_label.append(species_label + \"_\" + cell_type_label)\n",
    "    species_label_list.append(species_label)"
   ]
  },
  {
   "cell_type": "code",
   "execution_count": 169,
   "metadata": {},
   "outputs": [
    {
     "name": "stdout",
     "output_type": "stream",
     "text": [
      "3823\n",
      "3823\n"
     ]
    }
   ],
   "source": [
    "print(len(species_cell_type_label))\n",
    "print(len(species_label_list))"
   ]
  },
  {
   "cell_type": "code",
   "execution_count": 170,
   "metadata": {},
   "outputs": [],
   "source": [
    "human_mouse_adata.obs[\"species_cell_type_label\"] = species_cell_type_label\n",
    "human_mouse_adata.obs[\"species_label\"] = species_label_list"
   ]
  },
  {
   "cell_type": "code",
   "execution_count": 176,
   "metadata": {},
   "outputs": [
    {
     "name": "stderr",
     "output_type": "stream",
     "text": [
      "/vast/palmer/home.mccleary/sr2464/.conda/envs/pyg_torch2.1/lib/python3.8/site-packages/scanpy/plotting/_tools/scatterplots.py:392: UserWarning: No data for colormapping provided via 'c'. Parameters 'cmap' will be ignored\n",
      "  cax = scatter(\n"
     ]
    },
    {
     "data": {
      "image/png": "[encoded data removed]",
      "text/plain": [
       "<Figure size 640x480 with 1 Axes>"
      ]
     },
     "metadata": {},
     "output_type": "display_data"
    }
   ],
   "source": [
    "sc.pl.umap(\n",
    "    human_mouse_adata,\n",
    "    color=\"species_label\",\n",
    "    # Setting a smaller point size to get prevent overlap\n",
    "    size=8,\n",
    "    title=\"Human & Mouse Pancreas Joint UMAP\\nHomologous Gene Feature Space\",\n",
    "    show=False\n",
    ")\n",
    "plt.savefig(\"/home/sr2464/palmer_scratch/C2S_Files_Syed/Cross_Species_Datasets/mouse_human_pancreas_tissue_Baron_et_al/processed_homolog_intersected_data/human_mouse_joint_umap_color_species.png\",\n",
    "            facecolor=\"white\", bbox_inches=\"tight\", dpi=300)\n",
    "plt.show()\n",
    "plt.close()"
   ]
  },
  {
   "cell_type": "code",
   "execution_count": 177,
   "metadata": {},
   "outputs": [
    {
     "name": "stderr",
     "output_type": "stream",
     "text": [
      "/vast/palmer/home.mccleary/sr2464/.conda/envs/pyg_torch2.1/lib/python3.8/site-packages/scanpy/plotting/_tools/scatterplots.py:392: UserWarning: No data for colormapping provided via 'c'. Parameters 'cmap' will be ignored\n",
      "  cax = scatter(\n"
     ]
    },
    {
     "data": {
      "image/png": "[encoded data removed]",
      "text/plain": [
       "<Figure size 640x480 with 1 Axes>"
      ]
     },
     "metadata": {},
     "output_type": "display_data"
    }
   ],
   "source": [
    "sc.pl.umap(\n",
    "    human_mouse_adata,\n",
    "    color=\"cell_types\",\n",
    "    # Setting a smaller point size to get prevent overlap\n",
    "    size=8,\n",
    "    title=\"Human & Mouse Pancreas Joint UMAP\\nHomologous Gene Feature Space\",\n",
    "    show=False\n",
    ")\n",
    "plt.savefig(\"/home/sr2464/palmer_scratch/C2S_Files_Syed/Cross_Species_Datasets/mouse_human_pancreas_tissue_Baron_et_al/processed_homolog_intersected_data/human_mouse_joint_umap_color_cell_type.png\",\n",
    "            facecolor=\"white\", bbox_inches=\"tight\", dpi=300)\n",
    "plt.show()\n",
    "plt.close()"
   ]
  },
  {
   "cell_type": "code",
   "execution_count": 178,
   "metadata": {},
   "outputs": [],
   "source": [
    "human_mouse_adata.write_h5ad(\"/home/sr2464/palmer_scratch/C2S_Files_Syed/Cross_Species_Datasets/mouse_human_pancreas_tissue_Baron_et_al/processed_homolog_intersected_data/human_mouse_preprocessed_joint_adata.h5ad\")"
   ]
  },
  {
   "cell_type": "code",
   "execution_count": null,
   "metadata": {},
   "outputs": [],
   "source": []
  }
 ],
 "metadata": {
  "kernelspec": {
   "display_name": "Python 3.8.19 64-bit ('cell2sentence')",
   "language": "python",
   "name": "python3"
  },
  "language_info": {
   "codemirror_mode": {
    "name": "ipython",
    "version": 3
   },
   "file_extension": ".py",
   "mimetype": "text/x-python",
   "name": "python",
   "nbconvert_exporter": "python",
   "pygments_lexer": "ipython3",
   "version": "3.8.19"
  },
  "orig_nbformat": 4,
  "vscode": {
   "interpreter": {
    "hash": "8779fa284e7bf1e546315c54e0f99067d891071405c0af9d51c72e798eae4921"
   }
  }
 },
 "nbformat": 4,
 "nbformat_minor": 2
}
